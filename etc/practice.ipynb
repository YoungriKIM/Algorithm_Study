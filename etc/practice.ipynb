{
 "cells": [
  {
   "cell_type": "code",
   "execution_count": 10,
   "metadata": {},
   "outputs": [
    {
     "name": "stdout",
     "output_type": "stream",
     "text": [
      "test: {\"key_01\":\"value_01\",\"key_02\":\"value_02\"}\n",
      "type(test): <class 'str'>\n",
      "----------\n",
      "test_vars: {'key_01': 'value_01', 'key_02': 'value_02'}\n",
      "type(test_vars): <class 'dict'>\n",
      "----------\n",
      "test_vars['key_01']: value_01\n"
     ]
    }
   ],
   "source": [
    "# 문자열로 들어온 코드를 실행하기\n",
    "\n",
    "test = '{\"key_01\":\"value_01\",\"key_02\":\"value_02\"}'\n",
    "print('test:', test)\n",
    "print('type(test):', type(test))\n",
    "\n",
    "print('-'*10)\n",
    "test_vars = eval(test)\n",
    "print('test_vars:', test_vars)\n",
    "print('type(test_vars):', type(test_vars))\n",
    "\n",
    "# 이제 dict로 사용할 수 있다.\n",
    "print('-'*10)\n",
    "print(\"test_vars['key_01']:\", test_vars['key_01'])"
   ]
  }
 ],
 "metadata": {
  "kernelspec": {
   "display_name": "Python 3.8.5 64-bit ('base': conda)",
   "name": "python385jvsc74a57bd0b18ecf447b39d25eae6a9ae9d5694327d58d99c869301a8afbbe0bb2ae2074bb"
  },
  "language_info": {
   "codemirror_mode": {
    "name": "ipython",
    "version": 3
   },
   "file_extension": ".py",
   "mimetype": "text/x-python",
   "name": "python",
   "nbconvert_exporter": "python",
   "pygments_lexer": "ipython3",
   "version": "3.8.5"
  },
  "orig_nbformat": 2
 },
 "nbformat": 4,
 "nbformat_minor": 2
}
