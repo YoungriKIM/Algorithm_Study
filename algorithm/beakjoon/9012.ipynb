{
 "cells": [
  {
   "cell_type": "code",
   "execution_count": 19,
   "metadata": {},
   "outputs": [],
   "source": [
    "t = '(()())((()))'\n",
    "# t = '(((()())()'\n",
    "# t = '((('"
   ]
  },
  {
   "cell_type": "code",
   "execution_count": 21,
   "metadata": {},
   "outputs": [
    {
     "name": "stdout",
     "output_type": "stream",
     "text": [
      "YES\n"
     ]
    }
   ],
   "source": [
    "if len(t) % 2 != 0:\n",
    "    print('NO')\n",
    "else:\n",
    "    while t:\n",
    "        if '()' in t : t = t.replace('()', '')\n",
    "        else: break\n",
    "    if t == '': print('YES')\n",
    "    elif t != '': print('NO')"
   ]
  },
  {
   "cell_type": "code",
   "execution_count": 23,
   "metadata": {},
   "outputs": [
    {
     "name": "stdout",
     "output_type": "stream",
     "text": [
      "NO\n",
      "YES\n",
      "NO\n"
     ]
    }
   ],
   "source": [
    "def VPS(t):\n",
    "    if len(t) % 2 != 0:\n",
    "        print('NO')\n",
    "    else:\n",
    "        while t:\n",
    "            if '()' in t : t = t.replace('()', '')\n",
    "            else: break\n",
    "        if t == '': print('YES')\n",
    "        elif t != '': print('NO')\n",
    "        \n",
    "for _ in range(int(input())):\n",
    "    t = input()\n",
    "    VPS(t)"
   ]
  }
 ],
 "metadata": {
  "kernelspec": {
   "display_name": "Python 3.10.4 64-bit",
   "language": "python",
   "name": "python3"
  },
  "language_info": {
   "codemirror_mode": {
    "name": "ipython",
    "version": 3
   },
   "file_extension": ".py",
   "mimetype": "text/x-python",
   "name": "python",
   "nbconvert_exporter": "python",
   "pygments_lexer": "ipython3",
   "version": "3.10.4"
  },
  "orig_nbformat": 4,
  "vscode": {
   "interpreter": {
    "hash": "93ef1a3f4b6a0dafae6f510592dd0c0ebfe4c60f907ca9e4dacf456937af8702"
   }
  }
 },
 "nbformat": 4,
 "nbformat_minor": 2
}
