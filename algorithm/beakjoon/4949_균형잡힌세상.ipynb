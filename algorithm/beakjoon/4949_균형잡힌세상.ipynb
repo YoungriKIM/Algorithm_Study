{
 "cells": [
  {
   "attachments": {},
   "cell_type": "markdown",
   "metadata": {},
   "source": [
    "So when I die (the [first] I will see in (heaven) is a score list).\n",
    "[ first in ] ( first out ).\n",
    "Half Moon tonight (At least it is better than no Moon at all].\n",
    "A rope may form )( a trail in a maze.\n",
    "Help( I[m being held prisoner in a fortune cookie factory)].\n",
    "([ (([( [ ] ) ( ) (( ))] )) ]).\n",
    " ."
   ]
  },
  {
   "cell_type": "code",
   "execution_count": 36,
   "metadata": {},
   "outputs": [],
   "source": [
    "import re\n",
    "import sys"
   ]
  },
  {
   "cell_type": "code",
   "execution_count": 40,
   "metadata": {},
   "outputs": [],
   "source": [
    "text = 'So when I die (the [first] I will see in (heaven) is a score list).'\n",
    "text ='([ (([( [ ] ) ( ) (( ))] )) ]).'\n",
    "text = ' .'\n",
    "text = 'Help( I[m being held prisoner in a fortune cookie factory)].'\n",
    "text = '((().'"
   ]
  },
  {
   "cell_type": "code",
   "execution_count": 39,
   "metadata": {},
   "outputs": [
    {
     "name": "stdout",
     "output_type": "stream",
     "text": [
      "%\n",
      "%\n",
      "%\n",
      "%\n",
      "%\n",
      "%\n"
     ]
    }
   ],
   "source": [
    "import re\n",
    "import sys\n",
    "\n",
    "while True:\n",
    "    input_text = sys.stdin.readline().rstrip()\n",
    "    if input_text == '.': break\n",
    "    else:   \n",
    "        text_re = re.sub(r'[^\\[\\]\\(\\)]', '', input_text)\n",
    "        while text_re != '':\n",
    "            if '()' in text_re: text_re = re.sub(r'\\(\\)', '', text_re)\n",
    "            elif '[]' in text_re: text_re = re.sub(r'\\[\\]', '', text_re)\n",
    "            else : print('no');break\n",
    "        if text_re == '' : print('yes')"
   ]
  }
 ],
 "metadata": {
  "kernelspec": {
   "display_name": "base",
   "language": "python",
   "name": "python3"
  },
  "language_info": {
   "codemirror_mode": {
    "name": "ipython",
    "version": 3
   },
   "file_extension": ".py",
   "mimetype": "text/x-python",
   "name": "python",
   "nbconvert_exporter": "python",
   "pygments_lexer": "ipython3",
   "version": "3.8.8"
  },
  "orig_nbformat": 4
 },
 "nbformat": 4,
 "nbformat_minor": 2
}
