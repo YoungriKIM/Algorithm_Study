{
 "cells": [
  {
   "cell_type": "code",
   "execution_count": 55,
   "metadata": {},
   "outputs": [],
   "source": [
    "sent = 'There is no cow level'\n",
    "s_u = 5\n",
    "al_u = dict(zip(list(map(chr, range(97, 123))), list(map(int, '1 0 2 0 4 3 0 1 2 0 0 3 0 2 2 0 4 1 1 2 0 1 1 0 0 0'.split(' ')))))"
   ]
  },
  {
   "cell_type": "code",
   "execution_count": 57,
   "metadata": {},
   "outputs": [],
   "source": [
    "sent = 'Show me the money'\n",
    "s_u = 4\n",
    "al_u = dict(zip(list(map(chr, range(97, 123))), list(map(int, '1 0 3 2 1 0 0 2 0 0 0 0 4 1 2 0 0 0 1 2 0 0 1 0 1 0'.split(' ')))))"
   ]
  },
  {
   "cell_type": "code",
   "execution_count": 4,
   "metadata": {},
   "outputs": [
    {
     "name": "stdout",
     "output_type": "stream",
     "text": [
      "TINCL\n"
     ]
    }
   ],
   "source": [
    "sent = 'Show me the money'\n",
    "s_u = 4\n",
    "al_u = dict(zip(list(map(chr, range(97, 123))), list(map(int, '1 0 3 2 1 0 0 2 0 0 0 0 4 1 2 0 0 0 1 2 0 0 1 0 1 0'.split(' ')))))\n",
    "\n",
    "sent = 'There is no cow level'\n",
    "s_u = 5\n",
    "al_u = dict(zip(list(map(chr, range(97, 123))), list(map(int, '1 0 2 0 4 3 0 1 2 0 0 3 0 2 2 0 4 1 1 2 0 1 1 0 0 0'.split(' ')))))\n",
    "\n",
    "# sent = input()\n",
    "# s_u = int(input())\n",
    "# al_u = dict(zip(list(map(chr, range(97, 123))), list(map(int, input().split(' ')))))\n",
    "title = [k[0].upper() for k in sent.split(' ')]\n",
    "\n",
    "result = ''\n",
    "if sent.count(' ') > s_u:\n",
    "    result = -1\n",
    "else:\n",
    "    last_w = ''\n",
    "    for j in list(sent.replace(' ',''))+title:\n",
    "        if j != last_w:\n",
    "            last_w = j\n",
    "            al_u[j.lower()] -= 1\n",
    "            if al_u[j.lower()] < 0:\n",
    "                result = -1\n",
    "                break            \n",
    "    \n",
    "if result != -1:\n",
    "    print(''.join(title))\n",
    "else:    \n",
    "    print(result)"
   ]
  }
 ],
 "metadata": {
  "kernelspec": {
   "display_name": "Python 3.10.4 64-bit",
   "language": "python",
   "name": "python3"
  },
  "language_info": {
   "codemirror_mode": {
    "name": "ipython",
    "version": 3
   },
   "file_extension": ".py",
   "mimetype": "text/x-python",
   "name": "python",
   "nbconvert_exporter": "python",
   "pygments_lexer": "ipython3",
   "version": "3.10.4"
  },
  "orig_nbformat": 4,
  "vscode": {
   "interpreter": {
    "hash": "93ef1a3f4b6a0dafae6f510592dd0c0ebfe4c60f907ca9e4dacf456937af8702"
   }
  }
 },
 "nbformat": 4,
 "nbformat_minor": 2
}
