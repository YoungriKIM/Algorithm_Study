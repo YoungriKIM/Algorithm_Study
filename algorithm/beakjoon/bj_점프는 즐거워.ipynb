{
 "cells": [
  {
   "cell_type": "code",
   "execution_count": 1,
   "metadata": {},
   "outputs": [],
   "source": [
    "# https://www.acmicpc.net/problem/4383\n",
    "# http://acm.student.cs.uwaterloo.ca/~acm00/000930/data/"
   ]
  },
  {
   "cell_type": "code",
   "execution_count": 85,
   "metadata": {},
   "outputs": [
    {
     "name": "stdout",
     "output_type": "stream",
     "text": [
      "Not jolly\n"
     ]
    }
   ],
   "source": [
    "a_l = input().split()\n",
    "n = int(a_l[0]);a_l = a_l[1:]\n",
    "if n == 1 : print('Jolly')\n",
    "elif n > 1 : \n",
    "    r_l = list(set([abs(int(a_l[i])-int(a_l[i+1])) for i in range(len(a_l)-1) if int(a_l[i]) != int(a_l[i+1])]))\n",
    "    if r_l == list(range(1, n)) : print('Jolly')\n",
    "    else: print('Not jolly')\n",
    "else: print('Not jolly')"
   ]
  }
 ],
 "metadata": {
  "interpreter": {
   "hash": "b18ecf447b39d25eae6a9ae9d5694327d58d99c869301a8afbbe0bb2ae2074bb"
  },
  "kernelspec": {
   "display_name": "Python 3.8.8 64-bit ('base': conda)",
   "name": "python3"
  },
  "language_info": {
   "codemirror_mode": {
    "name": "ipython",
    "version": 3
   },
   "file_extension": ".py",
   "mimetype": "text/x-python",
   "name": "python",
   "nbconvert_exporter": "python",
   "pygments_lexer": "ipython3",
   "version": "3.8.8"
  },
  "orig_nbformat": 4
 },
 "nbformat": 4,
 "nbformat_minor": 2
}
