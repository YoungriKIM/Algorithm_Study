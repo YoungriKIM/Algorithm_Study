{
 "metadata": {
  "language_info": {
   "codemirror_mode": {
    "name": "ipython",
    "version": 3
   },
   "file_extension": ".py",
   "mimetype": "text/x-python",
   "name": "python",
   "nbconvert_exporter": "python",
   "pygments_lexer": "ipython3",
   "version": "3.8.5"
  },
  "orig_nbformat": 2,
  "kernelspec": {
   "name": "python385jvsc74a57bd0b18ecf447b39d25eae6a9ae9d5694327d58d99c869301a8afbbe0bb2ae2074bb",
   "display_name": "Python 3.8.5 64-bit ('base': conda)"
  }
 },
 "nbformat": 4,
 "nbformat_minor": 2,
 "cells": [
  {
   "cell_type": "code",
   "execution_count": 18,
   "metadata": {},
   "outputs": [
    {
     "output_type": "stream",
     "name": "stdout",
     "text": [
      "[[1, 1], [1, -1], [2, 2], [3, 4], [3, 3]]\n[[1, -1], [1, 1], [2, 2], [3, 3], [3, 4]]\n"
     ]
    }
   ],
   "source": [
    "# https://www.acmicpc.net/problem/11650\n",
    "\n",
    "# n = 7\n",
    "# array = [[3,4],[1,1],[1,-1],[2,2],[3,1],[1,3],[1,0]]\n",
    "\n",
    "# 직접 푼 것 >> 시간 초과\n",
    "\n",
    "n = int(input())\n",
    "array=[]\n",
    "for _ in range(n):\n",
    "    array.append(list(map(int, input().split())))\n",
    "\n",
    "def setting1(array):\n",
    "    return array[0]\n",
    "\n",
    "array = sorted(array, key=setting1)\n",
    "\n",
    "for i in range(n):\n",
    "    for j in range(n):\n",
    "        if (i != j) and (array[i][0] == array[j][0]) and (array[j][1] > array[i][1]):\n",
    "            array[j], array[i] = array[i], array[j] \n",
    "\n",
    "print(array)"
   ]
  },
  {
   "cell_type": "code",
   "execution_count": 199,
   "metadata": {},
   "outputs": [
    {
     "output_type": "stream",
     "name": "stdout",
     "text": [
      "0 0\n1 -1\n1 0\n1 1\n1 3\n2 2\n3 1\n3 4\n"
     ]
    }
   ],
   "source": [
    "# 퀵 정렬 사용하기로 함\n",
    "\n",
    "n = 8\n",
    "array = [[3,4],[1,1],[1,-1],[2,2],[3,1],[1,3],[1,0],[0,0]]\n",
    "\n",
    "# n = int(input())\n",
    "# array=[]\n",
    "# for _ in range(n):\n",
    "#     array.append(list(map(int, input().split())))\n",
    "\n",
    "nums = set([v[0] for v in array])\n",
    "\n",
    "def quick(array):\n",
    "    if len(array) <= 1: return array\n",
    "    pivot = array[0]\n",
    "    tail = array[1:]\n",
    "\n",
    "    left_side = [x for x in tail if x[1] <= pivot[1]]\n",
    "    right_side = [x for x in tail if x[1] > pivot[1]]\n",
    "\n",
    "    return quick(left_side) + [pivot] + quick(right_side)\n",
    "\n",
    "for i in nums:\n",
    "    new_array = quick([v for v in array if v[0] == i])\n",
    "    for z in new_array:\n",
    "        print(z[0], z[1])\n"
   ]
  },
  {
   "cell_type": "code",
   "execution_count": 203,
   "metadata": {},
   "outputs": [
    {
     "output_type": "stream",
     "name": "stdout",
     "text": [
      "0 0\n1 -1\n1 0\n1 1\n1 3\n2 2\n3 1\n3 4\n"
     ]
    }
   ],
   "source": [
    "\n",
    "n = 8\n",
    "array = [[3,4],[1,1],[1,-1],[2,2],[3,1],[1,3],[1,0],[0,0]]\n",
    "\n",
    "n = int(input())\n",
    "array=[]\n",
    "for _ in range(n):\n",
    "    array.append(list(map(int, input().split())))\n",
    "\n",
    "nums = set([v[0] for v in array])\n",
    "\n",
    "def setting1(array):\n",
    "    return array[1]\n",
    "\n",
    "for i in nums:\n",
    "    new_array = sorted([v for v in array if v[0] == i], key=setting1)\n",
    "    for z in new_array:\n",
    "        print(z[0], z[1])\n"
   ]
  },
  {
   "cell_type": "code",
   "execution_count": 246,
   "metadata": {},
   "outputs": [
    {
     "output_type": "stream",
     "name": "stdout",
     "text": [
      "[[0, 0], [1, 1], [1, -1], [1, 3], [1, 0], [2, 2], [3, 4], [3, 1]]\ni: [0, 0]\n[0, 0]\n[1, 1]\n[1, -1]\n[1, 3]\n[1, 0]\n[2, 2]\n[3, 4]\n[3, 1]\ni: [1, 1]\n[0, 0]\n[1, 1]\n[1, -1]\n"
     ]
    },
    {
     "output_type": "error",
     "ename": "NameError",
     "evalue": "name 'prnit' is not defined",
     "traceback": [
      "\u001b[1;31m---------------------------------------------------------------------------\u001b[0m",
      "\u001b[1;31mNameError\u001b[0m                                 Traceback (most recent call last)",
      "\u001b[1;32m<ipython-input-246-222848b0c7e1>\u001b[0m in \u001b[0;36m<module>\u001b[1;34m\u001b[0m\n\u001b[0;32m     19\u001b[0m         \u001b[0mprint\u001b[0m\u001b[1;33m(\u001b[0m\u001b[0mnew_array\u001b[0m\u001b[1;33m[\u001b[0m\u001b[0mj\u001b[0m\u001b[1;33m]\u001b[0m\u001b[1;33m)\u001b[0m\u001b[1;33m\u001b[0m\u001b[1;33m\u001b[0m\u001b[0m\n\u001b[0;32m     20\u001b[0m         \u001b[1;32mif\u001b[0m \u001b[0mi\u001b[0m \u001b[1;33m!=\u001b[0m \u001b[0mj\u001b[0m \u001b[1;32mand\u001b[0m \u001b[0mnew_array\u001b[0m\u001b[1;33m[\u001b[0m\u001b[0mi\u001b[0m\u001b[1;33m]\u001b[0m\u001b[1;33m[\u001b[0m\u001b[1;36m0\u001b[0m\u001b[1;33m]\u001b[0m \u001b[1;33m==\u001b[0m \u001b[0mnew_array\u001b[0m\u001b[1;33m[\u001b[0m\u001b[0mj\u001b[0m\u001b[1;33m]\u001b[0m\u001b[1;33m[\u001b[0m\u001b[1;36m0\u001b[0m\u001b[1;33m]\u001b[0m\u001b[1;33m:\u001b[0m\u001b[1;33m\u001b[0m\u001b[1;33m\u001b[0m\u001b[0m\n\u001b[1;32m---> 21\u001b[1;33m             \u001b[0mprnit\u001b[0m\u001b[1;33m(\u001b[0m\u001b[0marray\u001b[0m\u001b[1;33m[\u001b[0m\u001b[0mj\u001b[0m\u001b[1;33m]\u001b[0m\u001b[1;33m)\u001b[0m\u001b[1;33m\u001b[0m\u001b[1;33m\u001b[0m\u001b[0m\n\u001b[0m\u001b[0;32m     22\u001b[0m \u001b[1;33m\u001b[0m\u001b[0m\n",
      "\u001b[1;31mNameError\u001b[0m: name 'prnit' is not defined"
     ]
    }
   ],
   "source": [
    "n = 8\n",
    "array = [[3,4],[1,1],[1,-1],[2,2],[3,1],[1,3],[1,0],[0,0]]\n",
    "\n",
    "# n = int(input())\n",
    "# array=[]\n",
    "# for _ in range(n):\n",
    "#     array.append(list(map(int, input().split())))\n",
    "\n",
    "\n",
    "def setting(array):\n",
    "    return array[0]\n",
    "\n",
    "new_array = sorted(array, key=setting)\n",
    "print(new_array)\n",
    "\n",
    "for i in range(n):\n",
    "    print('i:', new_array[i])\n",
    "    for j in range(n):\n",
    "        print(new_array[j])\n",
    "        if i != j and new_array[i][0] == new_array[j][0]:\n",
    "            prnit(array[j])\n",
    "\n"
   ]
  }
 ]
}