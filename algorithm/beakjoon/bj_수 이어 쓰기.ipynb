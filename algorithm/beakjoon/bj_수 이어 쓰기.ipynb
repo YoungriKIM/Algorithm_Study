{
 "cells": [
  {
   "cell_type": "code",
   "execution_count": 32,
   "metadata": {},
   "outputs": [],
   "source": [
    "# https://www.acmicpc.net/problem/1748"
   ]
  },
  {
   "cell_type": "code",
   "execution_count": 30,
   "metadata": {},
   "outputs": [],
   "source": [
    "num_l1 = [5,15,82,120,990,99999999]\n",
    "num_l2 = [10,13,19,20,89,99]\n",
    "num_l3 = [100,150,199,999]\n",
    "num_l4 = [1000, 5030, 9999]\n",
    "num_l5 = [99999999]"
   ]
  },
  {
   "cell_type": "code",
   "execution_count": 31,
   "metadata": {},
   "outputs": [
    {
     "name": "stdout",
     "output_type": "stream",
     "text": [
      "[5e-08, 1.5e-07, 8.2e-07, 1.2e-06, 9.9e-06, 0.99999999]\n",
      "[1e-07, 1.3e-07, 1.9e-07, 2e-07, 8.9e-07, 9.9e-07]\n",
      "[1e-06, 1.5e-06, 1.99e-06, 9.99e-06]\n",
      "[1e-05, 5.03e-05, 9.999e-05]\n",
      "[0.99999999]\n",
      "['0.00000005', '0.00000015', '0.00000082', '0.00000120', '0.00000990', '0.99999999']\n"
     ]
    }
   ],
   "source": [
    "print([i/100000000 for i in num_l1])\n",
    "print([i/100000000 for i in num_l2])\n",
    "print([i/100000000 for i in num_l3])\n",
    "print([i/100000000 for i in num_l4])\n",
    "print([i/100000000 for i in num_l5])\n",
    "answer = ['{:.8f}'.format(i/100000000) for i in num_l1]\n",
    "print(answer)"
   ]
  },
  {
   "cell_type": "code",
   "execution_count": null,
   "metadata": {},
   "outputs": [],
   "source": []
  }
 ],
 "metadata": {
  "interpreter": {
   "hash": "b18ecf447b39d25eae6a9ae9d5694327d58d99c869301a8afbbe0bb2ae2074bb"
  },
  "kernelspec": {
   "display_name": "Python 3.8.8 64-bit ('base': conda)",
   "language": "python",
   "name": "python3"
  },
  "language_info": {
   "codemirror_mode": {
    "name": "ipython",
    "version": 3
   },
   "file_extension": ".py",
   "mimetype": "text/x-python",
   "name": "python",
   "nbconvert_exporter": "python",
   "pygments_lexer": "ipython3",
   "version": "3.8.8"
  },
  "orig_nbformat": 4
 },
 "nbformat": 4,
 "nbformat_minor": 2
}
