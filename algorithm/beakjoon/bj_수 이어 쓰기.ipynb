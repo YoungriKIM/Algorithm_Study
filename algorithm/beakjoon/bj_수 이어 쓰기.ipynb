{
 "cells": [
  {
   "cell_type": "code",
   "execution_count": 32,
   "metadata": {},
   "outputs": [],
   "source": [
    "# https://www.acmicpc.net/problem/1748"
   ]
  },
  {
   "cell_type": "code",
   "execution_count": 30,
   "metadata": {},
   "outputs": [],
   "source": [
    "num_l1 = [5,15,82,120,990,99999999]\n",
    "num_l2 = [10,13,19,20,89,99]\n",
    "num_l3 = [100,150,199,999]\n",
    "num_l4 = [1000, 5030, 9999]\n",
    "num_l5 = [99999999]"
   ]
  },
  {
   "cell_type": "code",
   "execution_count": 2,
   "metadata": {},
   "outputs": [],
   "source": [
    "pattern_num = [9,90,900,9000,90000,900000,9000000,90000000]\n",
    "multi_num = [1,2,3,4,5,6,7,8]\n",
    "root_num = [1,10,100,1000,10000,100000,1000000,10000000]"
   ]
  },
  {
   "cell_type": "code",
   "execution_count": 6,
   "metadata": {},
   "outputs": [
    {
     "name": "stdout",
     "output_type": "stream",
     "text": [
      "length:  3\n",
      "f_cal:  189\n",
      "s_cal:  63\n",
      "252\n"
     ]
    }
   ],
   "source": [
    "q = '120'\n",
    "length = len(q)\n",
    "print('length: ',length)\n",
    "\n",
    "f_cal = 0\n",
    "for l in range(length-1):\n",
    "    f_cal += (pattern_num[l]*multi_num[l])\n",
    "print('f_cal: ',f_cal)\n",
    "\n",
    "s_cal = (int(q)-root_num[length-1]+1)*length\n",
    "print('s_cal: ',s_cal)\n",
    "\n",
    "print(f_cal+s_cal)"
   ]
  },
  {
   "cell_type": "code",
   "execution_count": 11,
   "metadata": {},
   "outputs": [
    {
     "name": "stdout",
     "output_type": "stream",
     "text": [
      "788888898\n"
     ]
    }
   ],
   "source": [
    "q = input()\n",
    "\n",
    "pattern_num = [9,90,900,9000,90000,900000,9000000,90000000,900000000]\n",
    "multi_num = [1,2,3,4,5,6,7,8,9]\n",
    "root_num = [1,10,100,1000,10000,100000,1000000,10000000,100000000]\n",
    "\n",
    "length = len(q)\n",
    "\n",
    "f_cal = 0\n",
    "for l in range(length-1):\n",
    "    f_cal += (pattern_num[l]*multi_num[l])\n",
    "\n",
    "s_cal = (int(q)-root_num[length-1]+1)*length\n",
    "\n",
    "print(f_cal+s_cal)"
   ]
  },
  {
   "cell_type": "code",
   "execution_count": 12,
   "metadata": {},
   "outputs": [
    {
     "name": "stdout",
     "output_type": "stream",
     "text": [
      "5\n"
     ]
    }
   ],
   "source": [
    "n=int(input());i=1;s=0\n",
    "while i<=n:\n",
    "    s+=n-i+1\n",
    "    i*=10\n",
    "print(s)"
   ]
  }
 ],
 "metadata": {
  "interpreter": {
   "hash": "b18ecf447b39d25eae6a9ae9d5694327d58d99c869301a8afbbe0bb2ae2074bb"
  },
  "kernelspec": {
   "display_name": "Python 3.8.8 64-bit ('base': conda)",
   "language": "python",
   "name": "python3"
  },
  "language_info": {
   "codemirror_mode": {
    "name": "ipython",
    "version": 3
   },
   "file_extension": ".py",
   "mimetype": "text/x-python",
   "name": "python",
   "nbconvert_exporter": "python",
   "pygments_lexer": "ipython3",
   "version": "3.8.8"
  },
  "orig_nbformat": 4
 },
 "nbformat": 4,
 "nbformat_minor": 2
}
