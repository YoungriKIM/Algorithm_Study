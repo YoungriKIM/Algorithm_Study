{
 "cells": [
  {
   "cell_type": "code",
   "execution_count": 32,
   "metadata": {},
   "outputs": [],
   "source": [
    "# https://www.acmicpc.net/problem/1748"
   ]
  },
  {
   "cell_type": "code",
   "execution_count": 11,
   "metadata": {},
   "outputs": [
    {
     "name": "stdout",
     "output_type": "stream",
     "text": [
      "788888898\n"
     ]
    }
   ],
   "source": [
    "q = input()\n",
    "\n",
    "pattern_num = [9,90,900,9000,90000,900000,9000000,90000000,900000000]\n",
    "multi_num = [1,2,3,4,5,6,7,8,9]\n",
    "root_num = [1,10,100,1000,10000,100000,1000000,10000000,100000000]\n",
    "\n",
    "length = len(q)\n",
    "\n",
    "f_cal = 0\n",
    "for l in range(length-1):\n",
    "    f_cal += (pattern_num[l]*multi_num[l])\n",
    "\n",
    "s_cal = (int(q)-root_num[length-1]+1)*length\n",
    "\n",
    "print(f_cal+s_cal)"
   ]
  },
  {
   "cell_type": "code",
   "execution_count": 12,
   "metadata": {},
   "outputs": [
    {
     "name": "stdout",
     "output_type": "stream",
     "text": [
      "5\n"
     ]
    }
   ],
   "source": [
    "n=int(input());i=1;s=0\n",
    "while i<=n:\n",
    "    s+=n-i+1\n",
    "    i*=10\n",
    "print(s)"
   ]
  }
 ],
 "metadata": {
  "interpreter": {
   "hash": "b18ecf447b39d25eae6a9ae9d5694327d58d99c869301a8afbbe0bb2ae2074bb"
  },
  "kernelspec": {
   "display_name": "Python 3.8.8 64-bit ('base': conda)",
   "language": "python",
   "name": "python3"
  },
  "language_info": {
   "codemirror_mode": {
    "name": "ipython",
    "version": 3
   },
   "file_extension": ".py",
   "mimetype": "text/x-python",
   "name": "python",
   "nbconvert_exporter": "python",
   "pygments_lexer": "ipython3",
   "version": "3.8.8"
  },
  "orig_nbformat": 4
 },
 "nbformat": 4,
 "nbformat_minor": 2
}
