{
 "cells": [
  {
   "cell_type": "code",
   "execution_count": 2,
   "metadata": {},
   "outputs": [
    {
     "name": "stdout",
     "output_type": "stream",
     "text": [
      "4\n"
     ]
    }
   ],
   "source": [
    "a,n=[],int(input())\n",
    "for _ in range(n):\n",
    "    x = int(input())\n",
    "    if x != 0 : a.append(x)\n",
    "    else : a.pop()\n",
    "print(sum(a))"
   ]
  }
 ],
 "metadata": {
  "interpreter": {
   "hash": "4a85d2c43638ccf95648bab5231266d73e892ff3ae93bbec73cabdbffc84596f"
  },
  "kernelspec": {
   "display_name": "Python 3.7.11 64-bit ('kowikienv': conda)",
   "name": "python3"
  },
  "language_info": {
   "codemirror_mode": {
    "name": "ipython",
    "version": 3
   },
   "file_extension": ".py",
   "mimetype": "text/x-python",
   "name": "python",
   "nbconvert_exporter": "python",
   "pygments_lexer": "ipython3",
   "version": "3.7.11"
  },
  "orig_nbformat": 4
 },
 "nbformat": 4,
 "nbformat_minor": 2
}
