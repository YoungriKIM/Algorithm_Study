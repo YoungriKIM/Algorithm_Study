{
 "cells": [
  {
   "cell_type": "code",
   "execution_count": 98,
   "metadata": {},
   "outputs": [],
   "source": [
    "rules = {'a': 3, 'b': 2, 'c': 1, 'd': 2, 'e': 3, 'f': 3, 'g': 2, 'h': 3, 'i': 3, 'j': 2, 'k': 2, 'l': 1, 'm': 2, 'n': 2, 'o': 1, 'p': 2, 'q': 2, 'r': 2, 's': 1, 't': 2, 'u': 1, 'v': 1, 'w': 1, 'x': 2, 'y': 2, 'z': 1}\n",
    "\n",
    "t = [input() for _ in range(2)]\n",
    "ttn = [rules[w] for w in ''.join([t[0][i]+t[1][i] for i in range(len(t[0]))]).lower()]\n",
    "while len(ttn)!=2:\n",
    "    ttn=[(ttn[i]+ttn[i+1])%10 for i in range(len(ttn)-1)]\n",
    "print(str(ttn[0])+str(ttn[1]))"
   ]
  }
 ],
 "metadata": {
  "kernelspec": {
   "display_name": "Python 3.10.4 64-bit",
   "language": "python",
   "name": "python3"
  },
  "language_info": {
   "codemirror_mode": {
    "name": "ipython",
    "version": 3
   },
   "file_extension": ".py",
   "mimetype": "text/x-python",
   "name": "python",
   "nbconvert_exporter": "python",
   "pygments_lexer": "ipython3",
   "version": "3.10.4"
  },
  "orig_nbformat": 4,
  "vscode": {
   "interpreter": {
    "hash": "93ef1a3f4b6a0dafae6f510592dd0c0ebfe4c60f907ca9e4dacf456937af8702"
   }
  }
 },
 "nbformat": 4,
 "nbformat_minor": 2
}
