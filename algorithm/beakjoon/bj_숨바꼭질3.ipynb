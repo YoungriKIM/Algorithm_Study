{
 "metadata": {
  "language_info": {
   "codemirror_mode": {
    "name": "ipython",
    "version": 3
   },
   "file_extension": ".py",
   "mimetype": "text/x-python",
   "name": "python",
   "nbconvert_exporter": "python",
   "pygments_lexer": "ipython3",
   "version": "3.8.5"
  },
  "orig_nbformat": 2,
  "kernelspec": {
   "name": "python385jvsc74a57bd0b18ecf447b39d25eae6a9ae9d5694327d58d99c869301a8afbbe0bb2ae2074bb",
   "display_name": "Python 3.8.5 64-bit ('base': conda)"
  }
 },
 "nbformat": 4,
 "nbformat_minor": 2,
 "cells": [
  {
   "cell_type": "code",
   "execution_count": 40,
   "metadata": {
    "tags": []
   },
   "outputs": [
    {
     "output_type": "stream",
     "name": "stdout",
     "text": [
      "[[0, 0], [4, 0], [6, 0], [10, 1]]\n10\n"
     ]
    }
   ],
   "source": [
    "# https://www.acmicpc.net/problem/13549\r\n",
    "\r\n",
    "# n, k = 5, 17\r\n",
    "n, k = 5, 17\r\n",
    "\r\n",
    "nums = [[0,0]]\r\n",
    "def dfs(n, t):\r\n",
    "    x1 = [n-1, t]\r\n",
    "    x2 = [n+1, t]\r\n",
    "    x3 = [n*2, t+1]\r\n",
    "    nums.append(x1)\r\n",
    "    nums.append(x2)\r\n",
    "    nums.append(x3)\r\n",
    "    print(nums)\r\n",
    "    print(nums[-1][0])\r\n",
    "    if nums[-1][0] < k :\r\n",
    "        dfs(x1[0], x1[1])\r\n",
    "        dfs(x2[0], x2[1])\r\n",
    "        dfs(x3[0], x3[1])\r\n",
    "\r\n",
    "x = [n, 0]\r\n",
    "dfs(x[0], x[1])"
   ]
  }
 ]
}