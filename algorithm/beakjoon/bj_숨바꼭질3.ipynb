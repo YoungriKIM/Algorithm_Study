{
 "metadata": {
  "language_info": {
   "codemirror_mode": {
    "name": "ipython",
    "version": 3
   },
   "file_extension": ".py",
   "mimetype": "text/x-python",
   "name": "python",
   "nbconvert_exporter": "python",
   "pygments_lexer": "ipython3",
   "version": "3.8.5"
  },
  "orig_nbformat": 2,
  "kernelspec": {
   "name": "python385jvsc74a57bd0183bbf6827d058c2a2fb0f4acdc0420849dda2b4380af0e437e38c64d798d8b7",
   "display_name": "Python 3.8.5 64-bit ('base': conda)"
  }
 },
 "nbformat": 4,
 "nbformat_minor": 2,
 "cells": [
  {
   "cell_type": "code",
   "execution_count": 123,
   "metadata": {
    "tags": []
   },
   "outputs": [
    {
     "output_type": "stream",
     "name": "stdout",
     "text": [
      "3 0\n6 0\n12 0\n2 1\n4 1\n8 1\n1\n"
     ]
    }
   ],
   "source": [
    "# https://www.acmicpc.net/problem/13549\n",
    "\n",
    "# 직접한 것 > 메모리 초과 ㅡㅡ\n",
    "\n",
    "from collections import deque\n",
    "\n",
    "n, k = map(int, input().split())\n",
    "\n",
    "q = deque()\n",
    "q.append([n, 0])\n",
    "visited = []\n",
    "\n",
    "if n > k:\n",
    "    t = (n-k)\n",
    "else:\n",
    "    while q:\n",
    "        n, t = q.popleft()\n",
    "        print(n, t)\n",
    "        if n == k : break\n",
    "        if 0 < n <= k:\n",
    "            if (n*2) not in visited:\n",
    "                visited.append(n*2)\n",
    "                q.appendleft([n*2, t])\n",
    "        if 0 < n-1 <= k:\n",
    "            if (n-1) not in visited:\n",
    "                visited.append(n-1)\n",
    "                q.append([n-1, t+1])\n",
    "        if 0 < n+1 <= k:\n",
    "            if (n+1) not in visited:\n",
    "                visited.append(n+1)\n",
    "                q.append([n+1, t+1])\n",
    "\n",
    "print(t)"
   ]
  },
  {
   "cell_type": "code",
   "execution_count": 147,
   "metadata": {
    "tags": []
   },
   "outputs": [
    {
     "output_type": "stream",
     "name": "stdout",
     "text": [
      "2\n"
     ]
    }
   ],
   "source": [
    "# 참고코드\n",
    "\n",
    "from collections import deque\n",
    "\n",
    "# MAX = 100001\n",
    "MAX = 1001\n",
    "n, k = map(int, input().split())\n",
    "array = [0]*MAX\n",
    "\n",
    "def bfs():\n",
    "    q = deque([n])\n",
    "    while q:\n",
    "        x = q.popleft()\n",
    "        if x == k:\n",
    "            return array[x]\n",
    "        for nx in (x-1, x+1, x*2):\n",
    "            if 0 <= nx < MAX and not array[nx]:\n",
    "                if nx == x*2 and x != 0:\n",
    "                    array[nx] = array[x]\n",
    "                    q.appendleft(nx)\n",
    "                else:\n",
    "                    array[nx] = array[x] + 1\n",
    "                    q.append(nx)\n",
    "print(bfs())"
   ]
  },
  {
   "cell_type": "code",
   "execution_count": 152,
   "metadata": {},
   "outputs": [
    {
     "output_type": "stream",
     "name": "stdout",
     "text": [
      "1 0\n2 0\n4 0\n8 0\n16 0\n32 0\n64 0\n128 0\n256 0\n512 0\n1024 0\n2048 0\n4096 0\n8192 0\n16384 0\n32768 0\n65536 0\n1 1\n3 1\n6 1\n12 1\n24 1\n48 1\n96 1\n192 1\n384 1\n768 1\n1536 1\n3072 1\n6144 1\n12288 1\n24576 1\n49152 1\n98304 1\n5 1\n10 1\n20 1\n40 1\n80 1\n160 1\n320 1\n640 1\n1280 1\n2560 1\n5120 1\n10240 1\n20480 1\n40960 1\n81920 1\n7 1\n14 1\n28 1\n56 1\n112 1\n224 1\n448 1\n896 1\n1792 1\n3584 1\n7168 1\n14336 1\n28672 1\n57344 1\n9 1\n18 1\n36 1\n72 1\n144 1\n288 1\n576 1\n1152 1\n2304 1\n4608 1\n9216 1\n18432 1\n36864 1\n73728 1\n15 1\n30 1\n60 1\n120 1\n240 1\n480 1\n960 1\n1920 1\n3840 1\n7680 1\n15360 1\n30720 1\n61440 1\n17 1\n34 1\n68 1\n136 1\n272 1\n544 1\n1088 1\n2176 1\n4352 1\n8704 1\n17408 1\n34816 1\n69632 1\n31 1\n62 1\n124 1\n248 1\n496 1\n992 1\n1984 1\n3968 1\n7936 1\n15872 1\n31744 1\n63488 1\n33 1\n66 1\n132 1\n264 1\n528 1\n1056 1\n2112 1\n4224 1\n8448 1\n16896 1\n33792 1\n67584 1\n11 2\n22 2\n44 2\n88 2\n176 2\n352 2\n704 2\n1408 2\n2816 2\n5632 2\n11264 2\n22528 2\n45056 2\n90112 2\n13 2\n26 2\n52 2\n104 2\n208 2\n416 2\n832 2\n1664 2\n3328 2\n6656 2\n13312 2\n26624 2\n53248 2\n23 2\n46 2\n92 2\n184 2\n368 2\n736 2\n1472 2\n2944 2\n5888 2\n11776 2\n23552 2\n47104 2\n94208 2\n25 2\n50 2\n2\n"
     ]
    }
   ],
   "source": [
    "# 수정한 코드\n",
    "# max를 정해줘야 맞네 ...^^ \n",
    "from collections import deque\n",
    "\n",
    "n, k = map(int, input().split())\n",
    "\n",
    "max = 100001\n",
    "q = deque()\n",
    "q.append([n, 0])\n",
    "visited = []\n",
    "\n",
    "if n > k:\n",
    "    t = (n-k)\n",
    "else:\n",
    "    while q:\n",
    "        n, t = q.popleft()\n",
    "        print(n, t)\n",
    "        if n == k : break\n",
    "        if 0 < n*2 <= max:\n",
    "            if (n*2) not in visited:\n",
    "                visited.append(n*2)\n",
    "                q.appendleft([n*2, t])\n",
    "        if 0 < n-1 <= k:\n",
    "            if (n-1) not in visited:\n",
    "                visited.append(n-1)\n",
    "                q.append([n-1, t+1])\n",
    "        if 0 < n+1 <= k:\n",
    "            if (n+1) not in visited:\n",
    "                visited.append(n+1)\n",
    "                q.append([n+1, t+1])\n",
    "\n",
    "print(t)"
   ]
  }
 ]
}