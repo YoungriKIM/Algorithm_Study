{
 "cells": [
  {
   "cell_type": "code",
   "execution_count": 1,
   "metadata": {},
   "outputs": [],
   "source": [
    "import numpy as np"
   ]
  },
  {
   "cell_type": "code",
   "execution_count": 53,
   "metadata": {},
   "outputs": [],
   "source": [
    "# nb = int(input())\n",
    "# [input() for _ in range(nb)]"
   ]
  },
  {
   "cell_type": "code",
   "execution_count": 83,
   "metadata": {},
   "outputs": [
    {
     "name": "stdout",
     "output_type": "stream",
     "text": [
      "['topcoder', 'topcoder', 'topcoding']\n",
      "w: topcoder 8\n",
      "w: topcoder 8\n",
      "w: topcoding 9\n"
     ]
    },
    {
     "data": {
      "text/plain": [
       "(['topcoder', 'topcoding'], 2)"
      ]
     },
     "execution_count": 83,
     "metadata": {},
     "output_type": "execute_result"
    }
   ],
   "source": [
    "# rt1 = ['hello', 'hi', 'h', 'run', 'rerun', 'running'] #4\n",
    "# rt1 = ['a', 'b', 'cba', 'cbc', 'cbb', 'ccc'] #6\n",
    "# rt1 = ['a', 'ab', 'abc', 'abcd', 'abcde', 'abcdef'] #1\n",
    "rt1 = ['topcoder', 'topcoder', 'topcoding'] #2\n",
    "\n",
    "t1 = sorted(rt1, key=lambda x:len(x))\n",
    "print(t1)\n",
    "for w in rt1:\n",
    "    w_len = len(w)\n",
    "    print('w:',w, w_len)\n",
    "    if len([aw for aw in t1 if aw[:w_len]==w])>1:t1.remove(w)\n",
    "t1, len(t1)"
   ]
  },
  {
   "cell_type": "code",
   "execution_count": 95,
   "metadata": {},
   "outputs": [
    {
     "data": {
      "text/plain": [
       "2"
      ]
     },
     "execution_count": 95,
     "metadata": {},
     "output_type": "execute_result"
    }
   ],
   "source": [
    "nb = int(input())\n",
    "rt1 = [input() for _ in range(nb)]\n",
    "t1 = sorted(rt1, key=lambda x:len(x))\n",
    "\n",
    "for w in rt1:\n",
    "    w_len = len(w)\n",
    "    if len([aw for aw in t1 if aw[:w_len]==w])>1:t1.remove(w)\n",
    "print(len(t1))"
   ]
  }
 ],
 "metadata": {
  "interpreter": {
   "hash": "234dabe8e40c2039a03253ecba783ebfe49b2278b634949a7dde498a3c83abe1"
  },
  "kernelspec": {
   "display_name": "Python 3.7.5 ('yr3.7')",
   "language": "python",
   "name": "python3"
  },
  "language_info": {
   "codemirror_mode": {
    "name": "ipython",
    "version": 3
   },
   "file_extension": ".py",
   "mimetype": "text/x-python",
   "name": "python",
   "nbconvert_exporter": "python",
   "pygments_lexer": "ipython3",
   "version": "3.7.5"
  },
  "orig_nbformat": 4
 },
 "nbformat": 4,
 "nbformat_minor": 2
}
