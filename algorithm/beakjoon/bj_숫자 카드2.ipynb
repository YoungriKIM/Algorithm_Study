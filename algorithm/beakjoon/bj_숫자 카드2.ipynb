{
 "metadata": {
  "language_info": {
   "codemirror_mode": {
    "name": "ipython",
    "version": 3
   },
   "file_extension": ".py",
   "mimetype": "text/x-python",
   "name": "python",
   "nbconvert_exporter": "python",
   "pygments_lexer": "ipython3",
   "version": "3.8.5"
  },
  "orig_nbformat": 2,
  "kernelspec": {
   "name": "python385jvsc74a57bd0b18ecf447b39d25eae6a9ae9d5694327d58d99c869301a8afbbe0bb2ae2074bb",
   "display_name": "Python 3.8.5 64-bit ('base': conda)"
  }
 },
 "nbformat": 4,
 "nbformat_minor": 2,
 "cells": [
  {
   "cell_type": "code",
   "execution_count": 21,
   "metadata": {},
   "outputs": [
    {
     "output_type": "stream",
     "name": "stdout",
     "text": [
      "3 0 0 1 2 0 0 2 "
     ]
    }
   ],
   "source": [
    "# https://www.acmicpc.net/problem/10816\n",
    "# 직접 푼 것\n",
    "\n",
    "n = 10\n",
    "n_array = [6,3,2,10,10,10,-10,-10,7,3]\n",
    "m = 8\n",
    "m_array = [10,9,-5,2,3,4,5,-10]\n",
    "\n",
    "# n = int(input())\n",
    "# n_array = list(map(int, input().split()))\n",
    "# m = int(input())\n",
    "# m_array = list(map(int, input().split()))\n",
    "\n",
    "for z in m_array:\n",
    "    if z not in n_array: print(0, end=' ')\n",
    "    elif z in n_array:\n",
    "        print(len([i for i in n_array if i == z]), end=' ')\n",
    "\n",
    "# 시간 초과 ㅡㅡ"
   ]
  },
  {
   "cell_type": "code",
   "execution_count": 23,
   "metadata": {},
   "outputs": [
    {
     "output_type": "stream",
     "name": "stdout",
     "text": [
      "3 0 0 1 2 0 0 2 "
     ]
    }
   ],
   "source": [
    "# n = 10\n",
    "# n_array = [6,3,2,10,10,10,-10,-10,7,3]\n",
    "# m = 8\n",
    "# m_array = [10,9,-5,2,3,4,5,-10]\n",
    "\n",
    "n = int(input())\n",
    "n_array = list(map(int, input().split()))\n",
    "m = int(input())\n",
    "m_array = list(map(int, input().split()))\n",
    "\n",
    "n_array.sort()\n",
    "from bisect import bisect_left, bisect_right\n",
    "\n",
    "def count_num(array, target):\n",
    "    counting = bisect_right(array, target) - bisect_left(array, target)\n",
    "    if counting > 0 : print(counting, end=' ')\n",
    "    else: print(0, end=' ')\n",
    "\n",
    "for j in m_array:\n",
    "    count_num(n_array, j)"
   ]
  }
 ]
}