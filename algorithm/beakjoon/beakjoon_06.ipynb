{
 "metadata": {
  "language_info": {
   "codemirror_mode": {
    "name": "ipython",
    "version": 3
   },
   "file_extension": ".py",
   "mimetype": "text/x-python",
   "name": "python",
   "nbconvert_exporter": "python",
   "pygments_lexer": "ipython3",
   "version": "3.8.5"
  },
  "orig_nbformat": 2,
  "kernelspec": {
   "name": "python385jvsc74a57bd0b18ecf447b39d25eae6a9ae9d5694327d58d99c869301a8afbbe0bb2ae2074bb",
   "display_name": "Python 3.8.5 64-bit (conda)"
  }
 },
 "nbformat": 4,
 "nbformat_minor": 2,
 "cells": [
  {
   "cell_type": "code",
   "execution_count": 86,
   "metadata": {},
   "outputs": [
    {
     "output_type": "stream",
     "name": "stdout",
     "text": [
      "1 2 3 4\n1 2 4 3\n1 3 2 4\n1 3 4 2\n1 4 2 3\n1 4 3 2\n2 1 3 4\n2 1 4 3\n2 3 1 4\n2 3 4 1\n2 4 1 3\n2 4 3 1\n3 1 2 4\n3 1 4 2\n3 2 1 4\n3 2 4 1\n3 4 1 2\n3 4 2 1\n4 1 2 3\n4 1 3 2\n4 2 1 3\n4 2 3 1\n4 3 1 2\n4 3 2 1\n"
     ]
    }
   ],
   "source": [
    "# N과 M(1)\n",
    "from itertools import permutations\n",
    "from itertools import combinations\n",
    "\n",
    "# N = 4\n",
    "# M = 4\n",
    "N, M =map(int, input().split())\n",
    "\n",
    "arr = list(range(1, N+1))\n",
    "\n",
    "k = list(permutations(arr, M))\n",
    "for i in k:\n",
    "    print(' '.join(map(str, i)))"
   ]
  },
  {
   "cell_type": "code",
   "execution_count": 90,
   "metadata": {},
   "outputs": [
    {
     "output_type": "stream",
     "name": "stdout",
     "text": [
      "[1, 2, 3, 4]\n1 2\n1 3\n1 4\n2 3\n2 4\n3 4\n"
     ]
    }
   ],
   "source": [
    "from itertools import combinations\n",
    "\n",
    "N, M = map(int, input().split())\n",
    "arr = list(range(1, N+1))\n",
    "\n",
    "k = list(combinations(arr, M))\n",
    "\n",
    "for i in k:\n",
    "    print(' '.join(map(str, i)))"
   ]
  },
  {
   "cell_type": "code",
   "execution_count": 118,
   "metadata": {},
   "outputs": [
    {
     "output_type": "stream",
     "name": "stdout",
     "text": [
      "1 1 1\n1 1 2\n1 1 3\n1 2 1\n1 2 2\n1 2 3\n1 3 1\n1 3 2\n1 3 3\n2 1 1\n2 1 2\n2 1 3\n2 2 1\n2 2 2\n2 2 3\n2 3 1\n2 3 2\n2 3 3\n3 1 1\n3 1 2\n3 1 3\n3 2 1\n3 2 2\n3 2 3\n3 3 1\n3 3 2\n3 3 3\n"
     ]
    }
   ],
   "source": [
    "from itertools import product\n",
    "\n",
    "N, M = map(int, input().split())\n",
    "\n",
    "# N = 3\n",
    "# M = 2\n",
    "\n",
    "a = list(product(range(1, N+1), repeat=M))\n",
    "\n",
    "for i in a:\n",
    "    print(' '.join(map(str, i)))"
   ]
  },
  {
   "cell_type": "code",
   "execution_count": 119,
   "metadata": {},
   "outputs": [
    {
     "output_type": "stream",
     "name": "stdout",
     "text": [
      "1 1 1\n1 1 2\n1 1 3\n1 2 2\n1 2 3\n1 3 3\n2 2 2\n2 2 3\n2 3 3\n3 3 3\n"
     ]
    }
   ],
   "source": [
    "from itertools import combinations_with_replacement\n",
    "\n",
    "N, M = map(int, input().split())\n",
    "arr = list(range(1, N+1))\n",
    "\n",
    "k = list(combinations_with_replacement(arr, M))\n",
    "\n",
    "for i in k:\n",
    "    print(' '.join(map(str, i)))"
   ]
  },
  {
   "cell_type": "code",
   "execution_count": 167,
   "metadata": {},
   "outputs": [
    {
     "output_type": "stream",
     "name": "stdout",
     "text": [
      "[[1, 3, 5, 4, 6, 9, 2, 7, 8], [7, 8, 2, 1, 0, 5, 6, 0, 9], [0, 6, 0, 2, 7, 8, 1, 3, 5], [3, 2, 1, 5, 4, 6, 8, 9, 7], [8, 0, 4, 9, 1, 3, 5, 0, 6], [5, 9, 6, 8, 2, 7, 4, 1, 3], [9, 1, 7, 6, 5, 2, 0, 8, 0], [6, 0, 3, 7, 0, 1, 9, 5, 2], [2, 5, 8, 3, 9, 4, 7, 6, 1]]\n[[1 7 0 3 8 5 9 6 2]\n [3 8 6 2 0 9 1 0 5]\n [5 2 0 1 4 6 7 3 8]\n [4 1 2 5 9 8 6 7 3]\n [6 0 7 4 1 2 5 0 9]\n [9 5 8 6 3 7 2 1 4]\n [2 6 1 8 5 4 0 9 7]\n [7 0 3 9 0 1 8 5 6]\n [8 9 5 7 6 3 0 2 1]]\n"
     ]
    }
   ],
   "source": [
    "import numpy as np\n",
    "\n",
    "a_list = [[0, 3, 5, 4, 6, 9, 2, 7, 8], \n",
    "           [7, 8, 2, 1, 0, 5, 6, 0, 9], \n",
    "           [0, 6, 0, 2, 7, 8, 1, 3, 5], \n",
    "           [3, 2, 1, 0, 4, 6, 8, 9, 7], \n",
    "           [8, 0, 4, 9, 1, 3, 5, 0, 6], \n",
    "           [5, 9, 6, 8, 2, 0, 4, 1, 3], \n",
    "           [9, 1, 7, 6, 5, 2, 0, 8, 0], \n",
    "           [6, 0, 3, 7, 0, 1, 9, 5, 2], \n",
    "           [2, 5, 8, 3, 9, 4, 7, 6, 0]]\n",
    "\n",
    "true_list = [1,2,3,4,5,6,7,8,9]\n",
    "# for i in a_list:\n",
    "#     if len([v for v in i if v==0])==1:\n",
    "#         print(i)\n",
    "#         print(i.index(0))\n",
    "    \n",
    "# for i in a_list:\n",
    "#     if len([v for v in i if v==0])==1:\n",
    "#         print(i)\n",
    "#         print(i.index(0))\n",
    "#         print([v for v in true_list if v not in i and v in true_list])\n",
    "#         i[i.index(0)] = [v for v in true_list if v not in i and v in true_list][0]\n",
    "#         print(i)\n",
    "\n",
    "for i in range(9):\n",
    "    if len([v for v in a_list[i] if v==0])==1:\n",
    "        a_list[i][a_list[i].index(0)] = [v for v in true_list if v not in a_list[i] and v in true_list][0]\n",
    "print(a_list)\n",
    "\n",
    "b_list = np.transpose(a_list)\n",
    "print(b_list)\n",
    "\n",
    "# 너무 복잡하게 풀어서 아래에서 다시!"
   ]
  },
  {
   "cell_type": "code",
   "execution_count": 168,
   "metadata": {},
   "outputs": [
    {
     "output_type": "stream",
     "name": "stdout",
     "text": [
      "[(0, 0), (1, 4), (1, 7), (2, 0), (2, 2), (3, 3), (4, 1), (4, 7), (5, 5), (6, 6), (6, 8), (7, 1), (7, 4), (8, 8)]\n"
     ]
    }
   ],
   "source": [
    "import numpy as np\n",
    "\n",
    "sudoku = [[0, 3, 5, 4, 6, 9, 2, 7, 8], \n",
    "           [7, 8, 2, 1, 0, 5, 6, 0, 9], \n",
    "           [0, 6, 0, 2, 7, 8, 1, 3, 5], \n",
    "           [3, 2, 1, 0, 4, 6, 8, 9, 7], \n",
    "           [8, 0, 4, 9, 1, 3, 5, 0, 6], \n",
    "           [5, 9, 6, 8, 2, 0, 4, 1, 3], \n",
    "           [9, 1, 7, 6, 5, 2, 0, 8, 0], \n",
    "           [6, 0, 3, 7, 0, 1, 9, 5, 2], \n",
    "           [2, 5, 8, 3, 9, 4, 7, 6, 0]]\n",
    "\n",
    "# 숫자가 0인 칸의 위치를 받음\n",
    "zeros = [(i, j) for i in range(9) for j in range(9) if sudoku[i][j] == 0 ]\n",
    "print(zeros)\n",
    "\n"
   ]
  },
  {
   "cell_type": "code",
   "execution_count": 11,
   "metadata": {},
   "outputs": [
    {
     "output_type": "stream",
     "name": "stdout",
     "text": [
      "5\n"
     ]
    }
   ],
   "source": [
    "# 섬의 개수\n",
    "\n",
    "# w, h = map(int, input().split())\n",
    "# info = []\n",
    "# for _ in range(h):\n",
    "#     info.append(list(map(int, input().split()))) \n",
    "\n",
    "# ---------------------------------------------------------\n",
    "def dfs(x, y):\n",
    "    if x <= -1 or x >= h or y <= -1 or y >= w:\n",
    "        return False\n",
    "    if info[x][y] == 1:\n",
    "        info[x][y] = 0\n",
    "        dfs(x+1, y)\n",
    "        dfs(x-1, y)\n",
    "        dfs(x, y+1)\n",
    "        dfs(x, y-1)\n",
    "        return True\n",
    "    return False    \n",
    "\n",
    "# ---------------------------------------------------------\n",
    "\n",
    "w, h = 5, 4\n",
    "info = [[1, 0, 1, 0, 0], \n",
    "        [1, 0, 0, 0, 0], \n",
    "        [1, 0, 1, 0, 1], \n",
    "        [1, 0, 0, 1, 0]]\n",
    "\n",
    "# ---------------------------------------------------------\n",
    "result = 0\n",
    "for i in range(h):\n",
    "    for j in range(w):\n",
    "        if dfs(i,j) == True: result += 1\n",
    "\n",
    "print(result)"
   ]
  },
  {
   "cell_type": "code",
   "execution_count": 22,
   "metadata": {},
   "outputs": [
    {
     "output_type": "error",
     "ename": "IndexError",
     "evalue": "list index out of range",
     "traceback": [
      "\u001b[1;31m---------------------------------------------------------------------------\u001b[0m",
      "\u001b[1;31mIndexError\u001b[0m                                Traceback (most recent call last)",
      "\u001b[1;32m<ipython-input-22-978af7d9f03c>\u001b[0m in \u001b[0;36m<module>\u001b[1;34m\u001b[0m\n\u001b[0;32m     28\u001b[0m     \u001b[1;32mfor\u001b[0m \u001b[0mi\u001b[0m \u001b[1;32min\u001b[0m \u001b[0mrange\u001b[0m\u001b[1;33m(\u001b[0m\u001b[0mh\u001b[0m\u001b[1;33m)\u001b[0m\u001b[1;33m:\u001b[0m\u001b[1;33m\u001b[0m\u001b[1;33m\u001b[0m\u001b[0m\n\u001b[0;32m     29\u001b[0m         \u001b[1;32mfor\u001b[0m \u001b[0mj\u001b[0m \u001b[1;32min\u001b[0m \u001b[0mrange\u001b[0m\u001b[1;33m(\u001b[0m\u001b[0mw\u001b[0m\u001b[1;33m)\u001b[0m\u001b[1;33m:\u001b[0m\u001b[1;33m\u001b[0m\u001b[1;33m\u001b[0m\u001b[0m\n\u001b[1;32m---> 30\u001b[1;33m             \u001b[1;32mif\u001b[0m \u001b[0mdfs\u001b[0m\u001b[1;33m(\u001b[0m\u001b[0mi\u001b[0m\u001b[1;33m,\u001b[0m\u001b[0mj\u001b[0m\u001b[1;33m)\u001b[0m \u001b[1;33m==\u001b[0m \u001b[1;32mTrue\u001b[0m\u001b[1;33m:\u001b[0m \u001b[0mresult\u001b[0m \u001b[1;33m+=\u001b[0m \u001b[1;36m1\u001b[0m\u001b[1;33m\u001b[0m\u001b[1;33m\u001b[0m\u001b[0m\n\u001b[0m\u001b[0;32m     31\u001b[0m     \u001b[0mprint\u001b[0m\u001b[1;33m(\u001b[0m\u001b[0mresult\u001b[0m\u001b[1;33m)\u001b[0m\u001b[1;33m\u001b[0m\u001b[1;33m\u001b[0m\u001b[0m\n",
      "\u001b[1;32m<ipython-input-22-978af7d9f03c>\u001b[0m in \u001b[0;36mdfs\u001b[1;34m(x, y)\u001b[0m\n\u001b[0;32m     16\u001b[0m             \u001b[0mdfs\u001b[0m\u001b[1;33m(\u001b[0m\u001b[0mx\u001b[0m\u001b[1;33m+\u001b[0m\u001b[1;36m1\u001b[0m\u001b[1;33m,\u001b[0m \u001b[0my\u001b[0m\u001b[1;33m)\u001b[0m\u001b[1;33m\u001b[0m\u001b[1;33m\u001b[0m\u001b[0m\n\u001b[0;32m     17\u001b[0m             \u001b[0mdfs\u001b[0m\u001b[1;33m(\u001b[0m\u001b[0mx\u001b[0m\u001b[1;33m-\u001b[0m\u001b[1;36m1\u001b[0m\u001b[1;33m,\u001b[0m \u001b[0my\u001b[0m\u001b[1;33m)\u001b[0m\u001b[1;33m\u001b[0m\u001b[1;33m\u001b[0m\u001b[0m\n\u001b[1;32m---> 18\u001b[1;33m             \u001b[0mdfs\u001b[0m\u001b[1;33m(\u001b[0m\u001b[0mx\u001b[0m\u001b[1;33m,\u001b[0m \u001b[0my\u001b[0m\u001b[1;33m+\u001b[0m\u001b[1;36m1\u001b[0m\u001b[1;33m)\u001b[0m\u001b[1;33m\u001b[0m\u001b[1;33m\u001b[0m\u001b[0m\n\u001b[0m\u001b[0;32m     19\u001b[0m             \u001b[0mdfs\u001b[0m\u001b[1;33m(\u001b[0m\u001b[0mx\u001b[0m\u001b[1;33m,\u001b[0m \u001b[0my\u001b[0m\u001b[1;33m-\u001b[0m\u001b[1;36m1\u001b[0m\u001b[1;33m)\u001b[0m\u001b[1;33m\u001b[0m\u001b[1;33m\u001b[0m\u001b[0m\n\u001b[0;32m     20\u001b[0m             \u001b[0mdfs\u001b[0m\u001b[1;33m(\u001b[0m\u001b[0mx\u001b[0m\u001b[1;33m-\u001b[0m\u001b[1;36m1\u001b[0m\u001b[1;33m,\u001b[0m \u001b[0my\u001b[0m\u001b[1;33m+\u001b[0m\u001b[1;36m1\u001b[0m\u001b[1;33m)\u001b[0m\u001b[1;33m\u001b[0m\u001b[1;33m\u001b[0m\u001b[0m\n",
      "\u001b[1;32m<ipython-input-22-978af7d9f03c>\u001b[0m in \u001b[0;36mdfs\u001b[1;34m(x, y)\u001b[0m\n\u001b[0;32m     12\u001b[0m         \u001b[1;32mif\u001b[0m \u001b[0mx\u001b[0m \u001b[1;33m<=\u001b[0m \u001b[1;33m-\u001b[0m\u001b[1;36m1\u001b[0m \u001b[1;32mor\u001b[0m \u001b[0mx\u001b[0m \u001b[1;33m>=\u001b[0m \u001b[0mh\u001b[0m \u001b[1;32mor\u001b[0m \u001b[0my\u001b[0m \u001b[1;33m<=\u001b[0m \u001b[1;33m-\u001b[0m\u001b[1;36m1\u001b[0m \u001b[1;32mor\u001b[0m \u001b[0my\u001b[0m \u001b[1;33m>=\u001b[0m \u001b[0mw\u001b[0m\u001b[1;33m:\u001b[0m\u001b[1;33m\u001b[0m\u001b[1;33m\u001b[0m\u001b[0m\n\u001b[0;32m     13\u001b[0m             \u001b[1;32mreturn\u001b[0m \u001b[1;32mFalse\u001b[0m\u001b[1;33m\u001b[0m\u001b[1;33m\u001b[0m\u001b[0m\n\u001b[1;32m---> 14\u001b[1;33m         \u001b[1;32mif\u001b[0m \u001b[0minfo\u001b[0m\u001b[1;33m[\u001b[0m\u001b[0mx\u001b[0m\u001b[1;33m]\u001b[0m\u001b[1;33m[\u001b[0m\u001b[0my\u001b[0m\u001b[1;33m]\u001b[0m \u001b[1;33m==\u001b[0m \u001b[1;36m1\u001b[0m\u001b[1;33m:\u001b[0m\u001b[1;33m\u001b[0m\u001b[1;33m\u001b[0m\u001b[0m\n\u001b[0m\u001b[0;32m     15\u001b[0m             \u001b[0minfo\u001b[0m\u001b[1;33m[\u001b[0m\u001b[0mx\u001b[0m\u001b[1;33m]\u001b[0m\u001b[1;33m[\u001b[0m\u001b[0my\u001b[0m\u001b[1;33m]\u001b[0m \u001b[1;33m=\u001b[0m \u001b[1;36m0\u001b[0m\u001b[1;33m\u001b[0m\u001b[1;33m\u001b[0m\u001b[0m\n\u001b[0;32m     16\u001b[0m             \u001b[0mdfs\u001b[0m\u001b[1;33m(\u001b[0m\u001b[0mx\u001b[0m\u001b[1;33m+\u001b[0m\u001b[1;36m1\u001b[0m\u001b[1;33m,\u001b[0m \u001b[0my\u001b[0m\u001b[1;33m)\u001b[0m\u001b[1;33m\u001b[0m\u001b[1;33m\u001b[0m\u001b[0m\n",
      "\u001b[1;31mIndexError\u001b[0m: list index out of range"
     ]
    }
   ],
   "source": [
    "# 섬의 개수\n",
    "\n",
    "while True:\n",
    "    w, h = map(int, input().split())\n",
    "    if w == 0 and h == 0: break\n",
    "\n",
    "    info = []\n",
    "    for _ in range(h):\n",
    "        info.append(list(map(int, input().split()))) \n",
    "\n",
    "    def dfs(x, y):\n",
    "        if x <= -1 or x >= h or y <= -1 or y >= w:\n",
    "            return False\n",
    "        if info[x][y] == 1:\n",
    "            info[x][y] = 0\n",
    "            dfs(x+1, y)\n",
    "            dfs(x-1, y)\n",
    "            dfs(x, y+1)\n",
    "            dfs(x, y-1)\n",
    "            dfs(x-1, y+1)\n",
    "            dfs(x+1, y+1)\n",
    "            dfs(x+1, y-1)\n",
    "            dfs(x-1, y-1)\n",
    "            return True\n",
    "        return False    \n",
    "\n",
    "    result = 0\n",
    "    for i in range(h):\n",
    "        for j in range(w):\n",
    "            if dfs(i,j) == True: result += 1\n",
    "    print(result)"
   ]
  },
  {
   "cell_type": "code",
   "execution_count": 87,
   "metadata": {},
   "outputs": [
    {
     "output_type": "stream",
     "name": "stdout",
     "text": [
      "2\n"
     ]
    }
   ],
   "source": [
    "# 설탕배달\n",
    "# https://www.acmicpc.net/problem/2839\n",
    "\n",
    "N = int(input())\n",
    "# N = 4\n",
    "# N = 18\n",
    "# N = 7\n",
    "# N = 11\n",
    "\n",
    "n5 = N//5\n",
    "n3 = N//3\n",
    "\n",
    "answer = []\n",
    "for i in range(0, n5+1):\n",
    "    for j in range(0, n3+1):\n",
    "        if (i*5)+(j*3) == N : answer.append(i + j)\n",
    "\n",
    "if len(answer) == 0 : print(-1)\n",
    "else : print(min(answer))"
   ]
  }
 ]
}