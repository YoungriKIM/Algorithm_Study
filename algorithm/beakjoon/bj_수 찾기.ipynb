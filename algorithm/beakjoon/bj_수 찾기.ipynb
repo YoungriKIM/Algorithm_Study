{
 "metadata": {
  "language_info": {
   "codemirror_mode": {
    "name": "ipython",
    "version": 3
   },
   "file_extension": ".py",
   "mimetype": "text/x-python",
   "name": "python",
   "nbconvert_exporter": "python",
   "pygments_lexer": "ipython3",
   "version": "3.8.5"
  },
  "orig_nbformat": 2,
  "kernelspec": {
   "name": "python385jvsc74a57bd0b18ecf447b39d25eae6a9ae9d5694327d58d99c869301a8afbbe0bb2ae2074bb",
   "display_name": "Python 3.8.5 64-bit ('base': conda)"
  }
 },
 "nbformat": 4,
 "nbformat_minor": 2,
 "cells": [
  {
   "cell_type": "code",
   "execution_count": 7,
   "metadata": {},
   "outputs": [
    {
     "output_type": "stream",
     "name": "stdout",
     "text": [
      "1 1 0 0 1 "
     ]
    }
   ],
   "source": [
    "# https://www.acmicpc.net/problem/1920\n",
    "\n",
    "# 직접 풀기\n",
    "\n",
    "# n = 5\n",
    "# n_array = [4,1,5,2,3]\n",
    "# m = 5\n",
    "# m_array = [1,3,7,9,5]\n",
    "\n",
    "n = int(input())\n",
    "n_array = list(map(int, input().split()))\n",
    "m = int(input())\n",
    "m_array = list(map(int, input().split()))\n",
    "\n",
    "n_list = [0] * 100001\n",
    "for i in n_array:\n",
    "    n_list[i] = 1\n",
    "\n",
    "for z in m_array:\n",
    "    if n_list[z] == 1:\n",
    "        print(1, end=' ')\n",
    "    else: print(0, end=' ')\n",
    "\n",
    "# 정수에 음수가 있을 때 indexerror"
   ]
  },
  {
   "cell_type": "code",
   "execution_count": 10,
   "metadata": {},
   "outputs": [
    {
     "output_type": "stream",
     "name": "stdout",
     "text": [
      "1 1 0 0 1 "
     ]
    }
   ],
   "source": [
    "# 다시 풀기\n",
    "n = int(input())\n",
    "n_array = set(list(map(int, input().split())))\n",
    "m = int(input())\n",
    "m_array = list(map(int, input().split()))\n",
    "\n",
    "for i in m_array:\n",
    "    if i in n_array:\n",
    "        print(1, end=' ')\n",
    "    else: print(0, end=' ')\n",
    "\n",
    "#정답"
   ]
  }
 ]
}