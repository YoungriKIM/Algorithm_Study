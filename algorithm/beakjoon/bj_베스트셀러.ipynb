{
  "nbformat": 4,
  "nbformat_minor": 0,
  "metadata": {
    "colab": {
      "name": "bj_베스트셀러.ipynb",
      "provenance": [],
      "authorship_tag": "ABX9TyPhT5Ex7M4/j3fyusgI37dI",
      "include_colab_link": true
    },
    "kernelspec": {
      "name": "python3",
      "display_name": "Python 3"
    },
    "language_info": {
      "name": "python"
    }
  },
  "cells": [
    {
      "cell_type": "markdown",
      "metadata": {
        "id": "view-in-github",
        "colab_type": "text"
      },
      "source": [
        "<a href=\"https://colab.research.google.com/github/YoungriKIM/Algorithm_Study/blob/MYOWN/bj_%EB%B2%A0%EC%8A%A4%ED%8A%B8%EC%85%80%EB%9F%AC.ipynb\" target=\"_parent\"><img src=\"https://colab.research.google.com/assets/colab-badge.svg\" alt=\"Open In Colab\"/></a>"
      ]
    },
    {
      "cell_type": "code",
      "metadata": {
        "id": "Sr4cAbAB3jFs"
      },
      "source": [
        "# https://www.acmicpc.net/problem/1302"
      ],
      "execution_count": null,
      "outputs": []
    },
    {
      "cell_type": "code",
      "metadata": {
        "colab": {
          "base_uri": "https://localhost:8080/"
        },
        "id": "4qksXXS-3mc9",
        "outputId": "e8c1631d-f18b-4f98-bc56-60042f3e2334"
      },
      "source": [
        "books = []\n",
        "for _ in range(int(input())):\n",
        "    books.append(input())\n",
        "\n",
        "best_num = sorted([(books.count(i),i) for i in set(books)])[-1][0]\n",
        "\n",
        "b_sell = []\n",
        "for j in [(books.count(i),i) for i in set(books)]:\n",
        "    if j[0] == best_num: b_sell.append(j[1])\n",
        "print(sorted(b_sell)[0])"
      ],
      "execution_count": 74,
      "outputs": [
        {
          "output_type": "stream",
          "name": "stdout",
          "text": [
            "1\n",
            "soul\n",
            "soul\n"
          ]
        }
      ]
    },
    {
      "cell_type": "code",
      "metadata": {
        "colab": {
          "base_uri": "https://localhost:8080/"
        },
        "id": "5uJOFlf5-F_P",
        "outputId": "797a1cfa-8d2c-4983-b7fa-66112c16b95a"
      },
      "source": [
        "books = []\n",
        "for _ in range(int(input())):\n",
        "    books.append(input())\n",
        "books=sorted(books)\n",
        "print(max(books,key=books.count))"
      ],
      "execution_count": 79,
      "outputs": [
        {
          "output_type": "stream",
          "name": "stdout",
          "text": [
            "4\n",
            "table\n",
            "table\n",
            "tbble\n",
            "tbble\n",
            "table\n"
          ]
        }
      ]
    }
  ]
}