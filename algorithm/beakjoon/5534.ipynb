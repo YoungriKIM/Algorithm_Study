{
 "cells": [
  {
   "cell_type": "code",
   "execution_count": 4,
   "metadata": {},
   "outputs": [],
   "source": [
    "t = \"bar\"\n",
    "w_l = ['abracadabra','bear','bar','baraxbara','b']\n"
   ]
  },
  {
   "cell_type": "code",
   "execution_count": 127,
   "metadata": {},
   "outputs": [
    {
     "name": "stdout",
     "output_type": "stream",
     "text": [
      "63\n"
     ]
    }
   ],
   "source": [
    "nb = int(input())\n",
    "t = input()\n",
    "w_l = [input() for _ in range(nb)]\n",
    "start_w = t[0]\n",
    "result= 0\n",
    "for w in w_l:\n",
    "    if start_w in w:\n",
    "        start_loop = [i for i in range(len(w)) if w[i] == start_w]\n",
    "        same_nb = 0\n",
    "        for start_nb in start_loop:\n",
    "            w2 = w[start_nb:]\n",
    "            if [j for j in [w2[::i] for i in range(1,len(w2))] if t in j]:same_nb+=1\n",
    "            else:pass\n",
    "        if same_nb>0:result+=1\n",
    "print(result)"
   ]
  }
 ],
 "metadata": {
  "kernelspec": {
   "display_name": "Python 3.7.5 ('yr3.7': venv)",
   "language": "python",
   "name": "python3"
  },
  "language_info": {
   "codemirror_mode": {
    "name": "ipython",
    "version": 3
   },
   "file_extension": ".py",
   "mimetype": "text/x-python",
   "name": "python",
   "nbconvert_exporter": "python",
   "pygments_lexer": "ipython3",
   "version": "3.7.5"
  },
  "orig_nbformat": 4,
  "vscode": {
   "interpreter": {
    "hash": "5b9414e6cb0c094b91b9e364b296892bffc3dcd6b64859ee564fadd2350da686"
   }
  }
 },
 "nbformat": 4,
 "nbformat_minor": 2
}
