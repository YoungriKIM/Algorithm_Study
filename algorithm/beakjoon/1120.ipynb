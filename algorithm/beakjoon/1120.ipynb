{
 "cells": [
  {
   "cell_type": "code",
   "execution_count": 33,
   "metadata": {},
   "outputs": [
    {
     "name": "stdout",
     "output_type": "stream",
     "text": [
      "loop_nb: 1\n",
      "1\n"
     ]
    }
   ],
   "source": [
    "d_t = 'hello xello' #1\n",
    "# d_t = 'giorgi igroig' #6\n",
    "# d_t = 'adaabc aababbc' #2\n",
    "# d_t = 'koder topcoder' #1\n",
    "# d_t = 'abc topabcoder' #0\n",
    "\n",
    "a, b = d_t.split()\n",
    "\n",
    "def di_cha(s1, b):\n",
    "    nb = 0\n",
    "    for i in range(len(b)):\n",
    "        if s1[i] != b[i] : nb+=1\n",
    "    return nb\n",
    "\n",
    "loop_nb = len(b) - len(a) + 1\n",
    "print('loop_nb:',loop_nb)\n",
    "\n",
    "len_s1 = len(a)\n",
    "\n",
    "result_list = []\n",
    "for st in range(loop_nb) :\n",
    "    # print('-'*30)\n",
    "    s1 = b[:st] + a + b[st+len_s1:]\n",
    "    result_list.append(di_cha(s1, b))\n",
    "    \n",
    "result_list\n",
    "\n",
    "print(min(result_list))"
   ]
  },
  {
   "cell_type": "code",
   "execution_count": 39,
   "metadata": {},
   "outputs": [
    {
     "name": "stdout",
     "output_type": "stream",
     "text": [
      "6\n"
     ]
    }
   ],
   "source": [
    "a, b = input().split()\n",
    "\n",
    "def di_cha(s1, b):\n",
    "    nb = 0\n",
    "    for i in range(len(b)):\n",
    "        if s1[i] != b[i] : nb+=1\n",
    "    return nb\n",
    "\n",
    "loop_nb = len(b) - len(a) + 1\n",
    "len_s1 = len(a)\n",
    "\n",
    "result_list = []\n",
    "for st in range(loop_nb) :\n",
    "    s1 = b[:st] + a + b[st+len_s1:]\n",
    "    result_list.append(di_cha(s1, b))\n",
    "    \n",
    "print(min(result_list))"
   ]
  }
 ],
 "metadata": {
  "kernelspec": {
   "display_name": "Python 3.10.4 64-bit",
   "language": "python",
   "name": "python3"
  },
  "language_info": {
   "codemirror_mode": {
    "name": "ipython",
    "version": 3
   },
   "file_extension": ".py",
   "mimetype": "text/x-python",
   "name": "python",
   "nbconvert_exporter": "python",
   "pygments_lexer": "ipython3",
   "version": "3.10.4"
  },
  "orig_nbformat": 4,
  "vscode": {
   "interpreter": {
    "hash": "93ef1a3f4b6a0dafae6f510592dd0c0ebfe4c60f907ca9e4dacf456937af8702"
   }
  }
 },
 "nbformat": 4,
 "nbformat_minor": 2
}
