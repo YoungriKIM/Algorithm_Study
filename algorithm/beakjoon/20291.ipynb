{
 "cells": [
  {
   "cell_type": "code",
   "execution_count": 3,
   "metadata": {},
   "outputs": [],
   "source": [
    "tl = ['sbrus.txt',\n",
    " 'spc.spc',\n",
    " 'acm.icpc',\n",
    " 'korea.icpc',\n",
    " 'sample.txt',\n",
    " 'hello.world',\n",
    " 'sogang.spc',\n",
    " 'example.txt']"
   ]
  },
  {
   "cell_type": "code",
   "execution_count": 12,
   "metadata": {},
   "outputs": [
    {
     "name": "stdout",
     "output_type": "stream",
     "text": [
      "txt 3\n"
     ]
    }
   ],
   "source": [
    "tl = []\n",
    "for _ in range(int(input())):tl.append(input())\n",
    "\n",
    "note = {}\n",
    "\n",
    "for t in tl:\n",
    "    ex = t.split('.')[-1]\n",
    "    if ex not in note: note[ex] = 1\n",
    "    else : note[ex] += 1\n",
    "\n",
    "for ex in sorted(note):\n",
    "    print(ex, note[ex])"
   ]
  }
 ],
 "metadata": {
  "kernelspec": {
   "display_name": "Python 3.10.4 64-bit",
   "language": "python",
   "name": "python3"
  },
  "language_info": {
   "codemirror_mode": {
    "name": "ipython",
    "version": 3
   },
   "file_extension": ".py",
   "mimetype": "text/x-python",
   "name": "python",
   "nbconvert_exporter": "python",
   "pygments_lexer": "ipython3",
   "version": "3.10.4"
  },
  "orig_nbformat": 4,
  "vscode": {
   "interpreter": {
    "hash": "93ef1a3f4b6a0dafae6f510592dd0c0ebfe4c60f907ca9e4dacf456937af8702"
   }
  }
 },
 "nbformat": 4,
 "nbformat_minor": 2
}
