{
 "cells": [
  {
   "cell_type": "code",
   "execution_count": 1,
   "metadata": {},
   "outputs": [
    {
     "name": "stdout",
     "output_type": "stream",
     "text": [
      "1\n",
      "2\n",
      "2\n",
      "0\n",
      "1\n",
      "2\n",
      "-1\n",
      "0\n",
      "1\n",
      "-1\n",
      "0\n",
      "3\n"
     ]
    }
   ],
   "source": [
    "def solution(s):\n",
    "    d = []\n",
    "    for i in s:\n",
    "        if 'push' in i : d.append(i.split()[1])\n",
    "        elif i == 'pop' : print(d.pop(0) if d else -1)\n",
    "        elif i == 'size' : print(len(d))    \n",
    "        elif i == 'empty' : print(0 if d else 1)\n",
    "        elif i == 'front' : print(d[0] if d else -1)\n",
    "        elif i == 'back' : print(d[-1] if d else -1)\n",
    "\n",
    "# s = ['push 1', 'push 2', 'front', 'back', 'size', 'empty', 'pop', 'pop', 'pop', 'size', 'empty', 'pop', 'push 3', 'empty', 'front']\n",
    "s = []\n",
    "for _ in range(int(input())):\n",
    "    s.append(input())\n",
    "solution(s)"
   ]
  }
 ],
 "metadata": {
  "kernelspec": {
   "display_name": "Python 3.10.4 64-bit",
   "language": "python",
   "name": "python3"
  },
  "language_info": {
   "codemirror_mode": {
    "name": "ipython",
    "version": 3
   },
   "file_extension": ".py",
   "mimetype": "text/x-python",
   "name": "python",
   "nbconvert_exporter": "python",
   "pygments_lexer": "ipython3",
   "version": "3.10.4"
  },
  "orig_nbformat": 4,
  "vscode": {
   "interpreter": {
    "hash": "93ef1a3f4b6a0dafae6f510592dd0c0ebfe4c60f907ca9e4dacf456937af8702"
   }
  }
 },
 "nbformat": 4,
 "nbformat_minor": 2
}
