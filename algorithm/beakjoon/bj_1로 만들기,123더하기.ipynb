{
 "metadata": {
  "language_info": {
   "codemirror_mode": {
    "name": "ipython",
    "version": 3
   },
   "file_extension": ".py",
   "mimetype": "text/x-python",
   "name": "python",
   "nbconvert_exporter": "python",
   "pygments_lexer": "ipython3",
   "version": "3.8.5"
  },
  "orig_nbformat": 2,
  "kernelspec": {
   "name": "python385jvsc74a57bd0183bbf6827d058c2a2fb0f4acdc0420849dda2b4380af0e437e38c64d798d8b7",
   "display_name": "Python 3.8.5 64-bit ('base': conda)"
  }
 },
 "nbformat": 4,
 "nbformat_minor": 2,
 "cells": [
  {
   "cell_type": "code",
   "execution_count": 12,
   "metadata": {},
   "outputs": [
    {
     "output_type": "stream",
     "name": "stdout",
     "text": [
      "3\n"
     ]
    }
   ],
   "source": [
    "# https://www.acmicpc.net/problem/1463\n",
    "\n",
    "x = int(input())\n",
    "\n",
    "d = [0] * 10000001\n",
    "\n",
    "for i in range(2, x+1):\n",
    "    d[i] = d[i-1] + 1\n",
    "    if i % 3 == 0 :\n",
    "        d[i] = min(d[i], d[i//3]+1)\n",
    "    if i % 2 == 0 :\n",
    "        d[i] = min(d[i], d[i//2]+1)\n",
    "\n",
    "print(d[x])"
   ]
  },
  {
   "cell_type": "code",
   "execution_count": 25,
   "metadata": {},
   "outputs": [
    {
     "output_type": "stream",
     "name": "stdout",
     "text": [
      "7\n44\n274\n"
     ]
    }
   ],
   "source": [
    "# https://www.acmicpc.net/problem/9095\n",
    "# 1은 1개, 2는 2개, 3은 4개, 4는 7개(앞에 3개 더함), 5는 13개(앞에 3개 더함)의 규칙을 찾음\n",
    "\n",
    "n = int(input())\n",
    "array = []\n",
    "for _ in range(n):\n",
    "    array.append(int(input()))\n",
    "\n",
    "def solution(n):\n",
    "    if n == 1 : return 1\n",
    "    elif n == 2 : return 2\n",
    "    elif n == 3 : return 4\n",
    "    else: return solution(n-1) + solution(n-2) + solution(n-3)\n",
    "\n",
    "for i in array:\n",
    "    print(solution(i))"
   ]
  },
  {
   "cell_type": "code",
   "execution_count": null,
   "metadata": {},
   "outputs": [],
   "source": []
  }
 ]
}