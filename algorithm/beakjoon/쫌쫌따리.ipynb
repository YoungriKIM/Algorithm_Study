{
 "cells": [
  {
   "cell_type": "code",
   "execution_count": 1,
   "metadata": {},
   "outputs": [
    {
     "name": "stdout",
     "output_type": "stream",
     "text": [
      "1. Lionel Cosgrove\n",
      "2. Alice\n",
      "3. Columbus and Tallahassee\n",
      "4. \n",
      "5. \n"
     ]
    }
   ],
   "source": [
    "N = int(input())\n",
    "ins = []\n",
    "for i in range(N):\n",
    "    print(f'{i+1}.',input())"
   ]
  },
  {
   "cell_type": "code",
   "execution_count": null,
   "metadata": {},
   "outputs": [],
   "source": [
    "# 8\n",
    "# Algorithm Crunching Man\n",
    "# Green Lantern\n",
    "# Boba Fett\n",
    "# Superman\n",
    "# Batman\n",
    "# Green Goblin\n",
    "# Barney\n",
    "# Spider Pig\n",
    "\n",
    "# “GOOD”, “A BADDY”, “NEUTRAL”\n",
    "# Algorithm Crunching Man is GOOD"
   ]
  },
  {
   "cell_type": "code",
   "execution_count": 13,
   "metadata": {},
   "outputs": [
    {
     "name": "stdout",
     "output_type": "stream",
     "text": [
      "Algorithm Crunching Man is GOOD\n",
      "Green Lantern is GOOD\n"
     ]
    }
   ],
   "source": [
    "G,B,N = 'GOOD','A BADDY','NEUTRAL'\n",
    "\n",
    "def do(t):\n",
    "    if t.lower().count('g') - t.lower().count('b') > 0 : print(f'{t} is {G}')\n",
    "    elif t.lower().count('g') - t.lower().count('b') == 0 : print(f'{t} is {N}')\n",
    "    else : print(f'{t} is {B}')\n",
    "\n",
    "nb = int(input())\n",
    "for _ in range(nb):\n",
    "    do(input())"
   ]
  },
  {
   "cell_type": "code",
   "execution_count": null,
   "metadata": {},
   "outputs": [],
   "source": [
    "# boowxod\n",
    "# bidi\n",
    "# bed\n",
    "# bbb\n",
    "# #"
   ]
  },
  {
   "cell_type": "code",
   "execution_count": 32,
   "metadata": {},
   "outputs": [
    {
     "data": {
      "text/plain": [
       "(7, 7)"
      ]
     },
     "execution_count": 32,
     "metadata": {},
     "output_type": "execute_result"
    }
   ],
   "source": [
    "kl = 'bdpqiovwx'\n",
    "t = 'boxwood'\n",
    "\n",
    "len() len(t)"
   ]
  },
  {
   "cell_type": "code",
   "execution_count": 18,
   "metadata": {},
   "outputs": [
    {
     "data": {
      "text/plain": [
       "'boowxod'"
      ]
     },
     "execution_count": 18,
     "metadata": {},
     "output_type": "execute_result"
    }
   ],
   "source": [
    "mir = {'b':'d','d':'b','p':'q','q':'p','i':'i','o':'o','v':'v','w':'w','x':'x'}\n",
    "kl = 'bdpqiovwx'\n",
    "t = 'boxwood'\n",
    "''.join([mir[i] for i in t[::-1]])"
   ]
  },
  {
   "cell_type": "code",
   "execution_count": 34,
   "metadata": {},
   "outputs": [
    {
     "name": "stdout",
     "output_type": "stream",
     "text": [
      "iii\n",
      "iii\n",
      "ibib\n",
      "INVALID\n"
     ]
    }
   ],
   "source": [
    "mir = {'b':'d','d':'b','p':'q','q':'p','i':'i','o':'o','v':'v','w':'w','x':'x'}\n",
    "kl = ['b', 'd', 'p', 'q', 'i', 'o', 'v', 'w', 'x']\n",
    "\n",
    "while True:\n",
    "    a = input()\n",
    "    if a == '#' : break\n",
    "    else: \n",
    "        if len([w for w in a if w in kl]) != len(a):print('INVALID')\n",
    "        else:print(''.join([mir[i] for i in a[::-1]]))"
   ]
  }
 ],
 "metadata": {
  "interpreter": {
   "hash": "5b9414e6cb0c094b91b9e364b296892bffc3dcd6b64859ee564fadd2350da686"
  },
  "kernelspec": {
   "display_name": "Python 3.7.5 ('yr3.7': venv)",
   "language": "python",
   "name": "python3"
  },
  "language_info": {
   "codemirror_mode": {
    "name": "ipython",
    "version": 3
   },
   "file_extension": ".py",
   "mimetype": "text/x-python",
   "name": "python",
   "nbconvert_exporter": "python",
   "pygments_lexer": "ipython3",
   "version": "3.7.5"
  },
  "orig_nbformat": 4
 },
 "nbformat": 4,
 "nbformat_minor": 2
}
