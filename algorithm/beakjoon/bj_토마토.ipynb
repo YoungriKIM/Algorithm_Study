{
 "metadata": {
  "language_info": {
   "codemirror_mode": {
    "name": "ipython",
    "version": 3
   },
   "file_extension": ".py",
   "mimetype": "text/x-python",
   "name": "python",
   "nbconvert_exporter": "python",
   "pygments_lexer": "ipython3",
   "version": "3.8.5"
  },
  "orig_nbformat": 2,
  "kernelspec": {
   "name": "python385jvsc74a57bd0b18ecf447b39d25eae6a9ae9d5694327d58d99c869301a8afbbe0bb2ae2074bb",
   "display_name": "Python 3.8.5 64-bit ('base': conda)"
  }
 },
 "nbformat": 4,
 "nbformat_minor": 2,
 "cells": [
  {
   "cell_type": "code",
   "execution_count": null,
   "metadata": {},
   "outputs": [],
   "source": [
    "# https://www.acmicpc.net/problem/7576\n",
    "# bfs 이용\n",
    "\n",
    "# 정보 받기\n",
    "m,n = map(int, input().split())\n",
    "box = [list(map(int, input().split())) for _ in range(n)]\n",
    "\n",
    "# -----------------------------------\n",
    "# 1인 것만 큐에 넣기\n",
    "\n",
    "from collections import deque\n",
    "\n",
    "dx = (0, 0, -1, 1)\n",
    "dy = (-1, 1, 0, 0)\n",
    "\n",
    "answer = 0\n",
    "q = deque([])\n",
    "\n",
    "for i in range(n):\n",
    "    for j in range(m):\n",
    "        if box[i][j] == 1:\n",
    "            q.append([i, j, answer])\n",
    "\n",
    "# -----------------------------------\n",
    "# 함수 정의\n",
    "\n",
    "# 토마토 익게 만들기\n",
    "def bfs(q, answer):\n",
    "    count = answer\n",
    "    while q:\n",
    "        x, y, count = q.popleft()\n",
    "        for i in range(4):\n",
    "            nx = x + dx[i]\n",
    "            ny = y + dy[i]\n",
    "            if 0 <= nx < n and 0 <= ny < m:\n",
    "                if box[nx][ny] == 0 :\n",
    "                    box[nx][ny] = 1\n",
    "                    q.append([nx, ny, count+1])\n",
    "    return count\n",
    "\n",
    "# 마지막으로 체크\n",
    "def check(answer, box):\n",
    "    for i in range(n):\n",
    "        for j in range(m):\n",
    "            if box[i][j] == 0:\n",
    "                return -1\n",
    "    return answer\n",
    "\n",
    "# -----------------------------------\n",
    "# 적용\n",
    "answer = bfs(q, answer)\n",
    "print(check(answer, box))"
   ]
  }
 ]
}