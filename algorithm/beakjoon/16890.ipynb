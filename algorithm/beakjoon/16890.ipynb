{
 "cells": [
  {
   "cell_type": "code",
   "execution_count": 4,
   "metadata": {},
   "outputs": [
    {
     "name": "stdout",
     "output_type": "stream",
     "text": [
      "deque(['a', 'b', 'c', 'e', 'e'])\n",
      "avbucreoe\n",
      "0:00:00\n"
     ]
    }
   ],
   "source": [
    "from collections import deque\n",
    "\n",
    "k, c = 'cubehater', 'cubelover'\n",
    "\n",
    "k = list(k)\n",
    "c = list(c)\n",
    "N = len(k)\n",
    " \n",
    "k.sort()\n",
    "c.sort()\n",
    "A = deque(k[:(N+1)//2])\n",
    "B = deque(c[N-N//2:N])\n",
    "print(A)\n",
    "answer = ['?']*N\n",
    "left = 0\n",
    "right = N-1\n",
    " \n",
    "for idx in range(N):\n",
    "    if idx%2:\n",
    "        if A and A[0] >= B[-1]:\n",
    "            answer[right] = B.popleft()\n",
    "            right -= 1\n",
    "        else:\n",
    "            answer[left] = B.pop()\n",
    "            left += 1\n",
    "    else:\n",
    "        if B and B[-1] <= A[0]:\n",
    "            answer[right] = A.pop()\n",
    "            right -= 1\n",
    "        else:\n",
    "            answer[left] = A.popleft()\n",
    "            left += 1\n",
    " \n",
    " \n",
    "print(''.join(answer))\n"
   ]
  }
 ],
 "metadata": {
  "kernelspec": {
   "display_name": "Python 3.10.4 64-bit",
   "language": "python",
   "name": "python3"
  },
  "language_info": {
   "codemirror_mode": {
    "name": "ipython",
    "version": 3
   },
   "file_extension": ".py",
   "mimetype": "text/x-python",
   "name": "python",
   "nbconvert_exporter": "python",
   "pygments_lexer": "ipython3",
   "version": "3.10.4"
  },
  "orig_nbformat": 4,
  "vscode": {
   "interpreter": {
    "hash": "93ef1a3f4b6a0dafae6f510592dd0c0ebfe4c60f907ca9e4dacf456937af8702"
   }
  }
 },
 "nbformat": 4,
 "nbformat_minor": 2
}
