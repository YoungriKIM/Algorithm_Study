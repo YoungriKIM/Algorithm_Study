{
 "cells": [
  {
   "cell_type": "code",
   "execution_count": 46,
   "metadata": {},
   "outputs": [
    {
     "data": {
      "text/plain": [
       "(2008, 1, 1, 0, 0)"
      ]
     },
     "execution_count": 46,
     "metadata": {},
     "output_type": "execute_result"
    }
   ],
   "source": [
    "import datetime\n",
    "import math\n",
    "from dateutil import parser\n",
    "\n",
    "t = 'May 10, 1981 00:31'\n",
    "t = 'January 01, 2008 00:00'\n",
    "\n",
    "t_time = parser.parse(t)\n",
    "year, month, day, hour, minute = t_time.year, t_time.month, t_time.day, t_time.hour, t_time.minute\n",
    "\n",
    "year, month, day, hour, minute"
   ]
  },
  {
   "cell_type": "code",
   "execution_count": 101,
   "metadata": {},
   "outputs": [
    {
     "name": "stdout",
     "output_type": "stream",
     "text": [
      "0.0\n"
     ]
    }
   ],
   "source": [
    "import datetime\n",
    "import math\n",
    "\n",
    "# t = input()\n",
    "t = 'May 10, 1981 00:31'\n",
    "t = 'January 01, 2008 00:00'\n",
    "\n",
    "t_time = datetime.datetime.strptime(t, '%B %d, %Y %H:%M')\n",
    "year, month, day, hour, minute = t_time.year, t_time.month, t_time.day, t_time.hour, t_time.minute\n",
    "\n",
    "def progress_bar(year, month, day, hour, minute):\n",
    "    t = datetime.datetime(year, month, day, hour, minute)\n",
    "    t_time = datetime.datetime(year, 1, 1, 0, 0)\n",
    "    t_delta = t - t_time\n",
    "    t_delta = t_delta.total_seconds()\n",
    "    t_delta = math.floor(t_delta)\n",
    "    if year % 4 == 0 and year % 100 != 0 or year % 400 == 0:\n",
    "        t_delta = t_delta / 31622400\n",
    "    else:\n",
    "        t_delta = t_delta / 31536000\n",
    "    t_delta = t_delta * 100\n",
    "    print(t_delta)\n",
    "\n",
    "progress_bar(year, month, day, hour, minute)"
   ]
  }
 ],
 "metadata": {
  "kernelspec": {
   "display_name": "Python 3.10.4 64-bit",
   "language": "python",
   "name": "python3"
  },
  "language_info": {
   "codemirror_mode": {
    "name": "ipython",
    "version": 3
   },
   "file_extension": ".py",
   "mimetype": "text/x-python",
   "name": "python",
   "nbconvert_exporter": "python",
   "pygments_lexer": "ipython3",
   "version": "3.10.4"
  },
  "orig_nbformat": 4,
  "vscode": {
   "interpreter": {
    "hash": "93ef1a3f4b6a0dafae6f510592dd0c0ebfe4c60f907ca9e4dacf456937af8702"
   }
  }
 },
 "nbformat": 4,
 "nbformat_minor": 2
}
