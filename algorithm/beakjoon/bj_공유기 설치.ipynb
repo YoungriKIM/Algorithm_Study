{
 "metadata": {
  "language_info": {
   "codemirror_mode": {
    "name": "ipython",
    "version": 3
   },
   "file_extension": ".py",
   "mimetype": "text/x-python",
   "name": "python",
   "nbconvert_exporter": "python",
   "pygments_lexer": "ipython3",
   "version": "3.8.5"
  },
  "orig_nbformat": 2,
  "kernelspec": {
   "name": "python385jvsc74a57bd0b18ecf447b39d25eae6a9ae9d5694327d58d99c869301a8afbbe0bb2ae2074bb",
   "display_name": "Python 3.8.5 64-bit ('base': conda)"
  }
 },
 "nbformat": 4,
 "nbformat_minor": 2,
 "cells": [
  {
   "cell_type": "code",
   "execution_count": 13,
   "metadata": {},
   "outputs": [
    {
     "output_type": "stream",
     "name": "stdout",
     "text": [
      "house[i]: 2\nold + mid: 5\nhouse[i]: 4\nold + mid: 5\nhouse[i]: 8\nold + mid: 5\nold:  8\ncount:  2\nhouse[i]: 9\nold + mid: 12\nhouse[i]: 2\nold + mid: 3\nhouse[i]: 4\nold + mid: 3\nold:  4\ncount:  2\nhouse[i]: 8\nold + mid: 6\nold:  8\ncount:  3\nhouse[i]: 9\nold + mid: 10\nhouse[i]: 2\nold + mid: 4\nhouse[i]: 4\nold + mid: 4\nold:  4\ncount:  2\nhouse[i]: 8\nold + mid: 7\nold:  8\ncount:  3\nhouse[i]: 9\nold + mid: 11\n3\n"
     ]
    }
   ],
   "source": [
    "# https://www.acmicpc.net/problem/2110\n",
    "\n",
    "n, c = 5, 3\n",
    "house = [1,2,8,4,9]\n",
    "\n",
    "# n, c = map(int, input().split())\n",
    "# house = []\n",
    "# for _ in range(n):\n",
    "#     x = int(input())\n",
    "#     house.append(x)\n",
    "\n",
    "house.sort()\n",
    "\n",
    "start = 1\n",
    "end = house[-1] - house[0]\n",
    "\n",
    "result = 0\n",
    "\n",
    "while(start <= end):\n",
    "    mid = (start + end) // 2\n",
    "    old = house[0]\n",
    "    count = 1\n",
    "\n",
    "    for i in range(1, len(house)):\n",
    "        print('house[i]:', house[i])\n",
    "        print('old + mid:', old + mid)\n",
    "        if house[i] >= old + mid:\n",
    "            count += 1\n",
    "            old = house[i]\n",
    "            print('old: ', old)\n",
    "            print('count: ',count)\n",
    "    if count >= c:\n",
    "        start = mid + 1\n",
    "        result = mid\n",
    "    else:\n",
    "        end = mid - 1\n",
    "\n",
    "print(result)"
   ]
  }
 ]
}