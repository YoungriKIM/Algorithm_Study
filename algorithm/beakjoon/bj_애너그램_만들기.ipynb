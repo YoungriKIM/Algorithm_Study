{
 "cells": [
  {
   "cell_type": "code",
   "execution_count": 1,
   "metadata": {},
   "outputs": [
    {
     "name": "stdout",
     "output_type": "stream",
     "text": [
      "2\n"
     ]
    }
   ],
   "source": [
    "N = int(input())\n",
    "\n",
    "def fectorial_recursive(n):\n",
    "    if n <= 1:\n",
    "        return 1 \n",
    "    return n * fectorial_recursive(n-1)\n",
    "\n",
    "print(fectorial_recursive(N))"
   ]
  },
  {
   "cell_type": "code",
   "execution_count": 39,
   "metadata": {},
   "outputs": [
    {
     "name": "stdout",
     "output_type": "stream",
     "text": [
      "q\n",
      "e\n",
      "-1 후:  1\n",
      "t\n",
      "-1 후:  2\n",
      "y\n",
      "-1 후:  3\n",
      "u\n",
      "-1 후:  4\n",
      "['q', 'e', 't', 'y', 'u']\n",
      "['d']\n",
      "4\n",
      "0\n"
     ]
    }
   ],
   "source": [
    "# n = input()\n",
    "# m = input()\n",
    "n = 'qetyu'\n",
    "m = 'detyu'\n",
    "\n",
    "cnt = 0\n",
    "length = len(n) + len(m)\n",
    "\n",
    "n = list(n)\n",
    "m = list(m)\n",
    "\n",
    "for cha in n :\n",
    "    print(cha)\n",
    "    if cha in m:\n",
    "        cnt += 1\n",
    "        print('-1 후: ', cnt)\n",
    "        idx = m.index(cha)\n",
    "        del m[idx]\n",
    "    \n",
    "print(n)\n",
    "print(m)\n",
    "print(cnt)\n",
    "\n",
    "if set(m) == set(n) : print(length - (cnt * 2))\n",
    "else : print(0)"
   ]
  },
  {
   "cell_type": "code",
   "execution_count": 26,
   "metadata": {},
   "outputs": [
    {
     "name": "stdout",
     "output_type": "stream",
     "text": [
      "q\n",
      "e\n",
      "t\n",
      "y\n",
      "u\n"
     ]
    }
   ],
   "source": [
    "n = 'qetyu'\n",
    "m = 'qqqeyutqq'\n",
    "\n",
    "n = list(n)\n",
    "m = list(m)\n",
    "\n",
    "cnt = 0\n",
    "for cha in n :\n",
    "    print(cha)"
   ]
  }
 ],
 "metadata": {
  "interpreter": {
   "hash": "b18ecf447b39d25eae6a9ae9d5694327d58d99c869301a8afbbe0bb2ae2074bb"
  },
  "kernelspec": {
   "display_name": "Python 3.8.8 64-bit ('base': conda)",
   "name": "python3"
  },
  "language_info": {
   "codemirror_mode": {
    "name": "ipython",
    "version": 3
   },
   "file_extension": ".py",
   "mimetype": "text/x-python",
   "name": "python",
   "nbconvert_exporter": "python",
   "pygments_lexer": "ipython3",
   "version": "3.8.8"
  },
  "orig_nbformat": 4
 },
 "nbformat": 4,
 "nbformat_minor": 2
}
