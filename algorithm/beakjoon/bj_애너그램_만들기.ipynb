{
 "cells": [
  {
   "cell_type": "code",
   "execution_count": 55,
   "metadata": {},
   "outputs": [
    {
     "name": "stdout",
     "output_type": "stream",
     "text": [
      "3\n"
     ]
    }
   ],
   "source": [
    "n = list(input())\n",
    "m = list(input())\n",
    "# n = 'qeetyu'\n",
    "# m = 'deeeetyu'\n",
    "\n",
    "cnt = 0\n",
    "length = len(n) + len(m)\n",
    "\n",
    "for cha in n :\n",
    "    if cha in m:\n",
    "        cnt += 1\n",
    "        idx = m.index(cha)\n",
    "        del m[idx]\n",
    "\n",
    "if cnt:\n",
    "    print(length - (cnt * 2))\n",
    "else : print(0)\n"
   ]
  }
 ],
 "metadata": {
  "interpreter": {
   "hash": "b18ecf447b39d25eae6a9ae9d5694327d58d99c869301a8afbbe0bb2ae2074bb"
  },
  "kernelspec": {
   "display_name": "Python 3.8.8 64-bit ('base': conda)",
   "name": "python3"
  },
  "language_info": {
   "codemirror_mode": {
    "name": "ipython",
    "version": 3
   },
   "file_extension": ".py",
   "mimetype": "text/x-python",
   "name": "python",
   "nbconvert_exporter": "python",
   "pygments_lexer": "ipython3",
   "version": "3.8.8"
  },
  "orig_nbformat": 4
 },
 "nbformat": 4,
 "nbformat_minor": 2
}
