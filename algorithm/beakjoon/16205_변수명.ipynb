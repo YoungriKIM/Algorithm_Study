{
 "cells": [
  {
   "cell_type": "code",
   "execution_count": 4,
   "metadata": {},
   "outputs": [],
   "source": [
    "t = 'vA_a'"
   ]
  },
  {
   "cell_type": "code",
   "execution_count": 3,
   "metadata": {},
   "outputs": [
    {
     "data": {
      "text/plain": [
       "[False, True, False, False]"
      ]
     },
     "execution_count": 3,
     "metadata": {},
     "output_type": "execute_result"
    }
   ],
   "source": [
    "def exploder(nb, t):\n",
    "    if nb == 1: \n",
    "    "
   ]
  },
  {
   "cell_type": "code",
   "execution_count": 51,
   "metadata": {},
   "outputs": [
    {
     "data": {
      "text/plain": [
       "['camel', 'Use', 'Case', 'Two']"
      ]
     },
     "execution_count": 51,
     "metadata": {},
     "output_type": "execute_result"
    }
   ],
   "source": [
    "sam = 'camelUseCaseTwo'\n",
    "Unb = [i for i in range(len(sam)) if sam[i].isupper()==True]\n",
    "Unb.insert(len(Unb), len(sam))\n",
    "Unb.insert(0,0)\n",
    "\n",
    "[sam[Unb[i]:Unb[i+1]] for i in range(len(Unb)-1)]"
   ]
  },
  {
   "cell_type": "code",
   "execution_count": 50,
   "metadata": {},
   "outputs": [
    {
     "data": {
      "text/plain": [
       "['How', 'To', 'Solve', 'This', 'Problem']"
      ]
     },
     "execution_count": 50,
     "metadata": {},
     "output_type": "execute_result"
    }
   ],
   "source": [
    "sam = 'HowToSolveThisProblem'\n",
    "\n",
    "Unb = [i for i in range(len(sam)) if sam[i].isupper()==True]\n",
    "Unb.insert(len(Unb), len(sam))\n",
    "  \n",
    "[sam[Unb[i]:Unb[i+1]] for i in range(len(Unb)-1)]"
   ]
  },
  {
   "cell_type": "code",
   "execution_count": 52,
   "metadata": {},
   "outputs": [
    {
     "data": {
      "text/plain": [
       "['variable', 'n']"
      ]
     },
     "execution_count": 52,
     "metadata": {},
     "output_type": "execute_result"
    }
   ],
   "source": [
    "sam = 'variable_n'\n",
    "sam.split('_')"
   ]
  },
  {
   "cell_type": "code",
   "execution_count": 101,
   "metadata": {},
   "outputs": [
    {
     "name": "stdout",
     "output_type": "stream",
     "text": [
      "variableN\n",
      "variable_n\n",
      "VariableN\n"
     ]
    }
   ],
   "source": [
    "def exploder(t):\n",
    "    nb = int(t.split()[0])\n",
    "    t = t.split()[1]\n",
    "    if nb==1:Unb = [i for i in range(len(t)) if t[i].isupper()==True];Unb.insert(len(Unb), len(t));Unb.insert(0,0);tl=[t[Unb[i]:Unb[i+1]] for i in range(len(Unb)-1)]\n",
    "    elif nb==2:tl=t.split('_')\n",
    "    else:Unb = [i for i in range(len(t)) if t[i].isupper()==True];Unb.insert(len(Unb), len(t));tl=[t[Unb[i]:Unb[i+1]] for i in range(len(Unb)-1)]\n",
    "    \n",
    "    outs = ''.join([w[0].upper()+w[1:] for w in tl]);outs=outs[0].lower()+outs[1:]\n",
    "    print(outs)\n",
    "    outs = '_'.join(tl).lower()\n",
    "    print(outs)\n",
    "    outs = ''.join([w[0].upper()+w[1:] for w in tl])\n",
    "    print(outs)\n",
    "    \n",
    "exploder(input())"
   ]
  }
 ],
 "metadata": {
  "kernelspec": {
   "display_name": "Python 3.10.4 64-bit",
   "language": "python",
   "name": "python3"
  },
  "language_info": {
   "codemirror_mode": {
    "name": "ipython",
    "version": 3
   },
   "file_extension": ".py",
   "mimetype": "text/x-python",
   "name": "python",
   "nbconvert_exporter": "python",
   "pygments_lexer": "ipython3",
   "version": "3.10.4"
  },
  "orig_nbformat": 4,
  "vscode": {
   "interpreter": {
    "hash": "93ef1a3f4b6a0dafae6f510592dd0c0ebfe4c60f907ca9e4dacf456937af8702"
   }
  }
 },
 "nbformat": 4,
 "nbformat_minor": 2
}
