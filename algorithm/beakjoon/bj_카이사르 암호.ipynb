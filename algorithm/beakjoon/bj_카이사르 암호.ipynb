{
 "cells": [
  {
   "cell_type": "code",
   "execution_count": 1,
   "metadata": {},
   "outputs": [],
   "source": [
    "# https://www.acmicpc.net/problem/5598"
   ]
  },
  {
   "cell_type": "code",
   "execution_count": 32,
   "metadata": {},
   "outputs": [
    {
     "name": "stdout",
     "output_type": "stream",
     "text": [
      "\n"
     ]
    }
   ],
   "source": [
    "import string\n",
    "up = [i for i in string.ascii_uppercase]\n",
    "\n",
    "r = []\n",
    "for c in input():\n",
    "    if c == 'A': r.append(up[-3])\n",
    "    elif c == 'B': r.append(up[-2])\n",
    "    elif c == 'C': r.append(up[-1])\n",
    "    else: r.append(up[up.index(c)-3])\n",
    "    \n",
    "print(''.join(r))"
   ]
  }
 ],
 "metadata": {
  "interpreter": {
   "hash": "b18ecf447b39d25eae6a9ae9d5694327d58d99c869301a8afbbe0bb2ae2074bb"
  },
  "kernelspec": {
   "display_name": "Python 3.8.8 64-bit ('base': conda)",
   "name": "python3"
  },
  "language_info": {
   "name": "python",
   "version": "3.8.8"
  },
  "orig_nbformat": 4
 },
 "nbformat": 4,
 "nbformat_minor": 2
}
