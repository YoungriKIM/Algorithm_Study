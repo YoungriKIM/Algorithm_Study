{
 "metadata": {
  "language_info": {
   "codemirror_mode": {
    "name": "ipython",
    "version": 3
   },
   "file_extension": ".py",
   "mimetype": "text/x-python",
   "name": "python",
   "nbconvert_exporter": "python",
   "pygments_lexer": "ipython3",
   "version": "3.8.5"
  },
  "orig_nbformat": 2,
  "kernelspec": {
   "name": "python385jvsc74a57bd0183bbf6827d058c2a2fb0f4acdc0420849dda2b4380af0e437e38c64d798d8b7",
   "display_name": "Python 3.8.5 64-bit ('base': conda)"
  }
 },
 "nbformat": 4,
 "nbformat_minor": 2,
 "cells": [
  {
   "cell_type": "code",
   "execution_count": 24,
   "metadata": {},
   "outputs": [
    {
     "output_type": "stream",
     "name": "stdout",
     "text": [
      "3 1 2 5 4 \n3 1 5 4 2 "
     ]
    }
   ],
   "source": [
    "# 내가 푼 거 ^^\n",
    "# 런타임에러~~~~~~\n",
    "\n",
    "# node, case, start = 4, 5, 1\n",
    "# graph = [[0,0], \n",
    "#         [1,2],\n",
    "#         [1,3],\n",
    "#         [1,4],\n",
    "#         [2,4],\n",
    "#         [3,4]]\n",
    "\n",
    "N, M, V = 5, 5, 3\n",
    "graph = [[0,0], \n",
    "        [5,4],\n",
    "        [5,2],\n",
    "        [1,2],\n",
    "        [3,4],\n",
    "        [3,1]]\n",
    "\n",
    "# node, case, start = 1000, 1, 1000\n",
    "# graph = [[0,0], \n",
    "#         [999,1000]]\n",
    "# -----------------------------------------------\n",
    "\n",
    "from collections import deque\n",
    "\n",
    "# N, M, V = map(int, input().split())\n",
    "# graph = [[0,0]]\n",
    "# for _ in range(M):\n",
    "#     graph.append(list(map(int, input().split())))\n",
    "\n",
    "if 1 > N or N > 1000 or 1 > M or M > 10000: pass\n",
    "else: \n",
    "    # -----------------------------------------------\n",
    "    nums=[]\n",
    "    for i in graph:\n",
    "        for v in i :\n",
    "            nums.append(v)\n",
    "    stand = list(j for j in set(nums) if j != 0)\n",
    "\n",
    "    newgraph = [[0,0]]\n",
    "    for x in stand:\n",
    "        num = x\n",
    "        numlist = []\n",
    "        for y in graph:\n",
    "            if x == y[0]:\n",
    "                numlist.append(y[1])\n",
    "            if x == y[1]:\n",
    "                numlist.append(y[0])\n",
    "        newgraph.append(set(numlist))\n",
    "\n",
    "    visited1 = [False]*(N+1)\n",
    "    # -----------------------------------------------\n",
    "    def dfs(graph, v, visited):\n",
    "        visited[v] = True\n",
    "        print(v, end =' ')\n",
    "        for i in graph[1:]:\n",
    "            if v not in i:\n",
    "                for c in i:\n",
    "                    if visited[c] == False:\n",
    "                        visited[c] = True\n",
    "                        dfs(graph, c, visited)\n",
    "\n",
    "    dfs(newgraph, V, visited1);print()\n",
    "    # -----------------------------------------------\n",
    "    visited2 = [False]*(N+1)\n",
    "\n",
    "    def bfs(graph, V, visited):\n",
    "        q = deque([V])\n",
    "        visited[V] = True\n",
    "        while q:\n",
    "            v = q.popleft()\n",
    "            print(v, end=' ')\n",
    "            for i in graph[1:]:\n",
    "                if v not in i:\n",
    "                    for c in i:\n",
    "                        if visited[c] == False:\n",
    "                            q.append(c)\n",
    "                            visited[c] = True\n",
    "\n",
    "    bfs(newgraph, V, visited2)"
   ]
  },
  {
   "cell_type": "code",
   "execution_count": 31,
   "metadata": {},
   "outputs": [
    {
     "output_type": "stream",
     "name": "stdout",
     "text": [
      "1000 999 \n1000 999 "
     ]
    }
   ],
   "source": [
    "# https://velog.io/@i-zro/%ED%8C%8C%EC%9D%B4%EC%8D%ACPython-%EC%BD%94%ED%85%8C-%EB%8C%80%EB%B9%84-DFSBFS-%EB%B0%B1%EC%A4%80-1260%EB%B2%88-DFS%EC%99%80-BFS\n",
    "\n",
    "# 입력값 받기\n",
    "n,m,v = map(int, input().split())\n",
    "# 간선이 있는지 확인하기 위한 메트릭스\n",
    "matrix = [[0]*(n+1) for i in range(n+1)]    # 노드수*노드수로 간선 수만큼 만들기\n",
    "for i in range(m):  #간선의 수만큼 돌리기\n",
    "    a,b = map(int, input().split())\n",
    "    matrix[a][b] = matrix[b][a] = 1     # 연결되어 있는 부분은 있다고 1로 표시\n",
    "visit_list = [0]*(n+1) # 해당 숫자의 노드를 확인했는지 체크하는 방문리스트\n",
    "\n",
    "# ------------------------------\n",
    "# dfs\n",
    "def dfs(v):\n",
    "    visit_list[v] = 1   # 받은 값을 확인했다고 방문리스트에 확인\n",
    "    print(v, end=' ')\n",
    "    for i in range(1, n+1): # 노드의 수만큼 '작은 수 먼저' 파고 깊에 파고 들어가기\n",
    "        if (visit_list[i]==0 and matrix[v][i]==1):  # 방문한 적이 없고, 매트릭스에 존재하는 간선이라면\n",
    "            dfs(i)  # 재귀적으로 수행\n",
    "\n",
    "# ------------------------------\n",
    "# bfs\n",
    "def bfs(v):\n",
    "    queue = [v]     # 폰큐만들기\n",
    "    visit_list[v] = 0   # 위에서 1로 쫙 확인했으니 이번에는 0으로 체크\n",
    "    while queue:            # 큐가 다 떨어질 때 까지\n",
    "        v = queue.pop(0)    # 가장 왼쪽것 먼저 빼서 확인\n",
    "        print(v, end=' ')\n",
    "        for i in range(1, n+1): # 노드수만큼 '작은 것 먼저' 넓게 훑기\n",
    "            if (visit_list[i]==1 and matrix[v][i]==1): # 방문한 적 없고, 매트릭스에 존재하는 간선이라면\n",
    "                 queue.append(i)    # 큐 오른쪽으로 넣어주기\n",
    "                 visit_list[i] = 0  # 들렀다고 체킹\n",
    "\n",
    "dfs(v)\n",
    "print()\n",
    "bfs(v)\n"
   ]
  },
  {
   "cell_type": "code",
   "execution_count": 32,
   "metadata": {},
   "outputs": [
    {
     "output_type": "stream",
     "name": "stdout",
     "text": [
      "1000 999 \n1000 999 "
     ]
    }
   ],
   "source": [
    "# 다시 연습\n",
    "\n",
    "n,m,v = map(int, input().split())\n",
    "matrix = [[0]*(n+1) for _ in range(n+1)]\n",
    "for i in range(m):\n",
    "    a,b = map(int, input().split())\n",
    "    matrix[a][b] = matrix[b][a] = 1\n",
    "visit_list = [0]*(n+1)\n",
    "\n",
    "def dfs(v):\n",
    "    visit_list[v] = 1\n",
    "    print(v, end=' ')\n",
    "    for i in range(n+1):\n",
    "        if (visit_list[i] == 0 and matrix[v][i] == 1):\n",
    "            dfs(i)\n",
    "\n",
    "def bfs(v):\n",
    "    queue = [v]\n",
    "    visit_list[v] = 0\n",
    "    while queue:\n",
    "        v = queue.pop(0)\n",
    "        print(v, end=' ')\n",
    "        for i in range(n+1):\n",
    "            if visit_list[i] == 1 and matrix[v][i] == 1:\n",
    "                queue.append(i)\n",
    "                visit_list[i] = 0\n",
    "\n",
    "dfs(v);print();bfs(v)"
   ]
  }
 ]
}