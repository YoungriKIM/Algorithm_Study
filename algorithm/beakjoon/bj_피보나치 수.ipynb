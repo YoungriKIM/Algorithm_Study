{
 "metadata": {
  "language_info": {
   "codemirror_mode": {
    "name": "ipython",
    "version": 3
   },
   "file_extension": ".py",
   "mimetype": "text/x-python",
   "name": "python",
   "nbconvert_exporter": "python",
   "pygments_lexer": "ipython3",
   "version": "3.8.5"
  },
  "orig_nbformat": 2,
  "kernelspec": {
   "name": "python385jvsc74a57bd0183bbf6827d058c2a2fb0f4acdc0420849dda2b4380af0e437e38c64d798d8b7",
   "display_name": "Python 3.8.5 64-bit ('base': conda)"
  }
 },
 "nbformat": 4,
 "nbformat_minor": 2,
 "cells": [
  {
   "cell_type": "code",
   "execution_count": 14,
   "metadata": {},
   "outputs": [
    {
     "output_type": "stream",
     "name": "stdout",
     "text": [
      "55\n"
     ]
    }
   ],
   "source": [
    "# https://www.acmicpc.net/problem/2747\n",
    "\n",
    "# 재귀함수를 이용해 푼 것\n",
    "n = 10\n",
    "\n",
    "def fibo(x):\n",
    "    if x == 1 or x == 2 :\n",
    "        return 1\n",
    "    return fibo(x-1) + fibo(x-2)\n",
    "\n",
    "print(fibo(n))\n",
    "# 이렇게 풀면 시간초과"
   ]
  },
  {
   "cell_type": "code",
   "execution_count": 5,
   "metadata": {},
   "outputs": [
    {
     "output_type": "stream",
     "name": "stdout",
     "text": [
      "573147844013817084101\n"
     ]
    }
   ],
   "source": [
    "def fastfib(n, memo):\n",
    "    # n번째 순서의 피보나치 수열이 저장되어 있지 않다면 \n",
    "    if not n in memo:\n",
    "        memo[n] = fastfib(n-1, memo) + fastfib(n-2, memo)\n",
    "    return memo[n]\n",
    "\n",
    "def fibo(n):\n",
    "    # 메모 클래스를 만들어서 몇번째인지 갱신 저장 / 계산했던 것은 다시 계산하지 않게 함\n",
    "    memo = {0:1, 1:1}\n",
    "    return fastfib(n, memo)\n",
    "\n",
    "print(fibo(100))"
   ]
  },
  {
   "cell_type": "code",
   "execution_count": 20,
   "metadata": {},
   "outputs": [
    {
     "output_type": "stream",
     "name": "stdout",
     "text": [
      "5\n"
     ]
    }
   ],
   "source": [
    "# 다이나믹 프로그래밍으로 해결\n",
    "n = int(input())\n",
    "\n",
    "def fastfib(n, memo):\n",
    "    if not n in memo:\n",
    "        memo[n] = fastfib(n-1, memo) + fastfib(n-2, memo)\n",
    "    return memo[n]\n",
    "\n",
    "def fibo(n):\n",
    "    memo = {0:1, 1:1}\n",
    "    return fastfib(n, memo)\n",
    "\n",
    "print(fibo(n-1))"
   ]
  }
 ]
}