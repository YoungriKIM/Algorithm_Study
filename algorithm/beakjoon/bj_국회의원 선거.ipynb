{
 "cells": [
  {
   "cell_type": "code",
   "execution_count": null,
   "metadata": {},
   "outputs": [],
   "source": [
    "# https://www.acmicpc.net/problem/1417"
   ]
  },
  {
   "cell_type": "code",
   "execution_count": 36,
   "metadata": {},
   "outputs": [
    {
     "name": "stdout",
     "output_type": "stream",
     "text": [
      "4\n"
     ]
    }
   ],
   "source": [
    "# n = 3\n",
    "# d = 5\n",
    "# ar = [10,7,3,8]\n",
    "\n",
    "n = int(input())\n",
    "d = int(input())\n",
    "\n",
    "if n == 1 : print(0)\n",
    "else:\n",
    "    ar = [int(input()) for _ in range(n-1)]\n",
    "\n",
    "    cnt = 0\n",
    "    while d <= max(ar):\n",
    "        ar[ar.index(max(ar))] = ar[ar.index(max(ar))]-1\n",
    "        d += 1    \n",
    "        cnt+=1\n",
    "        \n",
    "    print(cnt)"
   ]
  }
 ],
 "metadata": {
  "interpreter": {
   "hash": "fdd75c4cec139db88207ac7c4293bdcbae3543546183bc362ebf9b62ac7e89fe"
  },
  "kernelspec": {
   "display_name": "Python 3.8.5 64-bit ('chch': conda)",
   "language": "python",
   "name": "python3"
  },
  "language_info": {
   "codemirror_mode": {
    "name": "ipython",
    "version": 3
   },
   "file_extension": ".py",
   "mimetype": "text/x-python",
   "name": "python",
   "nbconvert_exporter": "python",
   "pygments_lexer": "ipython3",
   "version": "3.8.5"
  },
  "orig_nbformat": 4
 },
 "nbformat": 4,
 "nbformat_minor": 2
}
