{
 "cells": [
  {
   "cell_type": "code",
   "execution_count": 38,
   "metadata": {},
   "outputs": [],
   "source": [
    "nb = 1\n",
    "leng = 13\n",
    "st = 'OOIOIOIOIIOII'\n",
    "t = 'IO'*nb+'I'\n",
    "t_l = len(t)\n"
   ]
  },
  {
   "cell_type": "code",
   "execution_count": null,
   "metadata": {},
   "outputs": [],
   "source": [
    "nb = int(input())\n",
    "leng = int(input())\n",
    "st = input()\n",
    "t = 'IO'*nb+'I'\n",
    "t_l = len(t)\n",
    "print(len([i for i in range(0,len(st)-t_l+1) if st[i:i+t_l] == t]))"
   ]
  }
 ],
 "metadata": {
  "kernelspec": {
   "display_name": "Python 3.10.4 64-bit",
   "language": "python",
   "name": "python3"
  },
  "language_info": {
   "codemirror_mode": {
    "name": "ipython",
    "version": 3
   },
   "file_extension": ".py",
   "mimetype": "text/x-python",
   "name": "python",
   "nbconvert_exporter": "python",
   "pygments_lexer": "ipython3",
   "version": "3.10.4"
  },
  "orig_nbformat": 4,
  "vscode": {
   "interpreter": {
    "hash": "93ef1a3f4b6a0dafae6f510592dd0c0ebfe4c60f907ca9e4dacf456937af8702"
   }
  }
 },
 "nbformat": 4,
 "nbformat_minor": 2
}
