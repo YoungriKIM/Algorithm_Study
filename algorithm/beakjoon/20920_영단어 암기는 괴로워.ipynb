{
 "cells": [
  {
   "attachments": {},
   "cell_type": "markdown",
   "metadata": {},
   "source": [
    "자주 나오는 단어일수록 앞에 배치한다.\n",
    "해당 단어의 길이가 길수록 앞에 배치한다.\n",
    "알파벳 사전 순으로 앞에 있는 단어일수록 앞에 배치한다"
   ]
  },
  {
   "cell_type": "code",
   "execution_count": 38,
   "metadata": {},
   "outputs": [],
   "source": [
    "N = 7\n",
    "L = 4\n",
    "w_list = ['apple', 'ant', 'sand', 'apple', 'append', 'sand', 'sand']"
   ]
  },
  {
   "cell_type": "code",
   "execution_count": 39,
   "metadata": {},
   "outputs": [],
   "source": [
    "N = 12\n",
    "L = 5\n",
    "w_list = ['appearance', 'append', 'attendance', 'swim', 'swift', 'swift', 'swift', 'mouse', 'wallet', 'mouse', 'ice', 'age']"
   ]
  },
  {
   "cell_type": "code",
   "execution_count": 43,
   "metadata": {},
   "outputs": [
    {
     "name": "stdout",
     "output_type": "stream",
     "text": [
      "swift\n",
      "mouse\n",
      "appearance\n",
      "attendance\n",
      "append\n",
      "wallet\n"
     ]
    }
   ],
   "source": [
    "w_dict = {}\n",
    "for w in w_list:\n",
    "    if len(w) >= L :\n",
    "        if w in w_dict :\n",
    "            w_dict[w] += 1\n",
    "        else : w_dict[w] = 1\n",
    "w_dict_sorted = sorted(w_dict.items(), key = lambda x : (-x[1], -len(x[0]), x[0]))\n",
    "for w in w_dict_sorted :\n",
    "    print(w[0])"
   ]
  },
  {
   "cell_type": "code",
   "execution_count": 3,
   "metadata": {},
   "outputs": [
    {
     "name": "stdout",
     "output_type": "stream",
     "text": [
      "3 5\n"
     ]
    }
   ],
   "source": [
    "import sys\n",
    "\n",
    "N, L = map(int, input().split())\n",
    "print(N, L)\n",
    "\n",
    "w_list = [sys.stdin.readline().rstrip() for _ in range(N)]"
   ]
  },
  {
   "cell_type": "code",
   "execution_count": null,
   "metadata": {},
   "outputs": [],
   "source": [
    "import sys\n",
    "\n",
    "N, L = map(int, sys.stdin.readline().rstrip().split())\n",
    "w_dict = {}\n",
    "for _ in range(N):\n",
    "    w = sys.stdin.readline().rstrip()\n",
    "    if len(w) >= L :\n",
    "        if w in w_dict :\n",
    "            w_dict[w] += 1\n",
    "        else : w_dict[w] = 1\n",
    "w_dict_sorted = sorted(w_dict.items(), key = lambda x : (-x[1], -len(x[0]), x[0]))\n",
    "for w in w_dict_sorted :\n",
    "    print(w[0])"
   ]
  }
 ],
 "metadata": {
  "kernelspec": {
   "display_name": "base",
   "language": "python",
   "name": "python3"
  },
  "language_info": {
   "codemirror_mode": {
    "name": "ipython",
    "version": 3
   },
   "file_extension": ".py",
   "mimetype": "text/x-python",
   "name": "python",
   "nbconvert_exporter": "python",
   "pygments_lexer": "ipython3",
   "version": "3.8.8"
  },
  "orig_nbformat": 4
 },
 "nbformat": 4,
 "nbformat_minor": 2
}
