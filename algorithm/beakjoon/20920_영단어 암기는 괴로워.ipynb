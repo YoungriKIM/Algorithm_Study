{
 "cells": [
  {
   "attachments": {},
   "cell_type": "markdown",
   "metadata": {},
   "source": [
    "자주 나오는 단어일수록 앞에 배치한다.\n",
    "해당 단어의 길이가 길수록 앞에 배치한다.\n",
    "알파벳 사전 순으로 앞에 있는 단어일수록 앞에 배치한다"
   ]
  },
  {
   "cell_type": "code",
   "execution_count": 38,
   "metadata": {},
   "outputs": [],
   "source": [
    "N = 7\n",
    "L = 4\n",
    "w_list = ['apple', 'ant', 'sand', 'apple', 'append', 'sand', 'sand']"
   ]
  },
  {
   "cell_type": "code",
   "execution_count": 39,
   "metadata": {},
   "outputs": [],
   "source": [
    "N = 12\n",
    "L = 5\n",
    "w_list = ['appearance', 'append', 'attendance', 'swim', 'swift', 'swift', 'swift', 'mouse', 'wallet', 'mouse', 'ice', 'age']"
   ]
  },
  {
   "cell_type": "code",
   "execution_count": 43,
   "metadata": {},
   "outputs": [
    {
     "name": "stdout",
     "output_type": "stream",
     "text": [
      "swift\n",
      "mouse\n",
      "appearance\n",
      "attendance\n",
      "append\n",
      "wallet\n"
     ]
    }
   ],
   "source": [
    "w_dict = {}\n",
    "for w in w_list:\n",
    "    if len(w) >= L :\n",
    "        if w in w_dict :\n",
    "            w_dict[w] += 1\n",
    "        else : w_dict[w] = 1\n",
    "w_dict_sorted = sorted(w_dict.items(), key = lambda x : (-x[1], -len(x[0]), x[0]))\n",
    "for w in w_dict_sorted :\n",
    "    print(w[0])"
   ]
  },
  {
   "cell_type": "code",
   "execution_count": 3,
   "metadata": {},
   "outputs": [
    {
     "name": "stdout",
     "output_type": "stream",
     "text": [
      "3 5\n"
     ]
    }
   ],
   "source": [
    "import sys\n",
    "\n",
    "N, L = map(int, input().split())\n",
    "print(N, L)\n",
    "\n",
    "w_list = [sys.stdin.readline().rstrip() for _ in range(N)]"
   ]
  },
  {
   "cell_type": "code",
   "execution_count": null,
   "metadata": {},
   "outputs": [],
   "source": [
    "import sys\n",
    "\n",
    "N, L = map(int, sys.stdin.readline().rstrip().split())\n",
    "w_dict = {}\n",
    "for _ in range(N):\n",
    "    w = sys.stdin.readline().rstrip()\n",
    "    if len(w) >= L :\n",
    "        if w in w_dict :\n",
    "            w_dict[w] += 1\n",
    "        else : w_dict[w] = 1\n",
    "w_dict_sorted = sorted(w_dict.items(), key = lambda x : (-x[1], -len(x[0]), x[0]))\n",
    "for w in w_dict_sorted :\n",
    "    print(w[0])"
   ]
  },
  {
   "cell_type": "code",
   "execution_count": 8,
   "metadata": {},
   "outputs": [
    {
     "name": "stdout",
     "output_type": "stream",
     "text": [
      "{'appearance': 1, 'append': 1, 'attendance': 1, 'swim': 1, 'swift': 3, 'mouse': 2, 'wallet': 1, 'ice': 1, 'age': 1}\n",
      "[('swift', 3), ('mouse', 2), ('appearance', 1), ('attendance', 1), ('append', 1), ('wallet', 1), ('swim', 1), ('age', 1), ('ice', 1)]\n",
      "[('머그컵', 1), ('과자', 2), ('마우스', 2), ('키보드', 2), ('노트', 3), ('슬리퍼', 3), ('가방', 4)]\n"
     ]
    }
   ],
   "source": [
    "# 블로그 작성용\n",
    "\n",
    "# [1] dictionary 이용하기\n",
    "word_list = ['appearance', 'append', 'attendance', 'swim', 'swift', 'swift', 'swift', 'mouse', 'wallet', 'mouse', 'ice', 'age']\n",
    "\n",
    "# 정렬 조건\n",
    "# 1. 나온 횟수가 많은 단어 순\n",
    "# 2. 길이가 긴 단어 순\n",
    "# 3. 알파벳 사전 순\n",
    "\n",
    "# ---------------------------------------------------------------------------------------------------\n",
    "# 딕셔너리 하나 만들어서 횟수를 value로 카운드\n",
    "word_dict = {}\n",
    "for w in word_list:\n",
    "    if w in word_dict :         # 딕셔너리에 있다면 밸류에 +1\n",
    "        word_dict[w] += 1\n",
    "    else : word_dict[w] = 1     # 딕셔너리에 없다면 새로 추가하고 값은 1\n",
    "        \n",
    "print(word_dict)\n",
    "# {'appearance': 1, 'append': 1, 'attendance': 1, 'swim': 1, 'swift': 3, 'mouse': 2, 'wallet': 1, 'ice': 1, 'age': 1}\n",
    "\n",
    "# ---------------------------------------------------------------------------------------------------\n",
    "# 정렬하기\n",
    "sorted_word_dict = sorted(   # sorted를 사용해서 정렬\n",
    "    word_dict.items(),       # 어떤 것을? -> word_dict 안에 있는 아이템들을\n",
    "    key = lambda x : (       # 조건은? -> lambda로 조건을 지정\n",
    "        -x[1],               # 첫 번째 조건 : 나온 횟수가 많은 단어 순 -> vlaue에 있으니 1번째 값(- 붙여서 reverse)\n",
    "        -len(x[0]),          # 두 번째 조건 : 길이가 긴 단어 순 -> key의 길이이니 len(x[0])# 블로그 작성용\n",
    "        x[0])                # 세 번째 조건 : 알파벳 사전 준 -> Key의 단어 알파벳 순이니 x[0]\n",
    "    )\n",
    "\n",
    "print(sorted_word_dict)\n",
    "# [('swift', 3), ('mouse', 2), ('appearance', 1), ('attendance', 1), ('append', 1), ('wallet', 1), ('swim', 1), ('age', 1), ('ice', 1)]\n",
    "# 성공!\n",
    "\n",
    "\n",
    "\n",
    "\n",
    "\n",
    "\n",
    "\n",
    "# [2] 여러 tuple이 있는 list\n",
    "# 각 튜플은 (단어, 단어카테고리ID)로 되어있습니다.\n",
    "\n",
    "# 정렬 조건\n",
    "# 단어카테고리ID 순\n",
    "# 단어 사전 순\n",
    "\n",
    "tuple_list = [('슬리퍼', 3), ('마우스', 2), ('키보드', 2), ('가방', 4), ('머그컵', 1), ('노트', 3), ('과자', 2)]\n",
    "\n",
    "sorted_tuple_list = sorted(tuple_list, key = lambda x : (x[1], x[0]))\n",
    "\n",
    "print(sorted_tuple_list)\n",
    "# [('머그컵', 1), ('과자', 2), ('마우스', 2), ('키보드', 2), ('노트', 3), ('슬리퍼', 3), ('가방', 4)]\n",
    "# 성공!"
   ]
  }
 ],
 "metadata": {
  "kernelspec": {
   "display_name": "base",
   "language": "python",
   "name": "python3"
  },
  "language_info": {
   "codemirror_mode": {
    "name": "ipython",
    "version": 3
   },
   "file_extension": ".py",
   "mimetype": "text/x-python",
   "name": "python",
   "nbconvert_exporter": "python",
   "pygments_lexer": "ipython3",
   "version": "3.8.8"
  },
  "orig_nbformat": 4
 },
 "nbformat": 4,
 "nbformat_minor": 2
}
