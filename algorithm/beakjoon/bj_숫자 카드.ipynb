{
 "metadata": {
  "language_info": {
   "codemirror_mode": {
    "name": "ipython",
    "version": 3
   },
   "file_extension": ".py",
   "mimetype": "text/x-python",
   "name": "python",
   "nbconvert_exporter": "python",
   "pygments_lexer": "ipython3",
   "version": "3.8.5"
  },
  "orig_nbformat": 2,
  "kernelspec": {
   "name": "python385jvsc74a57bd0b18ecf447b39d25eae6a9ae9d5694327d58d99c869301a8afbbe0bb2ae2074bb",
   "display_name": "Python 3.8.5 64-bit ('base': conda)"
  }
 },
 "nbformat": 4,
 "nbformat_minor": 2,
 "cells": [
  {
   "cell_type": "code",
   "execution_count": 2,
   "metadata": {},
   "outputs": [
    {
     "output_type": "stream",
     "name": "stdout",
     "text": [
      "1 0 0 1 1 0 0 1 "
     ]
    }
   ],
   "source": [
    "# https://www.acmicpc.net/problem/10815\n",
    "\n",
    "# 직접 푼 것\n",
    "\n",
    "# n = 5\n",
    "# n_array = set([6,3,2,10,-10])\n",
    "# m = 8\n",
    "# m_array = [10,9,-5,2,3,4,5,-10]\n",
    "\n",
    "n = int(input())\n",
    "n_array = set(list(map(int, input().split())))\n",
    "m = int(input())\n",
    "m_array = list(map(int, input().split()))\n",
    "\n",
    "for i in m_array:\n",
    "    if i in n_array:\n",
    "        print(1, end=' ' )\n",
    "    else: print(0, end=' ')\n",
    "\n",
    "# 통과는 했는데 연산 시간이 좀 걸림"
   ]
  }
 ]
}