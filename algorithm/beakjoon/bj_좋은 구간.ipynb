{
 "cells": [
  {
   "cell_type": "code",
   "execution_count": 1,
   "metadata": {},
   "outputs": [],
   "source": [
    "# https://www.acmicpc.net/problem/1059"
   ]
  },
  {
   "cell_type": "code",
   "execution_count": 77,
   "metadata": {},
   "outputs": [
    {
     "name": "stdout",
     "output_type": "stream",
     "text": [
      "(3 - 1) * 1 - 1\n",
      "1\n"
     ]
    }
   ],
   "source": [
    "l = int(input())\n",
    "lucky = list(map(int, input().split()))\n",
    "x = int(input())\n",
    "if x in lucky:\n",
    "    print(0)\n",
    "    exit()\n",
    "lucky.append(x)\n",
    "lucky.sort()\n",
    "a = lucky.index(x)\n",
    "start = a - 1\n",
    "stop = a + 1\n",
    "if a == 0:\n",
    "    cnt = (lucky[1] - lucky[0]) * lucky[0] - 1\n",
    "else:\n",
    "    cnt = (lucky[a] - lucky[start]) * (lucky[stop] - lucky[a]) - 1\n",
    "print(cnt)"
   ]
  }
 ],
 "metadata": {
  "interpreter": {
   "hash": "b18ecf447b39d25eae6a9ae9d5694327d58d99c869301a8afbbe0bb2ae2074bb"
  },
  "kernelspec": {
   "display_name": "Python 3.8.8 64-bit ('base': conda)",
   "name": "python3"
  },
  "language_info": {
   "codemirror_mode": {
    "name": "ipython",
    "version": 3
   },
   "file_extension": ".py",
   "mimetype": "text/x-python",
   "name": "python",
   "nbconvert_exporter": "python",
   "pygments_lexer": "ipython3",
   "version": "3.8.8"
  },
  "orig_nbformat": 4
 },
 "nbformat": 4,
 "nbformat_minor": 2
}
