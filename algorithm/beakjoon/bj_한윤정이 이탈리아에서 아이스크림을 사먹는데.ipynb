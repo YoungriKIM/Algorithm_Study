{
 "cells": [
  {
   "cell_type": "code",
   "execution_count": 1,
   "metadata": {},
   "outputs": [],
   "source": [
    "# https://www.acmicpc.net/problem/2422"
   ]
  },
  {
   "cell_type": "code",
   "execution_count": 3,
   "metadata": {},
   "outputs": [
    {
     "name": "stdout",
     "output_type": "stream",
     "text": [
      "3\n"
     ]
    }
   ],
   "source": [
    "N, M = map(int, input().split())\n",
    "cnt = 0\n",
    "if N < 3:\n",
    "    print(cnt)\n",
    "else:\n",
    "    unmixed = {i: [] for i in range(1, N+1)}\n",
    "    for _ in range(M):\n",
    "        i, j = map(int, input().split())\n",
    "        unmixed[i].append(j)\n",
    "        unmixed[j].append(i)\n",
    "\n",
    "    for i in range(1, N+1):\n",
    "        for j in range(i+1, N+1):\n",
    "            if j in unmixed[i]:\n",
    "                continue\n",
    "            for k in range(j+1, N+1):\n",
    "                if k in unmixed[i] or k in unmixed[j]:\n",
    "                    continue\n",
    "                cnt += 1\n",
    "    print(cnt)"
   ]
  }
 ],
 "metadata": {
  "interpreter": {
   "hash": "b18ecf447b39d25eae6a9ae9d5694327d58d99c869301a8afbbe0bb2ae2074bb"
  },
  "kernelspec": {
   "display_name": "Python 3.8.8 64-bit ('base': conda)",
   "language": "python",
   "name": "python3"
  },
  "language_info": {
   "codemirror_mode": {
    "name": "ipython",
    "version": 3
   },
   "file_extension": ".py",
   "mimetype": "text/x-python",
   "name": "python",
   "nbconvert_exporter": "python",
   "pygments_lexer": "ipython3",
   "version": "3.8.8"
  },
  "orig_nbformat": 4
 },
 "nbformat": 4,
 "nbformat_minor": 2
}
