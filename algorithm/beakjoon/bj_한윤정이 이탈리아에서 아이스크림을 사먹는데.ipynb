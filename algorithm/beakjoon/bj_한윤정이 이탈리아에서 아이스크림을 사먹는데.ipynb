{
 "cells": [
  {
   "cell_type": "code",
   "execution_count": 1,
   "metadata": {},
   "outputs": [],
   "source": [
    "# https://www.acmicpc.net/problem/2422"
   ]
  },
  {
   "cell_type": "code",
   "execution_count": 38,
   "metadata": {},
   "outputs": [
    {
     "name": "stdout",
     "output_type": "stream",
     "text": [
      "an: [(1, 2, 3), (1, 2, 4), (1, 2, 5), (1, 3, 4), (1, 3, 5), (1, 4, 5), (2, 3, 4), (2, 3, 5), (2, 4, 5), (3, 4, 5)]\n",
      "3\n"
     ]
    }
   ],
   "source": [
    "from itertools import combinations\n",
    "\n",
    "q = [i for i in range(1, 6)]\n",
    "e_l = [[1,2],[3,4],[1,4]]\n",
    "\n",
    "an = list(combinations(q,3))\n",
    "print('an:',an)\n",
    "\n",
    "del_idx = []\n",
    "for c in an:\n",
    "    for e in e_l:\n",
    "        if e[0] in c and e[1] in c:\n",
    "            del_idx.append(an.index(c))\n",
    "            \n",
    "print(len(an) - len(set(del_idx)))\n"
   ]
  },
  {
   "cell_type": "code",
   "execution_count": 58,
   "metadata": {},
   "outputs": [
    {
     "name": "stdout",
     "output_type": "stream",
     "text": [
      "an: 10\n",
      "4\n"
     ]
    }
   ],
   "source": [
    "from itertools import combinations\n",
    "\n",
    "n, m = map(int, input().split())\n",
    "\n",
    "e_l = []\n",
    "for _ in range(m):\n",
    "    e_l.append(list(map(int, input().split())))\n",
    "\n",
    "q = [i for i in range(1, n+1)]\n",
    "\n",
    "an = list(combinations(q, 3))\n",
    "print('an:',len(an))\n",
    "\n",
    "del_idx = []\n",
    "for c in an:\n",
    "    for e in e_l:\n",
    "        if e[0] in c and e[1] in c:\n",
    "            del_idx.append(an.index(c))\n",
    "            \n",
    "print(len(an) - len(set(del_idx)))"
   ]
  },
  {
   "cell_type": "code",
   "execution_count": null,
   "metadata": {},
   "outputs": [],
   "source": []
  }
 ],
 "metadata": {
  "interpreter": {
   "hash": "b18ecf447b39d25eae6a9ae9d5694327d58d99c869301a8afbbe0bb2ae2074bb"
  },
  "kernelspec": {
   "display_name": "Python 3.8.8 64-bit ('base': conda)",
   "language": "python",
   "name": "python3"
  },
  "language_info": {
   "codemirror_mode": {
    "name": "ipython",
    "version": 3
   },
   "file_extension": ".py",
   "mimetype": "text/x-python",
   "name": "python",
   "nbconvert_exporter": "python",
   "pygments_lexer": "ipython3",
   "version": "3.8.8"
  },
  "orig_nbformat": 4
 },
 "nbformat": 4,
 "nbformat_minor": 2
}
