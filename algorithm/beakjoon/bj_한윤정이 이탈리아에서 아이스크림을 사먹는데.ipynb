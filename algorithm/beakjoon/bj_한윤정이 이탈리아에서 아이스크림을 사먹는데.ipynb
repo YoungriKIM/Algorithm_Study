{
 "cells": [
  {
   "cell_type": "code",
   "execution_count": 1,
   "metadata": {},
   "outputs": [],
   "source": [
    "# https://www.acmicpc.net/problem/2422"
   ]
  },
  {
   "cell_type": "code",
   "execution_count": 38,
   "metadata": {},
   "outputs": [
    {
     "name": "stdout",
     "output_type": "stream",
     "text": [
      "an: [(1, 2, 3), (1, 2, 4), (1, 2, 5), (1, 3, 4), (1, 3, 5), (1, 4, 5), (2, 3, 4), (2, 3, 5), (2, 4, 5), (3, 4, 5)]\n",
      "3\n"
     ]
    }
   ],
   "source": [
    "from itertools import combinations\n",
    "\n",
    "q = [i for i in range(1, 6)]\n",
    "e_l = [[1,2],[3,4],[1,4]]\n",
    "\n",
    "an = list(combinations(q,3))\n",
    "print('an:',an)\n",
    "\n",
    "del_idx = []\n",
    "for c in an:\n",
    "    for e in e_l:\n",
    "        if e[0] in c and e[1] in c:\n",
    "            del_idx.append(an.index(c))\n",
    "            \n",
    "print(len(an) - len(set(del_idx)))\n"
   ]
  },
  {
   "cell_type": "code",
   "execution_count": 58,
   "metadata": {},
   "outputs": [
    {
     "name": "stdout",
     "output_type": "stream",
     "text": [
      "an: 10\n",
      "4\n"
     ]
    }
   ],
   "source": [
    "from itertools import combinations\n",
    "\n",
    "n, m = map(int, input().split())\n",
    "\n",
    "if n < 3:\n",
    "    print(0)\n",
    "else:\n",
    "    e_l = []\n",
    "    for _ in range(m):\n",
    "        e_l.append(list(map(int, input().split())))\n",
    "\n",
    "    q = [i for i in range(1, n+1)]\n",
    "\n",
    "    an = list(combinations(q, 3))\n",
    "    print('an:',len(an))\n",
    "\n",
    "    del_idx = []\n",
    "    for c in an:\n",
    "        for e in e_l:\n",
    "            if e[0] in c and e[1] in c:\n",
    "                del_idx.append(an.index(c))\n",
    "                \n",
    "    print(len(an) - len(set(del_idx)))"
   ]
  },
  {
   "cell_type": "code",
   "execution_count": 59,
   "metadata": {},
   "outputs": [
    {
     "ename": "ValueError",
     "evalue": "not enough values to unpack (expected 2, got 0)",
     "output_type": "error",
     "traceback": [
      "\u001b[1;31m---------------------------------------------------------------------------\u001b[0m",
      "\u001b[1;31mValueError\u001b[0m                                Traceback (most recent call last)",
      "\u001b[1;32m<ipython-input-59-6a0d620ba1e2>\u001b[0m in \u001b[0;36m<module>\u001b[1;34m\u001b[0m\n\u001b[1;32m----> 1\u001b[1;33m \u001b[0mN\u001b[0m\u001b[1;33m,\u001b[0m \u001b[0mM\u001b[0m \u001b[1;33m=\u001b[0m \u001b[0mmap\u001b[0m\u001b[1;33m(\u001b[0m\u001b[0mint\u001b[0m\u001b[1;33m,\u001b[0m \u001b[0minput\u001b[0m\u001b[1;33m(\u001b[0m\u001b[1;33m)\u001b[0m\u001b[1;33m.\u001b[0m\u001b[0msplit\u001b[0m\u001b[1;33m(\u001b[0m\u001b[1;33m)\u001b[0m\u001b[1;33m)\u001b[0m\u001b[1;33m\u001b[0m\u001b[1;33m\u001b[0m\u001b[0m\n\u001b[0m\u001b[0;32m      2\u001b[0m \u001b[0mcnt\u001b[0m \u001b[1;33m=\u001b[0m \u001b[1;36m0\u001b[0m\u001b[1;33m\u001b[0m\u001b[1;33m\u001b[0m\u001b[0m\n\u001b[0;32m      3\u001b[0m \u001b[1;32mif\u001b[0m \u001b[0mN\u001b[0m \u001b[1;33m<\u001b[0m \u001b[1;36m3\u001b[0m\u001b[1;33m:\u001b[0m\u001b[1;33m\u001b[0m\u001b[1;33m\u001b[0m\u001b[0m\n\u001b[0;32m      4\u001b[0m     \u001b[0mprint\u001b[0m\u001b[1;33m(\u001b[0m\u001b[0mcnt\u001b[0m\u001b[1;33m)\u001b[0m\u001b[1;33m\u001b[0m\u001b[1;33m\u001b[0m\u001b[0m\n\u001b[0;32m      5\u001b[0m \u001b[1;32melse\u001b[0m\u001b[1;33m:\u001b[0m\u001b[1;33m\u001b[0m\u001b[1;33m\u001b[0m\u001b[0m\n",
      "\u001b[1;31mValueError\u001b[0m: not enough values to unpack (expected 2, got 0)"
     ]
    }
   ],
   "source": [
    "N, M = map(int, input().split())\n",
    "cnt = 0\n",
    "if N < 3:\n",
    "    print(cnt)\n",
    "else:\n",
    "    unmixed = {i: [] for i in range(1, N+1)}\n",
    "    for _ in range(M):\n",
    "        i, j = map(int, input().split())\n",
    "        unmixed[i].append(j)\n",
    "        unmixed[j].append(i)\n",
    "\n",
    "    for i in range(1, N+1):\n",
    "        for j in range(i+1, N+1):\n",
    "            if j in unmixed[i]:\n",
    "                continue\n",
    "            for k in range(j+1, N+1):\n",
    "                if k in unmixed[i] or k in unmixed[j]:\n",
    "                    continue\n",
    "                cnt += 1\n",
    "    print(cnt)\n",
    "    "
   ]
  },
  {
   "cell_type": "code",
   "execution_count": null,
   "metadata": {},
   "outputs": [],
   "source": []
  }
 ],
 "metadata": {
  "interpreter": {
   "hash": "b18ecf447b39d25eae6a9ae9d5694327d58d99c869301a8afbbe0bb2ae2074bb"
  },
  "kernelspec": {
   "display_name": "Python 3.8.8 64-bit ('base': conda)",
   "language": "python",
   "name": "python3"
  },
  "language_info": {
   "codemirror_mode": {
    "name": "ipython",
    "version": 3
   },
   "file_extension": ".py",
   "mimetype": "text/x-python",
   "name": "python",
   "nbconvert_exporter": "python",
   "pygments_lexer": "ipython3",
   "version": "3.8.8"
  },
  "orig_nbformat": 4
 },
 "nbformat": 4,
 "nbformat_minor": 2
}
