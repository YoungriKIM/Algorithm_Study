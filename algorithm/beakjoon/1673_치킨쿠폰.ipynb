{
 "cells": [
  {
   "cell_type": "code",
   "execution_count": 35,
   "metadata": {},
   "outputs": [],
   "source": [
    "import sys\n",
    "for line in sys.stdin:\n",
    "    n, k = map(int, line.split())\n",
    "    cnt = 0\n",
    "    while n>=k:\n",
    "        f = n//k\n",
    "        n = n%k\n",
    "        n += f\n",
    "        cnt += f*k\n",
    "    print(cnt+n)"
   ]
  }
 ],
 "metadata": {
  "interpreter": {
   "hash": "234dabe8e40c2039a03253ecba783ebfe49b2278b634949a7dde498a3c83abe1"
  },
  "kernelspec": {
   "display_name": "Python 3.7.5 ('yr3.7')",
   "language": "python",
   "name": "python3"
  },
  "language_info": {
   "codemirror_mode": {
    "name": "ipython",
    "version": 3
   },
   "file_extension": ".py",
   "mimetype": "text/x-python",
   "name": "python",
   "nbconvert_exporter": "python",
   "pygments_lexer": "ipython3",
   "version": "3.7.5"
  },
  "orig_nbformat": 4
 },
 "nbformat": 4,
 "nbformat_minor": 2
}
