{
 "metadata": {
  "language_info": {
   "codemirror_mode": {
    "name": "ipython",
    "version": 3
   },
   "file_extension": ".py",
   "mimetype": "text/x-python",
   "name": "python",
   "nbconvert_exporter": "python",
   "pygments_lexer": "ipython3",
   "version": "3.8.5"
  },
  "orig_nbformat": 2,
  "kernelspec": {
   "name": "python385jvsc74a57bd0b18ecf447b39d25eae6a9ae9d5694327d58d99c869301a8afbbe0bb2ae2074bb",
   "display_name": "Python 3.8.5 64-bit ('base': conda)"
  }
 },
 "nbformat": 4,
 "nbformat_minor": 2,
 "cells": [
  {
   "cell_type": "code",
   "execution_count": null,
   "metadata": {},
   "outputs": [],
   "source": [
    "# https://www.acmicpc.net/problem/2750\n",
    "# 수 정렬하기\n",
    "\n",
    "n = int(input())\n",
    "nums = []\n",
    "for _ in range(n):\n",
    "    nums.append(int(input()))\n",
    "nums.sort()\n",
    "for i in nums:\n",
    "    print(i)"
   ]
  },
  {
   "cell_type": "code",
   "execution_count": 9,
   "metadata": {},
   "outputs": [
    {
     "output_type": "stream",
     "name": "stdout",
     "text": [
      "32\n"
     ]
    }
   ],
   "source": [
    "# https://www.acmicpc.net/problem/2750\n",
    "# ATM\n",
    "\n",
    "n = int(input())\n",
    "p = list(map(int, input().split()))\n",
    "p.sort()\n",
    "\n",
    "count = 0\n",
    "for i in range(n):\n",
    "    count += sum(p[:i+1])\n",
    "\n",
    "print(count)"
   ]
  },
  {
   "cell_type": "code",
   "execution_count": 14,
   "metadata": {},
   "outputs": [
    {
     "output_type": "stream",
     "name": "stdout",
     "text": [
      "4321"
     ]
    }
   ],
   "source": [
    "n = list(map(int,input()))\n",
    "n.sort(reverse=True)\n",
    "for i in n:\n",
    "    print(i, end='')"
   ]
  }
 ]
}