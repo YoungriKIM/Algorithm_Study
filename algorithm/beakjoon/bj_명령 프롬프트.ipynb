{
 "cells": [
  {
   "cell_type": "code",
   "execution_count": 7,
   "metadata": {},
   "outputs": [],
   "source": [
    "n = 3\n",
    "a = 'config.sys'\n",
    "b = 'config.inf'\n",
    "c = 'configures'"
   ]
  },
  {
   "cell_type": "code",
   "execution_count": 38,
   "metadata": {},
   "outputs": [
    {
     "name": "stdout",
     "output_type": "stream",
     "text": [
      "qwe?\n"
     ]
    }
   ],
   "source": [
    "n = int(input())\n",
    "a = list(input())\n",
    "for i in range(n-1):\n",
    "    b = list(input())\n",
    "    for j in range(len(a)):\n",
    "        if a[j] != b[j]:\n",
    "            a[j] = '?'\n",
    "print(''.join(a))"
   ]
  },
  {
   "cell_type": "code",
   "execution_count": 41,
   "metadata": {},
   "outputs": [
    {
     "name": "stdout",
     "output_type": "stream",
     "text": [
      "qwe?\n"
     ]
    }
   ],
   "source": [
    "print(*[i[0] if len(set(i))==1 else '?' for i in zip(*[input() for i in range(int(input()))])],sep='')"
   ]
  }
 ],
 "metadata": {
  "interpreter": {
   "hash": "b18ecf447b39d25eae6a9ae9d5694327d58d99c869301a8afbbe0bb2ae2074bb"
  },
  "kernelspec": {
   "display_name": "Python 3.8.8 64-bit ('base': conda)",
   "name": "python3"
  },
  "language_info": {
   "codemirror_mode": {
    "name": "ipython",
    "version": 3
   },
   "file_extension": ".py",
   "mimetype": "text/x-python",
   "name": "python",
   "nbconvert_exporter": "python",
   "pygments_lexer": "ipython3",
   "version": "3.8.8"
  },
  "orig_nbformat": 4
 },
 "nbformat": 4,
 "nbformat_minor": 2
}
