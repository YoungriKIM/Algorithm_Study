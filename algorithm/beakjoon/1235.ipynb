{
 "cells": [
  {
   "cell_type": "code",
   "execution_count": 11,
   "metadata": {},
   "outputs": [],
   "source": [
    "tl = ['1212345', '1212356', '0033445']\n",
    "len_t = len(tl[0])"
   ]
  },
  {
   "cell_type": "code",
   "execution_count": 43,
   "metadata": {},
   "outputs": [
    {
     "name": "stdout",
     "output_type": "stream",
     "text": [
      "3\n"
     ]
    }
   ],
   "source": [
    "for trim in range(1, len_t+1):\n",
    "    print('-'*30)\n",
    "    print(trim)\n",
    "    print([t[-trim:] for t in tl])\n",
    "    if len(set([t[-trim:] for t in tl])) == len(tl):\n",
    "        print(trim);break "
   ]
  },
  {
   "cell_type": "code",
   "execution_count": 45,
   "metadata": {},
   "outputs": [
    {
     "name": "stdout",
     "output_type": "stream",
     "text": [
      "3\n"
     ]
    }
   ],
   "source": [
    "tl = []\n",
    "for _ in range(int(input())):\n",
    "    tl.append(input())\n",
    "len_t = len(tl[0])\n",
    "    \n",
    "for trim in range(1, len_t+1):\n",
    "    if len(set([t[-trim:] for t in tl])) == len(tl):\n",
    "        print(trim);break "
   ]
  }
 ],
 "metadata": {
  "kernelspec": {
   "display_name": "Python 3.10.4 64-bit",
   "language": "python",
   "name": "python3"
  },
  "language_info": {
   "codemirror_mode": {
    "name": "ipython",
    "version": 3
   },
   "file_extension": ".py",
   "mimetype": "text/x-python",
   "name": "python",
   "nbconvert_exporter": "python",
   "pygments_lexer": "ipython3",
   "version": "3.10.4"
  },
  "orig_nbformat": 4,
  "vscode": {
   "interpreter": {
    "hash": "93ef1a3f4b6a0dafae6f510592dd0c0ebfe4c60f907ca9e4dacf456937af8702"
   }
  }
 },
 "nbformat": 4,
 "nbformat_minor": 2
}
