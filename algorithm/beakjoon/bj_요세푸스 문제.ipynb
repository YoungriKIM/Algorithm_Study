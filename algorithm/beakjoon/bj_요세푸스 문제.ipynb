{
 "cells": [
  {
   "cell_type": "code",
   "execution_count": 101,
   "metadata": {},
   "outputs": [
    {
     "name": "stdout",
     "output_type": "stream",
     "text": [
      "<3, 6, 2, 7, 5, 1, 4>\n"
     ]
    }
   ],
   "source": [
    "p, k = map(int, input().split())\n",
    "p_l = list(range(1, p+1))\n",
    "\n",
    "a, n= [], k-1\n",
    "\n",
    "while len(p_l):\n",
    "    if n < len(p_l):\n",
    "        a.append(str(p_l.pop(n)))\n",
    "        n += (k-1)\n",
    "    else:\n",
    "        n = n%len(p_l)\n",
    "\n",
    "print(f\"<{', '.join(a)}>\")"
   ]
  }
 ],
 "metadata": {
  "interpreter": {
   "hash": "b18ecf447b39d25eae6a9ae9d5694327d58d99c869301a8afbbe0bb2ae2074bb"
  },
  "kernelspec": {
   "display_name": "Python 3.8.8 64-bit ('base': conda)",
   "name": "python3"
  },
  "language_info": {
   "codemirror_mode": {
    "name": "ipython",
    "version": 3
   },
   "file_extension": ".py",
   "mimetype": "text/x-python",
   "name": "python",
   "nbconvert_exporter": "python",
   "pygments_lexer": "ipython3",
   "version": "3.8.8"
  },
  "orig_nbformat": 4
 },
 "nbformat": 4,
 "nbformat_minor": 2
}
