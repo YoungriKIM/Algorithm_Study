{
 "cells": [
  {
   "cell_type": "code",
   "execution_count": 1,
   "metadata": {},
   "outputs": [],
   "source": [
    "# https://www.acmicpc.net/problem/2578"
   ]
  },
  {
   "cell_type": "code",
   "execution_count": 45,
   "metadata": {},
   "outputs": [],
   "source": [
    "# n = ''\n",
    "# for _ in range(5):\n",
    "#     n += ' '+input()\n",
    "# n = list(map(int, n.split()))\n",
    "\n",
    "# y = ''\n",
    "# for _ in range(5):\n",
    "#     y += ' '+input()\n",
    "# y = list(map(int, y.split()))"
   ]
  },
  {
   "cell_type": "code",
   "execution_count": 273,
   "metadata": {},
   "outputs": [],
   "source": [
    "n = [11, 12, 2, 24, 10 ,16, 1, 13, 3, 25, 6, 20, 5, 21, 17,19, 4, 8, 14, 9,22, 15, 7, 23, 18]\n",
    "y = [5, 10, 7, 16, 2, 4, 22, 8, 17, 13, 3, 18, 1, 6, 25, 12, 19, 23, 14, 21, 11, 24, 9, 20, 15]"
   ]
  },
  {
   "cell_type": "code",
   "execution_count": 274,
   "metadata": {},
   "outputs": [
    {
     "name": "stdout",
     "output_type": "stream",
     "text": [
      "0\n",
      "0\n",
      "0\n",
      "0\n",
      "0\n",
      "0\n",
      "0\n",
      "0\n",
      "0\n",
      "1\n",
      "2\n",
      "2\n",
      "2\n",
      "2\n",
      "3\n",
      "15\n"
     ]
    }
   ],
   "source": [
    "n = ''\n",
    "for _ in range(5):\n",
    "    n += ' '+input()\n",
    "n = list(map(int, n.split()))\n",
    "\n",
    "y = ''\n",
    "for _ in range(5):\n",
    "    y += ' '+input()\n",
    "y = list(map(int, y.split()))\n",
    "\n",
    "for w in y:\n",
    "    wh = n.index(w)\n",
    "    n[wh] = 'x'\n",
    "    cnt = 0\n",
    "    if [n[0], n[6], n[12], n[18], n[24]].count('x')==5:cnt+=1\n",
    "    elif [n[4], n[8], n[12], n[16], n[20]].count('x')==5:cnt+=1\n",
    "    for f in range(5):\n",
    "        if n[5*f:(5*f)+5].count('x') == 5:cnt+=1\n",
    "        elif [n[0+f],n[5+f],n[10+f],n[15+f],n[20+f]].count('x') == 5:cnt+=1\n",
    "    if cnt > 2: break\n",
    "print(y.index(w)+1)"
   ]
  },
  {
   "cell_type": "code",
   "execution_count": null,
   "metadata": {},
   "outputs": [],
   "source": []
  }
 ],
 "metadata": {
  "interpreter": {
   "hash": "b18ecf447b39d25eae6a9ae9d5694327d58d99c869301a8afbbe0bb2ae2074bb"
  },
  "kernelspec": {
   "display_name": "Python 3.8.8 64-bit ('base': conda)",
   "language": "python",
   "name": "python3"
  },
  "language_info": {
   "codemirror_mode": {
    "name": "ipython",
    "version": 3
   },
   "file_extension": ".py",
   "mimetype": "text/x-python",
   "name": "python",
   "nbconvert_exporter": "python",
   "pygments_lexer": "ipython3",
   "version": "3.8.8"
  },
  "orig_nbformat": 4
 },
 "nbformat": 4,
 "nbformat_minor": 2
}
