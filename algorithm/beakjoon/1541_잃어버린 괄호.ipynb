{
 "cells": [
  {
   "cell_type": "code",
   "execution_count": 49,
   "metadata": {},
   "outputs": [
    {
     "data": {
      "text/plain": [
       "9"
      ]
     },
     "execution_count": 49,
     "metadata": {},
     "output_type": "execute_result"
    }
   ],
   "source": [
    "text = '00009-00009'\n",
    "text = '55-50+40'\n",
    "text = '10+20+30+40'\n",
    "text = '1+2-3-4+5+7'\n",
    "text = '1+0'\n",
    "text = '30-40+20-1'\n",
    "text = '010-1'\n",
    "\n",
    "outc = ''\n",
    "for cals in text.split('-'):\n",
    "    n_cals = sum(list(map(int, cals.split('+'))))\n",
    "    outc += f'-{n_cals}'\n",
    "eval(outc[1:])"
   ]
  },
  {
   "cell_type": "code",
   "execution_count": 51,
   "metadata": {},
   "outputs": [
    {
     "name": "stdout",
     "output_type": "stream",
     "text": [
      "9\n"
     ]
    }
   ],
   "source": [
    "text = input()\n",
    "outc = ''\n",
    "for cals in text.split('-'):\n",
    "    n_cals = sum(list(map(int, cals.split('+'))))\n",
    "    outc += f'-{n_cals}'\n",
    "print(eval(outc[1:]))"
   ]
  }
 ],
 "metadata": {
  "kernelspec": {
   "display_name": "base",
   "language": "python",
   "name": "python3"
  },
  "language_info": {
   "codemirror_mode": {
    "name": "ipython",
    "version": 3
   },
   "file_extension": ".py",
   "mimetype": "text/x-python",
   "name": "python",
   "nbconvert_exporter": "python",
   "pygments_lexer": "ipython3",
   "version": "3.8.8"
  },
  "orig_nbformat": 4
 },
 "nbformat": 4,
 "nbformat_minor": 2
}
