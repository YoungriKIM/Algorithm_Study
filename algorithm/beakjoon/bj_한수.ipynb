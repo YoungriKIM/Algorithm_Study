{
 "metadata": {
  "language_info": {
   "codemirror_mode": {
    "name": "ipython",
    "version": 3
   },
   "file_extension": ".py",
   "mimetype": "text/x-python",
   "name": "python",
   "nbconvert_exporter": "python",
   "pygments_lexer": "ipython3",
   "version": "3.8.5"
  },
  "orig_nbformat": 2,
  "kernelspec": {
   "name": "python385jvsc74a57bd0b18ecf447b39d25eae6a9ae9d5694327d58d99c869301a8afbbe0bb2ae2074bb",
   "display_name": "Python 3.8.5 64-bit ('base': conda)"
  }
 },
 "nbformat": 4,
 "nbformat_minor": 2,
 "cells": [
  {
   "source": [
    "https://www.acmicpc.net/problem/1065\n",
    "\n",
    "문제: 어떤 양의 정수 X의 각 자리가 등차수열을 이룬다면, 그 수를 한수라고 한다.\n",
    "\n",
    "등차수열은 연속된 두 개의 수의 차이가 일정한 수열을 말한다.\n",
    "\n",
    "N이 주어졌을 때, 1보다 크거나 같고, N보다 작거나 같은 한수의 개수를 출력하는 프로그램을 작성하시오. \n",
    "\n",
    "입력 : 첫째 줄에 1,000보다 작거나 같은 자연수 N이 주어진다."
   ],
   "cell_type": "markdown",
   "metadata": {}
  },
  {
   "cell_type": "code",
   "execution_count": 4,
   "metadata": {},
   "outputs": [
    {
     "output_type": "stream",
     "name": "stdout",
     "text": [
      "144\n"
     ]
    }
   ],
   "source": [
    "# 1~99까지는 두 자리수 이기 때문에 모두 한수이다.\n",
    "# 문제는 100~999 일 때, [0]-[1] == [1]-[2] 이라면 등차수열이니 hansu에 더하기\n",
    "\n",
    "num = int(input())\n",
    "hansu = 0\n",
    "\n",
    "for n in range(1, num+1):\n",
    "    if n <= 99 :\n",
    "        hansu += 1\n",
    "    else:\n",
    "        nums = list(map(int, str(n)))\n",
    "        if nums[0] - nums[1] == nums[1] - nums[2]:\n",
    "            hansu += 1\n",
    "\n",
    "print(hansu)"
   ]
  }
 ]
}