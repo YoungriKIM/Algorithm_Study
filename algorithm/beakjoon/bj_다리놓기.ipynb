{
 "cells": [
  {
   "cell_type": "code",
   "execution_count": 12,
   "metadata": {},
   "outputs": [
    {
     "name": "stdout",
     "output_type": "stream",
     "text": [
      "1\n"
     ]
    }
   ],
   "source": [
    "import math\n",
    "\n",
    "a = 2  # 중복있어도 됨\n",
    "b = 2  # 중복이 있으면 안 됨\n",
    "\n",
    "result = int(math.factorial(b)/(math.factorial(a)*math.factorial(b-a)))\n",
    "print(result)\n",
    "\n",
    "# math를 가져와서 쓰면 시간이 늘게됨 \n",
    "# 아래처럼 함수를 만들어서 써야 합격"
   ]
  },
  {
   "cell_type": "code",
   "execution_count": null,
   "metadata": {},
   "outputs": [],
   "source": [
    "def factorial(n):\n",
    "    num = 1\n",
    "    for i in range(1, n+1):\n",
    "        num *= i\n",
    "    return num\n",
    "\n",
    "for _ in range(int(input())):\n",
    "    num = input()\n",
    "    a,b = int(num.split(' ')[0]), int(num.split(' ')[-1])\n",
    "    c = b-a\n",
    "    print(int(factorial(b)/(factorial(a)*factorial(c))))"
   ]
  }
 ],
 "metadata": {
  "interpreter": {
   "hash": "b18ecf447b39d25eae6a9ae9d5694327d58d99c869301a8afbbe0bb2ae2074bb"
  },
  "kernelspec": {
   "display_name": "Python 3.8.8 64-bit ('base': conda)",
   "name": "python3"
  },
  "language_info": {
   "codemirror_mode": {
    "name": "ipython",
    "version": 3
   },
   "file_extension": ".py",
   "mimetype": "text/x-python",
   "name": "python",
   "nbconvert_exporter": "python",
   "pygments_lexer": "ipython3",
   "version": "3.8.8"
  },
  "orig_nbformat": 4
 },
 "nbformat": 4,
 "nbformat_minor": 2
}
