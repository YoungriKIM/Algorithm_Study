{
 "cells": [
  {
   "cell_type": "code",
   "execution_count": 132,
   "metadata": {},
   "outputs": [
    {
     "name": "stdout",
     "output_type": "stream",
     "text": [
      "1111111111111111111111111111111111111111111111111111111111111111111111111111111111\n"
     ]
    }
   ],
   "source": [
    "t = '54+(1+2)*3'\n",
    "t = '(+16+3)'\n",
    "t = '()'\n",
    "t = '11'\n",
    "t = '-11'\n",
    "t = '99999999999999999999999999999999999999/9'\n",
    "\n",
    "import re as L\n",
    "t = input()\n",
    "\n",
    "check_t = L.sub('[\\(\\)]', '', t)\n",
    "check_t = L.sub('[\\+\\-\\*\\/]', '#', check_t)\n",
    "ex_n = check_t.count('#')\n",
    "nb_n = len([i for i in check_t.split('#') if i != ''])\n",
    "\n",
    "if nb_n > 0 and nb_n -1 == ex_n:\n",
    "    try :\n",
    "        t =  L.sub('[/]', '//', t)\n",
    "        print(int(eval(t)))\n",
    "    except: print('ROCK')\n",
    "else: print('ROCK')"
   ]
  }
 ],
 "metadata": {
  "kernelspec": {
   "display_name": "Python 3.10.4 64-bit",
   "language": "python",
   "name": "python3"
  },
  "language_info": {
   "codemirror_mode": {
    "name": "ipython",
    "version": 3
   },
   "file_extension": ".py",
   "mimetype": "text/x-python",
   "name": "python",
   "nbconvert_exporter": "python",
   "pygments_lexer": "ipython3",
   "version": "3.10.4"
  },
  "orig_nbformat": 4,
  "vscode": {
   "interpreter": {
    "hash": "93ef1a3f4b6a0dafae6f510592dd0c0ebfe4c60f907ca9e4dacf456937af8702"
   }
  }
 },
 "nbformat": 4,
 "nbformat_minor": 2
}
