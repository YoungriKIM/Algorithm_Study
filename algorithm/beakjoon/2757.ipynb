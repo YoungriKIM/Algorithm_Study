{
 "cells": [
  {
   "cell_type": "code",
   "execution_count": 17,
   "metadata": {},
   "outputs": [
    {
     "name": "stdout",
     "output_type": "stream",
     "text": [
      "A1\n",
      "A3\n",
      "C1\n",
      "Z299999999\n",
      "AZ52\n",
      "YYZ53\n",
      "YZZ53\n"
     ]
    }
   ],
   "source": [
    "def convert_to_excel_column(number):\n",
    "    result = []\n",
    "    while number > 0:\n",
    "        number, remainder = divmod(number - 1, 26)\n",
    "        result[:0] = chr(65 + remainder)\n",
    "    return ''.join(result)\n",
    "\n",
    "while True:\n",
    "    t = input()\n",
    "    if t == 'R0C0':break\n",
    "    r_nb, c_nb = t.split('C')[0][1:], int(t.split('C')[-1])\n",
    "    print(convert_to_excel_column(c_nb) + r_nb)"
   ]
  }
 ],
 "metadata": {
  "kernelspec": {
   "display_name": "Python 3.10.4 64-bit",
   "language": "python",
   "name": "python3"
  },
  "language_info": {
   "codemirror_mode": {
    "name": "ipython",
    "version": 3
   },
   "file_extension": ".py",
   "mimetype": "text/x-python",
   "name": "python",
   "nbconvert_exporter": "python",
   "pygments_lexer": "ipython3",
   "version": "3.10.4"
  },
  "orig_nbformat": 4,
  "vscode": {
   "interpreter": {
    "hash": "93ef1a3f4b6a0dafae6f510592dd0c0ebfe4c60f907ca9e4dacf456937af8702"
   }
  }
 },
 "nbformat": 4,
 "nbformat_minor": 2
}
