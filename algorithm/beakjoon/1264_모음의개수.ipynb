{
 "cells": [
  {
   "cell_type": "code",
   "execution_count": 14,
   "metadata": {},
   "outputs": [],
   "source": [
    "a = ['How are you today?'\n",
    ",'Quite well, thank you, how about yourself?'\n",
    ",'I live at number twenty four.'\n",
    ",'#']\n",
    "\n",
    "target = ['a', 'e', 'i', 'o', 'u']"
   ]
  },
  {
   "cell_type": "code",
   "execution_count": 25,
   "metadata": {},
   "outputs": [
    {
     "name": "stdout",
     "output_type": "stream",
     "text": [
      "3\n",
      "3\n",
      "4\n"
     ]
    }
   ],
   "source": [
    "target = ['a', 'e', 'i', 'o', 'u']\n",
    "\n",
    "f = 0\n",
    "while f !='#':\n",
    "    i = input()\n",
    "    if i == '#': f = '#'\n",
    "    else: print(sum([i.lower().count(s) for s in target]))"
   ]
  }
 ],
 "metadata": {
  "interpreter": {
   "hash": "f36bde169e8f1635f7f132d5f6b5f497c92a752f298532c5c8bb91d39164271b"
  },
  "kernelspec": {
   "display_name": "Python 3.7.5 ('yr_crf': venv)",
   "language": "python",
   "name": "python3"
  },
  "language_info": {
   "codemirror_mode": {
    "name": "ipython",
    "version": 3
   },
   "file_extension": ".py",
   "mimetype": "text/x-python",
   "name": "python",
   "nbconvert_exporter": "python",
   "pygments_lexer": "ipython3",
   "version": "3.7.5"
  },
  "orig_nbformat": 4
 },
 "nbformat": 4,
 "nbformat_minor": 2
}
