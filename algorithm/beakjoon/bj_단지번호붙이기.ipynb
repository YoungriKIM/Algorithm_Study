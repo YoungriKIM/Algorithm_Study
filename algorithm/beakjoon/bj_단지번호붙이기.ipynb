{
 "metadata": {
  "language_info": {
   "codemirror_mode": {
    "name": "ipython",
    "version": 3
   },
   "file_extension": ".py",
   "mimetype": "text/x-python",
   "name": "python",
   "nbconvert_exporter": "python",
   "pygments_lexer": "ipython3",
   "version": "3.8.5"
  },
  "orig_nbformat": 2,
  "kernelspec": {
   "name": "python385jvsc74a57bd0b18ecf447b39d25eae6a9ae9d5694327d58d99c869301a8afbbe0bb2ae2074bb",
   "display_name": "Python 3.8.5 64-bit (conda)"
  }
 },
 "nbformat": 4,
 "nbformat_minor": 2,
 "cells": [
  {
   "cell_type": "code",
   "execution_count": 39,
   "metadata": {},
   "outputs": [
    {
     "output_type": "stream",
     "name": "stdout",
     "text": [
      "3\n7 \n8 \n9 \n"
     ]
    }
   ],
   "source": [
    "# https://www.acmicpc.net/problem/2667\n",
    "\n",
    "# n = int(input())\n",
    "# graph = []\n",
    "# for i in range(n):\n",
    "#   graph.append(list(map(int,input())))\n",
    "\n",
    "n = 7\n",
    "graph = [[0, 1, 1, 0, 1, 0, 0], \n",
    "         [0, 1, 1, 0, 1, 0, 1], \n",
    "         [1, 1, 1, 0, 1, 0, 1], \n",
    "         [0, 0, 0, 0, 1, 1, 1], \n",
    "         [0, 1, 0, 0, 0, 0, 0], \n",
    "         [0, 1, 1, 1, 1, 1, 0], \n",
    "         [0, 1, 1, 1, 0, 0, 0]]\n",
    "\n",
    "dx = (0,0,-1,1)\n",
    "dy = (-1,1,0,0)\n",
    "\n",
    "# ----------------------------------------------------\n",
    "nums = 0\n",
    "def dfs(x,y):\n",
    "    global nums\n",
    "    if graph[x][y] == 0: pass\n",
    "    if graph[x][y] == 1:\n",
    "        nums += 1\n",
    "        graph[x][y] = 0\n",
    "        for i in range(4):\n",
    "            nx = x + dx[i]\n",
    "            ny = y + dy[i]\n",
    "            if nx < 0 or nx >= n or ny < 0 or ny >= n: pass\n",
    "            else:\n",
    "                dfs(nx, ny)\n",
    "    return nums\n",
    "# ----------------------------------------------------\n",
    "num_list = []\n",
    "for i in range(n):\n",
    "    for j in range(n):\n",
    "        dfs(i, j)\n",
    "        if nums != 0 :\n",
    "            num_list.append(nums)\n",
    "            nums=0\n",
    "\n",
    "# ----------------------------------------------------\n",
    "print(len(num_list))\n",
    "num_list.sort()\n",
    "for z in num_list:\n",
    "    print(z, '')"
   ]
  }
 ]
}