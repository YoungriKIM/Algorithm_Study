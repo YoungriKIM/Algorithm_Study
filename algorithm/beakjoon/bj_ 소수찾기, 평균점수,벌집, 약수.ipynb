{
 "metadata": {
  "language_info": {
   "codemirror_mode": {
    "name": "ipython",
    "version": 3
   },
   "file_extension": ".py",
   "mimetype": "text/x-python",
   "name": "python",
   "nbconvert_exporter": "python",
   "pygments_lexer": "ipython3",
   "version": "3.8.5"
  },
  "orig_nbformat": 2,
  "kernelspec": {
   "name": "python385jvsc74a57bd0b18ecf447b39d25eae6a9ae9d5694327d58d99c869301a8afbbe0bb2ae2074bb",
   "display_name": "Python 3.8.5 64-bit ('base': conda)"
  }
 },
 "nbformat": 4,
 "nbformat_minor": 2,
 "cells": [
  {
   "cell_type": "code",
   "execution_count": 7,
   "metadata": {},
   "outputs": [
    {
     "output_type": "stream",
     "name": "stdout",
     "text": [
      "3\n"
     ]
    }
   ],
   "source": [
    "# https://www.acmicpc.net/problem/1978\n",
    "\n",
    "n = int(input())\n",
    "array = list(map(int, input().split()))\n",
    "\n",
    "sums = 0\n",
    "for num in array:\n",
    "    error = 0\n",
    "    if num > 1:\n",
    "        for i in range(2, num):\n",
    "            if num % i == 0 :\n",
    "                error += 1\n",
    "        if error == 0 :\n",
    "            sums += 1\n",
    "print(sums)"
   ]
  },
  {
   "cell_type": "code",
   "execution_count": 5,
   "metadata": {},
   "outputs": [
    {
     "output_type": "stream",
     "name": "stdout",
     "text": [
      "68\n"
     ]
    }
   ],
   "source": [
    "# https://www.acmicpc.net/problem/10039\n",
    "\n",
    "# array = [10, 65, 100, 30, 95]\n",
    "\n",
    "array = []\n",
    "for z in range(5):\n",
    "    array.append(int(input()))\n",
    "\n",
    "for i in range(5):\n",
    "    if array[i] < 40 : array[i] = 40\n",
    "\n",
    "print(int(sum(array)/5))"
   ]
  },
  {
   "cell_type": "code",
   "execution_count": 2,
   "metadata": {},
   "outputs": [
    {
     "output_type": "stream",
     "name": "stdout",
     "text": [
      "8\n"
     ]
    }
   ],
   "source": [
    "# https://www.acmicpc.net/problem/2292\n",
    "\n",
    "n = int(input())\n",
    "\n",
    "hive_start = 1\n",
    "count = 1\n",
    "while n > hive_start:\n",
    "    hive_start += (6 * count)\n",
    "    count += 1\n",
    "\n",
    "print(count)"
   ]
  },
  {
   "cell_type": "code",
   "execution_count": 27,
   "metadata": {
    "tags": []
   },
   "outputs": [
    {
     "output_type": "stream",
     "name": "stdout",
     "text": [
      "15\n"
     ]
    }
   ],
   "source": [
    "# https://www.acmicpc.net/problem/1037\n",
    "\n",
    "n = 2\n",
    "array = [3, 5]\n",
    "\n",
    "# n = int(input())\n",
    "# array = list(map(int, input().split()))\n",
    "\n",
    "array.sort()\n",
    "\n",
    "print(array[0]*array[-1])"
   ]
  }
 ]
}