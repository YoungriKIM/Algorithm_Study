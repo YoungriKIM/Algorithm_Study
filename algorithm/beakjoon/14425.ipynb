{
 "cells": [
  {
   "cell_type": "code",
   "execution_count": 9,
   "metadata": {},
   "outputs": [],
   "source": [
    "snb, mnb = 5, 11\n",
    "sn_l = ['baekjoononlinejudge', 'startlink','codeplus','sundaycoding','codingsh','baekjoon','codeplus','codeminus','startlink','starlink','sundaycoding','codingsh','codinghs','sondaycoding','startrink','icerink']\n",
    "s = sn_l[:snb]\n",
    "m = sn_l[snb:]\n",
    "\n",
    "len(['' for i in m if i in s])"
   ]
  },
  {
   "cell_type": "code",
   "execution_count": null,
   "metadata": {},
   "outputs": [],
   "source": [
    "snb, mnb = map(int, input().split())\n",
    "sn_l = [input() for _ in range(snb+mnb)]\n",
    "\n",
    "s = sn_l[:snb]\n",
    "m = sn_l[snb:]\n",
    "\n",
    "print(len(['' for i in m if i in s]))"
   ]
  },
  {
   "cell_type": "code",
   "execution_count": 14,
   "metadata": {},
   "outputs": [
    {
     "data": {
      "text/plain": [
       "4"
      ]
     },
     "execution_count": 14,
     "metadata": {},
     "output_type": "execute_result"
    }
   ],
   "source": []
  }
 ],
 "metadata": {
  "kernelspec": {
   "display_name": "Python 3.10.4 64-bit",
   "language": "python",
   "name": "python3"
  },
  "language_info": {
   "codemirror_mode": {
    "name": "ipython",
    "version": 3
   },
   "file_extension": ".py",
   "mimetype": "text/x-python",
   "name": "python",
   "nbconvert_exporter": "python",
   "pygments_lexer": "ipython3",
   "version": "3.10.4"
  },
  "orig_nbformat": 4,
  "vscode": {
   "interpreter": {
    "hash": "93ef1a3f4b6a0dafae6f510592dd0c0ebfe4c60f907ca9e4dacf456937af8702"
   }
  }
 },
 "nbformat": 4,
 "nbformat_minor": 2
}
