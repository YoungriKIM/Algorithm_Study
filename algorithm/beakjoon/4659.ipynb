{
 "cells": [
  {
   "cell_type": "code",
   "execution_count": 5,
   "metadata": {},
   "outputs": [],
   "source": [
    "vowel = ['a','e','i','o','u']\n",
    "\n",
    "t = 'ptoui'\n",
    "\n",
    "at_1 = [i for i in t if i in vowel]\n",
    "len(at_1)\n",
    "\n",
    "co_3 = ['c' if i not in vowel else 'v' for i in t]\n",
    "''.join(co_3)\n",
    "\n",
    "for i in range(len(t)-1):\n",
    "    tw = set(t[i:i+2])\n",
    "    if len(tw) == 1 and tw != {'e'} and tw != {'o'}:\n",
    "        result = 'bad'"
   ]
  },
  {
   "cell_type": "code",
   "execution_count": 29,
   "metadata": {},
   "outputs": [],
   "source": [
    "pl = ['a','tv','ptoui','bontres','zoggax','wiinq','eep','houctuh']"
   ]
  },
  {
   "cell_type": "code",
   "execution_count": 3,
   "metadata": {},
   "outputs": [],
   "source": []
  },
  {
   "cell_type": "code",
   "execution_count": 31,
   "metadata": {},
   "outputs": [
    {
     "name": "stdout",
     "output_type": "stream",
     "text": [
      "<a> is acceptable.\n",
      "<tv> is not acceptable.\n",
      "<ptoui> is not acceptable.\n",
      "<bontres> is not acceptable.\n",
      "<zoggax> is not acceptable.\n",
      "<wiinq> is not acceptable.\n",
      "<eep> is acceptable.\n",
      "<houctuh> is acceptable.\n"
     ]
    }
   ],
   "source": [
    "for pw in pl:\n",
    "    if checkpw(pw): print(f'<{pw}> is acceptable.')\n",
    "    else: print(f'<{pw}> is not acceptable.')"
   ]
  },
  {
   "cell_type": "code",
   "execution_count": 1,
   "metadata": {},
   "outputs": [
    {
     "name": "stdout",
     "output_type": "stream",
     "text": [
      "<a> is acceptable.\n",
      "<tv> is not acceptable.\n",
      "<ptoui> is not acceptable.\n",
      "<bontres> is not acceptable.\n",
      "<zoggax> is not acceptable.\n",
      "<wiinq> is not acceptable.\n",
      "<eep> is acceptable.\n",
      "<houctuh> is acceptable.\n"
     ]
    }
   ],
   "source": [
    "def checkpw(t):\n",
    "    result = True\n",
    "    at_1 = [i for i in t if i in vowel]\n",
    "    if len(at_1) == 0 : result = False;return result\n",
    "    \n",
    "    co_3 = ''.join(['c' if i not in vowel else 'v' for i in t])\n",
    "    if 'ccc' in co_3 or 'vvv' in co_3: result = False;return result\n",
    "    \n",
    "    for i in range(len(t)-1):\n",
    "        tw = set(t[i:i+2])\n",
    "        if len(tw) == 1 and tw != {'e'} and tw != {'o'}:\n",
    "            result = False;return result\n",
    "    return result\n",
    "vowel = ['a','e','i','o','u']\n",
    "\n",
    "pw = input()\n",
    "\n",
    "while pw != 'end':\n",
    "    if checkpw(pw): print(f'<{pw}> is acceptable.')\n",
    "    else: print(f'<{pw}> is not acceptable.')\n",
    "    pw = input()"
   ]
  }
 ],
 "metadata": {
  "kernelspec": {
   "display_name": "Python 3.10.4 64-bit",
   "language": "python",
   "name": "python3"
  },
  "language_info": {
   "codemirror_mode": {
    "name": "ipython",
    "version": 3
   },
   "file_extension": ".py",
   "mimetype": "text/x-python",
   "name": "python",
   "nbconvert_exporter": "python",
   "pygments_lexer": "ipython3",
   "version": "3.10.4"
  },
  "orig_nbformat": 4,
  "vscode": {
   "interpreter": {
    "hash": "93ef1a3f4b6a0dafae6f510592dd0c0ebfe4c60f907ca9e4dacf456937af8702"
   }
  }
 },
 "nbformat": 4,
 "nbformat_minor": 2
}
