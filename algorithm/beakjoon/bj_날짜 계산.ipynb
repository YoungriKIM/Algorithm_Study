{
 "cells": [
  {
   "cell_type": "code",
   "execution_count": 1,
   "metadata": {},
   "outputs": [],
   "source": [
    "# https://www.acmicpc.net/problem/1476"
   ]
  },
  {
   "cell_type": "code",
   "execution_count": 1,
   "metadata": {},
   "outputs": [],
   "source": [
    "E, S, M = 15 ,28, 19"
   ]
  },
  {
   "cell_type": "code",
   "execution_count": null,
   "metadata": {},
   "outputs": [],
   "source": [
    "E,S,M=map(int,input().split())\n",
    "print('E,S,M:',E,S,M)\n",
    "i=1\n",
    "while True:\n",
    "    if (i-E)%15==0 and (i-S)%28==0 and (i-M)%19==0:\n",
    "        print('-'*15)\n",
    "        print('i:',i)\n",
    "        print('-'*15)\n",
    "        print('(i-E):',(i-E))\n",
    "        print('(i-E)%15:',(i-E)%15)\n",
    "        print('-'*15)\n",
    "        print('(i-S):',(i-S))\n",
    "        print('(i-S)%28:',(i-S)%28)\n",
    "        print('-'*15)\n",
    "        print('(i-M):',(i-M))\n",
    "        print('(i-M)%19:',(i-M)%19)\n",
    "        # print(i)\n",
    "        break\n",
    "    i+=1"
   ]
  },
  {
   "cell_type": "code",
   "execution_count": 12,
   "metadata": {},
   "outputs": [
    {
     "name": "stdout",
     "output_type": "stream",
     "text": [
      "E,S,M: 1 2 3\n",
      "---------------\n",
      "i: 5266\n",
      "---------------\n",
      "(i-E): 5265\n",
      "(i-E)%15: 0\n",
      "---------------\n",
      "(i-S): 5264\n",
      "(i-S)%28: 0\n",
      "---------------\n",
      "(i-M): 5263\n",
      "(i-M)%19: 0\n"
     ]
    }
   ],
   "source": [
    "E,S,M=map(int,input().split())\n",
    "\n",
    "i=1\n",
    "while True:\n",
    "    if (i-E)%15==0 and (i-S)%28==0 and (i-M)%19==0:\n",
    "        print(i)\n",
    "        break\n",
    "    i+=1"
   ]
  }
 ],
 "metadata": {
  "interpreter": {
   "hash": "b18ecf447b39d25eae6a9ae9d5694327d58d99c869301a8afbbe0bb2ae2074bb"
  },
  "kernelspec": {
   "display_name": "Python 3.8.8 64-bit ('base': conda)",
   "language": "python",
   "name": "python3"
  },
  "language_info": {
   "codemirror_mode": {
    "name": "ipython",
    "version": 3
   },
   "file_extension": ".py",
   "mimetype": "text/x-python",
   "name": "python",
   "nbconvert_exporter": "python",
   "pygments_lexer": "ipython3",
   "version": "3.8.8"
  },
  "orig_nbformat": 4
 },
 "nbformat": 4,
 "nbformat_minor": 2
}
