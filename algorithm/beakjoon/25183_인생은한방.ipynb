{
 "cells": [
  {
   "cell_type": "code",
   "execution_count": 10,
   "metadata": {},
   "outputs": [
    {
     "data": {
      "text/plain": [
       "{'A': ['B'],\n",
       " 'B': ['A', 'C'],\n",
       " 'C': ['B', 'D'],\n",
       " 'D': ['C', 'E'],\n",
       " 'E': ['D', 'F'],\n",
       " 'F': ['E', 'G'],\n",
       " 'G': ['F', 'H'],\n",
       " 'H': ['G', 'I'],\n",
       " 'I': ['H', 'J'],\n",
       " 'J': ['I', 'K'],\n",
       " 'K': ['J', 'L'],\n",
       " 'L': ['K', 'M'],\n",
       " 'M': ['L', 'N'],\n",
       " 'N': ['M', 'O'],\n",
       " 'O': ['N', 'P'],\n",
       " 'P': ['O', 'Q'],\n",
       " 'Q': ['P', 'R'],\n",
       " 'R': ['Q', 'S'],\n",
       " 'S': ['R', 'T'],\n",
       " 'T': ['S', 'U'],\n",
       " 'U': ['T', 'V'],\n",
       " 'V': ['U', 'W'],\n",
       " 'W': ['V', 'X'],\n",
       " 'X': ['W', 'Y'],\n",
       " 'Y': ['X', 'Z'],\n",
       " 'Z': ['Y']}"
      ]
     },
     "execution_count": 10,
     "metadata": {},
     "output_type": "execute_result"
    }
   ],
   "source": []
  },
  {
   "cell_type": "code",
   "execution_count": 48,
   "metadata": {},
   "outputs": [],
   "source": [
    "# T =  \"ABCDE\"\n",
    "# T =  \"ASGXYZYXE\"\n",
    "# T =  \"WEFGHIJKA\"\n",
    "# T =  \"ABCDF\"\n",
    "# T =  \"CXYZAB\"\n",
    "T =  \"AAAAA\""
   ]
  },
  {
   "cell_type": "code",
   "execution_count": 49,
   "metadata": {},
   "outputs": [
    {
     "name": "stdout",
     "output_type": "stream",
     "text": [
      "NO\n"
     ]
    }
   ],
   "source": [
    "n = len(T)\n",
    "th = 0\n",
    "for i in range(n-1):\n",
    "    # print('-'*30)\n",
    "    # print(T[i]), print(T[i+1])\n",
    "    if T[i+1] in a_d[T[i]]:\n",
    "        print('yes')\n",
    "        th+=1\n",
    "        if th == 4 : break;print('YES')\n",
    "    else: th = 0\n",
    "if th < 4 : print('NO')"
   ]
  },
  {
   "cell_type": "code",
   "execution_count": null,
   "metadata": {},
   "outputs": [],
   "source": []
  },
  {
   "cell_type": "code",
   "execution_count": 66,
   "metadata": {},
   "outputs": [
    {
     "name": "stdout",
     "output_type": "stream",
     "text": [
      "YES\n"
     ]
    }
   ],
   "source": [
    "a_l = list('ABCDEFGHIJKLMNOPQRSTUVWXYZ')\n",
    "a_d = {}\n",
    "for i in range(26):\n",
    "    if i == 0 : a_d[a_l[i]] = [a_l[i+1]]\n",
    "    elif i == 25: a_d[a_l[i]] = [a_l[i-1]]\n",
    "    else: a_d[a_l[i]] = [a_l[i-1], a_l[i+1]]\n",
    "\n",
    "N = int(input())\n",
    "T = input()\n",
    "\n",
    "th = 0\n",
    "for i in range(N-1):\n",
    "    if T[i+1] in a_d[T[i]]:\n",
    "        th+=1\n",
    "        if th == 4 : print('YES');break\n",
    "    else: th = 0\n",
    "if th < 4 : print('NO')"
   ]
  }
 ],
 "metadata": {
  "kernelspec": {
   "display_name": "Python 3.10.4 64-bit",
   "language": "python",
   "name": "python3"
  },
  "language_info": {
   "codemirror_mode": {
    "name": "ipython",
    "version": 3
   },
   "file_extension": ".py",
   "mimetype": "text/x-python",
   "name": "python",
   "nbconvert_exporter": "python",
   "pygments_lexer": "ipython3",
   "version": "3.10.4"
  },
  "orig_nbformat": 4,
  "vscode": {
   "interpreter": {
    "hash": "93ef1a3f4b6a0dafae6f510592dd0c0ebfe4c60f907ca9e4dacf456937af8702"
   }
  }
 },
 "nbformat": 4,
 "nbformat_minor": 2
}
