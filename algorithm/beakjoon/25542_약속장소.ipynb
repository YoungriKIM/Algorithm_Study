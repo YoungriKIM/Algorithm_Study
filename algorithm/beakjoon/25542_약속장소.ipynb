{
 "cells": [
  {
   "cell_type": "code",
   "execution_count": 231,
   "metadata": {},
   "outputs": [],
   "source": [
    "N = 5\n",
    "L = 5\n",
    "store_list = ['STORR','STARE','STORE','SCORE','STONE']"
   ]
  },
  {
   "cell_type": "code",
   "execution_count": 251,
   "metadata": {},
   "outputs": [],
   "source": [
    "N = 3\n",
    "L = 5\n",
    "store_list = ['PIZZA','PLAZA','NINJA']"
   ]
  },
  {
   "cell_type": "code",
   "execution_count": 263,
   "metadata": {},
   "outputs": [],
   "source": [
    "N = 2\n",
    "L = 5\n",
    "store_list = ['AAAAA','AAABB']"
   ]
  },
  {
   "cell_type": "code",
   "execution_count": 264,
   "metadata": {},
   "outputs": [
    {
     "name": "stdout",
     "output_type": "stream",
     "text": [
      "------------------------------\n",
      "[('A', 2)]\n",
      "------------------------------\n",
      "[('A', 2)]\n",
      "------------------------------\n",
      "[('A', 2)]\n",
      "------------------------------\n",
      "[('A', 1), ('B', 1)]\n",
      "------------------------------\n",
      "[('A', 1), ('B', 1)]\n",
      "AAABB\n"
     ]
    }
   ],
   "source": [
    "answer = ''\n",
    "for Li in range(L):\n",
    "    print('-'*30)\n",
    "    alp_dict = {}\n",
    "    for Ni in range(N):\n",
    "        alp = store_list[Ni][Li]\n",
    "        if alp in alp_dict: alp_dict[alp] += 1 \n",
    "        else : alp_dict[alp] = 1\n",
    "    alp_dict = sorted(alp_dict.items(), key=lambda x:x[1])\n",
    "    print(alp_dict)\n",
    "        \n",
    "    if len(alp_dict) > 2: print('CALL FRIEND');break\n",
    "    else : answer += alp_dict[-1][0]\n",
    "    \n",
    "    # if sum(set(alp_dict.values())) != L: print('CALL FRIEND');break\n",
    "    # else:\n",
    "    #     print(sorted(alp_dict.items(), reverse=True)[0][0])\n",
    "    #     answer += sorted(alp_dict.items(), reverse=True)[0][0]\n",
    "\n",
    "if len(answer) == L: print(answer)"
   ]
  },
  {
   "cell_type": "code",
   "execution_count": 224,
   "metadata": {},
   "outputs": [
    {
     "data": {
      "text/plain": [
       "3"
      ]
     },
     "execution_count": 224,
     "metadata": {},
     "output_type": "execute_result"
    }
   ],
   "source": []
  },
  {
   "cell_type": "code",
   "execution_count": 155,
   "metadata": {},
   "outputs": [
    {
     "name": "stdout",
     "output_type": "stream",
     "text": [
      "['3', '5', 'p']\n"
     ]
    }
   ],
   "source": [
    "arr = list(map(str, input().split()))\n",
    "\n",
    "print(arr)"
   ]
  },
  {
   "cell_type": "code",
   "execution_count": null,
   "metadata": {},
   "outputs": [],
   "source": [
    "3 5\n",
    "PIZZA\n",
    "PLAZA\n",
    "NINJA"
   ]
  },
  {
   "cell_type": "code",
   "execution_count": 158,
   "metadata": {},
   "outputs": [
    {
     "name": "stdout",
     "output_type": "stream",
     "text": [
      "3 5\n",
      "['pizza', 'plaza', 'ninja']\n"
     ]
    }
   ],
   "source": [
    "N, L = map(int, input().split())\n",
    "store_list = []\n",
    "\n",
    "for i in range(N):\n",
    "    store_list.append(input())\n",
    "\n",
    "print(N, L)\n",
    "print(store_list)"
   ]
  },
  {
   "cell_type": "code",
   "execution_count": 257,
   "metadata": {},
   "outputs": [
    {
     "name": "stdout",
     "output_type": "stream",
     "text": [
      "AAABB\n"
     ]
    }
   ],
   "source": [
    "N, L = map(int, input().split())\n",
    "store_list = []\n",
    "\n",
    "for i in range(N):\n",
    "    store_list.append(input())\n",
    "    \n",
    "answer = ''\n",
    "for Li in range(L):\n",
    "    alp_dict = {}\n",
    "    for Ni in range(N):\n",
    "        alp = store_list[Ni][Li]\n",
    "        if alp in alp_dict: alp_dict[alp] += 1 \n",
    "        else : alp_dict[alp] = 1\n",
    "    alp_dict = sorted(alp_dict.items(), key=lambda x:x[1])\n",
    "        \n",
    "    if len(alp_dict) > 2: print('CALL FRIEND');break\n",
    "    else : answer += alp_dict[-1][0]\n",
    "\n",
    "if len(answer) == L: print(answer)"
   ]
  }
 ],
 "metadata": {
  "kernelspec": {
   "display_name": "base",
   "language": "python",
   "name": "python3"
  },
  "language_info": {
   "codemirror_mode": {
    "name": "ipython",
    "version": 3
   },
   "file_extension": ".py",
   "mimetype": "text/x-python",
   "name": "python",
   "nbconvert_exporter": "python",
   "pygments_lexer": "ipython3",
   "version": "3.8.8"
  },
  "orig_nbformat": 4
 },
 "nbformat": 4,
 "nbformat_minor": 2
}
