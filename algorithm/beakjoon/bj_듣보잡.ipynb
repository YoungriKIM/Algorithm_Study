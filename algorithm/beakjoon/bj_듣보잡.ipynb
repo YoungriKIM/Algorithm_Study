{
  "nbformat": 4,
  "nbformat_minor": 0,
  "metadata": {
    "colab": {
      "name": "bj_듣보잡.ipynb",
      "provenance": [],
      "collapsed_sections": [],
      "authorship_tag": "ABX9TyPzx+b4TDCSlJsyVu07p+dY",
      "include_colab_link": true
    },
    "kernelspec": {
      "name": "python3",
      "display_name": "Python 3"
    },
    "language_info": {
      "name": "python"
    }
  },
  "cells": [
    {
      "cell_type": "markdown",
      "metadata": {
        "id": "view-in-github",
        "colab_type": "text"
      },
      "source": [
        "<a href=\"https://colab.research.google.com/github/YoungriKIM/Algorithm_Study/blob/MYOWN/bj_%EB%93%A3%EB%B3%B4%EC%9E%A1.ipynb\" target=\"_parent\"><img src=\"https://colab.research.google.com/assets/colab-badge.svg\" alt=\"Open In Colab\"/></a>"
      ]
    },
    {
      "cell_type": "code",
      "metadata": {
        "id": "GdMpKfHdWIBL"
      },
      "source": [
        "# https://www.acmicpc.net/problem/1764"
      ],
      "execution_count": 1,
      "outputs": []
    },
    {
      "cell_type": "code",
      "metadata": {
        "colab": {
          "base_uri": "https://localhost:8080/",
          "height": 239
        },
        "id": "IzAFtkDpWKl9",
        "outputId": "ed5ce89e-7f7f-4d2e-d3bb-dbe996cba846"
      },
      "source": [
        "# h, s = map(int, input().split())\n",
        "h, s = 3,4\n",
        "# h_l = [input() for _ in range(h)]\n",
        "h_l = ['ohhenrie', 'charlie', 'baesangwook']\n",
        "# s_l = [input() for _ in range(s)]\n",
        "s_l = ['obama', 'baesangwook', 'ohhenrie', 'clinton']\n",
        "\n",
        "print()\n",
        "\n",
        "\n",
        "# hs_l = []\n",
        "# for p in h_l:\n",
        "#     if s_l.count(p) == 1: hs_l.append(p)\n",
        "\n",
        "# print(len(hs_l))\n",
        "# for p in sorted(hs_l): print(p)"
      ],
      "execution_count": 13,
      "outputs": [
        {
          "output_type": "error",
          "ename": "TypeError",
          "evalue": "ignored",
          "traceback": [
            "\u001b[0;31m---------------------------------------------------------------------------\u001b[0m",
            "\u001b[0;31mTypeError\u001b[0m                                 Traceback (most recent call last)",
            "\u001b[0;32m<ipython-input-13-08250e660891>\u001b[0m in \u001b[0;36m<module>\u001b[0;34m()\u001b[0m\n\u001b[1;32m      6\u001b[0m \u001b[0ms_l\u001b[0m \u001b[0;34m=\u001b[0m \u001b[0;34m[\u001b[0m\u001b[0;34m'obama'\u001b[0m\u001b[0;34m,\u001b[0m \u001b[0;34m'baesangwook'\u001b[0m\u001b[0;34m,\u001b[0m \u001b[0;34m'ohhenrie'\u001b[0m\u001b[0;34m,\u001b[0m \u001b[0;34m'clinton'\u001b[0m\u001b[0;34m]\u001b[0m\u001b[0;34m\u001b[0m\u001b[0;34m\u001b[0m\u001b[0m\n\u001b[1;32m      7\u001b[0m \u001b[0;34m\u001b[0m\u001b[0m\n\u001b[0;32m----> 8\u001b[0;31m \u001b[0mprint\u001b[0m\u001b[0;34m(\u001b[0m\u001b[0mh_l\u001b[0m\u001b[0;34m-\u001b[0m\u001b[0ms_l\u001b[0m\u001b[0;34m)\u001b[0m\u001b[0;34m\u001b[0m\u001b[0;34m\u001b[0m\u001b[0m\n\u001b[0m\u001b[1;32m      9\u001b[0m \u001b[0;34m\u001b[0m\u001b[0m\n\u001b[1;32m     10\u001b[0m \u001b[0;34m\u001b[0m\u001b[0m\n",
            "\u001b[0;31mTypeError\u001b[0m: unsupported operand type(s) for -: 'list' and 'list'"
          ]
        }
      ]
    },
    {
      "cell_type": "code",
      "metadata": {
        "id": "eu6PJ7zqCl4c"
      },
      "source": [
        "h, s = map(int, input().split())\n",
        "h_l = [input() for _ in range(h)]\n",
        "s_l = [input() for _ in range(s)]\n",
        "\n",
        "hs_l = []\n",
        "for p in h_l:\n",
        "    if s_l.count(p) == 1: hs_l.append(p)\n",
        "\n",
        "print(len(hs_l))\n",
        "for p in sorted(hs_l): print(p)"
      ],
      "execution_count": null,
      "outputs": []
    },
    {
      "cell_type": "code",
      "metadata": {
        "colab": {
          "base_uri": "https://localhost:8080/"
        },
        "id": "D84BlQjKDbK-",
        "outputId": "2e358e7e-80ed-4535-a166-c8d731459027"
      },
      "source": [
        "# h_l = [input() for _ in range(sum(list(map(int, input().split()))))]\n",
        "\n",
        "h, s = map(int, input().split())\n",
        "h_l = []\n",
        "for _ in range(h):\n",
        "    h_l,append(input())\n",
        "s_l = []\n",
        "for _ in range(h):\n",
        "    s_l,append(input())\n",
        "\n",
        "def f(x):\n",
        "    return h_l.count(x) == 1\n",
        "a = sorted(filter(f, s_l))\n",
        "print(len(a))\n",
        "for p in a: print(p)"
      ],
      "execution_count": 65,
      "outputs": [
        {
          "output_type": "stream",
          "name": "stdout",
          "text": [
            "3 4\n",
            "a\n",
            "b\n",
            "c\n",
            "a\n",
            "b\n",
            "e\n",
            "y\n",
            "2\n",
            "a\n",
            "b\n"
          ]
        }
      ]
    },
    {
      "cell_type": "code",
      "metadata": {
        "colab": {
          "base_uri": "https://localhost:8080/"
        },
        "id": "MnYXR62NJgWS",
        "outputId": "a2250162-4aa4-4797-e23e-77b4a40c0792"
      },
      "source": [
        "h, s = map(int, input().split())\n",
        "h_l = [input() for _ in range(h)]\n",
        "s_l = [input() for _ in range(s)]\n",
        "\n",
        "hs = [p for p in h_l if p in s_l]\n",
        "print(len(hs))\n",
        "for p in sorted(hs):print(p)"
      ],
      "execution_count": 59,
      "outputs": [
        {
          "output_type": "execute_result",
          "data": {
            "text/plain": [
              "['baesangwook', 'ohhenrie']"
            ]
          },
          "metadata": {},
          "execution_count": 59
        }
      ]
    }
  ]
}