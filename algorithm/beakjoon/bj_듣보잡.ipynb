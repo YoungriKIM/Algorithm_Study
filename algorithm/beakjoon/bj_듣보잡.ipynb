{
  "cells": [
    {
      "cell_type": "markdown",
      "metadata": {
        "colab_type": "text",
        "id": "view-in-github"
      },
      "source": [
        "<a href=\"https://colab.research.google.com/github/YoungriKIM/Algorithm_Study/blob/MYOWN/bj_%EB%93%A3%EB%B3%B4%EC%9E%A1.ipynb\" target=\"_parent\"><img src=\"https://colab.research.google.com/assets/colab-badge.svg\" alt=\"Open In Colab\"/></a>"
      ]
    },
    {
      "cell_type": "code",
      "execution_count": 1,
      "metadata": {
        "id": "GdMpKfHdWIBL"
      },
      "outputs": [],
      "source": [
        "# https://www.acmicpc.net/problem/1764"
      ]
    },
    {
      "cell_type": "code",
      "execution_count": 4,
      "metadata": {},
      "outputs": [
        {
          "name": "stdout",
          "output_type": "stream",
          "text": [
            "['baesangwook', 'ohhenrie']\n"
          ]
        }
      ],
      "source": [
        "h, s = map(int, input().split())  # 듣도 못한 사람 수, 보도 못한 사람 수\n",
        "h_l, s_l= [input() for _ in range(h)], [input() for _ in range(s)] # 위에서 정해진 숫자만큼 사람 이름을 받고\n",
        "p_l = sorted(set(h_l)&set(s_l)) # set으로 딕셔너리로 만들고 -> &로 교집합 찾고 -> sorted로 정렬\n",
        "print(len(p_l),*p_l)    # p_l의 최종 길이와 요소를 하나씩 출력"
      ]
    }
  ],
  "metadata": {
    "colab": {
      "authorship_tag": "ABX9TyPzx+b4TDCSlJsyVu07p+dY",
      "collapsed_sections": [],
      "include_colab_link": true,
      "name": "bj_듣보잡.ipynb",
      "provenance": []
    },
    "kernelspec": {
      "display_name": "Python 3",
      "name": "python3"
    },
    "language_info": {
      "codemirror_mode": {
        "name": "ipython",
        "version": 3
      },
      "file_extension": ".py",
      "mimetype": "text/x-python",
      "name": "python",
      "nbconvert_exporter": "python",
      "pygments_lexer": "ipython3",
      "version": "3.8.8"
    }
  },
  "nbformat": 4,
  "nbformat_minor": 0
}
