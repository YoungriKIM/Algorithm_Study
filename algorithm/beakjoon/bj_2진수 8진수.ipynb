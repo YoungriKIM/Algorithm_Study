{
 "cells": [
  {
   "cell_type": "code",
   "execution_count": 3,
   "metadata": {},
   "outputs": [],
   "source": [
    "# https://www.acmicpc.net/problem/1373"
   ]
  },
  {
   "cell_type": "code",
   "execution_count": 41,
   "metadata": {},
   "outputs": [
    {
     "name": "stdout",
     "output_type": "stream",
     "text": [
      "\n"
     ]
    }
   ],
   "source": [
    "# n = 11001100\n",
    "n = input()\n",
    "n = list(str(n))\n",
    "\n",
    "e_list = []\n",
    "while n[-3:]:\n",
    "    t = n[-3:]\n",
    "    if len(t) == 3:\n",
    "        e = int(t[0]) * 4 + int(t[1]) * 2 + int(t[-1]) * 1\n",
    "    elif len(t) == 2:\n",
    "        e = int(t[0]) * 2 + int(t[-1]) * 1\n",
    "    else: \n",
    "        e = int(t[0]) * 1\n",
    "\n",
    "    e_list.append(str(e))\n",
    "    del n[-3:]\n",
    "\n",
    "print(''.join(e_list[::-1]))"
   ]
  },
  {
   "cell_type": "code",
   "execution_count": 4,
   "metadata": {},
   "outputs": [
    {
     "name": "stdout",
     "output_type": "stream",
     "text": [
      "36\n"
     ]
    }
   ],
   "source": [
    "# input = 110110  # 2진수\n",
    "# int(input(),2)     # 2진수를 10진수로 받아오기\n",
    "print('%o'%int(input(),2))"
   ]
  }
 ],
 "metadata": {
  "interpreter": {
   "hash": "b18ecf447b39d25eae6a9ae9d5694327d58d99c869301a8afbbe0bb2ae2074bb"
  },
  "kernelspec": {
   "display_name": "Python 3.8.8 64-bit ('base': conda)",
   "name": "python3"
  },
  "language_info": {
   "codemirror_mode": {
    "name": "ipython",
    "version": 3
   },
   "file_extension": ".py",
   "mimetype": "text/x-python",
   "name": "python",
   "nbconvert_exporter": "python",
   "pygments_lexer": "ipython3",
   "version": "3.8.8"
  },
  "orig_nbformat": 4
 },
 "nbformat": 4,
 "nbformat_minor": 2
}
