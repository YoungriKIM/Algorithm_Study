{
 "cells": [
  {
   "cell_type": "code",
   "execution_count": 24,
   "metadata": {},
   "outputs": [
    {
     "name": "stdout",
     "output_type": "stream",
     "text": [
      "sl: ['a', 'a'] 2\n",
      "ssl: {'a'} 1\n"
     ]
    }
   ],
   "source": [
    "t = ['cat','dog','god','tac','atc']\n",
    "t = ['cat','dog','god','tac']\n",
    "t = ['a','a']\n",
    "# t = ['a','b']\n",
    "\n",
    "sl = [''.join(sorted(i)) for i in t]\n",
    "print('sl:',sl, len(sl))\n",
    "ssl = set(sl)\n",
    "print('ssl:',ssl,len(ssl))"
   ]
  },
  {
   "cell_type": "code",
   "execution_count": 30,
   "metadata": {},
   "outputs": [
    {
     "name": "stdout",
     "output_type": "stream",
     "text": [
      "2\n"
     ]
    }
   ],
   "source": [
    "nb = int(input())\n",
    "t = [input() for _ in range(nb)]\n",
    "print(len(set([''.join(sorted(i)) for i in t])))"
   ]
  }
 ],
 "metadata": {
  "kernelspec": {
   "display_name": "Python 3.7.5 ('yr3.7')",
   "language": "python",
   "name": "python3"
  },
  "language_info": {
   "codemirror_mode": {
    "name": "ipython",
    "version": 3
   },
   "file_extension": ".py",
   "mimetype": "text/x-python",
   "name": "python",
   "nbconvert_exporter": "python",
   "pygments_lexer": "ipython3",
   "version": "3.7.5"
  },
  "orig_nbformat": 4,
  "vscode": {
   "interpreter": {
    "hash": "234dabe8e40c2039a03253ecba783ebfe49b2278b634949a7dde498a3c83abe1"
   }
  }
 },
 "nbformat": 4,
 "nbformat_minor": 2
}
