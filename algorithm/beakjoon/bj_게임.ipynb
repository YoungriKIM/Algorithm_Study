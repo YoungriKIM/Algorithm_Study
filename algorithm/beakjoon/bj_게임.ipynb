{
 "cells": [
  {
   "cell_type": "code",
   "execution_count": 127,
   "metadata": {},
   "outputs": [],
   "source": [
    "# https://www.acmicpc.net/problem/1072"
   ]
  },
  {
   "cell_type": "code",
   "execution_count": null,
   "metadata": {},
   "outputs": [],
   "source": [
    "# 이분 탐색 문제"
   ]
  },
  {
   "cell_type": "code",
   "execution_count": 144,
   "metadata": {},
   "outputs": [
    {
     "name": "stdout",
     "output_type": "stream",
     "text": [
      "19230770\n"
     ]
    }
   ],
   "source": [
    "x, y = map(float, input().split())\n",
    "v = y*100//x\n",
    "min, max = 1, 1000000000\n",
    "if v >= 99: print(-1)\n",
    "else:\n",
    "    while min < max:\n",
    "        m = (min+max)//2\n",
    "        mv = int((y+m)*100/(x+m))\n",
    "        if mv <= v:\n",
    "            min = m + 1\n",
    "        else : max = m\n",
    "    print(max)"
   ]
  }
 ],
 "metadata": {
  "interpreter": {
   "hash": "b18ecf447b39d25eae6a9ae9d5694327d58d99c869301a8afbbe0bb2ae2074bb"
  },
  "kernelspec": {
   "display_name": "Python 3.8.8 64-bit ('base': conda)",
   "language": "python",
   "name": "python3"
  },
  "language_info": {
   "codemirror_mode": {
    "name": "ipython",
    "version": 3
   },
   "file_extension": ".py",
   "mimetype": "text/x-python",
   "name": "python",
   "nbconvert_exporter": "python",
   "pygments_lexer": "ipython3",
   "version": "3.8.8"
  },
  "orig_nbformat": 4
 },
 "nbformat": 4,
 "nbformat_minor": 2
}
