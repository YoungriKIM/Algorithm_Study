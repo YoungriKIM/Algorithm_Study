{
 "cells": [
  {
   "cell_type": "code",
   "execution_count": 96,
   "metadata": {},
   "outputs": [
    {
     "name": "stdout",
     "output_type": "stream",
     "text": [
      "8 28\n"
     ]
    }
   ],
   "source": [
    "# input = '8 28'\n",
    "\n",
    "nb_rule = {'1':'one','2':'two','3':'three','4':'four','5':'five','6':'six','7':'seven','8':'eight','9':'nine','0':'zero'}\n",
    "reverse_rule= dict(map(reversed,nb_rule.items()))\n",
    "min,max=map(int, input.split())\n",
    "print(min,max)"
   ]
  },
  {
   "cell_type": "code",
   "execution_count": 97,
   "metadata": {},
   "outputs": [
    {
     "name": "stdout",
     "output_type": "stream",
     "text": [
      "8 9 18 15 14 19 11 17 16 13\n",
      "12 10 28 25 24 21 27 26 23 22\n",
      "20\n"
     ]
    }
   ],
   "source": [
    "c_nb = []\n",
    "for nb in range(min, max+1):\n",
    "    c_nb.append(' '.join([nb_rule[r] for r in [c for c in str(nb)]]))\n",
    "c_nb.sort()\n",
    "nb = []\n",
    "cnt=0\n",
    "for ch in c_nb:\n",
    "    nb.append(''.join([reverse_rule[r] for r in [c for c in ch.split(' ')]]))\n",
    "    cnt+=1\n",
    "    if cnt==10:nb.append('/');cnt=0\n",
    "result = ' '.join(nb).split(' / ')\n",
    "for a in result: print(a)"
   ]
  },
  {
   "cell_type": "code",
   "execution_count": 18,
   "metadata": {},
   "outputs": [
    {
     "ename": "TypeError",
     "evalue": "'str' object is not callable",
     "output_type": "error",
     "traceback": [
      "\u001b[0;31m---------------------------------------------------------------------------\u001b[0m",
      "\u001b[0;31mTypeError\u001b[0m                                 Traceback (most recent call last)",
      "\u001b[0;32m/tmp/ipykernel_118456/1923655198.py\u001b[0m in \u001b[0;36m<module>\u001b[0;34m\u001b[0m\n\u001b[1;32m      1\u001b[0m \u001b[0mnb_rule\u001b[0m \u001b[0;34m=\u001b[0m \u001b[0;34m{\u001b[0m\u001b[0;34m'1'\u001b[0m\u001b[0;34m:\u001b[0m\u001b[0;34m'one'\u001b[0m\u001b[0;34m,\u001b[0m\u001b[0;34m'2'\u001b[0m\u001b[0;34m:\u001b[0m\u001b[0;34m'two'\u001b[0m\u001b[0;34m,\u001b[0m\u001b[0;34m'3'\u001b[0m\u001b[0;34m:\u001b[0m\u001b[0;34m'three'\u001b[0m\u001b[0;34m,\u001b[0m\u001b[0;34m'4'\u001b[0m\u001b[0;34m:\u001b[0m\u001b[0;34m'four'\u001b[0m\u001b[0;34m,\u001b[0m\u001b[0;34m'5'\u001b[0m\u001b[0;34m:\u001b[0m\u001b[0;34m'five'\u001b[0m\u001b[0;34m,\u001b[0m\u001b[0;34m'6'\u001b[0m\u001b[0;34m:\u001b[0m\u001b[0;34m'six'\u001b[0m\u001b[0;34m,\u001b[0m\u001b[0;34m'7'\u001b[0m\u001b[0;34m:\u001b[0m\u001b[0;34m'seven'\u001b[0m\u001b[0;34m,\u001b[0m\u001b[0;34m'8'\u001b[0m\u001b[0;34m:\u001b[0m\u001b[0;34m'eight'\u001b[0m\u001b[0;34m,\u001b[0m\u001b[0;34m'9'\u001b[0m\u001b[0;34m:\u001b[0m\u001b[0;34m'nine'\u001b[0m\u001b[0;34m,\u001b[0m\u001b[0;34m'0'\u001b[0m\u001b[0;34m:\u001b[0m\u001b[0;34m'zero'\u001b[0m\u001b[0;34m}\u001b[0m\u001b[0;34m\u001b[0m\u001b[0;34m\u001b[0m\u001b[0m\n\u001b[1;32m      2\u001b[0m \u001b[0mreverse_rule\u001b[0m\u001b[0;34m=\u001b[0m \u001b[0mdict\u001b[0m\u001b[0;34m(\u001b[0m\u001b[0mmap\u001b[0m\u001b[0;34m(\u001b[0m\u001b[0mreversed\u001b[0m\u001b[0;34m,\u001b[0m\u001b[0mnb_rule\u001b[0m\u001b[0;34m.\u001b[0m\u001b[0mitems\u001b[0m\u001b[0;34m(\u001b[0m\u001b[0;34m)\u001b[0m\u001b[0;34m)\u001b[0m\u001b[0;34m)\u001b[0m\u001b[0;34m\u001b[0m\u001b[0;34m\u001b[0m\u001b[0m\n\u001b[0;32m----> 3\u001b[0;31m \u001b[0mmin\u001b[0m\u001b[0;34m,\u001b[0m\u001b[0mmax\u001b[0m\u001b[0;34m=\u001b[0m\u001b[0mmap\u001b[0m\u001b[0;34m(\u001b[0m\u001b[0mint\u001b[0m\u001b[0;34m,\u001b[0m \u001b[0minput\u001b[0m\u001b[0;34m(\u001b[0m\u001b[0;34m)\u001b[0m\u001b[0;34m.\u001b[0m\u001b[0msplit\u001b[0m\u001b[0;34m(\u001b[0m\u001b[0;34m)\u001b[0m\u001b[0;34m)\u001b[0m\u001b[0;34m\u001b[0m\u001b[0;34m\u001b[0m\u001b[0m\n\u001b[0m\u001b[1;32m      4\u001b[0m \u001b[0;34m\u001b[0m\u001b[0m\n\u001b[1;32m      5\u001b[0m \u001b[0mc_nb\u001b[0m \u001b[0;34m=\u001b[0m \u001b[0;34m[\u001b[0m\u001b[0;34m]\u001b[0m\u001b[0;34m\u001b[0m\u001b[0;34m\u001b[0m\u001b[0m\n",
      "\u001b[0;31mTypeError\u001b[0m: 'str' object is not callable"
     ]
    }
   ],
   "source": [
    "nb_rule = {'1':'one','2':'two','3':'three','4':'four','5':'five','6':'six','7':'seven','8':'eight','9':'nine','0':'zero'}\n",
    "reverse_rule= dict(map(reversed,nb_rule.items()))\n",
    "min,max=map(int, input().split())\n",
    "\n",
    "c_nb = []\n",
    "for nb in range(min, max+1):\n",
    "    c_nb.append(' '.join([nb_rule[r] for r in [c for c in str(nb)]]))\n",
    "c_nb.sort()\n",
    "nb = []\n",
    "cnt=0\n",
    "for ch in c_nb:\n",
    "    nb.append(int(''.join([reverse_rule[r] for r in [c for c in ch.split(' ')]])))\n",
    "    cnt+=1\n",
    "    if cnt==10:nb.append('/');cnt=0\n",
    "\n",
    "for n in nb:\n",
    "    if n == '/' : print()\n",
    "    else: print(n,end=' ')"
   ]
  },
  {
   "cell_type": "code",
   "execution_count": 16,
   "metadata": {},
   "outputs": [
    {
     "name": "stdout",
     "output_type": "stream",
     "text": [
      "8 9 18 15 14 19 11 17 16 13 \n",
      "12 10 28 25 24 21 27 26 23 22 \n",
      "20 "
     ]
    }
   ],
   "source": [
    "for n in nb:\n",
    "    if n == '/' : print()\n",
    "    else: print(n,end=' ')"
   ]
  }
 ],
 "metadata": {
  "interpreter": {
   "hash": "f36bde169e8f1635f7f132d5f6b5f497c92a752f298532c5c8bb91d39164271b"
  },
  "kernelspec": {
   "display_name": "Python 3.7.5 ('yr_crf': venv)",
   "language": "python",
   "name": "python3"
  },
  "language_info": {
   "codemirror_mode": {
    "name": "ipython",
    "version": 3
   },
   "file_extension": ".py",
   "mimetype": "text/x-python",
   "name": "python",
   "nbconvert_exporter": "python",
   "pygments_lexer": "ipython3",
   "version": "3.7.5"
  },
  "orig_nbformat": 4
 },
 "nbformat": 4,
 "nbformat_minor": 2
}
