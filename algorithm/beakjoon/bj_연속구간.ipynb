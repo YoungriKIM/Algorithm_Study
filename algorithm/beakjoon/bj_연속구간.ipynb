{
 "cells": [
  {
   "cell_type": "code",
   "execution_count": 1,
   "metadata": {},
   "outputs": [],
   "source": [
    "# https://www.acmicpc.net/problem/2495"
   ]
  },
  {
   "cell_type": "code",
   "execution_count": 39,
   "metadata": {},
   "outputs": [
    {
     "name": "stdout",
     "output_type": "stream",
     "text": [
      "6\n",
      "5\n",
      "1\n"
     ]
    }
   ],
   "source": [
    "# a = '12345123'\n",
    "# b = '17772345'\n",
    "# c = '22233331'\n",
    "# target=b\n",
    "\n",
    "def cnt(s):\n",
    "    answer, count = 1, 1\n",
    "    for n in range(1, len(s)):\n",
    "        if s[n] == s[n-1]:\n",
    "            count+=1\n",
    "            if count > answer:\n",
    "                answer = count\n",
    "        else : count = 1\n",
    "    return answer\n",
    "\n",
    "for _ in range(3):\n",
    "    print(cnt(input()))"
   ]
  }
 ],
 "metadata": {
  "language_info": {
   "name": "python"
  },
  "orig_nbformat": 4
 },
 "nbformat": 4,
 "nbformat_minor": 2
}
