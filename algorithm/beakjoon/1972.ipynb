{
 "cells": [
  {
   "cell_type": "code",
   "execution_count": 43,
   "metadata": {},
   "outputs": [],
   "source": [
    "# ZGBG\n",
    "# X\n",
    "# EE\n",
    "# AAB\n",
    "# AABA\n",
    "# AABB\n",
    "# BCBABCC\n",
    "# *"
   ]
  },
  {
   "cell_type": "code",
   "execution_count": 89,
   "metadata": {},
   "outputs": [
    {
     "name": "stdout",
     "output_type": "stream",
     "text": [
      "ZGBG is NOT surprising.\n",
      "SURPRISING is NOT surprising.\n",
      "ABCDEFGHIJKLMBXWVUTSRQPONBA is NOT surprising.\n",
      "ABCDEFGHIJKLMNOPQRSTUVWXYZEZFZYXWVUTSRQPONMLKJIHGFEDCBA is NOT surprising.\n"
     ]
    }
   ],
   "source": [
    "inputs = []\n",
    "a = ''\n",
    "while a != '*':\n",
    "    a = input()\n",
    "    inputs.append(a)\n",
    "inputs = inputs[:-1]\n",
    "\n",
    "def check(target):\n",
    "    result = [target[i:i+2] for i in range(len(target)) if len(target[i:i+2]) == 2]\n",
    "    result = sum(result, [])\n",
    "    if len(result) != len(set(result)): return(False)\n",
    "    else: return(True)\n",
    "    \n",
    "def output(t):\n",
    "    if check([t[i:i+2] for i in range(len(t))]) == False : print(f'{t} is NOT surprising.')\n",
    "    else:\n",
    "        if check((t[::2], t[1::2])) == False : print(f'{t} is NOT surprising.')\n",
    "        else:\n",
    "            if check((t[::3], t[1::3], t[2::3])) == False : print(f'{t} is NOT surprising.')\n",
    "            else: print(f'{t} is surprising.')\n",
    "            \n",
    "\n",
    "for t in inputs:\n",
    "    output(t)"
   ]
  },
  {
   "cell_type": "code",
   "execution_count": 234,
   "metadata": {},
   "outputs": [
    {
     "name": "stdout",
     "output_type": "stream",
     "text": [
      "AABB is NOT surprising.\n"
     ]
    }
   ],
   "source": [
    "def do(t):\n",
    "    d_0 = [f'{t[0+i]}{t[1+i]}' for i in range(len(t)-1)]\n",
    "    d_1 = [f'{t[0+i]}{t[2+i]}' for i in range(len(t)-2)]\n",
    "    d_2 = [f'{t[0+i]}{t[3+i]}' for i in range(len(t)-3)]\n",
    "    \n",
    "    if len(d_0)==len(set(d_0)) and len(d_1)==len(set(d_1)) and len(d_2) == len(set(d_2)) : print(f'{t} is surprising.')\n",
    "    else: print(f'{t} is NOT surprising.')\n",
    "\n",
    "sentence = 'AABB'\n",
    "do(sentence)"
   ]
  },
  {
   "cell_type": "code",
   "execution_count": 225,
   "metadata": {},
   "outputs": [
    {
     "name": "stdout",
     "output_type": "stream",
     "text": [
      "ABCDEFGHIJKLMBXWVUTSRQPONBA is surprising.\n"
     ]
    }
   ],
   "source": [
    "inputs = []\n",
    "while True:\n",
    "    a = str(input())\n",
    "    if a == '*': break\n",
    "    inputs.append(a)\n",
    "\n",
    "def do(t):\n",
    "    d_0 = [f'{t[0+i]}{t[1+i]}' for i in range(len(t)-1)]\n",
    "    d_1 = [f'{t[0+i]}{t[2+i]}' for i in range(len(t)-2)]\n",
    "    d_2 = [f'{t[0+i]}{t[3+i]}' for i in range(len(t)-3)]\n",
    "    \n",
    "    if len(d_0)==len(set(d_0)) and len(d_1)==len(set(d_1)) and len(d_2) == len(set(d_2)) : print(f'{t} is surprising.')\n",
    "    else: print(f'{t} is NOT surprising.')\n",
    "            \n",
    "for t in inputs:\n",
    "    do(t)"
   ]
  },
  {
   "cell_type": "code",
   "execution_count": 230,
   "metadata": {},
   "outputs": [
    {
     "name": "stdout",
     "output_type": "stream",
     "text": [
      "['AB', 'BC', 'CD', 'DE', 'EF', 'FG', 'GH', 'HI', 'IJ', 'JK', 'KL', 'LM', 'MB', 'BX', 'XW', 'WV', 'VU', 'UT', 'TS', 'SR', 'RQ', 'QP', 'PO', 'ON', 'NB', 'BA']\n",
      "['AC', 'BD', 'CE', 'DF', 'EG', 'FH', 'GI', 'HJ', 'IK', 'JL', 'KM', 'LB', 'MX', 'BW', 'XV', 'WU', 'VT', 'US', 'TR', 'SQ', 'RP', 'QO', 'PN', 'OB', 'NA']\n",
      "['AD', 'BE', 'CF', 'DG', 'EH', 'FI', 'GJ', 'HK', 'IL', 'JM', 'KB', 'LX', 'MW', 'BV', 'XU', 'WT', 'VS', 'UR', 'TQ', 'SP', 'RO', 'QN', 'PB', 'OA']\n"
     ]
    }
   ],
   "source": [
    "t='ABCDEFGHIJKLMBXWVUTSRQPONBA'\n",
    "print([f'{t[0+i]}{t[1+i]}' for i in range(len(t)-1)])\n",
    "print([f'{t[0+i]}{t[2+i]}' for i in range(len(t)-2)])\n",
    "print([f'{t[0+i]}{t[3+i]}' for i in range(len(t)-3)])"
   ]
  }
 ],
 "metadata": {
  "interpreter": {
   "hash": "234dabe8e40c2039a03253ecba783ebfe49b2278b634949a7dde498a3c83abe1"
  },
  "kernelspec": {
   "display_name": "Python 3.7.5 ('yr3.7')",
   "language": "python",
   "name": "python3"
  },
  "language_info": {
   "codemirror_mode": {
    "name": "ipython",
    "version": 3
   },
   "file_extension": ".py",
   "mimetype": "text/x-python",
   "name": "python",
   "nbconvert_exporter": "python",
   "pygments_lexer": "ipython3",
   "version": "3.7.5"
  },
  "orig_nbformat": 4
 },
 "nbformat": 4,
 "nbformat_minor": 2
}
