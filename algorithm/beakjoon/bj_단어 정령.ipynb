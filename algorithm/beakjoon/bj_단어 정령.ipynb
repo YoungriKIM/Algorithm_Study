{
 "cells": [
  {
   "cell_type": "code",
   "execution_count": 32,
   "metadata": {},
   "outputs": [
    {
     "name": "stdout",
     "output_type": "stream",
     "text": [
      "bee\n",
      "bear\n"
     ]
    }
   ],
   "source": [
    "t = []\n",
    "for _ in range(int(input())):\n",
    "    t.append(input())\n",
    "\n",
    "t = list(set(t))\n",
    "t.sort()\n",
    "t.sort(key = lambda x: len(x))\n",
    "for x in t:\n",
    "    print(x)"
   ]
  }
 ],
 "metadata": {
  "interpreter": {
   "hash": "b18ecf447b39d25eae6a9ae9d5694327d58d99c869301a8afbbe0bb2ae2074bb"
  },
  "kernelspec": {
   "display_name": "Python 3.8.8 64-bit ('base': conda)",
   "name": "python3"
  },
  "language_info": {
   "name": "python",
   "version": "3.8.8"
  },
  "orig_nbformat": 4
 },
 "nbformat": 4,
 "nbformat_minor": 2
}
