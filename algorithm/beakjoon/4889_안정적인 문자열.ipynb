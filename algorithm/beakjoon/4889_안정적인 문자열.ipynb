{
 "cells": [
  {
   "cell_type": "code",
   "execution_count": 1,
   "metadata": {},
   "outputs": [],
   "source": [
    "import re"
   ]
  },
  {
   "cell_type": "code",
   "execution_count": 47,
   "metadata": {},
   "outputs": [],
   "source": [
    "tlist = ['}{', '{}{}{}', '{{{}', ' ']\n",
    "# answer : 2,0,1"
   ]
  },
  {
   "cell_type": "code",
   "execution_count": 74,
   "metadata": {},
   "outputs": [
    {
     "name": "stdout",
     "output_type": "stream",
     "text": [
      "1. 2\n",
      "2. 2\n"
     ]
    }
   ],
   "source": [
    "# tlist = ['}{', '{}{}{}', '{{{}', '{{}}', '{{}{}}', '}}{{', '}{}{', '}}}{']\n",
    "\n",
    "nb = 1\n",
    "while True:\n",
    "    t = input()\n",
    "    if '-' in t : break\n",
    "    cnt = 0\n",
    "    while '{}' in t:\n",
    "        t = t.replace('{}','')\n",
    "    while '{{' in t:\n",
    "        cnt+=t.count('{{')\n",
    "        t = t.replace('{{','')\n",
    "    while '}}' in t:\n",
    "        cnt+=t.count('}}')\n",
    "        t = t.replace('}}','')\n",
    "    while '}{' in t:\n",
    "        cnt+=t.count('}{')*2\n",
    "        t = t.replace('}{','')\n",
    "    print(f'{nb}. {cnt}')\n",
    "    nb+=1"
   ]
  }
 ],
 "metadata": {
  "interpreter": {
   "hash": "234dabe8e40c2039a03253ecba783ebfe49b2278b634949a7dde498a3c83abe1"
  },
  "kernelspec": {
   "display_name": "Python 3.7.5 ('yr3.7')",
   "language": "python",
   "name": "python3"
  },
  "language_info": {
   "codemirror_mode": {
    "name": "ipython",
    "version": 3
   },
   "file_extension": ".py",
   "mimetype": "text/x-python",
   "name": "python",
   "nbconvert_exporter": "python",
   "pygments_lexer": "ipython3",
   "version": "3.7.5"
  },
  "orig_nbformat": 4
 },
 "nbformat": 4,
 "nbformat_minor": 2
}
