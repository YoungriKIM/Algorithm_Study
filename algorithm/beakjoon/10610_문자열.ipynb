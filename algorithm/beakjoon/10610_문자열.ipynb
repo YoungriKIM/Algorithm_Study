{
 "cells": [
  {
   "cell_type": "code",
   "execution_count": 22,
   "metadata": {},
   "outputs": [
    {
     "name": "stdout",
     "output_type": "stream",
     "text": [
      "30\n",
      "210\n",
      "88755420\n",
      "9330\n"
     ]
    }
   ],
   "source": [
    "tl = [30, 102, 80875542, 9303, 2931, 40]\n",
    "for t in tl:\n",
    "    if '0' in str(t) and sum(list(map(int, (list(str(t))))))%3 == 0:\n",
    "        print(''.join(sorted(list(str(t)), reverse=True)))"
   ]
  },
  {
   "cell_type": "code",
   "execution_count": 26,
   "metadata": {},
   "outputs": [
    {
     "name": "stdout",
     "output_type": "stream",
     "text": [
      "-1\n"
     ]
    }
   ],
   "source": [
    "def thirty(w):\n",
    "    if '0' in str(w) and sum(list(map(int, (list(str(w))))))%3 == 0:\n",
    "            print(int(''.join(sorted(list(str(w)), reverse=True))))\n",
    "    else: print(-1)\n",
    "    \n",
    "thirty(input())"
   ]
  }
 ],
 "metadata": {
  "interpreter": {
   "hash": "234dabe8e40c2039a03253ecba783ebfe49b2278b634949a7dde498a3c83abe1"
  },
  "kernelspec": {
   "display_name": "Python 3.7.5 ('yr3.7')",
   "language": "python",
   "name": "python3"
  },
  "language_info": {
   "codemirror_mode": {
    "name": "ipython",
    "version": 3
   },
   "file_extension": ".py",
   "mimetype": "text/x-python",
   "name": "python",
   "nbconvert_exporter": "python",
   "pygments_lexer": "ipython3",
   "version": "3.7.5"
  },
  "orig_nbformat": 4
 },
 "nbformat": 4,
 "nbformat_minor": 2
}
