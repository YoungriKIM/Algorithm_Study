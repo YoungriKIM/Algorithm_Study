{
 "cells": [
  {
   "cell_type": "code",
   "execution_count": 67,
   "metadata": {},
   "outputs": [
    {
     "name": "stdout",
     "output_type": "stream",
     "text": [
      "0000:0001:0002:0003:0004:0005:0006:0007\n"
     ]
    }
   ],
   "source": [
    "# t = '25:09:1985:aa:091:4846:374:bb'\n",
    "# 0025:0009:1985:00aa:0091:4846:0374:00bb\n",
    "\n",
    "# t = '::1'\n",
    "# 0000:0000:0000:0000:0000:0000:0000:0001\n",
    "\n",
    "# t = '2001:db8:85a3::8a2e:370:7334'\n",
    "# 2001:0db8:85a3:0000:0000:8a2e:0370:7334\n",
    "\n",
    "# t = 'a2:123::qwe:0000'\n",
    "# 00a2:0000:0000:0000:0000:0000:0000:0000\n",
    "\n",
    "t = '::1:2:3:4:5:6:7'\n",
    "# t = '1:2:3:4:5:6:7::'\n",
    "\n",
    "ts = input().split(':')\n",
    "len_ts = len(ts)\n",
    "if len_ts == 8 : ts = ':'.join([i.zfill(4) for i in ts])\n",
    "elif len_ts > 8 :del ts[ts.index('')];ts = ':'.join([i.zfill(4) for i in ts])\n",
    "else:ts[ts.index('')] = ':'.join(['0000' for i in range(9-len_ts)]);ts = ':'.join([i.zfill(4) for i in ts])\n",
    "print(ts)"
   ]
  },
  {
   "cell_type": "code",
   "execution_count": 68,
   "metadata": {},
   "outputs": [
    {
     "name": "stdout",
     "output_type": "stream",
     "text": [
      "0000:0001:0002:0003:0004:0005:0006:0007\n"
     ]
    }
   ],
   "source": [
    "from ipaddress import IPv6Address\n",
    "print(IPv6Address(input()).exploded)"
   ]
  }
 ],
 "metadata": {
  "kernelspec": {
   "display_name": "Python 3.10.4 64-bit",
   "language": "python",
   "name": "python3"
  },
  "language_info": {
   "codemirror_mode": {
    "name": "ipython",
    "version": 3
   },
   "file_extension": ".py",
   "mimetype": "text/x-python",
   "name": "python",
   "nbconvert_exporter": "python",
   "pygments_lexer": "ipython3",
   "version": "3.10.4"
  },
  "orig_nbformat": 4,
  "vscode": {
   "interpreter": {
    "hash": "93ef1a3f4b6a0dafae6f510592dd0c0ebfe4c60f907ca9e4dacf456937af8702"
   }
  }
 },
 "nbformat": 4,
 "nbformat_minor": 2
}
