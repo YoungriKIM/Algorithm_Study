{
  "nbformat": 4,
  "nbformat_minor": 0,
  "metadata": {
    "colab": {
      "name": "bj_그룹 단어 체커",
      "provenance": [],
      "authorship_tag": "ABX9TyNWvxEf5WxF3IQZyTIm0w0y"
    },
    "kernelspec": {
      "name": "python3",
      "display_name": "Python 3"
    },
    "language_info": {
      "name": "python"
    }
  },
  "cells": [
    {
      "cell_type": "markdown",
      "metadata": {
        "id": "-3kIRWiPkmQM"
      },
      "source": [
        "https://www.acmicpc.net/problem/1316\n",
        "\n",
        "그룹 단어란 단어에 존재하는 모든 문자에 대해서, 각 문자가 연속해서 나타나는 경우만을 말한다. 예를 들면, ccazzzzbb는 c, a, z, b가 모두 연속해서 나타나고, kin도 k, i, n이 연속해서 나타나기 때문에 그룹 단어이지만, aabbbccb는 b가 떨어져서 나타나기 때문에 그룹 단어가 아니다.\n",
        "\n",
        "단어 N개를 입력으로 받아 그룹 단어의 개수를 출력하는 프로그램을 작성하시오."
      ]
    },
    {
      "cell_type": "code",
      "metadata": {
        "colab": {
          "base_uri": "https://localhost:8080/"
        },
        "id": "1CM9Npj7j5yW",
        "outputId": "d45da47e-4431-4da6-94d3-14a5f3b49ed2"
      },
      "source": [
        "n = int(input())\n",
        "\n",
        "cnt = 0\n",
        "\n",
        "for i in range(n):\n",
        "    s = list(map(str, input()))\n",
        "    flag = False\n",
        "    a = []\n",
        "    for j in range(len(s)):\n",
        "        if s[j] not in a :\n",
        "            a.append(s[j])\n",
        "        else :\n",
        "            if s[j-1] != s[j]:\n",
        "                 flag = True\n",
        "    if flag == False:\n",
        "        cnt += 1\n",
        "        \n",
        "print(cnt)"
      ],
      "execution_count": 22,
      "outputs": [
        {
          "output_type": "stream",
          "text": [
            "3\n",
            "happy\n",
            "new\n",
            "year\n",
            "3\n"
          ],
          "name": "stdout"
        }
      ]
    }
  ]
}