{
 "cells": [
  {
   "cell_type": "code",
   "execution_count": 1,
   "metadata": {},
   "outputs": [],
   "source": [
    "# https://www.acmicpc.net/problem/1012"
   ]
  },
  {
   "cell_type": "code",
   "execution_count": 2,
   "metadata": {},
   "outputs": [
    {
     "ename": "SyntaxError",
     "evalue": "invalid syntax (<ipython-input-2-09179c066391>, line 2)",
     "output_type": "error",
     "traceback": [
      "\u001b[1;36m  File \u001b[1;32m\"<ipython-input-2-09179c066391>\"\u001b[1;36m, line \u001b[1;32m2\u001b[0m\n\u001b[1;33m    5 3 6\u001b[0m\n\u001b[1;37m      ^\u001b[0m\n\u001b[1;31mSyntaxError\u001b[0m\u001b[1;31m:\u001b[0m invalid syntax\n"
     ]
    }
   ],
   "source": [
    "1\n",
    "5 3 6\n",
    "0 2\n",
    "1 2\n",
    "2 2\n",
    "3 2\n",
    "4 2\n",
    "4 0"
   ]
  },
  {
   "cell_type": "code",
   "execution_count": 16,
   "metadata": {},
   "outputs": [
    {
     "name": "stdout",
     "output_type": "stream",
     "text": [
      "[(0, 1)]\n"
     ]
    }
   ],
   "source": [
    "w_l = []\n",
    "for _ in range(1):\n",
    "    i,j = map(int, input().split())\n",
    "    w_l.append((i,j))\n",
    "    \n",
    "print(w_l)"
   ]
  },
  {
   "cell_type": "code",
   "execution_count": 19,
   "metadata": {},
   "outputs": [
    {
     "name": "stdout",
     "output_type": "stream",
     "text": [
      "----------\n",
      "pin: (0, 0)\n",
      "sides: [(0, -1), (1, 0), (0, 1), (-1, 0)]\n",
      "----------\n",
      "pin: (0, 1)\n",
      "sides: [(0, 0), (1, 1), (0, 2), (-1, 1)]\n",
      "----------\n",
      "pin: (1, 2)\n",
      "sides: [(1, 1), (2, 2), (1, 3), (0, 2)]\n",
      "----------\n",
      "pin: (2, 1)\n",
      "sides: [(2, 0), (3, 1), (2, 2), (1, 1)]\n",
      "----------\n",
      "pin: (2, 2)\n",
      "sides: [(2, 1), (3, 2), (2, 3), (1, 2)]\n"
     ]
    },
    {
     "data": {
      "text/plain": [
       "[[(0, 0)], [(0, 1)], [(1, 2)], [(2, 1)], [(2, 2)]]"
      ]
     },
     "execution_count": 19,
     "metadata": {},
     "output_type": "execute_result"
    }
   ],
   "source": [
    "w_l = [(0, 0), (0, 1), (1, 2), (2, 1), (2, 2)]\n",
    "direct = [(0,-1),(1,0),(0,1),(-1,0)]\n",
    "\n",
    "an_l = []\n",
    "for pin in w_l:\n",
    "    print('-'*10)\n",
    "    print('pin:',pin)\n",
    "    print('sides:',[(pin[0]+i[0],pin[-1]+i[-1]) for i in direct])\n",
    "    if pin not in an_l : an_l.append([pin])\n",
    "    \n",
    "an_l"
   ]
  },
  {
   "cell_type": "code",
   "execution_count": 18,
   "metadata": {},
   "outputs": [
    {
     "data": {
      "text/plain": [
       "[(0, -1), (1, 0), (0, 1), (-1, 0)]"
      ]
     },
     "execution_count": 18,
     "metadata": {},
     "output_type": "execute_result"
    }
   ],
   "source": [
    "a = (0, 0)\n",
    "\n",
    "[(a[0]+i[0],a[-1]+i[-1]) for i in direct]\n"
   ]
  },
  {
   "cell_type": "code",
   "execution_count": 34,
   "metadata": {},
   "outputs": [
    {
     "name": "stdout",
     "output_type": "stream",
     "text": [
      "----------\n",
      "i: (0, 0)\n",
      "i_sides: [(0, -1), (1, 0), (0, 1), (-1, 0)]\n",
      "k: (0, 1)\n",
      "----------\n",
      "i: (1, 2)\n",
      "i_sides: [(1, 1), (2, 2), (1, 3), (0, 2)]\n",
      "k: (2, 2)\n",
      "----------\n",
      "i: (2, 1)\n",
      "i_sides: [(2, 0), (3, 1), (2, 2), (1, 1)]\n",
      "3\n"
     ]
    }
   ],
   "source": [
    "w_l = [(0, 0), (0, 1), (1, 2), (2, 1), (2, 2)]\n",
    "direct = [(0,-1),(1,0),(0,1),(-1,0)]\n",
    "\n",
    "visited = []\n",
    "cnt=0\n",
    "for i in w_l:\n",
    "    print('-'*10)\n",
    "    print('i:',i)\n",
    "    i_sides = [(i[0]+j[0],i[-1]+j[-1]) for j in direct]\n",
    "    print('i_sides:',i_sides)\n",
    "    if i not in visited:\n",
    "        cnt+=1\n",
    "        visited.append(i)\n",
    "        for k in i_sides:\n",
    "            if k in w_l and k not in visited:\n",
    "                print('k:',k)\n",
    "                visited.append(k)\n",
    "                del w_l[w_l.index(k)]\n",
    "                \n",
    "                \n",
    "print(cnt)"
   ]
  },
  {
   "cell_type": "code",
   "execution_count": 37,
   "metadata": {},
   "outputs": [],
   "source": [
    "g = {\n",
    "\n",
    "    '(0,0)': ['(0,1)'],\n",
    "\n",
    "    '(0,1)': ['(0,0)'],\n",
    "\n",
    "    '(1,2)': ['(2,2)'],\n",
    "\n",
    "    '(2,1)': ['(2,2)'],\n",
    "\n",
    "    '(2,2)': ['(1,2)','(2,1)']\n",
    "\n",
    "}"
   ]
  },
  {
   "cell_type": "code",
   "execution_count": 45,
   "metadata": {},
   "outputs": [],
   "source": [
    "g = {\n",
    "\n",
    "    (0,0): [(0,1)],\n",
    "\n",
    "    (0,1): [(0,0)],\n",
    "\n",
    "    (1,2): [(2,2)],\n",
    "\n",
    "    (2,1): [(2,2)],\n",
    "\n",
    "    (2,2): [(1,2),(2,1)]\n",
    "\n",
    "}"
   ]
  },
  {
   "cell_type": "code",
   "execution_count": 78,
   "metadata": {},
   "outputs": [],
   "source": [
    "def bfs(g, start):\n",
    "    qu = []          # 기억 장소 1: 앞으로 처리해야 할 꼭짓점을 큐에 저장\n",
    "    done = set()     # 기억 장소 2: 이미 큐에 추가한 꼭짓점들을 집합에 기록(중복 방지)\n",
    "    \n",
    "    qu.append(start) # 시작점을 큐에 넣고 시작\n",
    "    done.add(start)  # 집합에도 추가\n",
    "\n",
    "    while qu:                 # 큐에 처리할 꼭짓점이 남아 있으면\n",
    "        p = qu.pop(0)         # 큐에서 처리 대상을 꺼내어\n",
    "        print(p)              # 꼭짓점 이름을 출력하고\n",
    "        for x in g[p]:        # 대상 꼭짓점에 연결된 꼭짓점들 중에\n",
    "            if x not in done: # 아직 큐에 추가된 적이 없는 꼭짓점들을\n",
    "                qu.append(x)  # 큐에 추가하고\n",
    "                done.add(x)   # 집합에도 추가\n",
    "    return(sorted(done))"
   ]
  },
  {
   "cell_type": "code",
   "execution_count": 54,
   "metadata": {},
   "outputs": [
    {
     "name": "stdout",
     "output_type": "stream",
     "text": [
      "(0, 0)\n",
      "(0, 1)\n",
      "(0, 2)\n",
      "(0, 1)\n",
      "(0, 0)\n",
      "(0, 2)\n",
      "(1, 2)\n",
      "(2, 2)\n",
      "(2, 1)\n"
     ]
    },
    {
     "ename": "KeyError",
     "evalue": "(2, 1)",
     "output_type": "error",
     "traceback": [
      "\u001b[1;31m---------------------------------------------------------------------------\u001b[0m",
      "\u001b[1;31mKeyError\u001b[0m                                  Traceback (most recent call last)",
      "\u001b[1;32m<ipython-input-54-20b1c73dacfb>\u001b[0m in \u001b[0;36m<module>\u001b[1;34m\u001b[0m\n\u001b[0;32m      3\u001b[0m \u001b[0manswer\u001b[0m \u001b[1;33m=\u001b[0m \u001b[1;33m[\u001b[0m\u001b[1;33m]\u001b[0m\u001b[1;33m\u001b[0m\u001b[1;33m\u001b[0m\u001b[0m\n\u001b[0;32m      4\u001b[0m \u001b[1;32mfor\u001b[0m \u001b[0mi\u001b[0m \u001b[1;32min\u001b[0m \u001b[0mw_l\u001b[0m\u001b[1;33m:\u001b[0m\u001b[1;33m\u001b[0m\u001b[1;33m\u001b[0m\u001b[0m\n\u001b[1;32m----> 5\u001b[1;33m     \u001b[0mbfs\u001b[0m\u001b[1;33m(\u001b[0m\u001b[0mg\u001b[0m\u001b[1;33m,\u001b[0m \u001b[0mi\u001b[0m\u001b[1;33m)\u001b[0m\u001b[1;33m\u001b[0m\u001b[1;33m\u001b[0m\u001b[0m\n\u001b[0m",
      "\u001b[1;32m<ipython-input-52-762c4c52f2b0>\u001b[0m in \u001b[0;36mbfs\u001b[1;34m(g, start)\u001b[0m\n\u001b[0;32m      9\u001b[0m         \u001b[0mp\u001b[0m \u001b[1;33m=\u001b[0m \u001b[0mqu\u001b[0m\u001b[1;33m.\u001b[0m\u001b[0mpop\u001b[0m\u001b[1;33m(\u001b[0m\u001b[1;36m0\u001b[0m\u001b[1;33m)\u001b[0m         \u001b[1;31m# 큐에서 처리 대상을 꺼내어\u001b[0m\u001b[1;33m\u001b[0m\u001b[1;33m\u001b[0m\u001b[0m\n\u001b[0;32m     10\u001b[0m         \u001b[0mprint\u001b[0m\u001b[1;33m(\u001b[0m\u001b[0mp\u001b[0m\u001b[1;33m)\u001b[0m              \u001b[1;31m# 꼭짓점 이름을 출력하고\u001b[0m\u001b[1;33m\u001b[0m\u001b[1;33m\u001b[0m\u001b[0m\n\u001b[1;32m---> 11\u001b[1;33m         \u001b[1;32mfor\u001b[0m \u001b[0mx\u001b[0m \u001b[1;32min\u001b[0m \u001b[0mg\u001b[0m\u001b[1;33m[\u001b[0m\u001b[0mp\u001b[0m\u001b[1;33m]\u001b[0m\u001b[1;33m:\u001b[0m        \u001b[1;31m# 대상 꼭짓점에 연결된 꼭짓점들 중에\u001b[0m\u001b[1;33m\u001b[0m\u001b[1;33m\u001b[0m\u001b[0m\n\u001b[0m\u001b[0;32m     12\u001b[0m             \u001b[1;32mif\u001b[0m \u001b[0mx\u001b[0m \u001b[1;32mnot\u001b[0m \u001b[1;32min\u001b[0m \u001b[0mdone\u001b[0m\u001b[1;33m:\u001b[0m \u001b[1;31m# 아직 큐에 추가된 적이 없는 꼭짓점들을\u001b[0m\u001b[1;33m\u001b[0m\u001b[1;33m\u001b[0m\u001b[0m\n\u001b[0;32m     13\u001b[0m                 \u001b[0mqu\u001b[0m\u001b[1;33m.\u001b[0m\u001b[0mappend\u001b[0m\u001b[1;33m(\u001b[0m\u001b[0mx\u001b[0m\u001b[1;33m)\u001b[0m  \u001b[1;31m# 큐에 추가하고\u001b[0m\u001b[1;33m\u001b[0m\u001b[1;33m\u001b[0m\u001b[0m\n",
      "\u001b[1;31mKeyError\u001b[0m: (2, 1)"
     ]
    }
   ],
   "source": [
    "w_l = [(0, 0), (0, 1), (1, 2), (2, 1), (2, 2)]\n",
    "\n",
    "answer = []\n",
    "for i in w_l:\n",
    "    bfs(g, i)"
   ]
  },
  {
   "cell_type": "code",
   "execution_count": 57,
   "metadata": {},
   "outputs": [
    {
     "name": "stdout",
     "output_type": "stream",
     "text": [
      "(0, 0)\n",
      "(0, 1)\n",
      "(0, 2)\n",
      "(2, 2)\n",
      "(1, 2)\n"
     ]
    },
    {
     "data": {
      "text/plain": [
       "[{(0, 0), (0, 1), (0, 2)}, {(1, 2), (2, 2)}]"
      ]
     },
     "execution_count": 57,
     "metadata": {},
     "output_type": "execute_result"
    }
   ],
   "source": [
    "w_l = [(0, 0), (0, 1), (0, 2), (1, 2), (2, 2)]\n",
    "\n",
    "g = {\n",
    "\n",
    "    (0,0): [(0,1),(0,2)],\n",
    "\n",
    "    (0,1): [(0,0),(0,2)],\n",
    "\n",
    "    (0,2): [(0,0),(0,1)],\n",
    "\n",
    "    (1, 2): [(2, 2)],\n",
    "\n",
    "    (2, 2): [(1,2)]\n",
    "\n",
    "}\n",
    "\n",
    "answer = []\n",
    "for i in w_l:\n",
    "    done = bfs(g, i)\n",
    "    for d in done:\n",
    "        del w_l[w_l.index(d)]\n",
    "    answer.append(done) \n",
    "    \n",
    "answer"
   ]
  },
  {
   "cell_type": "code",
   "execution_count": 61,
   "metadata": {},
   "outputs": [
    {
     "name": "stdout",
     "output_type": "stream",
     "text": [
      "[(5, 5)]\n"
     ]
    }
   ],
   "source": [
    "_,_,n = map(int, input().split())\n",
    "\n",
    "w_l = []\n",
    "for _ in range(n):\n",
    "    i,j = map(int, input().split())\n",
    "    w_l.append((i,j))\n",
    "    \n",
    "print(w_l)"
   ]
  },
  {
   "cell_type": "code",
   "execution_count": 82,
   "metadata": {},
   "outputs": [
    {
     "name": "stdout",
     "output_type": "stream",
     "text": [
      "w_l: [(0, 2), (1, 2), (2, 2), (3, 2), (4, 2), (4, 0)]\n",
      "g: {(0, 2): [(1, 2)], (1, 2): [(2, 2), (0, 2)], (2, 2): [(3, 2), (1, 2)], (3, 2): [(4, 2), (2, 2)], (4, 2): [(3, 2)], (4, 0): []}\n",
      "i: (0, 2)\n",
      "(0, 2)\n",
      "(1, 2)\n",
      "(2, 2)\n",
      "(3, 2)\n",
      "(4, 2)\n",
      "done: [(0, 2), (1, 2), (2, 2), (3, 2), (4, 2)]\n",
      "i: (1, 2)\n",
      "(1, 2)\n",
      "(2, 2)\n",
      "(0, 2)\n",
      "(3, 2)\n",
      "(4, 2)\n",
      "done: [(0, 2), (1, 2), (2, 2), (3, 2), (4, 2)]\n",
      "i: (2, 2)\n",
      "(2, 2)\n",
      "(3, 2)\n",
      "(1, 2)\n",
      "(4, 2)\n",
      "(0, 2)\n",
      "done: [(0, 2), (1, 2), (2, 2), (3, 2), (4, 2)]\n",
      "i: (3, 2)\n",
      "(3, 2)\n",
      "(4, 2)\n",
      "(2, 2)\n",
      "(1, 2)\n",
      "(0, 2)\n",
      "done: [(0, 2), (1, 2), (2, 2), (3, 2), (4, 2)]\n",
      "i: (4, 2)\n",
      "(4, 2)\n",
      "(3, 2)\n",
      "(2, 2)\n",
      "(1, 2)\n",
      "(0, 2)\n",
      "done: [(0, 2), (1, 2), (2, 2), (3, 2), (4, 2)]\n",
      "i: (4, 0)\n",
      "(4, 0)\n",
      "done: [(4, 0)]\n",
      "[[(0, 2), (1, 2), (2, 2), (3, 2), (4, 2)], [(4, 0)]] 2\n"
     ]
    }
   ],
   "source": [
    "def bfs(g, start):\n",
    "    qu = []\n",
    "    done = set()\n",
    "    \n",
    "    qu.append(start)\n",
    "    done.add(start)\n",
    "\n",
    "    while qu:\n",
    "        p = qu.pop(0)\n",
    "        print(p)\n",
    "        for x in g[p]:\n",
    "            if x not in done:\n",
    "                qu.append(x)\n",
    "                done.add(x)\n",
    "    return(sorted(done))\n",
    "\n",
    "_,_,n = map(int, input().split())\n",
    "\n",
    "w_l = []\n",
    "for _ in range(n):\n",
    "    i,j = map(int, input().split())\n",
    "    w_l.append((i,j))\n",
    "    \n",
    "print('w_l:',w_l)\n",
    "\n",
    "g = {}\n",
    "for i in w_l:\n",
    "    i_sides = [o for o in [(i[0]+j[0],i[-1]+j[-1]) for j in direct] if o in w_l]\n",
    "    g[i] = i_sides\n",
    "\n",
    "print('g:',g)\n",
    "\n",
    "answer = []\n",
    "for i in w_l:\n",
    "    print('i:',i)\n",
    "    done = bfs(g, i)\n",
    "    print('done:',done)\n",
    "    if done not in answer:\n",
    "        answer.append(done) \n",
    "    \n",
    "print(answer, len(answer))"
   ]
  },
  {
   "cell_type": "code",
   "execution_count": 101,
   "metadata": {},
   "outputs": [
    {
     "name": "stdout",
     "output_type": "stream",
     "text": [
      "2\n"
     ]
    }
   ],
   "source": [
    "import sys\n",
    "sys.setrecursionlimit(100000)\n",
    "\n",
    "def bfs(g, start):\n",
    "    qu = []\n",
    "    done = set()\n",
    "    \n",
    "    qu.append(start)\n",
    "    done.add(start)\n",
    "\n",
    "    while qu:\n",
    "        p = qu.pop(0)\n",
    "        for x in g[p]:\n",
    "            if x not in done:\n",
    "                qu.append(x)\n",
    "                done.add(x)\n",
    "    return(sorted(done))\n",
    "\n",
    "end = []\n",
    "for _ in range(int(input())):\n",
    "    _,_,n = map(int, input().split())\n",
    "\n",
    "    w_l = []\n",
    "    for _ in range(n):\n",
    "        i,j = map(int, input().split())\n",
    "        w_l.append((i,j))\n",
    "        \n",
    "    g = {}\n",
    "    for i in w_l:\n",
    "        i_sides = [o for o in [(i[0]+j[0],i[-1]+j[-1]) for j in direct] if o in w_l]\n",
    "        g[i] = i_sides\n",
    "\n",
    "    answer = []\n",
    "    for i in w_l:\n",
    "        done = bfs(g, i)\n",
    "        if done not in answer:\n",
    "            answer.append(done) \n",
    "    print(len(answer))"
   ]
  },
  {
   "cell_type": "code",
   "execution_count": 109,
   "metadata": {},
   "outputs": [
    {
     "name": "stdout",
     "output_type": "stream",
     "text": [
      "2\n"
     ]
    }
   ],
   "source": [
    "import sys\n",
    "sys.setrecursionlimit(100000)\n",
    "\n",
    "def bfs(g, start):\n",
    "    qu = []\n",
    "    done = set()\n",
    "    \n",
    "    qu.append(start)\n",
    "    done.add(start)\n",
    "\n",
    "    while qu:\n",
    "        p = qu.pop(0)\n",
    "        for x in g[p]:\n",
    "            if x not in done:\n",
    "                qu.append(x)\n",
    "                done.add(x)\n",
    "    return(sorted(done))\n",
    "direct = [(0,-1),(1,0),(0,1),(-1,0)]\n",
    "\n",
    "end = []\n",
    "for _ in range(int(input())):\n",
    "    _,_,n = map(int, input().split())\n",
    "\n",
    "    w_l = []\n",
    "    for _ in range(n):\n",
    "        i,j = map(int, input().split())\n",
    "        w_l.append((i,j))\n",
    "    \n",
    "    g = {}\n",
    "    for w in w_l:\n",
    "        w_sides = [o for o in [(w[0]+d[0],w[-1]+d[-1]) for d in direct] if o in w_l]\n",
    "        g[w] = w_sides\n",
    "    \n",
    "    answer = []\n",
    "    for z in w_l:\n",
    "        done = bfs(g, z)\n",
    "        if done not in answer:\n",
    "            answer.append(done) \n",
    "    print(len(answer))"
   ]
  }
 ],
 "metadata": {
  "interpreter": {
   "hash": "b18ecf447b39d25eae6a9ae9d5694327d58d99c869301a8afbbe0bb2ae2074bb"
  },
  "kernelspec": {
   "display_name": "Python 3.8.8 64-bit ('base': conda)",
   "language": "python",
   "name": "python3"
  },
  "language_info": {
   "codemirror_mode": {
    "name": "ipython",
    "version": 3
   },
   "file_extension": ".py",
   "mimetype": "text/x-python",
   "name": "python",
   "nbconvert_exporter": "python",
   "pygments_lexer": "ipython3",
   "version": "3.8.8"
  },
  "orig_nbformat": 4
 },
 "nbformat": 4,
 "nbformat_minor": 2
}
