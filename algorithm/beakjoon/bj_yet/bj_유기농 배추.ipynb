{
 "cells": [
  {
   "cell_type": "code",
   "execution_count": 1,
   "metadata": {},
   "outputs": [],
   "source": [
    "# https://www.acmicpc.net/problem/1012"
   ]
  },
  {
   "cell_type": "code",
   "execution_count": 117,
   "metadata": {},
   "outputs": [
    {
     "name": "stdout",
     "output_type": "stream",
     "text": [
      "1\n"
     ]
    }
   ],
   "source": [
    "import sys\n",
    "sys.setrecursionlimit(100000)\n",
    "\n",
    "def bfs(g, start):\n",
    "    qu = []\n",
    "    done = set()\n",
    "    \n",
    "    qu.append(start)\n",
    "    done.add(start)\n",
    "\n",
    "    while qu:\n",
    "        p = qu.pop(0)\n",
    "        for x in g[p]:\n",
    "            if x not in done:\n",
    "                qu.append(x)\n",
    "                done.add(x)\n",
    "    for s in done:\n",
    "        if s in g:\n",
    "            del(g[s])\n",
    "    return(sorted(done))\n",
    "direct = [(0,-1),(1,0),(0,1),(-1,0)]\n",
    "\n",
    "end = []\n",
    "for _ in range(int(input())):\n",
    "    _,_,n = map(int, input().split())\n",
    "\n",
    "    w_l = []\n",
    "    for _ in range(n):\n",
    "        i,j = map(int, input().split())\n",
    "        w_l.append((i,j))\n",
    "    \n",
    "    g = {}\n",
    "    for w in w_l:\n",
    "        w_sides = [o for o in [(w[0]+d[0],w[-1]+d[-1]) for d in direct] if o in w_l]\n",
    "        g[w] = w_sides\n",
    "    \n",
    "    answer = []\n",
    "    for z in w_l:\n",
    "        if z in g:\n",
    "            done = bfs(g, z)\n",
    "        if done not in answer:\n",
    "            answer.append(done) \n",
    "    print(len(answer))"
   ]
  }
 ],
 "metadata": {
  "interpreter": {
   "hash": "b18ecf447b39d25eae6a9ae9d5694327d58d99c869301a8afbbe0bb2ae2074bb"
  },
  "kernelspec": {
   "display_name": "Python 3.8.8 64-bit ('base': conda)",
   "language": "python",
   "name": "python3"
  },
  "language_info": {
   "codemirror_mode": {
    "name": "ipython",
    "version": 3
   },
   "file_extension": ".py",
   "mimetype": "text/x-python",
   "name": "python",
   "nbconvert_exporter": "python",
   "pygments_lexer": "ipython3",
   "version": "3.8.8"
  },
  "orig_nbformat": 4
 },
 "nbformat": 4,
 "nbformat_minor": 2
}
