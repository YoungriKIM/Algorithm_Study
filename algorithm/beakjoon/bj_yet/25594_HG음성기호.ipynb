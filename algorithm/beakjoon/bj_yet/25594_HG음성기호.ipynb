{
 "cells": [
  {
   "cell_type": "code",
   "execution_count": 45,
   "metadata": {},
   "outputs": [
    {
     "name": "stdout",
     "output_type": "stream",
     "text": [
      "ERROR!\n"
     ]
    }
   ],
   "source": [
    "HG_dict = {\n",
    "    'aespa': 'a',\n",
    "    'baekjoon': 'b',\n",
    "    'cau': 'c',\n",
    "    'debug': 'd',\n",
    "    'edge': 'e',\n",
    "    'firefox': 'f',\n",
    "    'golang': 'g',\n",
    "    'haegang': 'h',\n",
    "    'iu': 'i',\n",
    "    'java': 'j',\n",
    "    'kotlin': 'k',\n",
    "    'lol': 'l',\n",
    "    'mips': 'm',\n",
    "    'null': 'n',\n",
    "    'os': 'o',\n",
    "    'python': 'p',\n",
    "    'query': 'q',\n",
    "    'roka': 'r',\n",
    "    'solvedac': 's',\n",
    "    'tod': 't',\n",
    "    'unix': 'u',\n",
    "    'virus': 'v',\n",
    "    'whale': 'w',\n",
    "    'xcode': 'x',\n",
    "    'yahoo': 'y',\n",
    "    'zebra': 'z'\n",
    " }\n",
    "\n",
    "sample = input()\n",
    "if sample == '' : print('ERROR!')\n",
    "else:\n",
    "    tf = 'F' \n",
    "    answer = ''\n",
    "    while len(sample) > 0:\n",
    "        for k in HG_dict.keys():\n",
    "            if k == sample[:len(k)]:\n",
    "                sample = sample[len(k):]\n",
    "                answer += HG_dict[k]\n",
    "                tf = 'T'\n",
    "                break\n",
    "            tf = 'F'\n",
    "        if tf == 'F':\n",
    "            break\n",
    "\n",
    "    if len(sample) > 0 : print('ERROR!')\n",
    "    else : print(\"It's HG!\");print(answer)"
   ]
  }
 ],
 "metadata": {
  "kernelspec": {
   "display_name": "base",
   "language": "python",
   "name": "python3"
  },
  "language_info": {
   "codemirror_mode": {
    "name": "ipython",
    "version": 3
   },
   "file_extension": ".py",
   "mimetype": "text/x-python",
   "name": "python",
   "nbconvert_exporter": "python",
   "pygments_lexer": "ipython3",
   "version": "3.8.8"
  },
  "orig_nbformat": 4
 },
 "nbformat": 4,
 "nbformat_minor": 2
}
