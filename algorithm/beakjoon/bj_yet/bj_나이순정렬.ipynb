{
 "cells": [
  {
   "cell_type": "code",
   "execution_count": null,
   "metadata": {},
   "outputs": [],
   "source": [
    "# https://www.acmicpc.net/problem/10814"
   ]
  },
  {
   "cell_type": "code",
   "execution_count": null,
   "metadata": {},
   "outputs": [],
   "source": [
    "21 Junkyu\n",
    "21 Dohyun\n",
    "20 Sunyoung\n",
    "# ip = [['21', 'Junkyu'], ['21', 'Dohyun'], ['20', 'Sunyoung']]"
   ]
  },
  {
   "cell_type": "code",
   "execution_count": 26,
   "metadata": {},
   "outputs": [
    {
     "name": "stdout",
     "output_type": "stream",
     "text": [
      "20 Sunyoung\n",
      "21 Junkyu\n",
      "21 Dohyun\n"
     ]
    }
   ],
   "source": [
    "range_n = int(input())\n",
    "ip = [input().split() for _ in range(range_n)]\n",
    "sort_age = sorted(list(map(int, set([n[0] for n in ip]))))\n",
    "\n",
    "new = []\n",
    "for n in sort_age:\n",
    "    for i in ip:\n",
    "        if int(i[0]) == n:\n",
    "            new.append(i)\n",
    "            \n",
    "for n in new:\n",
    "    print(' '.join(n))"
   ]
  }
 ],
 "metadata": {
  "language_info": {
   "name": "python"
  },
  "orig_nbformat": 4
 },
 "nbformat": 4,
 "nbformat_minor": 2
}
