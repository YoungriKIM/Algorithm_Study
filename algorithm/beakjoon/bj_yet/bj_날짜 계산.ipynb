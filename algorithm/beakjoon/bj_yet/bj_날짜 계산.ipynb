{
 "cells": [
  {
   "cell_type": "code",
   "execution_count": 1,
   "metadata": {},
   "outputs": [],
   "source": [
    "# https://www.acmicpc.net/problem/1476"
   ]
  },
  {
   "cell_type": "code",
   "execution_count": 1,
   "metadata": {},
   "outputs": [],
   "source": [
    "E, S, M = 15 ,28, 19"
   ]
  },
  {
   "cell_type": "code",
   "execution_count": 9,
   "metadata": {},
   "outputs": [
    {
     "name": "stdout",
     "output_type": "stream",
     "text": [
      "i: 16\n",
      "(i-E)%15: 0\n",
      "(i-S)%28: 0\n",
      "(i-M)%19: 0\n",
      "16\n"
     ]
    }
   ],
   "source": [
    "E,S,M=map(int,input().split())\n",
    "\n",
    "i=1\n",
    "while True:\n",
    "    if (i-E)%15==0 and (i-S)%28==0 and (i-M)%19==0:\n",
    "        print('-'*15)\n",
    "        print('i:',i)\n",
    "        print('-'*15)\n",
    "        print('(i-E):',(i-E))\n",
    "        print('(i-E)%15:',(i-E)%15)\n",
    "        print('-'*15)\n",
    "        print('(i-E):',(i-E))\n",
    "        print('(i-S)%28:',(i-S)%28)\n",
    "        print('-'*15)\n",
    "        print('(i-E):',(i-E))\n",
    "        print('(i-M)%19:',(i-M)%19)\n",
    "        # print(i)\n",
    "        break\n",
    "    i+=1"
   ]
  }
 ],
 "metadata": {
  "interpreter": {
   "hash": "b18ecf447b39d25eae6a9ae9d5694327d58d99c869301a8afbbe0bb2ae2074bb"
  },
  "kernelspec": {
   "display_name": "Python 3.8.8 64-bit ('base': conda)",
   "language": "python",
   "name": "python3"
  },
  "language_info": {
   "codemirror_mode": {
    "name": "ipython",
    "version": 3
   },
   "file_extension": ".py",
   "mimetype": "text/x-python",
   "name": "python",
   "nbconvert_exporter": "python",
   "pygments_lexer": "ipython3",
   "version": "3.8.8"
  },
  "orig_nbformat": 4
 },
 "nbformat": 4,
 "nbformat_minor": 2
}
