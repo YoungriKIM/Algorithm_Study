{
 "cells": [
  {
   "cell_type": "code",
   "execution_count": 1,
   "metadata": {},
   "outputs": [],
   "source": [
    "# https://www.acmicpc.net/problem/1476"
   ]
  },
  {
   "cell_type": "code",
   "execution_count": 1,
   "metadata": {},
   "outputs": [],
   "source": [
    "E, S, M = 15 ,28, 19"
   ]
  },
  {
   "cell_type": "code",
   "execution_count": 3,
   "metadata": {},
   "outputs": [
    {
     "name": "stdout",
     "output_type": "stream",
     "text": [
      "0 0 0\n",
      "0.06666666666666667 0.5714285714285714 0.8421052631578947\n",
      "1 16 16\n"
     ]
    }
   ],
   "source": [
    "e, s, m = 1,16,16\n",
    "\n",
    "print(e//E, s//S, m//M)\n",
    "print(e/E, s/S, m/M)\n",
    "print(e%E, s%S, m%M)"
   ]
  },
  {
   "cell_type": "code",
   "execution_count": 35,
   "metadata": {},
   "outputs": [
    {
     "name": "stdout",
     "output_type": "stream",
     "text": [
      "1 1 1\n",
      "2 2 2\n",
      "3 3 3\n",
      "4 4 4\n",
      "5 5 5\n",
      "6 6 6\n",
      "7 7 7\n",
      "8 8 8\n",
      "9 9 9\n",
      "10 10 10\n",
      "11 11 11\n",
      "12 12 12\n",
      "13 13 13\n",
      "14 14 14\n",
      "15 15 15\n",
      "1 16 16\n",
      "2 17 17\n"
     ]
    }
   ],
   "source": [
    "# i = 30\n",
    "# print(i-((i//15*15)))\n",
    "q = input()\n",
    "\n",
    "for i in range(1,18):\n",
    "    e,s,m = i-((i//15*15)),i-((i//28*28)),i-((i//19*19))\n",
    "    if e == 0: e=15\n",
    "    if s == 0: e=28\n",
    "    if m == 0: e=19\n",
    "\n",
    "    print(e,s,m)"
   ]
  },
  {
   "cell_type": "code",
   "execution_count": 73,
   "metadata": {},
   "outputs": [
    {
     "name": "stdout",
     "output_type": "stream",
     "text": [
      "16\n"
     ]
    }
   ],
   "source": [
    "E,S,M=map(int,input().split())\n",
    "\n",
    "i=1\n",
    "while True:\n",
    "    if (i-E)%15==0 and (i-S)%28==0 and (i-M)%19==0:\n",
    "        print(i)\n",
    "        break\n",
    "    i+=1"
   ]
  },
  {
   "cell_type": "code",
   "execution_count": 65,
   "metadata": {},
   "outputs": [],
   "source": [
    "import sys\n",
    "\n",
    "data = []\n",
    "for line in sys.stdin:\n",
    "    data.append(line)\n",
    "    \n",
    "for q in data:\n",
    "    i=1\n",
    "    while q != answer:\n",
    "        e,s,m = i-((i//15*15)),i-((i//28*28)),i-((i//19*19))\n",
    "        if e == 0: e=15\n",
    "        if s == 0: s=28\n",
    "        if m == 0: m=19\n",
    "        answer = f'{e} {s} {m}'\n",
    "        i+=1\n",
    "    print(i-1)"
   ]
  }
 ],
 "metadata": {
  "interpreter": {
   "hash": "b18ecf447b39d25eae6a9ae9d5694327d58d99c869301a8afbbe0bb2ae2074bb"
  },
  "kernelspec": {
   "display_name": "Python 3.8.8 64-bit ('base': conda)",
   "language": "python",
   "name": "python3"
  },
  "language_info": {
   "codemirror_mode": {
    "name": "ipython",
    "version": 3
   },
   "file_extension": ".py",
   "mimetype": "text/x-python",
   "name": "python",
   "nbconvert_exporter": "python",
   "pygments_lexer": "ipython3",
   "version": "3.8.8"
  },
  "orig_nbformat": 4
 },
 "nbformat": 4,
 "nbformat_minor": 2
}
