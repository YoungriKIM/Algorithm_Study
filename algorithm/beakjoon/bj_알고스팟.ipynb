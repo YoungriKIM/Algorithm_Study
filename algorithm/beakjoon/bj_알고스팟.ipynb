{
 "metadata": {
  "language_info": {
   "codemirror_mode": {
    "name": "ipython",
    "version": 3
   },
   "file_extension": ".py",
   "mimetype": "text/x-python",
   "name": "python",
   "nbconvert_exporter": "python",
   "pygments_lexer": "ipython3",
   "version": "3.8.5"
  },
  "orig_nbformat": 2,
  "kernelspec": {
   "name": "python385jvsc74a57bd0b18ecf447b39d25eae6a9ae9d5694327d58d99c869301a8afbbe0bb2ae2074bb",
   "display_name": "Python 3.8.5 64-bit ('base': conda)"
  }
 },
 "nbformat": 4,
 "nbformat_minor": 2,
 "cells": [
  {
   "cell_type": "code",
   "execution_count": 16,
   "metadata": {},
   "outputs": [
    {
     "output_type": "stream",
     "name": "stdout",
     "text": [
      "2\n"
     ]
    }
   ],
   "source": [
    "# https://www.acmicpc.net/problem/1261\n",
    "\n",
    "# n, m = map(int, input().split())\n",
    "# maze = [input() for _ in range(n)]\n",
    "# print(n, m)\n",
    "# print(maze)\n",
    "\n",
    "# 미로 정보\n",
    "n, m = 6, 6\n",
    "maze = ['001111', '010000', '001111', '110001', '011010', '100010']\n",
    "\n",
    "# ---------------------------------------\n",
    "from collections import deque\n",
    "\n",
    "visited = [[-1]*n for _ in range(m)]\n",
    "visited[0][0] = 0\n",
    "q = deque()\n",
    "dx = [1,-1,0,0]\n",
    "dy = [0,0,1,-1]\n",
    "q.append([0, 0])\n",
    "\n",
    "while q:\n",
    "    x, y = q.popleft()\n",
    "    for i in range(4):\n",
    "        nx, ny = x+dx[i], y+dy[i]\n",
    "        if nx>=0 and nx<m and ny >=0 and ny<n:\n",
    "            if visited[nx][ny] == -1:\n",
    "                if maze[nx][ny] == '0':\n",
    "                    q.appendleft([nx, ny])\n",
    "                    visited[nx][ny] = visited[x][y]\n",
    "                elif maze[nx][ny] == '1':\n",
    "                    q.append([nx, ny])\n",
    "                    visited[nx][ny] = visited[x][y]+1\n",
    " \n",
    "print(visited[m-1][n-1])"
   ]
  }
 ]
}