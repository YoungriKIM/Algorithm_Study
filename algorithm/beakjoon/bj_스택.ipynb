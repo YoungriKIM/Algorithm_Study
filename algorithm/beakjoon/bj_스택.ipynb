{
  "nbformat": 4,
  "nbformat_minor": 0,
  "metadata": {
    "colab": {
      "name": "bj_스택",
      "provenance": [],
      "authorship_tag": "ABX9TyO1awKKkC0VMfNTB5yyfbUv"
    },
    "kernelspec": {
      "name": "python3",
      "display_name": "Python 3"
    },
    "language_info": {
      "name": "python"
    }
  },
  "cells": [
    {
      "cell_type": "code",
      "metadata": {
        "id": "ihFmlWNlha0H"
      },
      "source": [
        "import sys\n",
        "N = int(sys.stdin.readline())\n",
        "\n",
        "stack = []\n",
        "\n",
        "for _ in range(N):\n",
        "    word = sys.stdin.readline().split()\n",
        "    order = word[0]\n",
        "\n",
        "    if order == 'push':\n",
        "        value = word[1]\n",
        "        stack.append(value)\n",
        "\n",
        "    elif order == 'pop':\n",
        "        if len(stack)==0:\n",
        "            print(-1)\n",
        "        else:\n",
        "            print(stack.pop())\n",
        "    \n",
        "    elif order == 'size':\n",
        "        print(len(stack))\n",
        "\n",
        "    elif order=='empty':\n",
        "        if len(stack) == 0:\n",
        "            print(1)\n",
        "        else:\n",
        "            print(0)\n",
        "    \n",
        "    elif order == 'top':\n",
        "        if len(stack) == 0:\n",
        "            print(-1)\n",
        "        else: print(stack[-1])\n"
      ],
      "execution_count": null,
      "outputs": []
    }
  ]
}