{
 "cells": [
  {
   "cell_type": "code",
   "execution_count": 1,
   "metadata": {},
   "outputs": [],
   "source": [
    "# https://www.acmicpc.net/problem/1769"
   ]
  },
  {
   "cell_type": "code",
   "execution_count": 84,
   "metadata": {},
   "outputs": [
    {
     "name": "stdout",
     "output_type": "stream",
     "text": [
      "0\n",
      "NO\n"
     ]
    }
   ],
   "source": [
    "i, c = str(input()), 0\n",
    "if len(i) == 1 and int(i) % 3 == 0:\n",
    "    print(c);print('YES')\n",
    "elif len(i) == 1 and int(i) % 3 != 0:\n",
    "    print(c);print('NO')\n",
    "else:\n",
    "    while True:\n",
    "        i = str(sum([int(j) for j in list(i)]))\n",
    "        c += 1\n",
    "        if len(i)==1 and int(i) %3 == 0:\n",
    "            print(c);print('YES');break\n",
    "        elif len(i)==1 and int(i) % 3 != 0:\n",
    "            print(c);print('NO');break"
   ]
  }
 ],
 "metadata": {
  "interpreter": {
   "hash": "b18ecf447b39d25eae6a9ae9d5694327d58d99c869301a8afbbe0bb2ae2074bb"
  },
  "kernelspec": {
   "display_name": "Python 3.8.8 64-bit ('base': conda)",
   "name": "python3"
  },
  "language_info": {
   "name": "python",
   "version": "3.8.8"
  },
  "orig_nbformat": 4
 },
 "nbformat": 4,
 "nbformat_minor": 2
}
