{
 "cells": [
  {
   "cell_type": "code",
   "execution_count": 1,
   "metadata": {},
   "outputs": [],
   "source": [
    "# https://www.acmicpc.net/problem/4821"
   ]
  },
  {
   "cell_type": "code",
   "execution_count": 1,
   "metadata": {},
   "outputs": [
    {
     "name": "stdout",
     "output_type": "stream",
     "text": [
      "[10, 15]\n",
      "[25, 28]\n",
      "[8, 4]\n",
      "[13, 20]\n",
      "[9]\n",
      "[8, 8]\n",
      "12\n"
     ]
    }
   ],
   "source": [
    "t = '10-15,25-28,8-4,13-20,9,8-8'\n",
    "o = 19\n",
    "\n",
    "t = t.split(',')\n",
    "t_l = [list(map(int, i.split('-'))) for i in t]\n",
    "\n",
    "ps = []\n",
    "for n in t_l:\n",
    "    print(n)\n",
    "    if len(n) > 1 and n[0] <= n[1]:\n",
    "        ps.append(list(range(n[0], n[1]+1)))\n",
    "    elif len(n) == 1 :\n",
    "        ps.append(n)\n",
    "        \n",
    "a = [i for i in list(set(sum(ps, []))) if i <= o]\n",
    "\n",
    "print(len(a))"
   ]
  }
 ],
 "metadata": {
  "interpreter": {
   "hash": "b18ecf447b39d25eae6a9ae9d5694327d58d99c869301a8afbbe0bb2ae2074bb"
  },
  "kernelspec": {
   "display_name": "Python 3.8.8 64-bit ('base': conda)",
   "language": "python",
   "name": "python3"
  },
  "language_info": {
   "codemirror_mode": {
    "name": "ipython",
    "version": 3
   },
   "file_extension": ".py",
   "mimetype": "text/x-python",
   "name": "python",
   "nbconvert_exporter": "python",
   "pygments_lexer": "ipython3",
   "version": "3.8.8"
  },
  "orig_nbformat": 4
 },
 "nbformat": 4,
 "nbformat_minor": 2
}
