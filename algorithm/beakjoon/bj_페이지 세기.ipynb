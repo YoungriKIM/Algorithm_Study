{
 "cells": [
  {
   "cell_type": "code",
   "execution_count": 1,
   "metadata": {},
   "outputs": [],
   "source": [
    "# https://www.acmicpc.net/problem/4821"
   ]
  },
  {
   "cell_type": "code",
   "execution_count": 1,
   "metadata": {},
   "outputs": [
    {
     "name": "stdout",
     "output_type": "stream",
     "text": [
      "[10, 15]\n",
      "[25, 28]\n",
      "[8, 4]\n",
      "[13, 20]\n",
      "[9]\n",
      "[8, 8]\n",
      "12\n"
     ]
    }
   ],
   "source": [
    "t = '10-15,25-28,8-4,13-20,9,8-8'\n",
    "o = 19\n",
    "\n",
    "t = t.split(',')\n",
    "t_l = [list(map(int, i.split('-'))) for i in t]\n",
    "\n",
    "ps = []\n",
    "for n in t_l:\n",
    "    print(n)\n",
    "    if len(n) > 1 and n[0] <= n[1]:\n",
    "        ps.append(list(range(n[0], n[1]+1)))\n",
    "    elif len(n) == 1 :\n",
    "        ps.append(n)\n",
    "        \n",
    "a = [i for i in list(set(sum(ps, []))) if i <= o]\n",
    "\n",
    "print(len(a))"
   ]
  },
  {
   "cell_type": "code",
   "execution_count": 22,
   "metadata": {},
   "outputs": [
    {
     "name": "stdout",
     "output_type": "stream",
     "text": [
      "781\n"
     ]
    }
   ],
   "source": [
    "m = int(input())\n",
    "if m == 0 : pass\n",
    "elif m != 0 :\n",
    "    t = input()\n",
    "\n",
    "    t = t.split(',')\n",
    "    t_l = [list(map(int, i.split('-'))) for i in t]\n",
    "\n",
    "    ps = []\n",
    "    for n in t_l:\n",
    "        if len(n) > 1 and n[0] <= n[1]:\n",
    "            ps.append(list(range(n[0], n[1]+1)))\n",
    "        elif len(n) == 1 :\n",
    "            ps.append(n)\n",
    "            \n",
    "    a = [i for i in list(set(sum(ps, []))) if i <= m]\n",
    "\n",
    "    print(len(a))"
   ]
  },
  {
   "cell_type": "code",
   "execution_count": 12,
   "metadata": {},
   "outputs": [
    {
     "name": "stdout",
     "output_type": "stream",
     "text": [
      "[[10, 15], [25, 28], [8, 4], [13, 20], [9], [8, 8]]\n",
      "17\n"
     ]
    }
   ],
   "source": [
    "while True: \n",
    "    m = int(input())\n",
    "    if m == 0 : break\n",
    "    \n",
    "    t = input().split(',')\n",
    "    t_l = [list(map(int, i.split('-'))) for i in t]\n",
    "\n",
    "    ps = []\n",
    "    for n in t_l:\n",
    "        if len(n) > 1 and n[0] <= n[1]:\n",
    "            ps.append(list(range(n[0], n[1]+1)))\n",
    "        elif len(n) == 1 :\n",
    "            ps.append(n)\n",
    "            \n",
    "    a = [i for i in list(set(sum(ps, []))) if i <= m]\n",
    "\n",
    "    print(len(a))"
   ]
  },
  {
   "cell_type": "code",
   "execution_count": null,
   "metadata": {},
   "outputs": [],
   "source": [
    "while True:             # while로 무한 반복문 생성\n",
    "    m = int(input())    # input을 int 형태로 받고\n",
    "    if m == 0 : break   # input이 0이라면 탈출\n",
    "                        # 아니면 아래 부분 진행\n",
    "                        \n",
    "    # input: '10-15,25-28,8-4,13-20,9,8-8'\n",
    "    t = input().split(',')  # 콤마 기준으로 나눠 받기\n",
    "    t_l = [list(map(int, i.split('-'))) for i in t]\n",
    "    # >> 결과: [[10, 15], [25, 28], [8, 4], [13, 20], [9], [8, 8]]\n",
    "\n",
    "    ps = []\n",
    "    for n in t_l:\n",
    "        if len(n) > 1 and n[0] <= n[1]: # [9]처럼 단일이 아니라 값이 2개이고 뒤의 숫자가 앞보다 크다면\n",
    "            ps.append(list(range(n[0], n[1]+1))) # ps에 해당하는 페이지를 죽 저장\n",
    "        elif len(n) == 1 :  # [9]처럼 하나면 그냥 넣고\n",
    "            ps.append(n)\n",
    "            \n",
    "    a = [i for i in list(set(sum(ps, []))) if i <= m]   # 대신 m보다 크면 안되니, n보다 작은 것만 남기기\n",
    "\n",
    "    print(len(a))   # 남은 것의 길이 재서 반환"
   ]
  }
 ],
 "metadata": {
  "interpreter": {
   "hash": "b18ecf447b39d25eae6a9ae9d5694327d58d99c869301a8afbbe0bb2ae2074bb"
  },
  "kernelspec": {
   "display_name": "Python 3.8.8 64-bit ('base': conda)",
   "language": "python",
   "name": "python3"
  },
  "language_info": {
   "codemirror_mode": {
    "name": "ipython",
    "version": 3
   },
   "file_extension": ".py",
   "mimetype": "text/x-python",
   "name": "python",
   "nbconvert_exporter": "python",
   "pygments_lexer": "ipython3",
   "version": "3.8.8"
  },
  "orig_nbformat": 4
 },
 "nbformat": 4,
 "nbformat_minor": 2
}
