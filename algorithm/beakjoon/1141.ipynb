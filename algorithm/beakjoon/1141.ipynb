{
 "cells": [
  {
   "cell_type": "code",
   "execution_count": 37,
   "metadata": {},
   "outputs": [],
   "source": [
    "# t = ['hello','hi','h','run','rerun','running']\n",
    "# t = ['a','b','cba','cbc','cbb','ccc']\n",
    "# t = ['a','ab','abc','abcd','abcde','abcdef']\n",
    "t = ['topcoder','topcoder','topcoding']\n",
    "\n",
    "t.sort(key=lambda x:len(x))"
   ]
  },
  {
   "cell_type": "code",
   "execution_count": 41,
   "metadata": {},
   "outputs": [
    {
     "name": "stdout",
     "output_type": "stream",
     "text": [
      "5\n"
     ]
    }
   ],
   "source": [
    "t = [input() for _ in range(int(input()))]\n",
    "t.sort(key=lambda x:len(x))\n",
    "ans = []\n",
    "for w in t[::-1]:\n",
    "    if len(ans) == 0:\n",
    "        ans.append(w)\n",
    "    else:\n",
    "        st = True\n",
    "        for alw in ans:\n",
    "            if alw[:len(w)] == w :\n",
    "                st = False\n",
    "        if st == True:\n",
    "            ans.append(w)\n",
    "             \n",
    "print(len(ans))"
   ]
  },
  {
   "cell_type": "code",
   "execution_count": null,
   "metadata": {},
   "outputs": [],
   "source": []
  }
 ],
 "metadata": {
  "kernelspec": {
   "display_name": "Python 3.10.4 64-bit",
   "language": "python",
   "name": "python3"
  },
  "language_info": {
   "codemirror_mode": {
    "name": "ipython",
    "version": 3
   },
   "file_extension": ".py",
   "mimetype": "text/x-python",
   "name": "python",
   "nbconvert_exporter": "python",
   "pygments_lexer": "ipython3",
   "version": "3.10.4"
  },
  "orig_nbformat": 4,
  "vscode": {
   "interpreter": {
    "hash": "93ef1a3f4b6a0dafae6f510592dd0c0ebfe4c60f907ca9e4dacf456937af8702"
   }
  }
 },
 "nbformat": 4,
 "nbformat_minor": 2
}
