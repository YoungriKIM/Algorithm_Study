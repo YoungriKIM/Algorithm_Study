{
 "cells": [
  {
   "cell_type": "code",
   "execution_count": 53,
   "metadata": {},
   "outputs": [
    {
     "name": "stdout",
     "output_type": "stream",
     "text": [
      "['.']\n",
      "['.']\n",
      "0 0\n"
     ]
    }
   ],
   "source": [
    "r, n = [], int(input())\n",
    "for _ in range(n):\n",
    "    r.append(input())\n",
    "r_t = [''.join([x[i] for x in r]) for i in range(n)]\n",
    "\n",
    "def cn(list):\n",
    "    cnt = 0\n",
    "    for i in list:\n",
    "        if 'X' not in i and len(i) > 1: cnt+=1\n",
    "        elif '.' not in i : cnt+=0\n",
    "        else:\n",
    "            dotcnt = [j.count('.') for j in i.split('X')]\n",
    "            if len([i for i in dotcnt if i >= 2]) > 0 :\n",
    "                cnt+=len([i for i in dotcnt if i >= 2])\n",
    "    return cnt\n",
    "\n",
    "print(cn(r), cn(r_t))"
   ]
  }
 ],
 "metadata": {
  "interpreter": {
   "hash": "b18ecf447b39d25eae6a9ae9d5694327d58d99c869301a8afbbe0bb2ae2074bb"
  },
  "kernelspec": {
   "display_name": "Python 3.8.8 64-bit ('base': conda)",
   "name": "python3"
  },
  "language_info": {
   "codemirror_mode": {
    "name": "ipython",
    "version": 3
   },
   "file_extension": ".py",
   "mimetype": "text/x-python",
   "name": "python",
   "nbconvert_exporter": "python",
   "pygments_lexer": "ipython3",
   "version": "3.8.8"
  },
  "orig_nbformat": 4
 },
 "nbformat": 4,
 "nbformat_minor": 2
}
