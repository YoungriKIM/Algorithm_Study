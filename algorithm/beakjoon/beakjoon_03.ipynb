{
 "metadata": {
  "language_info": {
   "codemirror_mode": {
    "name": "ipython",
    "version": 3
   },
   "file_extension": ".py",
   "mimetype": "text/x-python",
   "name": "python",
   "nbconvert_exporter": "python",
   "pygments_lexer": "ipython3",
   "version": "3.8.5"
  },
  "orig_nbformat": 2,
  "kernelspec": {
<<<<<<< HEAD
   "name": "python385jvsc74a57bd0183bbf6827d058c2a2fb0f4acdc0420849dda2b4380af0e437e38c64d798d8b7",
=======
   "name": "python385jvsc74a57bd0b18ecf447b39d25eae6a9ae9d5694327d58d99c869301a8afbbe0bb2ae2074bb",
>>>>>>> 4382e009efc159d60b01acdd36e36d499b4b28a9
   "display_name": "Python 3.8.5 64-bit (conda)"
  }
 },
 "nbformat": 4,
 "nbformat_minor": 2,
 "cells": [
  {
   "cell_type": "code",
<<<<<<< HEAD
   "execution_count": 43,
=======
   "execution_count": 27,
>>>>>>> 4382e009efc159d60b01acdd36e36d499b4b28a9
   "metadata": {},
   "outputs": [
    {
     "output_type": "stream",
     "name": "stdout",
     "text": [
<<<<<<< HEAD
      "['1', '7', '0', '3', '7', '3', '0', '0']\n3\n1\n0\n2\n0\n0\n0\n2\n0\n0\n"
=======
      "21\n"
>>>>>>> 4382e009efc159d60b01acdd36e36d499b4b28a9
     ]
    }
   ],
   "source": [
<<<<<<< HEAD
    "# 숫자의 개수 출처분류\n",
    "import numpy as np\n",
    "\n",
    "A = int(input())\n",
    "B = int(input())\n",
    "C = int(input())\n",
    "multinum =  A*B*C\n",
    "list = []\n",
    "for i in str(multinum):\n",
    "    list.append(i)\n",
    "count = 0\n",
    "for i in range(10):\n",
    "    for num in list:\n",
    "        if str(i) == num: count+=1\n",
    "    print(count)\n",
    "    count = 0"
   ]
  },
  {
   "cell_type": "code",
   "execution_count": 49,
   "metadata": {},
   "outputs": [
    {
     "output_type": "stream",
     "name": "stdout",
     "text": [
      "10\n"
     ]
    }
   ],
   "source": [
    "# 나머지 출처다국어분류\n",
    "\n",
    "list = []\n",
    "for i in range(10):\n",
    "    nums = int(input())\n",
    "    rest = nums%42\n",
    "    list.append(rest)\n",
    "list = set(list) # 집합형으로 만들어줌\n",
    "print(len(list))"
   ]
  },
  {
   "cell_type": "code",
   "execution_count": 90,
   "metadata": {},
   "outputs": [
    {
     "output_type": "error",
     "ename": "TypeError",
     "evalue": "'set' object is not callable",
     "traceback": [
      "\u001b[1;31m---------------------------------------------------------------------------\u001b[0m",
      "\u001b[1;31mTypeError\u001b[0m                                 Traceback (most recent call last)",
      "\u001b[1;32m<ipython-input-90-e764a5c9764f>\u001b[0m in \u001b[0;36m<module>\u001b[1;34m\u001b[0m\n\u001b[0;32m      1\u001b[0m \u001b[1;31m# 평균\u001b[0m\u001b[1;33m\u001b[0m\u001b[1;33m\u001b[0m\u001b[1;33m\u001b[0m\u001b[0m\n\u001b[0;32m      2\u001b[0m \u001b[0mN\u001b[0m \u001b[1;33m=\u001b[0m \u001b[0mint\u001b[0m\u001b[1;33m(\u001b[0m\u001b[0minput\u001b[0m\u001b[1;33m(\u001b[0m\u001b[1;33m)\u001b[0m\u001b[1;33m)\u001b[0m\u001b[1;33m\u001b[0m\u001b[1;33m\u001b[0m\u001b[0m\n\u001b[1;32m----> 3\u001b[1;33m \u001b[0mscore\u001b[0m \u001b[1;33m=\u001b[0m \u001b[0mlist\u001b[0m\u001b[1;33m(\u001b[0m\u001b[0mmap\u001b[0m\u001b[1;33m(\u001b[0m\u001b[0mint\u001b[0m\u001b[1;33m,\u001b[0m \u001b[0minput\u001b[0m\u001b[1;33m(\u001b[0m\u001b[1;33m)\u001b[0m\u001b[1;33m.\u001b[0m\u001b[0msplit\u001b[0m\u001b[1;33m(\u001b[0m\u001b[1;33m)\u001b[0m\u001b[1;33m)\u001b[0m\u001b[1;33m)\u001b[0m\u001b[1;33m\u001b[0m\u001b[1;33m\u001b[0m\u001b[0m\n\u001b[0m\u001b[0;32m      4\u001b[0m \u001b[0mpoint\u001b[0m \u001b[1;33m=\u001b[0m \u001b[0mmax\u001b[0m\u001b[1;33m(\u001b[0m\u001b[0mscore\u001b[0m\u001b[1;33m)\u001b[0m\u001b[1;33m\u001b[0m\u001b[1;33m\u001b[0m\u001b[0m\n\u001b[0;32m      5\u001b[0m \u001b[0msum\u001b[0m \u001b[1;33m=\u001b[0m \u001b[1;36m0\u001b[0m\u001b[1;33m\u001b[0m\u001b[1;33m\u001b[0m\u001b[0m\n",
      "\u001b[1;31mTypeError\u001b[0m: 'set' object is not callable"
     ]
    }
   ],
   "source": [
    "# 평균 \n",
    "N = int(input())\n",
    "score = list(map(int, input().split()))\n",
    "point = max(score)\n",
    "sum = 0\n",
    "for i in score:\n",
    "    sum = sum + ((int(i)/point)*100)\n",
    "print(sum/N)"
=======
    "# 블랙잭 \n",
    "\n",
    "# n = 5\n",
    "# m = 21\n",
    "# C = [5, 6, 7, 8, 9]\n",
    "\n",
    "n, m = map(int, input().split())\n",
    "C = list(map(int, input().split()))\n",
    "multis = []\n",
    "for i in C:\n",
    "    for j in [c for c in C if c!=i]:\n",
    "        for l in [z for z in C if z!=i and z!=j]:\n",
    "            multi = i+j+l\n",
    "            multis.append(multi)\n",
    "num = max([v for v in multis if v <= m])\n",
    "print(num)   "
>>>>>>> 4382e009efc159d60b01acdd36e36d499b4b28a9
   ]
  }
 ]
}