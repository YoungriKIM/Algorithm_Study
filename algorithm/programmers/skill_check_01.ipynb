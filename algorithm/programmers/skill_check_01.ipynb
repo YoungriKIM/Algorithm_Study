{
 "metadata": {
  "language_info": {
   "codemirror_mode": {
    "name": "ipython",
    "version": 3
   },
   "file_extension": ".py",
   "mimetype": "text/x-python",
   "name": "python",
   "nbconvert_exporter": "python",
   "pygments_lexer": "ipython3",
   "version": "3.8.5"
  },
  "orig_nbformat": 2,
  "kernelspec": {
   "name": "python385jvsc74a57bd0b18ecf447b39d25eae6a9ae9d5694327d58d99c869301a8afbbe0bb2ae2074bb",
   "display_name": "Python 3.8.5 64-bit (conda)"
  }
 },
 "nbformat": 4,
 "nbformat_minor": 2,
 "cells": [
  {
   "cell_type": "code",
   "execution_count": 170,
   "metadata": {},
   "outputs": [
    {
     "output_type": "stream",
     "name": "stdout",
     "text": [
      "count: 1\ncount: 2\n4\n"
     ]
    }
   ],
   "source": [
    "# 크레인 인형 뽑기\n",
    "# 직접 만들기\n",
    "# 너무 비효율적...행 / 열을 불러와서 쓰도록\n",
    "import numpy as np\n",
    "\n",
    "B = [[0,0,0,0,0],[0,0,1,0,3],[0,2,5,0,1],[4,2,4,4,2],[3,5,1,3,1]]\n",
    "M = [1,5,3,5,1,2,1,4]\n",
    "\n",
    "B_trans = np.transpose(B)\n",
    "\n",
    "new_list = []\n",
    "for b_tran in B_trans:\n",
    "    del_zero = list(a for a in b_tran if a > 0)\n",
    "    new_list.append(del_zero)\n",
    "\n",
    "box = [' ']\n",
    "count = 0\n",
    "for i in M:\n",
    "    if len(new_list[i-1]) > 0:\n",
    "        num = new_list[i-1][0]\n",
    "        if num == box[-1]:\n",
    "            count += 1\n",
    "            print('count:' ,count)\n",
    "            box = box[:-1]\n",
    "        else:\n",
    "            box.append(num)\n",
    "            new_list[i-1] = np.delete(new_list[i-1],0,0)\n",
    "print(count*2)"
   ]
  },
  {
   "cell_type": "code",
   "execution_count": 223,
   "metadata": {},
   "outputs": [
    {
     "output_type": "stream",
     "name": "stdout",
     "text": [
      "[4]\n[4, 3]\n[4, 3, 1]\n[4, 3, 1, 1]\n[4, 3, 3]\n[4, 2]\n[4, 2]\n[4, 2, 4]\n"
     ]
    },
    {
     "output_type": "execute_result",
     "data": {
      "text/plain": [
       "4"
      ]
     },
     "metadata": {},
     "execution_count": 223
    }
   ],
   "source": [
    "# 참고 코드\n",
    "# moves를 [열]로 고정하고 [행]에 0이 있으면 넘기는 식으로 숫자 불러오기\n",
    "\n",
    "board = [[0,0,0,0,0],\n",
    "        [0,0,1,0,3],\n",
    "        [0,2,5,0,1],\n",
    "        [4,2,4,4,2],\n",
    "        [3,5,1,3,1]]\n",
    "moves = [1,5,3,5,1,2,1,4]\n",
    "\n",
    "def solution(board, moves):\n",
    "    basket = [] \n",
    "    count = 0\n",
    "    for j in moves:\n",
    "        for i in range(len(board)):\n",
    "            if board[i][j-1] == 0 :\n",
    "                pass\n",
    "            else :\n",
    "                basket.append(board[i][j-1])\n",
    "                board[i][j-1] = 0\n",
    "                break\n",
    "        if len(basket) >= 2 and basket[-1]==basket[-2]:\n",
    "            count += 1\n",
    "            basket.pop(-1)\n",
    "            basket.pop(-1)\n",
    "    return(count*2)\n",
    "\n",
    "solution(board, moves)"
   ]
  },
  {
   "cell_type": "code",
   "execution_count": null,
   "metadata": {},
   "outputs": [],
   "source": [
    "def solution(board, moves):\n",
    "    answer = 0\n",
    "    basket = []\n",
    "    for i in moves:\n",
    "        for j in range(len(board)):\n",
    "            if board[j][i-1] == 0:\n",
    "                pass\n",
    "            else : \n",
    "                basket.append(board[j][i-1])\n",
    "                board[j][i-1] = 0\n",
    "                break\n",
    "        if len(basket) >= 2 and basket[len(basket)-1] == basket[len(basket)-2]:\n",
    "            basket.pop(-1)\n",
    "            basket.pop(-1)\n",
    "            answer += 1\n",
    "    return answer*2"
   ]
  },
  {
   "cell_type": "code",
   "execution_count": 317,
   "metadata": {},
   "outputs": [
    {
     "output_type": "execute_result",
     "data": {
      "text/plain": [
       "'mislav'"
      ]
     },
     "metadata": {},
     "execution_count": 317
    }
   ],
   "source": [
    "# 완주하지 못한 선수\n",
    "\n",
    "participant = [\"mislav\", \"stanko\", \"mislav\", \"ana\"]\t\n",
    "completion = [\"stanko\", \"ana\", \"mislav\"]\t\n",
    "\n",
    "def solution(participant, completion):\n",
    "    for i in completion:\n",
    "        if i in participant: participant.pop(participant.index(i))\n",
    "    for answer in participant:\n",
    "        return answer\n",
    "\n",
    "solution(participant, completion)\n",
    "\n",
    "# 효율성에서 0 점 ㅡㅡ"
   ]
  },
  {
   "cell_type": "code",
   "execution_count": 320,
   "metadata": {},
   "outputs": [
    {
     "output_type": "execute_result",
     "data": {
      "text/plain": [
       "'mislav'"
      ]
     },
     "metadata": {},
     "execution_count": 320
    }
   ],
   "source": [
    "participant = [\"mislav\", \"stanko\", \"mislav\", \"ana\"]\t\n",
    "completion = [\"stanko\", \"ana\", \"mislav\"]\t\n",
    "\n",
    "# 딕셔너리, 해시로 해결한 문제\n",
    "\n",
    "def solution(participant, completion):\n",
    "    answer = ''\n",
    "    dict1 = {}\n",
    "    for p in participant:\n",
    "        if p not in dict1:\n",
    "            dict1[p] = 0\n",
    "        if p in dict1:\n",
    "            dict1[p] = dict1.get(p) + 1\n",
    "    for c in completion:\n",
    "        dict1[c] = dict1.get(c)-1\n",
    "    for p in participant:\n",
    "        if dict1[p] == 1:\n",
    "            answer = p\n",
    "    return answer\n",
    "\n",
    "solution(participant, completion)"
   ]
  },
  {
   "cell_type": "code",
   "execution_count": 327,
   "metadata": {},
   "outputs": [
    {
     "output_type": "execute_result",
     "data": {
      "text/plain": [
       "'mislav'"
      ]
     },
     "metadata": {},
     "execution_count": 327
    }
   ],
   "source": [
    "participant = [\"mislav\", \"stanko\", \"mislav\", \"ana\"]\t\n",
    "completion = [\"stanko\", \"ana\", \"mislav\"]\t\n",
    "\n",
    "def solution(participant, completion):\n",
    "    answer = ''\n",
    "    dict1 = {}  # 딕셔너리로 지정\n",
    "    # for문 돌면서 키값에 나온만큼 밸류 숫자로 저장\n",
    "    for p in participant:\n",
    "        if p not in dict1:\n",
    "            dict1[p] = 0\n",
    "        if p in dict1:\n",
    "            dict1[p] = dict1.get(p)+1\n",
    "    # 이번에는 completion에 있는 값을 키로 넣어서 있으면 -1 빼기\n",
    "    for c in completion:\n",
    "        dict1[c] = dict1.get(c)-1\n",
    "    # 겹쳐진 값은 0이되고 그래도 존재하는 값은 1 그 값이 정답\n",
    "    for p in participant:\n",
    "        if dict1[p] == 1:\n",
    "            answer = p\n",
    "    return answer\n",
    "\n",
    "solution(participant, completion)"
   ]
  }
 ]
}