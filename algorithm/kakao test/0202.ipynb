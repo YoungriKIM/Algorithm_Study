{
 "metadata": {
  "language_info": {
   "codemirror_mode": {
    "name": "ipython",
    "version": 3
   },
   "file_extension": ".py",
   "mimetype": "text/x-python",
   "name": "python",
   "nbconvert_exporter": "python",
   "pygments_lexer": "ipython3",
   "version": "3.8.5"
  },
  "orig_nbformat": 2,
  "kernelspec": {
   "name": "python385jvsc74a57bd0b18ecf447b39d25eae6a9ae9d5694327d58d99c869301a8afbbe0bb2ae2074bb",
   "display_name": "Python 3.8.5 64-bit (conda)"
  }
 },
 "nbformat": 4,
 "nbformat_minor": 2,
 "cells": [
  {
   "cell_type": "code",
   "execution_count": 37,
   "metadata": {},
   "outputs": [
    {
     "output_type": "stream",
     "name": "stdout",
     "text": [
      "[1, 0, 1, 1, 1]\n"
     ]
    }
   ],
   "source": [
    "places = [[\"POOOP\", \"OXXOX\", \"OPXPX\", \"OOXOX\", \"POXXP\"], [\"POOPX\", \"OXPXP\", \"PXXXO\", \"OXXXO\", \"OOOPP\"], [\"PXOPX\", \"OXOXP\", \"OXPXX\", \"OXXXP\", \"POOXX\"], [\"OOOXX\", \"XOOOX\", \"OOOXX\", \"OXOOX\", \"OOOOO\"], [\"PXPXP\", \"XPXPX\", \"PXPXP\", \"XPXPX\", \"PXPXP\"]]\n",
    "answer = []\n",
    "\n",
    "for p1 in places:\n",
    "    # p1 = places[0]\n",
    "\n",
    "    visited = [[0]*5 for _ in range(5)]\n",
    "    # print(visited)\n",
    "\n",
    "    loca = []\n",
    "    for i in range(5):\n",
    "        for j in range(5):\n",
    "            visited[i][j] = p1[i][j]\n",
    "            if visited[i][j] == 'P':\n",
    "                loca.append((i,j))\n",
    "\n",
    "    # print(visited)\n",
    "    # print(loca)\n",
    "\n",
    "    def manhattan(pt1, pt2):\n",
    "        distance = abs(pt1[0]-pt2[0]) + abs(pt1[1]-pt2[1])\n",
    "        return distance\n",
    "\n",
    "    result = 1\n",
    "\n",
    "    for k in loca :\n",
    "        for z in loca:\n",
    "            if k != z :\n",
    "                distance = manhattan(k,z)\n",
    "                if distance < 2 :\n",
    "                    result = 0\n",
    "                if distance < 3 :\n",
    "                    # print(k,z)\n",
    "                    topx = min(k[0],z[0])\n",
    "                    topy = min(k[1],z[1])\n",
    "                    botx = max(k[0],z[0])\n",
    "                    boty = max(k[1],z[1])\n",
    "                    # print(topx, topy, botx, boty)\n",
    "                    for ht in range(topx, botx):\n",
    "                        for wt in range(topy, boty):\n",
    "                            if visited[ht][wt] == 'O': result = 0\n",
    "    answer.append(result)\n",
    "print(answer)"
   ]
  },
  {
   "cell_type": "code",
   "execution_count": null,
   "metadata": {},
   "outputs": [],
   "source": [
    "places = [[\"POOOP\", \"OXXOX\", \"OPXPX\", \"OOXOX\", \"POXXP\"], [\"POOPX\", \"OXPXP\", \"PXXXO\", \"OXXXO\", \"OOOPP\"], [\"PXOPX\", \"OXOXP\", \"OXPXX\", \"OXXXP\", \"POOXX\"], [\"OOOXX\", \"XOOOX\", \"OOOXX\", \"OXOOX\", \"OOOOO\"], [\"PXPXP\", \"XPXPX\", \"PXPXP\", \"XPXPX\", \"PXPXP\"]]\n",
    "answer = []\n",
    "\n",
    "\n",
    "p1 = places[0]\n",
    "\n",
    "visited = [[0]*5 for _ in range(5)]\n",
    "# print(visited)\n",
    "\n",
    "loca = []\n",
    "for i in range(5):\n",
    "    for j in range(5):\n",
    "        visited[i][j] = p1[i][j]\n",
    "        if visited[i][j] == 'P':\n",
    "            loca.append((i,j))\n",
    "\n",
    "# print(visited)\n",
    "# print(loca)\n",
    "\n",
    "def manhattan(pt1, pt2):\n",
    "    distance = abs(pt1[0]-pt2[0]) + abs(pt1[1]-pt2[1])\n",
    "    return distance\n",
    "\n",
    "result = 1\n",
    "\n",
    "for k in loca :\n",
    "    for z in loca:\n",
    "        if k != z :\n",
    "            distance = manhattan(k,z)\n",
    "            if distance < 2 :\n",
    "                result = 0\n",
    "            if distance < 3 :\n",
    "                # print(k,z)\n",
    "                topx = min(k[0],z[0])\n",
    "                topy = min(k[1],z[1])\n",
    "                botx = max(k[0],z[0])\n",
    "                boty = max(k[1],z[1])\n",
    "                # print(topx, topy, botx, boty)\n",
    "                for ht in range(topx, botx):\n",
    "                    for wt in range(topy, boty):\n",
    "                        if visited[ht][wt] == 'O': result = 0\n",
    "answer.append(result)\n",
    "print(answer)"
   ]
  },
  {
   "cell_type": "code",
   "execution_count": 70,
   "metadata": {},
   "outputs": [
    {
     "output_type": "stream",
     "name": "stdout",
     "text": [
      "1\n"
     ]
    }
   ],
   "source": [
    "n = 3\n",
    "start = 1\n",
    "end = 3\n",
    "roads = [[1, 2, 2], [3, 2, 3]]\n",
    "traps = [2]\n",
    "result = 5\n",
    "\n",
    "my = 1\n",
    "times = 0\n",
    "\n",
    "def go(info):\n",
    "    en = info[1]\n",
    "    my = en\n",
    "\n",
    "if my == roads[0][0]:\n",
    "    go(roads[0])\n",
    "\n",
    "print(my)\n"
   ]
  },
  {
   "cell_type": "code",
   "execution_count": null,
   "metadata": {
    "tags": []
   },
   "outputs": [],
   "source": [
    "n = 3\n",
    "start = 1\n",
    "end = 3\n",
    "# roads = [[1, 2, 2], [3, 2, 3]]\n",
    "# traps = [2]\n",
    "\n",
    "roads = [[1, 2, 1], [3, 2, 1], [2, 4, 1]]\n",
    "traps = [2, 3]\n",
    "\n",
    "time = 0\n",
    "\n",
    "def goto(my, road):\n",
    "    my = road[1]\n",
    "    time += road[2]\n",
    "    print(my)\n",
    "    return my\n",
    "\n",
    "\n",
    "def find_road(my):\n",
    "    uses = [v for v in roads if my == v[0] or my == v[1]]\n",
    "    if my in traps:\n",
    "        for use in uses:\n",
    "            uses.append([use[1], use[0], use[2]])\n",
    "            uses = uses[1:]\n",
    "    if len(uses) < 2 : result = uses[0]\n",
    "    else:\n",
    "        for use in uses:\n",
    "            if use[0] == my:\n",
    "                for z in uses:\n",
    "                    if use[1] > z[1] : result = use\n",
    "    \n",
    "    print(result)\n",
    "    return result\n",
    "\n",
    "my = 1\n",
    "while True:\n",
    "    road = find_road(my)\n",
    "    print(road)\n",
    "    my = goto(my, road)\n",
    "    print(my)\n",
    "    if my == end : break\n",
    "print(time)\n",
    "\n"
   ]
  },
  {
   "cell_type": "code",
   "execution_count": 121,
   "metadata": {},
   "outputs": [
    {
     "output_type": "execute_result",
     "data": {
      "text/plain": [
       "2"
      ]
     },
     "metadata": {},
     "execution_count": 121
    }
   ],
   "source": [
    "    my = my\n",
    "n = 3\n",
    "start = 1\n",
    "end = 3\n",
    "# roads = [[1, 2, 2], [3, 2, 3]]\n",
    "# traps = [2, 3]\n",
    "\n",
    "roads = [[1, 2, 1], [3, 2, 1], [2, 4, 1]]\n",
    "traps = [2, 3]\n",
    "\n",
    "def solution(n, start, end, roads, traps):\n",
    "    \n",
    "    # n 방 개수\n",
    "    # start 출발 방 \n",
    "    # end 도착 방\n",
    "    # roads 통로와 시간 [통로 출발, 통로 도착, 걸리는 시간]\n",
    "    # traps 함정방\n",
    "    \n",
    "    location = start\n",
    "    time = 0\n",
    "    trapc = 0\n",
    "    \n",
    "    for num1 in range(10):\n",
    "    \n",
    "        for num in roads:\n",
    "            \n",
    "            if trapc == 0:\n",
    "                if location == num[0]:\n",
    "                    location = num[1]\n",
    "                    time += num[2]\n",
    "            else:\n",
    "                num.reverse()\n",
    "                if location == num[1]:\n",
    "                    location = num[2]\n",
    "                    time += num[0]\n",
    "\n",
    "            try:\n",
    "                if traps.index(location) >= 0:\n",
    "                    trapc = 1\n",
    "            except:\n",
    "                trapc = 0\n",
    "\n",
    "        if location == end:\n",
    "            break\n",
    "\n",
    "    \n",
    "    return time\n",
    "\n",
    "solution(n, start, end, roads, traps)"
   ]
  },
  {
   "cell_type": "code",
   "execution_count": 225,
   "metadata": {},
   "outputs": [
    {
     "output_type": "error",
     "ename": "SyntaxError",
     "evalue": "invalid syntax (<ipython-input-225-b7d32e5b67c4>, line 2)",
     "traceback": [
      "\u001b[1;36m  File \u001b[1;32m\"<ipython-input-225-b7d32e5b67c4>\"\u001b[1;36m, line \u001b[1;32m2\u001b[0m\n\u001b[1;33m    uses.del(0)\u001b[0m\n\u001b[1;37m         ^\u001b[0m\n\u001b[1;31mSyntaxError\u001b[0m\u001b[1;31m:\u001b[0m invalid syntax\n"
     ]
    }
   ],
   "source": [
    "uses = [[1, 2, 1], [1, 3, 2]]\n",
    "uses.del(0)\n",
    "\n",
    "print(uses)"
   ]
  }
 ]
}