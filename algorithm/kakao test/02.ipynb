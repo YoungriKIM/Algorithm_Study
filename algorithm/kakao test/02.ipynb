{
 "metadata": {
  "language_info": {
   "codemirror_mode": {
    "name": "ipython",
    "version": 3
   },
   "file_extension": ".py",
   "mimetype": "text/x-python",
   "name": "python",
   "nbconvert_exporter": "python",
   "pygments_lexer": "ipython3",
   "version": "3.8.5"
  },
  "orig_nbformat": 2,
  "kernelspec": {
   "name": "python385jvsc74a57bd0b18ecf447b39d25eae6a9ae9d5694327d58d99c869301a8afbbe0bb2ae2074bb",
   "display_name": "Python 3.8.5 64-bit (conda)"
  }
 },
 "nbformat": 4,
 "nbformat_minor": 2,
 "cells": [
  {
   "cell_type": "code",
   "execution_count": null,
   "metadata": {
    "tags": []
   },
   "outputs": [],
   "source": [
    "places = [[\"POOOP\", \"OXXOX\", \"OPXPX\", \"OOXOX\", \"POXXP\"], [\"POOPX\", \"OXPXP\", \"PXXXO\", \"OXXXO\", \"OOOPP\"], [\"PXOPX\", \"OXOXP\", \"OXPXX\", \"OXXXP\", \"POOXX\"], [\"OOOXX\", \"XOOOX\", \"OOOXX\", \"OXOOX\", \"OOOOO\"], [\"PXPXP\", \"XPXPX\", \"PXPXP\", \"XPXPX\", \"PXPXP\"]]\n",
    "\n",
    "p1 = places[1]\n",
    "\n",
    "visited = [[0]*5 for _ in range(5)]\n",
    "print(visited)\n",
    "\n",
    "loca = []\n",
    "\n",
    "for i in range(5):\n",
    "    for j in range(5):\n",
    "        visited[i][j] = p1[i][j]\n",
    "        if visited[i][j] == 'P':\n",
    "            loca.append((i,j))\n",
    "\n",
    "print(visited)\n",
    "print(loca)\n",
    "\n",
    "def manhattan(pt1, pt2):\n",
    "    distance = abs(pt1[0]-pt2[0]) + abs(pt1[1]-pt2[1])\n",
    "    return distance\n",
    "\n",
    "manh = []\n",
    "for k in loca :\n",
    "    for z in loca:\n",
    "        if k != z :\n",
    "            distance = manhattan(k,z)\n",
    "            if distance < 3 : print(k,z)"
   ]
  },
  {
   "cell_type": "code",
   "execution_count": 62,
   "metadata": {},
   "outputs": [
    {
     "output_type": "execute_result",
     "data": {
      "text/plain": [
       "234567"
      ]
     },
     "metadata": {},
     "execution_count": 62
    }
   ],
   "source": [
    "#1 번\n",
    "s = \"23four5six7\"\n",
    "\n",
    "import re\n",
    "def solution(s):\n",
    "    answer = 0\n",
    "    test = s\n",
    "    alpha = [\"zero\",\"one\",\"two\",\"three\",\"four\",\"five\",\"six\",\"seven\",\"eight\",\"nine\"]\n",
    "    nums = [\"0\",\"1\",\"2\",\"3\",\"4\",\"5\",\"6\",\"7\",\"8\",\"9\"]\n",
    "    for i in range(10):\n",
    "        b = test.replace(alpha[i],nums[i])\n",
    "        test = b\n",
    "        answer = test        \n",
    "    answer = int(answer)\n",
    "    \n",
    "    return answer\n",
    "\n",
    "solution(s)"
   ]
  }
 ]
}