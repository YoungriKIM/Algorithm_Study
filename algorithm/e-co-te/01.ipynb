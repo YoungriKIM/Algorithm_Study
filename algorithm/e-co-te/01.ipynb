{
 "metadata": {
  "language_info": {
   "codemirror_mode": {
    "name": "ipython",
    "version": 3
   },
   "file_extension": ".py",
   "mimetype": "text/x-python",
   "name": "python",
   "nbconvert_exporter": "python",
   "pygments_lexer": "ipython3",
   "version": "3.8.5"
  },
  "orig_nbformat": 2,
  "kernelspec": {
   "name": "python385jvsc74a57bd0b18ecf447b39d25eae6a9ae9d5694327d58d99c869301a8afbbe0bb2ae2074bb",
   "display_name": "Python 3.8.5 64-bit (conda)"
  }
 },
 "nbformat": 4,
 "nbformat_minor": 2,
 "cells": [
  {
   "cell_type": "code",
   "execution_count": 1,
   "metadata": {},
   "outputs": [
    {
     "output_type": "stream",
     "name": "stdout",
     "text": [
      "걸린 시간:  0.0\n"
     ]
    }
   ],
   "source": [
    "# 수행 시간 측정\n",
    "\n",
    "import time\n",
    "start_time = time.time() #측정 시작\n",
    "\n",
    "# 프로그램 소스코드 부분\n",
    "\n",
    "end_time = time.time() # 측정 종료\n",
    "print('걸린 시간: ', end_time - start_time) # 두 차리로 시간 측정\n"
   ]
  },
  {
   "cell_type": "code",
   "execution_count": 5,
   "metadata": {},
   "outputs": [
    {
     "output_type": "stream",
     "name": "stdout",
     "text": [
      "5.0\n-0.7\n1000000000.0\n1000000000\n752.5\n"
     ]
    }
   ],
   "source": [
    "a = 5.\n",
    "print(a)\n",
    "\n",
    "a = -.7\n",
    "print(a)\n",
    "\n",
    "a = 1e9\n",
    "print(a)\n",
    "\n",
    "a = int(1e9)\n",
    "print(a)\n",
    "\n",
    "a = 75.25e1\n",
    "print(a)"
   ]
  },
  {
   "cell_type": "code",
   "execution_count": 16,
   "metadata": {},
   "outputs": [
    {
     "output_type": "stream",
     "name": "stdout",
     "text": [
      "0.8999999999999999\n0.9\n2.5\n2\n1\n25\n25\n"
     ]
    }
   ],
   "source": [
    "a = 0.3 + 0.6\n",
    "print(a)\n",
    "\n",
    "a = round(a, 4)\n",
    "print(a)\n",
    "\n",
    "print(5/2)\n",
    "print(5//2)\n",
    "print(5%2)\n",
    "print(5**2)\n",
    "print(5**2)\n",
    "\n"
   ]
  },
  {
   "cell_type": "code",
   "execution_count": 29,
   "metadata": {},
   "outputs": [
    {
     "output_type": "stream",
     "name": "stdout",
     "text": [
      "[0, 0, 0, 0, 0, 0, 0, 0, 0, 0]\n[7, 0, 0, 0, 0, 0, 0, 0, 0, 0]\n"
     ]
    }
   ],
   "source": [
    "n = 10\n",
    "a = [0] * n\n",
    "print(a)\n",
    "\n",
    "a[0] = 7\n",
    "print(a)"
   ]
  },
  {
   "cell_type": "code",
   "execution_count": 33,
   "metadata": {},
   "outputs": [
    {
     "output_type": "stream",
     "name": "stdout",
     "text": [
      "[0, 1, 2, 3, 4, 5, 6, 7, 8, 9]\n[1, 3, 5, 7, 9]\n[1, 4, 9, 16, 25, 36, 49, 64, 81]\n"
     ]
    }
   ],
   "source": [
    "# 리스트 컴프리헨션\n",
    "\n",
    "array = [i for i in range(10)]\n",
    "print(array)\n",
    "\n",
    "array = [i for i in range(10) if i % 2 == 1]    # 홀수만\n",
    "print(array)\n",
    "\n",
    "array = [i*i for i in range(1, 10)]     # 제곱값만\n",
    "print(array)\n"
   ]
  },
  {
   "cell_type": "code",
   "execution_count": 36,
   "metadata": {},
   "outputs": [
    {
     "output_type": "stream",
     "name": "stdout",
     "text": [
      "[[0, 0, 0], [0, 0, 0], [0, 0, 0], [0, 0, 0]]\n[[0, 0, 0], [0, 0, 0], [0, 0, 5], [0, 0, 0]]\n"
     ]
    }
   ],
   "source": [
    "n = 4\n",
    "m = 3\n",
    "array = [[0] * m for _ in range(n)]     # 0이 3개인 리스트를 4번 > list로\n",
    "print(array)\n",
    "\n",
    "array[2][2] = 5\n",
    "print(array)"
   ]
  },
  {
   "cell_type": "code",
   "execution_count": 44,
   "metadata": {},
   "outputs": [
    {
     "output_type": "stream",
     "name": "stdout",
     "text": [
      "*\n*\n*\n*\n*\n[1, 2, 3, 4, 2]\n[1, 2, 'a', 3, 4, 2]\n[2, 4, 3, 'a', 2, 1]\n[2, 'a', 2, 1]\n"
     ]
    }
   ],
   "source": [
    "for _ in range(5):\r\n",
    "    print('*')\r\n",
    "\r\n",
    "a = [1,2,3,4]\r\n",
    "\r\n",
    "a.append(2)\r\n",
    "print(a)\r\n",
    "\r\n",
    "a.insert(2, 'a')\r\n",
    "print(a)\r\n",
    "\r\n",
    "a.reverse()\r\n",
    "print(a)\r\n",
    "\r\n",
    "# 삭제\r\n",
    "remove_set = {4, 3}\r\n",
    "\r\n",
    "result = [i for i in a if i not in remove_set]\r\n",
    "print(result)"
   ]
  },
  {
   "cell_type": "code",
   "execution_count": 50,
   "metadata": {},
   "outputs": [
    {
     "output_type": "stream",
     "name": "stdout",
     "text": [
      "{'사과': 'apple', '바나나': 'banana', '코코넛': 'coconut'}\n자료 안에 사과가 존재합니다.\ndict_keys(['사과', '바나나', '코코넛'])\ndict_values(['apple', 'banana', 'coconut'])\n"
     ]
    }
   ],
   "source": [
    "data = dict()\n",
    "data['사과'] = 'apple'\n",
    "data['바나나'] = 'banana'\n",
    "data['코코넛'] = 'coconut'\n",
    "\n",
    "print(data)\n",
    "\n",
    "if '사과' in data:\n",
    "    print('자료 안에 사과가 존재합니다.')\n",
    "\n",
    "print(data.keys())\n",
    "print(data.values())"
   ]
  },
  {
   "cell_type": "code",
   "execution_count": 52,
   "metadata": {},
   "outputs": [
    {
     "output_type": "stream",
     "name": "stdout",
     "text": [
      "{1, 2, 3, 4, 5}\n"
     ]
    }
   ],
   "source": [
    "data = {1,1,2,3,4,4,5}\n",
    "print(data)"
   ]
  },
  {
   "cell_type": "code",
   "execution_count": 58,
   "metadata": {},
   "outputs": [
    {
     "output_type": "stream",
     "name": "stdout",
     "text": [
      "{1, 2, 3, 4, 5, 6, 7}\n{3, 4, 5}\n{1, 2}\n{6, 7}\n"
     ]
    }
   ],
   "source": [
    "# 합집합, 교집합, 차집합 가능\n",
    "\n",
    "a = set([1,2,3,4,5])\n",
    "b = set([3,4,5,6,7])\n",
    "\n",
    "# 합집합\n",
    "print(a|b)\n",
    "\n",
    "# 교집합\n",
    "print(a&b)\n",
    "\n",
    "# 차집합\n",
    "print(a-b)\n",
    "print(b-a)"
   ]
  },
  {
   "cell_type": "code",
   "execution_count": 63,
   "metadata": {},
   "outputs": [
    {
     "output_type": "stream",
     "name": "stdout",
     "text": [
      "{1, 2, 3}\n{1, 2, 3, 4}\n{1, 2, 3, 4, 5, 6}\n{1, 3, 4, 5, 6}\n"
     ]
    }
   ],
   "source": [
    "data = set([1,2,3])\n",
    "print(data)\n",
    "\n",
    "# 추가\n",
    "data.add(4)\n",
    "print(data)\n",
    "\n",
    "# 여러개 추가\n",
    "data.update([5,6])\n",
    "print(data)\n",
    "\n",
    "# 특정한 값 삭제\n",
    "data.remove(2)\n",
    "print(data)\n",
    "print(data)"
   ]
  },
  {
   "cell_type": "code",
   "execution_count": 68,
   "metadata": {},
   "outputs": [
    {
     "output_type": "stream",
     "name": "stdout",
     "text": [
      "[99, 90, 75, 65, 34]\n"
     ]
    }
   ],
   "source": [
    "# n = int(input())\n",
    "# data = list(map(int, input().split()))\n",
    "\n",
    "data = [65, 90, 75, 34, 99]\n",
    "data.sort(reverse=True)\n",
    "\n",
    "print(data)"
   ]
  },
  {
   "cell_type": "code",
   "execution_count": 71,
   "metadata": {},
   "outputs": [
    {
     "output_type": "stream",
     "name": "stdout",
     "text": [
      "\n"
     ]
    }
   ],
   "source": [
    "# 빠르게 입력 받기!!!!\n",
    "\n",
    "# sys.stdin.readline()\n",
    "# rstrip()\n",
    "\n",
    "import sys\n",
    "\n",
    "data = sys.stdin.readline().rstrip()\n",
    "print(data)"
   ]
  },
  {
   "cell_type": "code",
   "execution_count": 78,
   "metadata": {},
   "outputs": [
    {
     "output_type": "stream",
     "name": "stdout",
     "text": [
      "오늘은 5월 4일 입니다\n"
     ]
    }
   ],
   "source": [
    "# f-string\n",
    "\n",
    "month = 5\n",
    "date = 4\n",
    "print(f'오늘은 {month}월 {date}일 입니다')"
   ]
  },
  {
   "cell_type": "code",
   "execution_count": 82,
   "metadata": {},
   "outputs": [
    {
     "output_type": "stream",
     "name": "stdout",
     "text": [
      "Success\nSuccess\n"
     ]
    }
   ],
   "source": [
    "# 조건문 간소화\n",
    "\n",
    "# 1)\n",
    "score = 85\n",
    "\n",
    "if score >= 80 : result = 'Success'\n",
    "else: result = 'Fail'\n",
    "print(result)\n",
    "\n",
    "# 2)\n",
    "result = 'Success' if score >= 80 else 'Fail'\n",
    "print(result)"
   ]
  },
  {
   "cell_type": "code",
   "execution_count": 91,
   "metadata": {},
   "outputs": [
    {
     "output_type": "stream",
     "name": "stdout",
     "text": [
      "45\n"
     ]
    }
   ],
   "source": [
    "# while\n",
    "\n",
    "i = 1\n",
    "result = 0\n",
    "\n",
    "while i <= 9:\n",
    "    result += i\n",
    "    i += 1\n",
    "\n",
    "print(result)"
   ]
  },
  {
   "cell_type": "code",
   "execution_count": 94,
   "metadata": {},
   "outputs": [
    {
     "output_type": "stream",
     "name": "stdout",
     "text": [
      "25\n"
     ]
    }
   ],
   "source": [
    "# while\n",
    "\n",
    "i = 1\n",
    "result = 0\n",
    "\n",
    "while i <= 9:\n",
    "    if i % 2 ==1:\n",
    "        result += i\n",
    "    i += 1\n",
    "\n",
    "print(result)"
   ]
  }
 ]
}