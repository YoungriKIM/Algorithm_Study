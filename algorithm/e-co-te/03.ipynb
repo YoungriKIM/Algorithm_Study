{
 "metadata": {
  "language_info": {
   "codemirror_mode": {
    "name": "ipython",
    "version": 3
   },
   "file_extension": ".py",
   "mimetype": "text/x-python",
   "name": "python",
   "nbconvert_exporter": "python",
   "pygments_lexer": "ipython3",
   "version": "3.8.5"
  },
  "orig_nbformat": 2,
  "kernelspec": {
   "name": "python385jvsc74a57bd0b18ecf447b39d25eae6a9ae9d5694327d58d99c869301a8afbbe0bb2ae2074bb",
   "display_name": "Python 3.8.5 64-bit (conda)"
  }
 },
 "nbformat": 4,
 "nbformat_minor": 2,
 "cells": [
  {
   "source": [
    "### 스택 자료구조"
   ],
   "cell_type": "markdown",
   "metadata": {}
  },
  {
   "cell_type": "code",
   "execution_count": 2,
   "metadata": {},
   "outputs": [
    {
     "output_type": "stream",
     "name": "stdout",
     "text": [
      "[5, 2, 3, 1]\n[1, 3, 2, 5]\n"
     ]
    }
   ],
   "source": [
    "# 스택은 선입후출 자료구조\n",
    "# 입구와 출구가 동일한 형태로 시각화 가능\n",
    "\n",
    "# 삽입    / 삭제가 있다\n",
    "# append / pop\n",
    "\n",
    "stack = []\n",
    "\n",
    "# 삽입5 삽입2 삽입3 삽입7 삭제 삽입1 삽입4 삭제\n",
    "stack.append(5)\n",
    "stack.append(2)\n",
    "stack.append(3)\n",
    "stack.append(7)\n",
    "stack.pop()\n",
    "stack.append(1)\n",
    "stack.append(4)\n",
    "stack.pop()\n",
    "\n",
    "print(stack)\n",
    "print(stack[::-1])"
   ]
  },
  {
   "source": [
    "### 큐 자료구조"
   ],
   "cell_type": "markdown",
   "metadata": {}
  },
  {
   "cell_type": "code",
   "execution_count": 6,
   "metadata": {},
   "outputs": [
    {
     "output_type": "stream",
     "name": "stdout",
     "text": [
      "deque([3, 7, 1, 4])\ndeque([4, 1, 7, 3])\n"
     ]
    }
   ],
   "source": [
    "# 먼저 들어 온 데이터가 먼저 나가는 형식(선입선출)\n",
    "# 큐는 입구와 출구가 모두 뚫여 있는 터널 같은 형태로 시각화\n",
    "\n",
    "# 왼쪽을 들어가고 가장 처음인 맨 오른쪽이 삭제\n",
    "# 삽입    / 삭제가 있다\n",
    "# append / popleft\n",
    "\n",
    "from collections import deque   # 데크 불러와서 자주 쓴다\n",
    "\n",
    "queue = deque()\n",
    "\n",
    "# 삽입5 삽입2 삽입3 삽입7 삭제 삽입1 삽입4 삭제\n",
    "queue.append(5)\n",
    "queue.append(2)\n",
    "queue.append(3)\n",
    "queue.append(7)\n",
    "queue.popleft()\n",
    "queue.append(1)\n",
    "queue.append(4)\n",
    "queue.popleft()\n",
    "\n",
    "print(queue)    # 먼저 들어온 순서대로\n",
    "queue.reverse()\n",
    "print(queue)    # 나중에 들어온 순서"
   ]
  },
  {
   "source": [
    "### 재귀 함수"
   ],
   "cell_type": "markdown",
   "metadata": {}
  },
  {
   "cell_type": "code",
   "execution_count": 9,
   "metadata": {
    "tags": []
   },
   "outputs": [],
   "source": [
    "# 자기 자신을 다시 호출하는 함수\n",
    "\n",
    "def recursive_function():\n",
    "    print('재귀 함수를 호출합니다.')\n",
    "    recursive_function()    # 자기를 다시 부름\n",
    "\n",
    "recursive_function()\n",
    "\n",
    "# 파이썬에서는 재귀 깊이 제한이 있어 이런 에러가 난다.\n",
    "RecursionError: maximum recursion depth exceeded while calling a Python object"
   ]
  },
  {
   "cell_type": "code",
   "execution_count": 12,
   "metadata": {},
   "outputs": [
    {
     "output_type": "stream",
     "name": "stdout",
     "text": [
      "1 번째 재귀함수에서 2 번째 재귀함수를 호출합니다.\n2 번째 재귀함수에서 3 번째 재귀함수를 호출합니다.\n3 번째 재귀함수에서 4 번째 재귀함수를 호출합니다.\n4 번째 재귀함수에서 5 번째 재귀함수를 호출합니다.\n5 번째 재귀함수에서 6 번째 재귀함수를 호출합니다.\n6 번째 재귀함수에서 7 번째 재귀함수를 호출합니다.\n7 번째 재귀함수에서 8 번째 재귀함수를 호출합니다.\n8 번째 재귀함수에서 9 번째 재귀함수를 호출합니다.\n9 번째 재귀함수에서 10 번째 재귀함수를 호출합니다.\n9 번째 재귀함수를 종료합니다.\n8 번째 재귀함수를 종료합니다.\n7 번째 재귀함수를 종료합니다.\n6 번째 재귀함수를 종료합니다.\n5 번째 재귀함수를 종료합니다.\n4 번째 재귀함수를 종료합니다.\n3 번째 재귀함수를 종료합니다.\n2 번째 재귀함수를 종료합니다.\n1 번째 재귀함수를 종료합니다.\n"
     ]
    }
   ],
   "source": [
    "# 재귀 함수의 종료 조건을 명시해야 한다!\n",
    "\n",
    "def recursive_function(i):\n",
    "    # 10번 호출 했을 때 종료하도록\n",
    "    if i == 10:\n",
    "        return\n",
    "    print(i, '번째 재귀함수에서', i+1, '번째 재귀함수를 호출합니다.')\n",
    "    recursive_function(i+1)\n",
    "    print(i, '번째 재귀함수를 종료합니다.')\n",
    "\n",
    "recursive_function(1)"
   ]
  },
  {
   "cell_type": "code",
   "execution_count": 29,
   "metadata": {},
   "outputs": [
    {
     "output_type": "stream",
     "name": "stdout",
     "text": [
      "----------\n"
     ]
    },
    {
     "output_type": "execute_result",
     "data": {
      "text/plain": [
       "120"
      ]
     },
     "metadata": {},
     "execution_count": 29
    }
   ],
   "source": [
    "# 팩토리얼 예제 함수 만들기\n",
    "\n",
    "# 반복문을 이용\n",
    "def factorial_1(n):\n",
    "    result=1\n",
    "    for i in range(1, n+1):\n",
    "        result *= i\n",
    "    return result\n",
    "\n",
    "# 재귀적으로 구현한 n!\n",
    "def factorial_2(n):\n",
    "    if n <= 1:  # n이 1 이하인 경우 1을 반환\n",
    "        return 1\n",
    "    return n * factorial_2(n-1)\n",
    "\n",
    "factorial_1(5)\n",
    "print('-'*10)\n",
    "factorial_2(5)"
   ]
  },
  {
   "cell_type": "code",
   "execution_count": 34,
   "metadata": {},
   "outputs": [
    {
     "output_type": "stream",
     "name": "stdout",
     "text": [
      "6\n"
     ]
    }
   ],
   "source": [
    "# 유클리드 호제법(최대 공약수) 예제\n",
    "\n",
    "def gcd(a ,b):\n",
    "    if a % b == 0: return b\n",
    "    else:  return(gcd(b, a%b))\n",
    "\n",
    "print(gcd(192, 162))"
   ]
  },
  {
   "source": [
    "### DFS(depth-First Search)\n",
    "깊이 우선 탐색\n",
    "그래프에서 깊은 부분을 우선적으로 탐색하는 알고리즘\n",
    "- 스택 자료구조 혹은 재귀 함수를 이용한다"
   ],
   "cell_type": "markdown",
   "metadata": {}
  },
  {
   "cell_type": "code",
   "execution_count": 35,
   "metadata": {},
   "outputs": [
    {
     "output_type": "stream",
     "name": "stdout",
     "text": [
      "[[0, 7, 5], [7, 0, 999999999999], [5, 999999999999, 0]]\n"
     ]
    }
   ],
   "source": [
    "inf = 999999999999  # 무제한 비용 선언\n",
    "\n",
    "# 2차원 리스트를 이용해 입전 행렬 표현\n",
    "graph = [\n",
    "    [0,7,5],\n",
    "    [7,0,inf],\n",
    "    [5,inf,0]\n",
    "]\n",
    "\n",
    "print(graph)\n"
   ]
  },
  {
   "cell_type": "code",
   "execution_count": 41,
   "metadata": {},
   "outputs": [
    {
     "output_type": "stream",
     "name": "stdout",
     "text": [
      "[[], [], []]\n[]\n[(1, 7)]\n[(1, 7), (2, 5)]\n[[(1, 7), (2, 5)], [(0, 7)], [(0, 5)]]\n"
     ]
    }
   ],
   "source": [
    "# 행(row)이 3개인 2차원 리스트로 인접 리스트 표현\n",
    "graph = [[] for _ in range(3)]\n",
    "print(graph)\n",
    "\n",
    "# 노드 0에 연결된 노드 정보 저장(노드, 거리)\n",
    "print(graph[0])\n",
    "graph[0].append((1, 7))\n",
    "print(graph[0])\n",
    "graph[0].append((2, 5))\n",
    "print(graph[0])\n",
    "\n",
    "# 노드 1에 연결된 노드 정보 저장\n",
    "graph[1].append((0, 7))\n",
    "\n",
    "# 노드 2에 연결된 노드 정보 저장\n",
    "graph[2].append((0, 5))\n",
    "\n",
    "print(graph)"
   ]
  },
  {
   "cell_type": "code",
   "execution_count": 44,
   "metadata": {},
   "outputs": [
    {
     "output_type": "stream",
     "name": "stdout",
     "text": [
      "1 2 7 6 8 3 4 5 "
     ]
    }
   ],
   "source": [
    "# dfs 소스코드 예제\n",
    "\n",
    "# ------------------------------------\n",
    "# DFS 함수 정의\n",
    "def dfs(graph, v, visited):     #(노드정보, 현재위치, 방문정보)\n",
    "    # 현재 노드 v를 방문했다고 처리\n",
    "    visited[v] = True\n",
    "    print(v, end=' ')\n",
    "    # 현재 노드에 연결된 다른 노드를 재귀적으로 방문\n",
    "    # 1로 받았으니까 [2,3,8]\n",
    "    for i in graph[v]:\n",
    "        if not visited[i]:  # falsef라면 재귀적으로 가라\n",
    "            dfs(graph, i, visited)\n",
    "\n",
    "# ----------------------------------\n",
    "# 정보 제공\n",
    "\n",
    "# 노드 정보 2차원 리스트로 표현\n",
    "graph = [\n",
    "    [], # 0번째는 사용 안 할 거니까 빼기\n",
    "    [2,3,8,],\n",
    "    [1,7],\n",
    "    [1,4,5],\n",
    "    [3,5],\n",
    "    [3,4],\n",
    "    [7],\n",
    "    [2,6,8],\n",
    "    [1,7]\n",
    "]\n",
    "\n",
    "# 방문정보 만들기 처음은 모두 false\n",
    "visited = [False]*9\n",
    "# [False, False, False, False, False, False, False, False, False]\n",
    "\n",
    "# 위에서 정의한 DFS 함수 호출\n",
    "dfs(graph, 1, visited)"
   ]
  },
  {
   "source": [
    "### BFS(Breadth-First Search)\n",
    "너비 우선 탐색(가까운 노드부터 우선적으로 탐색)\n",
    "- 큐 자료 구조를 이용\n",
    "\n",
    "- 최단 거리 문제에 자주 활용"
   ],
   "cell_type": "markdown",
   "metadata": {}
  },
  {
   "cell_type": "code",
   "execution_count": 54,
   "metadata": {},
   "outputs": [
    {
     "output_type": "stream",
     "name": "stdout",
     "text": [
      "1 2 3 8 7 4 5 6 "
     ]
    }
   ],
   "source": [
    "# bfs 소스코스 예제 \n",
    "\n",
    "# 큐를 위해 데크 불러오기\n",
    "from collections import deque\n",
    "\n",
    "# ------------------------------------\n",
    "# BFS 메서드 정의\n",
    "def bfs(graph, start, visited):\n",
    "    # 시작을 큐에 넣음\n",
    "    queue = deque([start])\n",
    "    # 현재 노드를 방문 처리\n",
    "    visited[start] = True\n",
    "    # 큐가 빌 때까지 반복\n",
    "    while queue:\n",
    "        # 큐에서 하나의 원소를 뽑아 출력하기\n",
    "        v = queue.popleft()\n",
    "        print(v, end=' ')\n",
    "        # 아직 방문하지 않은 인접한 원소들을 큐에 삽입\n",
    "        for i in graph[v]:\n",
    "            if not visited[i]:\n",
    "                queue.append(i)\n",
    "                visited[i] = True\n",
    "\n",
    "# ----------------------------------\n",
    "# 정보 제공\n",
    "\n",
    "# 노드 정보 2차원 리스트로 표현\n",
    "graph = [\n",
    "    [], # 0번째는 사용 안 할 거니까 빼기\n",
    "    [2,3,8,],\n",
    "    [1,7],\n",
    "    [1,4,5],\n",
    "    [3,5],\n",
    "    [3,4],\n",
    "    [7],\n",
    "    [2,6,8],\n",
    "    [1,7]\n",
    "]\n",
    "\n",
    "# 방문정보 만들기 처음은 모두 false\n",
    "visited = [False]*9\n",
    "# [False, False, False, False, False, False, False, False, False]\n",
    "\n",
    "# 위에서 정의한 BFS 함수 호출\n",
    "bfs(graph, 1, visited)\n"
   ]
  },
  {
   "source": [
    "### 음료수 얼려먹기"
   ],
   "cell_type": "markdown",
   "metadata": {}
  },
  {
   "cell_type": "code",
   "execution_count": 56,
   "metadata": {},
   "outputs": [
    {
     "output_type": "stream",
     "name": "stdout",
     "text": [
      "3\n"
     ]
    }
   ],
   "source": [
    "# 답안 예시\n",
    "\n",
    "# ---------------------------------------------------------\n",
    "# DFS로 특정 노드를 방문하고 연결된 모든 노드들도 방문하자\n",
    "def dfs(x,y):\n",
    "    if x <= -1 or x >= n or y <= -1 or y >= m:\n",
    "        return False\n",
    "    if graph[x][y] == 0:    # 해당 칸이 0이라면\n",
    "        # 방문했다고 처리하자\n",
    "        graph[x][y] = 1\n",
    "        # 그리고 상하좌우 칸도 재귀적으로 호출\n",
    "        dfs(x-1, y)\n",
    "        dfs(x+1, y) \n",
    "        dfs(x, y-1) \n",
    "        dfs(x, y+1) \n",
    "        return True\n",
    "    return False\n",
    "\n",
    "# ---------------------------------------------------------\n",
    "# n,m 을 공백을 기준으로 구분하여 받기\n",
    "n,m = map(int, input().split())\n",
    "\n",
    "# 2차원 리스트의 맵 정보 입력 받기\n",
    "graph = []\n",
    "for i in range(n):\n",
    "    graph.append(list(map(int, input().split())))\n",
    "\n",
    "# 모든 노드에 대하여 음료수 채우기 해서 True값만 세기\n",
    "result = 0\n",
    "for i in range(n):\n",
    "    for j in range(m):\n",
    "        # 현재 위치에서 DFS 수행\n",
    "        if dfs(i,j) == True:\n",
    "            result += 1\n",
    "        \n",
    "print(result)"
   ]
  },
  {
   "source": [
    "### 미로 탈출"
   ],
   "cell_type": "markdown",
   "metadata": {}
  },
  {
   "cell_type": "code",
   "execution_count": 86,
   "metadata": {},
   "outputs": [],
   "source": [
    "# 풀어보기\n",
    "\n",
    "n, m = 5, 6\n",
    "# maze = []\n",
    "# for _ in range(n):\n",
    "#     maze.append(list(map(int, input())))\n",
    "\n",
    "maze = [[1, 0, 1, 0, 1, 0],\n",
    "        [1, 1, 1, 1, 1, 1], \n",
    "        [0, 0, 0, 0, 0, 1], \n",
    "        [1, 1, 1, 1, 1, 1], \n",
    "        [1, 1, 1, 1, 1, 1]]\n",
    "\n",
    "xd = (-1, 0, 1, 0)\n",
    "yd = (0, 1, 0, -1)\n",
    "\n",
    "from collections import deque\n",
    "\n",
    "def bfs(x, y):\n",
    "    count = 0\n",
    "    if maze[x][y] == 1:\n",
    "        queue = deque([maze[x][y]])\n",
    "        count += 1\n",
    "        maze[x][y] = 0\n",
    "        for i in range(4):\n",
    "            nx = x + xd[i]\n",
    "            ny = y + yd[i]\n",
    "            dfs(nx, ny)\n",
    "\n",
    "bfs(1,1)\n",
    "\n"
   ]
  }
 ]
}