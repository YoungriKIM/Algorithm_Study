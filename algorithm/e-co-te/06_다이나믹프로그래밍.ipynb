{
 "metadata": {
  "language_info": {
   "codemirror_mode": {
    "name": "ipython",
    "version": 3
   },
   "file_extension": ".py",
   "mimetype": "text/x-python",
   "name": "python",
   "nbconvert_exporter": "python",
   "pygments_lexer": "ipython3",
   "version": "3.8.5"
  },
  "orig_nbformat": 2,
  "kernelspec": {
   "name": "python385jvsc74a57bd0183bbf6827d058c2a2fb0f4acdc0420849dda2b4380af0e437e38c64d798d8b7",
   "display_name": "Python 3.8.5 64-bit ('base': conda)"
  }
 },
 "nbformat": 4,
 "nbformat_minor": 2,
 "cells": [
  {
   "source": [
    "# 다이나믹 프로그래밍\n",
    "\n",
    "다음 조건을 만족할 때 사용\n",
    "- 최적 부분 구조: 큰 문제를 작은 문제로 나눌 수 있으며 답을 모아 큰 문제를 해결 할 수 있다\n",
    "- 중복되는 부분 문제: 동일한 작은 문제를 반복적으로 해결한다"
   ],
   "cell_type": "markdown",
   "metadata": {}
  },
  {
   "source": [
    "---\n",
    "### 피보나치 수열 문제"
   ],
   "cell_type": "markdown",
   "metadata": {}
  },
  {
   "cell_type": "code",
   "execution_count": 15,
   "metadata": {},
   "outputs": [
    {
     "output_type": "stream",
     "name": "stdout",
     "text": [
      "5\n"
     ]
    }
   ],
   "source": [
    "# 재귀함수로 구현하는 피보나치 수열\n",
    "\n",
    "n = 5\n",
    "\n",
    "def fibo(x):\n",
    "    if x == 1 or x == 2 :\n",
    "        return 1\n",
    "    return fibo(x-1) + fibo(x-2)\n",
    "\n",
    "print(fibo(n))"
   ]
  },
  {
   "source": [
    "그런데 위의 방법은 시간이 매우 많이 걸림\n",
    "\n",
    "Memoization 을 사용하자 : 한 번 계산한 결과를 메모리 공간에 메모하는 기법, cashing으로도 부른다"
   ],
   "cell_type": "markdown",
   "metadata": {}
  },
  {
   "cell_type": "code",
   "execution_count": 8,
   "metadata": {},
   "outputs": [
    {
     "output_type": "stream",
     "name": "stdout",
     "text": [
      "6765\n"
     ]
    }
   ],
   "source": [
    "# 메모이제이션 탑다운 방법\n",
    "\n",
    "# 메모이제이션 리스트 만들기\n",
    "d = [0] * 100\n",
    "\n",
    "def fibo(x):\n",
    "    # 1 혹은 2일 때는 1을 반환\n",
    "    if x == 1 or x == 2:\n",
    "        return 1\n",
    "    # 이미 계산한 적 있는 문제라면 계산ㄴ 반환ㄱ\n",
    "    if d[x] != 0:\n",
    "        return d[x]\n",
    "    # 계산한 적 없다면 피보나치 결과 주라\n",
    "    d[x] = fibo(x-1) + fibo(x-2)\n",
    "    return d[x]\n",
    "\n",
    "print(fibo(20))"
   ]
  },
  {
   "cell_type": "code",
   "execution_count": null,
   "metadata": {},
   "outputs": [],
   "source": [
    "# 메모이제이션 보텀업 방법\n",
    "\n",
    "# 메모이제이션 리스트 만들기\n",
    "d = [0] * 100\n",
    "\n",
    "# 첫 번째, 두 번째 피보나치 수는 1\n",
    "d[1], d[2] = 1, 1\n",
    "n = 99\n",
    "\n",
    "for i in range(3, n+1):\n",
    "    d[i] = d[i-1] + d[i-2]\n",
    "\n",
    "print(d[n])\n",
    "# 작은 문제부터 해결하고 그 값으로 앞으로의 문제를 해결"
   ]
  },
  {
   "source": [
    "주어진 문제가 다이나믹 인지 파악하는 것이 중요\n",
    "\n",
    "우선 그리디, 구현, 완전탐색으로 안되면 다이나믹 프로그래밍으로 해결\n",
    "\n",
    "우선 재귀 함수로 비효율적인 완전 탐색 프로그램을 작성한 뒤에(탑다운) 작은 문제에서 구한 답이 큰 문제에서 그대로 사용 될 수 있으면 코드를 개선하는 방법을 주로 사용"
   ],
   "cell_type": "markdown",
   "metadata": {}
  },
  {
   "source": [
    "---\n",
    "### 1로 만들기"
   ],
   "cell_type": "markdown",
   "metadata": {}
  },
  {
   "cell_type": "code",
   "execution_count": 101,
   "metadata": {
    "tags": []
   },
   "outputs": [
    {
     "output_type": "stream",
     "name": "stdout",
     "text": [
      "5\n"
     ]
    }
   ],
   "source": [
    "# 이 문제는 최적부분구조와 중복되는 문제를 만족한다.\n",
    "\n",
    "x = 300\n",
    "\n",
    "d = [0] * 30001\n",
    "\n",
    "#  d[1]은 그냥 0이다\n",
    "for i in range(2, x+1):\n",
    "    d[i] = d[i-1] + 1\n",
    "    if i % 2 == 0 :\n",
    "        d[i] = min(d[i], d[i//2]+1)\n",
    "    if i % 3 == 0 :\n",
    "        d[i] = min(d[i], d[i//3]+1)\n",
    "    if i % 5 == 0 :\n",
    "        d[i] = min(d[i], d[i//5]+1)\n",
    "\n",
    "print(d[x])"
   ]
  },
  {
   "source": [
    "---\n",
    "### 개미 전사"
   ],
   "cell_type": "markdown",
   "metadata": {}
  },
  {
   "cell_type": "code",
   "execution_count": 103,
   "metadata": {},
   "outputs": [
    {
     "output_type": "stream",
     "name": "stdout",
     "text": [
      "3\n"
     ]
    }
   ],
   "source": [
    "# 다이나믹 프로그래밍으로 보텀업 모델 구성\n",
    "\n",
    "n = 26\n",
    "array = [1,3,1,5]\n",
    "\n",
    "# n = int(input())\n",
    "# array = list(map(int, input().split()))\n",
    "\n",
    "d = [0] * 100   # DP 테이블 초기화\n",
    "\n",
    "d[0] = array[0] # 첫번째 것은 그냥 어레이의 첫번째것\n",
    "d[1] = max(array[0], array[1])  # 두번째는 첫번쨰와 두번째 중 큰 것\n",
    "for i in range(2, n):\n",
    "    d[i] = max(d[i-1], d[i-2]+d[i]) # 둘 중에서 큰 것으로 매번 갱신\n",
    "\n",
    "# 포문이 끝나고 계산된 결과 출력\n",
    "print(d[n-1])"
   ]
  }
 ]
}