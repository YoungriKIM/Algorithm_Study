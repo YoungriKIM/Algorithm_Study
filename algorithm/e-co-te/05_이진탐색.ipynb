{
 "metadata": {
  "language_info": {
   "codemirror_mode": {
    "name": "ipython",
    "version": 3
   },
   "file_extension": ".py",
   "mimetype": "text/x-python",
   "name": "python",
   "nbconvert_exporter": "python",
   "pygments_lexer": "ipython3",
   "version": "3.8.5"
  },
  "orig_nbformat": 2,
  "kernelspec": {
   "name": "python385jvsc74a57bd0b18ecf447b39d25eae6a9ae9d5694327d58d99c869301a8afbbe0bb2ae2074bb",
   "display_name": "Python 3.8.5 64-bit ('base': conda)"
  }
 },
 "nbformat": 4,
 "nbformat_minor": 2,
 "cells": [
  {
   "cell_type": "code",
   "execution_count": null,
   "metadata": {},
   "outputs": [],
   "source": [
    "# https://youtu.be/94RC-DsGMLo"
   ]
  },
  {
   "source": [
    "# 이진 탐색 알고리즘\n",
    "\n",
    "## 순차 탐색\n",
    "리스트 안에 있는 특정한 데이터를 찾기 위해 앞에서부터 하나씩 확인\n",
    "\n",
    "## 이진 탐색\n",
    "정렬 된 리스트에서 반씩 좁혀가며 데이터를 참색"
   ],
   "cell_type": "markdown",
   "metadata": {}
  },
  {
   "source": [
    "---\n",
    "### 순차탐색 (sequnetial search)"
   ],
   "cell_type": "markdown",
   "metadata": {}
  },
  {
   "cell_type": "code",
   "execution_count": 8,
   "metadata": {},
   "outputs": [
    {
     "output_type": "stream",
     "name": "stdout",
     "text": [
      "3\n"
     ]
    }
   ],
   "source": [
    "# 소스 코드\n",
    "\n",
    "# 함수 정의\n",
    "def sequential_search(n, target, array):\n",
    "    for i in range(n):\n",
    "        if array[i] == target :\n",
    "            return i + 1\n",
    "\n",
    "# 데이터\n",
    "n, target = 5, 'youngri'\n",
    "array = ['minjeong', \"byenghee\", 'youngri', 'minsun', 'hyenmin']\n",
    "\n",
    "print(sequential_search(n, target, array))"
   ]
  },
  {
   "source": [
    " ---\n",
    " ### 이진탐색 (binary search)"
   ],
   "cell_type": "markdown",
   "metadata": {}
  },
  {
   "cell_type": "code",
   "execution_count": 1,
   "metadata": {},
   "outputs": [
    {
     "output_type": "stream",
     "name": "stdout",
     "text": [
      "4\n"
     ]
    }
   ],
   "source": [
    "# 소스 코드\n",
    "# 재귀적 구현!!\n",
    "\n",
    "# n, target = 10, 7\n",
    "# array = [1,3,5,7,9,11,13,15,17,19]\n",
    "\n",
    "# 입력 받기\n",
    "n, target = map(int, input().split())\n",
    "array = list(map(int, input().split()))\n",
    "\n",
    "# 함수 정의\n",
    "def binary_search(array, target, start, end):\n",
    "    # 스타트가 엔드보다 크다면 none 반환\n",
    "    if start > end:\n",
    "        return None\n",
    "    # mid 지정\n",
    "    mid = (start + end) // 2\n",
    "    # 미드가 타겟과 같다면 미드값 반환\n",
    "    if array[mid] == target:\n",
    "        return mid\n",
    "    # 미드가 타겟보다 크면 타켓이 미드 전에 있다는 거니까\n",
    "    elif array[mid] > target:\n",
    "        return binary_search(array, target, start, mid-1)\n",
    "    # 혹인 미드가 타겟보다 작으면 미드 후에 있다는 거니까\n",
    "    else:\n",
    "        return binary_search(array, target, mid+1, end)\n",
    "\n",
    "# 함수 적용\n",
    "result = binary_search(array, target, 0, n-1)\n",
    "if result == None:\n",
    "    print('원소가 존재하지 않습니다.')\n",
    "else:\n",
    "    print(result+1)"
   ]
  },
  {
   "cell_type": "code",
   "execution_count": 2,
   "metadata": {},
   "outputs": [
    {
     "output_type": "stream",
     "name": "stdout",
     "text": [
      "4\n"
     ]
    }
   ],
   "source": [
    "# 반복문으로 구현!\n",
    "\n",
    "# n, target = 10, 7\n",
    "# array = [1,3,5,7,9,11,13,15,17,19]\n",
    "\n",
    "# 입력 받기\n",
    "n, target = map(int, input().split())\n",
    "array = list(map(int, input().split()))\n",
    "\n",
    "# 함수 정의\n",
    "def binary_search(array, target, start, end):\n",
    "    # 시작점이 끝보다 작거나 같은 때만 실행\n",
    "    while start <= end :\n",
    "        mid = (start+end)//2\n",
    "        if array[mid] == target: return mid\n",
    "        elif array[mid] > target : end = mid-1\n",
    "        else: start = mid+1\n",
    "    # 시작점이 앤드보다 크거나 위 조건\n",
    "    return None\n",
    "\n",
    "# 함수 적용\n",
    "result = binary_search(array, target, 0, n-1)\n",
    "if result == None :\n",
    "    print('원소가 존재하지 않습니다.')\n",
    "else: print(result + 1)\n",
    "\n"
   ]
  },
  {
   "source": [
    "---\n",
    "### 파이썬의 이진 탐색을 위한 라이브러리"
   ],
   "cell_type": "markdown",
   "metadata": {}
  },
  {
   "cell_type": "code",
   "execution_count": 4,
   "metadata": {},
   "outputs": [
    {
     "output_type": "stream",
     "name": "stdout",
     "text": [
      "2\n4\n4\n8\n"
     ]
    }
   ],
   "source": [
    "# 파이썬의 이진 탐색을 위한 라이브러리\n",
    "\n",
    "# 정렬 순서를 유지하면서 배열 a에 x를 삽입할 가장 왼쪽 인덱스 반환\n",
    "# bisect_left(a,x)\n",
    "\n",
    "# 정렬 순서를 유지하면서 배열 a에 x를 삽입할 가장 오른쪽 인덱스 반환\n",
    "# bisect_right(a, x)\n",
    "\n",
    "from bisect import bisect_left, bisect_right\n",
    "\n",
    "a = [1,2,4,4,8]\n",
    "x = 4\n",
    "\n",
    "print(bisect_left(a, x))\n",
    "print(bisect_right(a, x))\n",
    "\n",
    "print(a[2])\n",
    "print(a[4])"
   ]
  },
  {
   "cell_type": "code",
   "execution_count": 7,
   "metadata": {},
   "outputs": [
    {
     "output_type": "stream",
     "name": "stdout",
     "text": [
      "2\n6\n"
     ]
    }
   ],
   "source": [
    "# 위의 라이브러리를 이용해\n",
    "# 값이 특정 범위에 속하는 데이터 개수 구하기\n",
    "\n",
    "from bisect import bisect_left, bisect_right\n",
    "\n",
    "# 특정 범위를 구하는 함수 정의\n",
    "def count_by_range(a, left_value, right_value):\n",
    "    # 오른쪽으로 오른쪽 끝 찾기\n",
    "    right_index = bisect_right(a, right_value)\n",
    "    # 왼쪽으로 왼쪽 끝 찾기\n",
    "    left_index = bisect_left(a, left_value)\n",
    "    return right_index - left_index\n",
    "\n",
    "# 배열 선언\n",
    "a = [1,2,3,3,3,3,4,4,8,9]\n",
    "\n",
    "# 값이 4인 데이터 개수 출력\n",
    "print(count_by_range(a, 4, 4))\n",
    "\n",
    "# 값이 -1~3 범위에 있는 데이터 개수 출력\n",
    "print(count_by_range(a, -1, 3))"
   ]
  },
  {
   "cell_type": "code",
   "execution_count": 14,
   "metadata": {},
   "outputs": [
    {
     "output_type": "stream",
     "name": "stdout",
     "text": [
      "\n"
     ]
    }
   ],
   "source": [
    "#  데이터가 1000만개를 넘어가거나 탐색 범위가 1000억 이상인 경우 이진탐색을 의심하자\n",
    "#  이럴 경우 데이터를 입력 받는데에 많은 시간이 들어서 아래와 같은 방법으로 데이터를 받아야 한다\n",
    "\n",
    "import sys\n",
    "input_data = sys.stdin.readline().rstrip()\n",
    "\n",
    "print(input_data)\n",
    "\n",
    "# 외워둘 것\n",
    "\n",
    "# 연습용\n",
    "input_data = sys.stdin.readline().rstrip()\n",
    "input_data = sys.stdin.readline().rstrip()"
   ]
  },
  {
   "source": [
    "### 파라메트릭 서치 (parametric search)\n",
    "\n",
    "- 최적화 문제를 결정 문제(예 혹은 아니오)로 바꾸어 해결하는 기법\n",
    "\n",
    "        예시: 특정한 조건을 만족하는 가장 알맞은 값을 빠르게 찾는 최적화 문제\n",
    "- 일반적으로 코딩 테스트에서 파라메트릭 서치 문제는 이진 탐색을 이용하여 해결 가능"
   ],
   "cell_type": "markdown",
   "metadata": {}
  },
  {
   "source": [
    "---\n",
    "### 부품 찾기 문제"
   ],
   "cell_type": "markdown",
   "metadata": {}
  },
  {
   "cell_type": "code",
   "execution_count": 28,
   "metadata": {},
   "outputs": [
    {
     "output_type": "stream",
     "name": "stdout",
     "text": [
      "no yes yes "
     ]
    }
   ],
   "source": [
    "# 직접 푼 것\n",
    "\n",
    "# n = 5\n",
    "# n_array = [8, 3, 7, 9, 2]\n",
    "# m = 3\n",
    "# m_array = [5, 7, 9]\n",
    "\n",
    "# 입력 받기\n",
    "n = int(input())\n",
    "n_array = list(map(int, input().split()))\n",
    "m = int(input())\n",
    "m_array = list(map(int, input().split()))\n",
    "\n",
    "def binary_search(array, target, start, end):\n",
    "    if start > end : return None\n",
    "    mid = (start + end) // 2\n",
    "    if array[mid] == target : return mid\n",
    "    if array[mid] > target : return binary_search(array, target, start, mid-1)\n",
    "    if array[mid] < target : return binary_search(array, target, mid+1, end)\n",
    "\n",
    "for i in m_array:\n",
    "    if binary_search(n_array, i, 0, m+1) == None:\n",
    "        print('no', end=' ')\n",
    "    else: print('yes', end =' ')"
   ]
  },
  {
   "cell_type": "code",
   "execution_count": 32,
   "metadata": {},
   "outputs": [
    {
     "output_type": "stream",
     "name": "stdout",
     "text": [
      "yes\nno\n"
     ]
    }
   ],
   "source": [
    "# 계수 정렬로 풀기\n",
    "\n",
    "# 입력 받기\n",
    "n = int(input())\n",
    "n_array = [0] * 1000001\n",
    "for i in input().split():\n",
    "    n_array[int(i)] = 1\n",
    "m = int(input())\n",
    "m_array = list(map(int, input().split()))\n",
    "\n",
    "# 하나씩 확인\n",
    "for i in m_array :\n",
    "    if n_array[i] == 1: print('yes')\n",
    "    else: print('no')"
   ]
  },
  {
   "cell_type": "code",
   "execution_count": 33,
   "metadata": {},
   "outputs": [
    {
     "output_type": "stream",
     "name": "stdout",
     "text": [
      "yes yes no "
     ]
    }
   ],
   "source": [
    "# 집합 자료형 이용\n",
    "\n",
    "n = int(input())\n",
    "n_array = set(map(int, input().split()))\n",
    "m = int(input())\n",
    "m_array = list(map(int, input().split()))\n",
    "\n",
    "for i in m_array:\n",
    "    if i in n_array:\n",
    "        print('yes', end=' ' )\n",
    "    else: print('no', end=' ')"
   ]
  },
  {
   "source": [
    "---\n",
    "### 떡볶이 떡 만들기"
   ],
   "cell_type": "markdown",
   "metadata": {}
  },
  {
   "cell_type": "code",
   "execution_count": 2,
   "metadata": {
    "tags": []
   },
   "outputs": [
    {
     "output_type": "stream",
     "name": "stdout",
     "text": [
      "15\n"
     ]
    }
   ],
   "source": [
    "# 직접 푼 것\n",
    "n, m = 4, 6\n",
    "array = [19, 15, 10, 17]\n",
    "\n",
    "arraymax = max(array)\n",
    "result = 0\n",
    "\n",
    "# while True:\n",
    "for i in range(arraymax, -1, -1):\n",
    "    result = 0\n",
    "    for z in array:\n",
    "        if z > i :\n",
    "            result += (z-i)\n",
    "    if result >= m : break\n",
    "\n",
    "print(i)"
   ]
  },
  {
   "cell_type": "code",
   "execution_count": 9,
   "metadata": {},
   "outputs": [
    {
     "output_type": "stream",
     "name": "stdout",
     "text": [
      "9\n11\n12\n13\n13\n"
     ]
    }
   ],
   "source": [
    "# 이코테 답안 예시\n",
    "\n",
    "n, m = 4, 12\n",
    "array = [19, 15, 10, 17]\n",
    "\n",
    "# n, m = list(map(int, input().split(' ')))\n",
    "# array = list(map(int, input().split()))\n",
    "\n",
    "# 시작이랑 끝(맥스)로 지정\n",
    "start = 0\n",
    "end = max(array)\n",
    "\n",
    "# 결과를 0으로 시작\n",
    "result = 0\n",
    "while(start <= end):\n",
    "    # 토탈 0으로 다시 시작\n",
    "    total = 0\n",
    "    mid = (start + end) // 2\n",
    "    # -------------------------------\n",
    "    for x in array:\n",
    "        if x > mid:\n",
    "            total += (x - mid)\n",
    "    # array 안에 있는 x가 mid보다 클 때만 뺀 값을 total에 더하기\n",
    "    # -------------------------------\n",
    "    # 토탈이 m 보다 작으면 \n",
    "    if total < m :\n",
    "        # 이진분류에 맞춰 end를 mid-1로\n",
    "        end = mid - 1\n",
    "\n",
    "    # 토탈이 m 보다 크면\n",
    "    else:\n",
    "        # 결과를 mid로 갱신\n",
    "        result = mid\n",
    "        print(result)\n",
    "        # 하고 시작점은 mid + 1로\n",
    "        # 스타트가 계속 커져서 end보다 커지면 알아서 종료\n",
    "        start = mid + 1\n",
    "\n",
    "print(result)"
   ]
  },
  {
   "cell_type": "code",
   "execution_count": 13,
   "metadata": {},
   "outputs": [
    {
     "output_type": "stream",
     "name": "stdout",
     "text": [
      "13\n"
     ]
    }
   ],
   "source": [
    "# 다시 쳐서 연습\n",
    "\n",
    "n, m = 4, 12\n",
    "array = [19, 15, 10, 17]\n",
    "\n",
    "start = 0\n",
    "end = max(array)\n",
    "\n",
    "result = 0\n",
    "while (start <= end):\n",
    "    total = 0\n",
    "    mid = (start + end) // 2\n",
    "    for x in array:\n",
    "        if x > mid:\n",
    "            total += (x-mid)\n",
    "    if total < m :\n",
    "        end = mid - 1\n",
    "    else :\n",
    "        result = mid\n",
    "        start = mid + 1\n",
    "\n",
    "print(result)"
   ]
  },
  {
   "source": [
    "---\n",
    "### 정렬된 배열에서 특정 수의 개수 구하기"
   ],
   "cell_type": "markdown",
   "metadata": {}
  },
  {
   "cell_type": "code",
   "execution_count": 23,
   "metadata": {},
   "outputs": [
    {
     "output_type": "stream",
     "name": "stdout",
     "text": [
      "4\n"
     ]
    }
   ],
   "source": [
    "# 직접 풀기\n",
    "\n",
    "n, x = 7, 2\n",
    "array = [1,1,2,2,2,2,3,3]\n",
    "\n",
    "from bisect import bisect_left, bisect_right\n",
    "\n",
    "def count_num(array, target):\n",
    "    counting = bisect_right(array, target) - bisect_left(array, target)\n",
    "    if counting > 0 : print(counting)\n",
    "    else : print(-1)\n",
    "\n",
    "count_num(array, x)"
   ]
  }
 ]
}