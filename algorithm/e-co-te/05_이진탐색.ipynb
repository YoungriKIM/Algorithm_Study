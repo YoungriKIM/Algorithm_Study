{
 "metadata": {
  "language_info": {
   "codemirror_mode": {
    "name": "ipython",
    "version": 3
   },
   "file_extension": ".py",
   "mimetype": "text/x-python",
   "name": "python",
   "nbconvert_exporter": "python",
   "pygments_lexer": "ipython3",
   "version": "3.8.5"
  },
  "orig_nbformat": 2,
  "kernelspec": {
   "name": "python385jvsc74a57bd0b18ecf447b39d25eae6a9ae9d5694327d58d99c869301a8afbbe0bb2ae2074bb",
   "display_name": "Python 3.8.5 64-bit ('base': conda)"
  }
 },
 "nbformat": 4,
 "nbformat_minor": 2,
 "cells": [
  {
   "cell_type": "code",
   "execution_count": null,
   "metadata": {},
   "outputs": [],
   "source": [
    "# https://youtu.be/94RC-DsGMLo"
   ]
  },
  {
   "source": [
    "# 이진 탐색 알고리즘\n",
    "\n",
    "## 순차 탐색\n",
    "리스트 안에 있는 특정한 데이터를 찾기 위해 앞에서부터 하나씩 확인\n",
    "\n",
    "## 이진 탐색\n",
    "정렬 된 리스트에서 반씩 좁혀가며 데이터를 참색"
   ],
   "cell_type": "markdown",
   "metadata": {}
  },
  {
   "source": [
    " ---\n",
    " ### 이진탐색 (binary search)"
   ],
   "cell_type": "markdown",
   "metadata": {}
  },
  {
   "cell_type": "code",
   "execution_count": 1,
   "metadata": {},
   "outputs": [
    {
     "output_type": "stream",
     "name": "stdout",
     "text": [
      "4\n"
     ]
    }
   ],
   "source": [
    "# 소스 코드\n",
    "# 재귀적 구현!!\n",
    "\n",
    "# n, target = 10, 7\n",
    "# array = [1,3,5,7,9,11,13,15,17,19]\n",
    "\n",
    "# 입력 받기\n",
    "n, target = map(int, input().split())\n",
    "array = list(map(int, input().split()))\n",
    "\n",
    "# 함수 정의\n",
    "def binary_search(array, target, start, end):\n",
    "    # 스타트가 엔드보다 크다면 none 반환\n",
    "    if start > end:\n",
    "        return None\n",
    "    # mid 지정\n",
    "    mid = (start + end) // 2\n",
    "    # 미드가 타겟과 같다면 미드값 반환\n",
    "    if array[mid] == target:\n",
    "        return mid\n",
    "    # 미드가 타겟보다 크면 타켓이 미드 전에 있다는 거니까\n",
    "    elif array[mid] > target:\n",
    "        return binary_search(array, target, start, mid-1)\n",
    "    # 혹인 미드가 타겟보다 작으면 미드 후에 있다는 거니까\n",
    "    else:\n",
    "        return binary_search(array, target, mid+1, end)\n",
    "\n",
    "# 함수 적용\n",
    "result = binary_search(array, target, 0, n-1)\n",
    "if result == None:\n",
    "    print('원소가 존재하지 않습니다.')\n",
    "else:\n",
    "    print(result+1)"
   ]
  },
  {
   "cell_type": "code",
   "execution_count": 2,
   "metadata": {},
   "outputs": [
    {
     "output_type": "stream",
     "name": "stdout",
     "text": [
      "4\n"
     ]
    }
   ],
   "source": [
    "# 반복문으로 구현!\n",
    "\n",
    "# n, target = 10, 7\n",
    "# array = [1,3,5,7,9,11,13,15,17,19]\n",
    "\n",
    "# 입력 받기\n",
    "n, target = map(int, input().split())\n",
    "array = list(map(int, input().split()))\n",
    "\n",
    "# 함수 정의\n",
    "def binary_search(array, target, start, end):\n",
    "    # 시작점이 끝보다 작거나 같은 때만 실행\n",
    "    while start <= end :\n",
    "        mid = (start+end)//2\n",
    "        if array[mid] == target: return mid\n",
    "        elif array[mid] > target : end = mid-1\n",
    "        else: start = mid+1\n",
    "    # 시작점이 앤드보다 크거나 위 조건\n",
    "    return None\n",
    "\n",
    "# 함수 적용\n",
    "result = binary_search(array, target, 0, n-1)\n",
    "if result == None :\n",
    "    print('원소가 존재하지 않습니다.')\n",
    "else: print(result + 1)\n",
    "\n"
   ]
  }
 ]
}