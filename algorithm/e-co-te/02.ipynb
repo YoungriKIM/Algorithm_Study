{
 "metadata": {
  "language_info": {
   "codemirror_mode": {
    "name": "ipython",
    "version": 3
   },
   "file_extension": ".py",
   "mimetype": "text/x-python",
   "name": "python",
   "nbconvert_exporter": "python",
   "pygments_lexer": "ipython3",
   "version": "3.8.5"
  },
  "orig_nbformat": 2,
  "kernelspec": {
   "name": "python385jvsc74a57bd0b18ecf447b39d25eae6a9ae9d5694327d58d99c869301a8afbbe0bb2ae2074bb",
   "display_name": "Python 3.8.5 64-bit (conda)"
  }
 },
 "nbformat": 4,
 "nbformat_minor": 2,
 "cells": [
  {
   "source": [
    "# 그리디"
   ],
   "cell_type": "markdown",
   "metadata": {}
  },
  {
   "source": [
    "### 거스름돈"
   ],
   "cell_type": "markdown",
   "metadata": {}
  },
  {
   "cell_type": "code",
   "execution_count": 95,
   "metadata": {},
   "outputs": [
    {
     "output_type": "stream",
     "name": "stdout",
     "text": [
      "6\n"
     ]
    }
   ],
   "source": [
    " #  거스름돈\n",
    "\n",
    " n = 1260\n",
    " count = 0 \n",
    "\n",
    " array = [500, 100, 50 ,10]\n",
    "\n",
    " for coin in array:\n",
    "     count += n//coin   # 1260원을 500으로 나눈 몫(2)를 더한다.\n",
    "     #  n = n%coin  # n은 n을 500원으로 나눈 것의 나머지 금액  #을 아래처럼 축약해서 작성\n",
    "     n %= coin\n",
    "\n",
    "print(count)"
   ]
  },
  {
   "source": [
    "### 1이 될 때까지"
   ],
   "cell_type": "markdown",
   "metadata": {}
  },
  {
   "cell_type": "code",
   "execution_count": 108,
   "metadata": {
    "tags": []
   },
   "outputs": [
    {
     "output_type": "stream",
     "name": "stdout",
     "text": [
      "n: 35\nnew: 30\nresult: 5\nn: 30\nresult:  6\nn: 3\n-----\nn: 3\nnew: 0\nresult: 9\nn: 0\nfinal result: 9\n8\n"
     ]
    }
   ],
   "source": [
    "# 1이 될 때까지\n",
    "\n",
    "n = 35\n",
    "k = 10\n",
    "\n",
    "result = 0\n",
    "\n",
    "while True:\n",
    "    print('n:', n)\n",
    "    new = (n//k) * k    # new는 k로 나눠질 수 있는 n과 최대한 가까운 수\n",
    "    print('new:',new)\n",
    "    result += (n-new)   # n 이 new가 되려면 빼야할 나머지 값(이 값들은 1씩 빼야하니 result에 넣음)\n",
    "    print('result:', result)\n",
    "    n = new             # n을 new로 바꿔줌\n",
    "    print('n:',n)\n",
    "    if n < k: break     # n이 k보다 작으면 뺄 수 없으니 그만\n",
    "    result += 1         # n이 k보다 크다면 result(=count)에 하나 더해서\n",
    "    print('result: ', result)\n",
    "    n //= k            # n을 k로 나눠준 값을 n으로 지정\n",
    "    print('n:',n)\n",
    "    print('-'*5)\n",
    "\n",
    "print('final result:',result)\n",
    "result += (n-1)        # 마지막으로 남은 수에서 1 빼기\n",
    "print(result)\n"
   ]
  },
  {
   "cell_type": "code",
   "execution_count": 102,
   "metadata": {},
   "outputs": [
    {
     "output_type": "stream",
     "name": "stdout",
     "text": [
      "11\n"
     ]
    }
   ],
   "source": [
    "# 1이 될 때 까지 # 다시\n",
    "n, k = map(int, input().split())\n",
    "\n",
    "while True:\n",
    "    new = (n//k)*k\n",
    "    result += (n-new)\n",
    "    n = new\n",
    "    if n < k : break\n",
    "    result += 1\n",
    "    n = n//k\n",
    "\n",
    "result += (n-1)\n",
    "print(result)"
   ]
  },
  {
   "source": [
    "### 곱하기 혹은 더하기"
   ],
   "cell_type": "markdown",
   "metadata": {}
  },
  {
   "cell_type": "code",
   "execution_count": 144,
   "metadata": {},
   "outputs": [
    {
     "output_type": "stream",
     "name": "stdout",
     "text": [
      "241\n"
     ]
    }
   ],
   "source": [
    "# 곱하기 혹은 더하기\n",
    "# 직접 풀기\n",
    "s = 2045601\n",
    "nums = str(s)\n",
    "\n",
    "result = 0\n",
    "if int(nums[0]) < 2 or int(nums[1]) < 2:\n",
    "    result += (int(nums[0]) + int(nums[1]))\n",
    "else : result += (int(nums[0])*int(nums[1]))\n",
    "if len(nums) < 3: print(result)\n",
    "else:\n",
    "    for num in nums[2:]:\n",
    "        if int(num) < 2: result += int(num)\n",
    "        else: result *= int(num)\n",
    "    print(result)"
   ]
  },
  {
   "cell_type": "code",
   "execution_count": 143,
   "metadata": {},
   "outputs": [
    {
     "output_type": "stream",
     "name": "stdout",
     "text": [
      "241\n"
     ]
    }
   ],
   "source": [
    "# 곱하기 혹은 더하기 이코테 답안 예시\n",
    "\n",
    "s = '2045601'\n",
    "\n",
    "result = int(s[0])  # 문자열의 첫번째를 시작점으로 지정\n",
    "\n",
    "for i in range(1, len(s)):\n",
    "    num = int(s[i]) # 각 순서의 숫자를 num으로 지정\n",
    "    if num < 2 or result < 0 :  # 시작점과 그 순서의 숫자가 2보다 작을 경우에는\n",
    "        result += num           # 더해주고\n",
    "    else: result *= num         # 아니면 곱해주고\n",
    "print(result)"
   ]
  },
  {
   "cell_type": "code",
   "execution_count": 147,
   "metadata": {},
   "outputs": [
    {
     "output_type": "stream",
     "name": "stdout",
     "text": [
      "97\n"
     ]
    }
   ],
   "source": [
    "# 위 코드 한 번 더 써보기\n",
    "\n",
    "S = input()\n",
    "\n",
    "result = int(S[0])\n",
    "\n",
    "for i in range(1, len(S)):\n",
    "    num = int(S[i])\n",
    "    if result < 2 or num < 2 :\n",
    "        result += num\n",
    "    else: result *= num\n",
    "print(result)"
   ]
  },
  {
   "source": [
    "### 모험가 길드"
   ],
   "cell_type": "markdown",
   "metadata": {}
  },
  {
   "cell_type": "code",
   "execution_count": 188,
   "metadata": {},
   "outputs": [
    {
     "output_type": "stream",
     "name": "stdout",
     "text": [
      "3\n"
     ]
    }
   ],
   "source": [
    "# 직접 풀기 \n",
    "N = 5\n",
    "M = [2,3,1,3,2,2]\n",
    "\n",
    "m = sorted(M)\n",
    "count = 0\n",
    "\n",
    "while True:\n",
    "    if m[0] < len(m):\n",
    "        count += 1\n",
    "        m = m[m[0]:]\n",
    "        # print(m)\n",
    "    else: break\n",
    "print(count)"
   ]
  },
  {
   "cell_type": "code",
   "execution_count": 175,
   "metadata": {},
   "outputs": [
    {
     "output_type": "stream",
     "name": "stdout",
     "text": [
      "[1, 2, 2, 2, 3, 3]\n----------\ni: 1\ncount: 1\ngroup: 1\n-----\ni: 2\ncount: 1\ni: 2\ncount: 2\ngroup: 2\n-----\ni: 2\ncount: 1\ni: 3\ncount: 2\ni: 3\ncount: 3\ngroup: 3\n-----\n3\n"
     ]
    }
   ],
   "source": [
    "# 답안 예제\n",
    "\n",
    "N = 5\n",
    "M = [2,3,1,3,2,2]\n",
    "M.sort()\n",
    "\n",
    "print(M)\n",
    "print('-'*10)\n",
    "\n",
    "group = 0  # 그룹의 수\n",
    "count = 0   # 그룹에 포함된 모함가의 수\n",
    "\n",
    "for i in M:\n",
    "    print('i:',i)\n",
    "    count += 1\n",
    "    print('count:',count)\n",
    "    if count >= i:\n",
    "        group += 1\n",
    "        print('group:', group)\n",
    "        count = 0\n",
    "        print('-'*5)\n",
    "\n",
    "print(group)"
   ]
  },
  {
   "cell_type": "code",
   "execution_count": 190,
   "metadata": {
    "tags": []
   },
   "outputs": [
    {
     "output_type": "stream",
     "name": "stdout",
     "text": [
      "[1, 2, 2, 2, 3, 3]\n3\n"
     ]
    }
   ],
   "source": [
    "# 정답 다시 쓰기\n",
    "\n",
    "N = 5\n",
    "M = [2,3,1,3,2,2]\n",
    "M.sort()\n",
    "print(M)\n",
    "\n",
    "count = 0\n",
    "while True:\n",
    "    if M[0] < len(M):\n",
    "        count += 1\n",
    "        M = M[M[0]:]\n",
    "    else: break\n",
    "print(count)"
   ]
  },
  {
   "source": [
    "### 큰 수의 법칙"
   ],
   "cell_type": "markdown",
   "metadata": {}
  },
  {
   "cell_type": "code",
   "execution_count": 264,
   "metadata": {
    "tags": []
   },
   "outputs": [
    {
     "output_type": "stream",
     "name": "stdout",
     "text": [
      "46.0\n"
     ]
    }
   ],
   "source": [
    "# 직접 풀기\n",
    "N = 5\n",
    "M = 8\n",
    "K = 3   # k 번만 연달아 쓸 수 있다\n",
    "N = [2,4,5,4,6]\n",
    "\n",
    "N.sort(reverse=True)\n",
    "count = 0\n",
    "\n",
    "first = N[0]\n",
    "second = N[1]\n",
    "\n",
    "mul_1 = (M/(K+1)) * ((first*K)+second)\n",
    "mul_2 = (M%(K+1)) * second\n",
    "\n",
    "print(mul_1+mul_2)"
   ]
  },
  {
   "source": [
    "### 숫자 카드 게임"
   ],
   "cell_type": "markdown",
   "metadata": {}
  },
  {
   "cell_type": "code",
   "execution_count": 269,
   "metadata": {},
   "outputs": [
    {
     "output_type": "stream",
     "name": "stdout",
     "text": [
      "2\n"
     ]
    }
   ],
   "source": [
    "# 직접 풀기\n",
    "\n",
    "N = 3\n",
    "M = 3\n",
    "nums = [[3,1,2],\n",
    "        [4,1,4],\n",
    "        [2,2,2]]\n",
    "n_list = []\n",
    "for row in nums:\n",
    "    n_list.append(min(row))\n",
    "print(max(n_list))"
   ]
  },
  {
   "source": [
    "# 구현"
   ],
   "cell_type": "markdown",
   "metadata": {}
  },
  {
   "source": [
    "###  상하좌우 문제"
   ],
   "cell_type": "markdown",
   "metadata": {}
  },
  {
   "cell_type": "code",
   "execution_count": 306,
   "metadata": {},
   "outputs": [
    {
     "output_type": "stream",
     "name": "stdout",
     "text": [
      "R\n1 2\nR\n1 3\nR\n1 4\nU\n0 4\nD\n2 4\nD\n3 4\n(3, 4)\n"
     ]
    }
   ],
   "source": [
    "n = 5\n",
    "plans = ['R', 'R', 'R', 'U', 'D', 'D']\n",
    "\n",
    "x, y = 1, 1\n",
    "dx = [0,0,-1,1]\n",
    "dy = [-1,1,0,0]\n",
    "move = ['L', 'R', 'U', 'D']\n",
    "\n",
    "for plan in plans:\n",
    "    print(plan) # plan 하나씩 가져오기\n",
    "    for i in range(len(move)):\n",
    "        if plan == move[i]:  # 가져온 plan이 move[i]와 같을 때만\n",
    "            nx = x + dx[i]   # x, y에 해당 좌표를 더해줌\n",
    "            ny = y + dy[i]\n",
    "            print(nx, ny)\n",
    "    if nx < 1 or ny < 1 or nx > n or ny > n:    # 벗어났을 때는 pass!\n",
    "        continue\n",
    "    x, y = nx, ny   # x, y 값을 갱신하기\n",
    "\n",
    "print((nx,ny))"
   ]
  },
  {
   "source": [
    "### 시각 문제"
   ],
   "cell_type": "markdown",
   "metadata": {}
  },
  {
   "cell_type": "code",
   "execution_count": 31,
   "metadata": {},
   "outputs": [
    {
     "output_type": "stream",
     "name": "stdout",
     "text": [
      "1 5\n11475\n"
     ]
    }
   ],
   "source": [
    "# N = int(input())\n",
    "N = 5\n",
    "\n",
    "time1 = 60*60               # n에 3이 들어갈 때        # 3600\n",
    "time2 = ((15*60)+(45*15))   # n에 3이 안 들어갈 때     # 1575\n",
    "\n",
    "in3 = 0\n",
    "no3 = 0\n",
    "for i in range(N+1):\n",
    "    if '3' in str(i): in3 += 1\n",
    "    else: no3 += 1\n",
    "print(in3, no3)\n",
    "\n",
    "total = (in3*time1)+(no3*time2)\n",
    "print(total)"
   ]
  },
  {
   "cell_type": "code",
   "execution_count": null,
   "metadata": {},
   "outputs": [],
   "source": []
  },
  {
   "cell_type": "code",
   "execution_count": 33,
   "metadata": {},
   "outputs": [
    {
     "output_type": "stream",
     "name": "stdout",
     "text": [
      "11475\n"
     ]
    }
   ],
   "source": [
    "# 이코테 답안 예시\n",
    "\n",
    "h = 5\n",
    "\n",
    "count = 0\n",
    "for i in range(h+1):\n",
    "    for j in range(60):\n",
    "        for k in range(60):\n",
    "            # 매 시각에 3이 있다면 카운트 증가\n",
    "            if '3' in str(i)+str(j)+str(k):\n",
    "                count+=1\n",
    "print(count)"
   ]
  },
  {
   "source": [
    "### 왕실의 나이트"
   ],
   "cell_type": "markdown",
   "metadata": {}
  },
  {
   "cell_type": "code",
   "execution_count": 79,
   "metadata": {},
   "outputs": [
    {
     "output_type": "stream",
     "name": "stdout",
     "text": [
      "1 1\nnx: 0 ny: 3\nnx: 0 ny: -1\nnx: 2 ny: 3\nnx: 2 ny: -1\nnx: 3 ny: 0\nnx: 3 ny: 2\nnx: -1 ny: 0\nnx: -1 ny: 2\n2\n"
     ]
    }
   ],
   "source": [
    "# 직접 풀기\n",
    "N = 'a1'\n",
    "\n",
    "alpha = ['a','b','c','d','e','f','g','h']\n",
    "\n",
    "x = int(alpha.index(N[0])+1)\n",
    "y = int(N[1])\n",
    "print(x, y)\n",
    "\n",
    "xl = [-1,-1,1,1,2,2,-2,-2]\n",
    "yl = [2,-2,2,-2,-1,1,-1,1]\n",
    "\n",
    "count = 0\n",
    "for i in range(8):\n",
    "    nx = x + xl[i]\n",
    "    ny = y + yl[i]\n",
    "    print('nx:', nx, 'ny:', ny)\n",
    "    if nx < 1 or nx > 8 or ny < 1 or ny > 8: continue\n",
    "    count += 1\n",
    "    \n",
    "print(count)"
   ]
  },
  {
   "cell_type": "code",
   "execution_count": 75,
   "metadata": {},
   "outputs": [
    {
     "output_type": "stream",
     "name": "stdout",
     "text": [
      "original: 2 3\noriginal: 2 3\noriginal: 2 3\noriginal: 2 3\noriginal: 2 3\noriginal: 2 3\noriginal: 2 3\noriginal: 2 3\n6\n"
     ]
    }
   ],
   "source": [
    "# 이코테 답안 예시\n",
    "\n",
    "N = 'c2'\n",
    "row = int(N[1]) # 열\n",
    "column = int(ord(N[0])) - int(ord('a')) + 1\n",
    "# print(ord('a')) : 97\n",
    "# 알파벳은 97부터 시작하기 때문\n",
    "\n",
    "# 나이트가 이동할 수 있는 8가지 방향 정의\n",
    "steps = [(-2, -1), (-1, -2), (1, -2), (2, -1), (2, 1), (1, 2), (-1, 2), (-2, 1)]\n",
    "\n",
    "# 8가지 방향에 대하여 각 위치로 이동이 가능한지 확인\n",
    "result = 0\n",
    "for step in steps:\n",
    "    print('original:' ,row, column)\n",
    "    next_row = row + step[0]\n",
    "    next_column = column + step[1]\n",
    "    # 해당 위치로 이동이 가능하다면 카운트 증가\n",
    "    if next_row >= 1 and next_row <= 8 and next_column >= 1 and next_column <= 8:\n",
    "        result += 1\n",
    "\n",
    "print(result)"
   ]
  },
  {
   "source": [
    "### 문자열 재정렬"
   ],
   "cell_type": "markdown",
   "metadata": {}
  },
  {
   "cell_type": "code",
   "execution_count": 53,
   "metadata": {},
   "outputs": [
    {
     "output_type": "stream",
     "name": "stdout",
     "text": [
      "ADDIJJJKKLSS20\n"
     ]
    }
   ],
   "source": [
    "# 직접 풀기\n",
    "\n",
    "# S = 'K1KA5CB7'\n",
    "S = 'AJKDLSI412K4JSJ9D'\n",
    "\n",
    "import re\n",
    "\n",
    "rule1 = re.compile('\\d')\n",
    "nS1 = rule1.findall(S)\n",
    "SN = sum([int(n) for n in nS1])\n",
    "\n",
    "rule2 = re.compile('[A-Z]')\n",
    "nS2 = rule2.findall(S)\n",
    "nS2 = sorted(nS2)\n",
    "\n",
    "print(''.join([i for i in nS2])+str(SN))"
   ]
  },
  {
   "cell_type": "code",
   "execution_count": 54,
   "metadata": {},
   "outputs": [
    {
     "output_type": "stream",
     "name": "stdout",
     "text": [
      "ADDIJJJKKLSS20\n"
     ]
    }
   ],
   "source": [
    "# 이코테 답안 예시\n",
    "\n",
    "# data = input()\n",
    "data = 'AJKDLSI412K4JSJ9D'\n",
    "result = []\n",
    "value = 0\n",
    "\n",
    "# 문자를 하나씩 확인\n",
    "for x in data:\n",
    "    if x.isalpha():\n",
    "        result.append(x)\n",
    "    else: value += int(x)\n",
    "# 알파벳 정렬\n",
    "result.sort()\n",
    "# 숫자가 하나라도 존재하면 뒤에 삽입\n",
    "if value != 0 : result.append(str(value))\n",
    "# 한번에 합쳐서 프린트\n",
    "print(''.join(result))"
   ]
  },
  {
   "source": [
    "### 게임 개발"
   ],
   "cell_type": "markdown",
   "metadata": {}
  },
  {
   "cell_type": "code",
   "execution_count": 2,
   "metadata": {},
   "outputs": [
    {
     "output_type": "error",
     "ename": "SyntaxError",
     "evalue": "invalid syntax (<ipython-input-2-76d75b2e2367>, line 25)",
     "traceback": [
      "\u001b[1;36m  File \u001b[1;32m\"<ipython-input-2-76d75b2e2367>\"\u001b[1;36m, line \u001b[1;32m25\u001b[0m\n\u001b[1;33m    if direction = -1:\u001b[0m\n\u001b[1;37m                 ^\u001b[0m\n\u001b[1;31mSyntaxError\u001b[0m\u001b[1;31m:\u001b[0m invalid syntax\n"
     ]
    }
   ],
   "source": [
    "# 이코테 답안 예시\n",
    "\n",
    "# N, M 공백으로 구분하여 입력받기\n",
    "n, m = map(int, input().split())\n",
    "\n",
    "# 방문한 위치를 저장하기 위한 n*m 크기의 d맵을 0으로 만들기\n",
    "d = [[0]*m for _ in range(n)]\n",
    "# 현재 캐릭터의 x, y 좌표의 방향을 입력받기\n",
    "x, y, direction = map(int, input().split())\n",
    "d[x][y] = 1 # 처음 받은 좌표는 방문했다고 표시\n",
    "\n",
    "# 전체 맵 정보 받기\n",
    "array = []\n",
    "for i in range(n):\n",
    "    array.append(list(map(int, input().split())))\n",
    "\n",
    "# 북 동 남 서 방향 정의\n",
    "dx = [-1, 0, 1, 0]\n",
    "dy = [0, 1, 0, -1]\n",
    "\n",
    "# 왼쪽으로 회전\n",
    "def turn_left():\n",
    "    global direction\n",
    "    direction -= 1\n",
    "    if direction == -1:\n",
    "        direction = 3\n",
    "\n",
    "# 시뮬레이션 시작!\n",
    "count = 1\n",
    "turn_time = 0\n",
    "while True:\n",
    "    # 왼쪽으로 우선 회전\n",
    "    turn_left()\n",
    "    nx = x + dx[direction]\n",
    "    ny = y + dy[direction]\n",
    "\n",
    "    # 회전한 후 앞에 있는 칸이 안 가본 칸이면서 땅일 때\n",
    "    if d[nx][ny] == 0 and array[nx][ny] == 0:\n",
    "        d[nx][ny] = 1 # 갔다고 표시\n",
    "        x = nx        # x 갱신\n",
    "        y = ny        # y 갱신\n",
    "        count += 1    # 정답에 카운트\n",
    "        turn_time = 0 # 0으로 초기화\n",
    "        continue      # 여기서 끝내\n",
    "    # 회전한 후 앞에 있는 칸이 가봤거나 바다일 때\n",
    "    else:\n",
    "        turn_time += 1  # 방향 바꿔가면서 확인하는데 else일때 +1\n",
    "    if turn_time == 4 : # 4방향 모두 확인했는데 else일 때\n",
    "        nx = x - dx[direction]  # 지금 보고 있는 방향에서 뒤로 한 칸\n",
    "        ny = y - dy[direction]\n",
    "        # 가는데 그 칸이 땅일 때\n",
    "        if array[nx][ny] == 0 : \n",
    "            x = nx\n",
    "            x = ny\n",
    "        # 그 칸이 바다 일 때\n",
    "        else:\n",
    "            break # 그만\n",
    "        turn_time = 0 # 턴 타임 초기화\n",
    "\n",
    "# 정답 출력\n",
    "print(count)"
   ]
  }
 ]
}