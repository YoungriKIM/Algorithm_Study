{
 "metadata": {
  "language_info": {
   "codemirror_mode": {
    "name": "ipython",
    "version": 3
   },
   "file_extension": ".py",
   "mimetype": "text/x-python",
   "name": "python",
   "nbconvert_exporter": "python",
   "pygments_lexer": "ipython3",
   "version": "3.8.5"
  },
  "orig_nbformat": 2,
  "kernelspec": {
   "name": "python385jvsc74a57bd0183bbf6827d058c2a2fb0f4acdc0420849dda2b4380af0e437e38c64d798d8b7",
   "display_name": "Python 3.8.5 64-bit (conda)"
  }
 },
 "nbformat": 4,
 "nbformat_minor": 2,
 "cells": [
  {
   "source": [
    "# 그리디"
   ],
   "cell_type": "markdown",
   "metadata": {}
  },
  {
   "source": [
    "### 거스름돈"
   ],
   "cell_type": "markdown",
   "metadata": {}
  },
  {
   "cell_type": "code",
   "execution_count": 95,
   "metadata": {},
   "outputs": [
    {
     "output_type": "stream",
     "name": "stdout",
     "text": [
      "6\n"
     ]
    }
   ],
   "source": [
    " #  거스름돈\n",
    "\n",
    " n = 1260\n",
    " count = 0 \n",
    "\n",
    " array = [500, 100, 50 ,10]\n",
    "\n",
    " for coin in array:\n",
    "     count += n//coin   # 1260원을 500으로 나눈 몫(2)를 더한다.\n",
    "     #  n = n%coin  # n은 n을 500원으로 나눈 것의 나머지 금액  #을 아래처럼 축약해서 작성\n",
    "     n %= coin\n",
    "\n",
    "print(count)"
   ]
  },
  {
   "source": [
    "### 1이 될 때까지"
   ],
   "cell_type": "markdown",
   "metadata": {}
  },
  {
   "cell_type": "code",
   "execution_count": 108,
   "metadata": {
    "tags": []
   },
   "outputs": [
    {
     "output_type": "stream",
     "name": "stdout",
     "text": [
      "n: 35\nnew: 30\nresult: 5\nn: 30\nresult:  6\nn: 3\n-----\nn: 3\nnew: 0\nresult: 9\nn: 0\nfinal result: 9\n8\n"
     ]
    }
   ],
   "source": [
    "# 1이 될 때까지\n",
    "\n",
    "n = 35\n",
    "k = 10\n",
    "\n",
    "result = 0\n",
    "\n",
    "while True:\n",
    "    print('n:', n)\n",
    "    new = (n//k) * k    # new는 k로 나눠질 수 있는 n과 최대한 가까운 수\n",
    "    print('new:',new)\n",
    "    result += (n-new)   # n 이 new가 되려면 빼야할 나머지 값(이 값들은 1씩 빼야하니 result에 넣음)\n",
    "    print('result:', result)\n",
    "    n = new             # n을 new로 바꿔줌\n",
    "    print('n:',n)\n",
    "    if n < k: break     # n이 k보다 작으면 뺄 수 없으니 그만\n",
    "    result += 1         # n이 k보다 크다면 result(=count)에 하나 더해서\n",
    "    print('result: ', result)\n",
    "    n //= k            # n을 k로 나눠준 값을 n으로 지정\n",
    "    print('n:',n)\n",
    "    print('-'*5)\n",
    "\n",
    "print('final result:',result)\n",
    "result += (n-1)        # 마지막으로 남은 수에서 1 빼기\n",
    "print(result)\n"
   ]
  },
  {
   "cell_type": "code",
   "execution_count": 102,
   "metadata": {},
   "outputs": [
    {
     "output_type": "stream",
     "name": "stdout",
     "text": [
      "11\n"
     ]
    }
   ],
   "source": [
    "# 1이 될 때 까지 # 다시\n",
    "n, k = map(int, input().split())\n",
    "\n",
    "while True:\n",
    "    new = (n//k)*k\n",
    "    result += (n-new)\n",
    "    n = new\n",
    "    if n < k : break\n",
    "    result += 1\n",
    "    n = n//k\n",
    "\n",
    "result += (n-1)\n",
    "print(result)"
   ]
  },
  {
   "source": [
    "### 곱하기 혹은 더하기"
   ],
   "cell_type": "markdown",
   "metadata": {}
  },
  {
   "cell_type": "code",
   "execution_count": 144,
   "metadata": {},
   "outputs": [
    {
     "output_type": "stream",
     "name": "stdout",
     "text": [
      "241\n"
     ]
    }
   ],
   "source": [
    "# 곱하기 혹은 더하기\n",
    "# 직접 풀기\n",
    "s = 2045601\n",
    "nums = str(s)\n",
    "\n",
    "result = 0\n",
    "if int(nums[0]) < 2 or int(nums[1]) < 2:\n",
    "    result += (int(nums[0]) + int(nums[1]))\n",
    "else : result += (int(nums[0])*int(nums[1]))\n",
    "if len(nums) < 3: print(result)\n",
    "else:\n",
    "    for num in nums[2:]:\n",
    "        if int(num) < 2: result += int(num)\n",
    "        else: result *= int(num)\n",
    "    print(result)"
   ]
  },
  {
   "cell_type": "code",
   "execution_count": 143,
   "metadata": {},
   "outputs": [
    {
     "output_type": "stream",
     "name": "stdout",
     "text": [
      "241\n"
     ]
    }
   ],
   "source": [
    "# 곱하기 혹은 더하기 이코테 답안 예시\n",
    "\n",
    "s = '2045601'\n",
    "\n",
    "result = int(s[0])  # 문자열의 첫번째를 시작점으로 지정\n",
    "\n",
    "for i in range(1, len(s)):\n",
    "    num = int(s[i]) # 각 순서의 숫자를 num으로 지정\n",
    "    if num < 2 or result < 0 :  # 시작점과 그 순서의 숫자가 2보다 작을 경우에는\n",
    "        result += num           # 더해주고\n",
    "    else: result *= num         # 아니면 곱해주고\n",
    "print(result)"
   ]
  },
  {
   "cell_type": "code",
   "execution_count": 147,
   "metadata": {},
   "outputs": [
    {
     "output_type": "stream",
     "name": "stdout",
     "text": [
      "97\n"
     ]
    }
   ],
   "source": [
    "# 위 코드 한 번 더 써보기\n",
    "\n",
    "S = input()\n",
    "\n",
    "result = int(S[0])\n",
    "\n",
    "for i in range(1, len(S)):\n",
    "    num = int(S[i])\n",
    "    if result < 2 or num < 2 :\n",
    "        result += num\n",
    "    else: result *= num\n",
    "print(result)"
   ]
  },
  {
   "source": [
    "### 모험가 길드"
   ],
   "cell_type": "markdown",
   "metadata": {}
  },
  {
   "cell_type": "code",
   "execution_count": 188,
   "metadata": {},
   "outputs": [
    {
     "output_type": "stream",
     "name": "stdout",
     "text": [
      "3\n"
     ]
    }
   ],
   "source": [
    "# 직접 풀기 \n",
    "N = 5\n",
    "M = [2,3,1,3,2,2]\n",
    "\n",
    "m = sorted(M)\n",
    "count = 0\n",
    "\n",
    "while True:\n",
    "    if m[0] < len(m):\n",
    "        count += 1\n",
    "        m = m[m[0]:]\n",
    "        # print(m)\n",
    "    else: break\n",
    "print(count)"
   ]
  },
  {
   "cell_type": "code",
   "execution_count": 175,
   "metadata": {},
   "outputs": [
    {
     "output_type": "stream",
     "name": "stdout",
     "text": [
      "[1, 2, 2, 2, 3, 3]\n----------\ni: 1\ncount: 1\ngroup: 1\n-----\ni: 2\ncount: 1\ni: 2\ncount: 2\ngroup: 2\n-----\ni: 2\ncount: 1\ni: 3\ncount: 2\ni: 3\ncount: 3\ngroup: 3\n-----\n3\n"
     ]
    }
   ],
   "source": [
    "# 답안 예제\n",
    "\n",
    "N = 5\n",
    "M = [2,3,1,3,2,2]\n",
    "M.sort()\n",
    "\n",
    "print(M)\n",
    "print('-'*10)\n",
    "\n",
    "group = 0  # 그룹의 수\n",
    "count = 0   # 그룹에 포함된 모함가의 수\n",
    "\n",
    "for i in M:\n",
    "    print('i:',i)\n",
    "    count += 1\n",
    "    print('count:',count)\n",
    "    if count >= i:\n",
    "        group += 1\n",
    "        print('group:', group)\n",
    "        count = 0\n",
    "        print('-'*5)\n",
    "\n",
    "print(group)"
   ]
  },
  {
   "cell_type": "code",
   "execution_count": 190,
   "metadata": {
    "tags": []
   },
   "outputs": [
    {
     "output_type": "stream",
     "name": "stdout",
     "text": [
      "[1, 2, 2, 2, 3, 3]\n3\n"
     ]
    }
   ],
   "source": [
    "# 정답 다시 쓰기\n",
    "\n",
    "N = 5\n",
    "M = [2,3,1,3,2,2]\n",
    "M.sort()\n",
    "print(M)\n",
    "\n",
    "count = 0\n",
    "while True:\n",
    "    if M[0] < len(M):\n",
    "        count += 1\n",
    "        M = M[M[0]:]\n",
    "    else: break\n",
    "print(count)"
   ]
  },
  {
   "source": [
    "### 큰 수의 법칙"
   ],
   "cell_type": "markdown",
   "metadata": {}
  },
  {
   "cell_type": "code",
   "execution_count": 264,
   "metadata": {
    "tags": []
   },
   "outputs": [
    {
     "output_type": "stream",
     "name": "stdout",
     "text": [
      "46.0\n"
     ]
    }
   ],
   "source": [
    "# 직접 풀기\n",
    "N = 5\n",
    "M = 8\n",
    "K = 3   # k 번만 연달아 쓸 수 있다\n",
    "N = [2,4,5,4,6]\n",
    "\n",
    "N.sort(reverse=True)\n",
    "count = 0\n",
    "\n",
    "first = N[0]\n",
    "second = N[1]\n",
    "\n",
    "mul_1 = (M/(K+1)) * ((first*K)+second)\n",
    "mul_2 = (M%(K+1)) * second\n",
    "\n",
    "print(mul_1+mul_2)"
   ]
  },
  {
   "source": [
    "### 숫자 카드 게임"
   ],
   "cell_type": "markdown",
   "metadata": {}
  },
  {
   "cell_type": "code",
   "execution_count": 269,
   "metadata": {},
   "outputs": [
    {
     "output_type": "stream",
     "name": "stdout",
     "text": [
      "2\n"
     ]
    }
   ],
   "source": [
    "# 직접 풀기\n",
    "\n",
    "N = 3\n",
    "M = 3\n",
    "nums = [[3,1,2],\n",
    "        [4,1,4],\n",
    "        [2,2,2]]\n",
    "n_list = []\n",
    "for row in nums:\n",
    "    n_list.append(min(row))\n",
    "print(max(n_list))"
   ]
  },
  {
   "source": [
    "# 구현"
   ],
   "cell_type": "markdown",
   "metadata": {}
  },
  {
   "source": [
    "###  상하좌우 문제"
   ],
   "cell_type": "markdown",
   "metadata": {}
  },
  {
   "cell_type": "code",
   "execution_count": 306,
   "metadata": {},
   "outputs": [
    {
     "output_type": "stream",
     "name": "stdout",
     "text": [
      "R\n1 2\nR\n1 3\nR\n1 4\nU\n0 4\nD\n2 4\nD\n3 4\n(3, 4)\n"
     ]
    }
   ],
   "source": [
    "n = 5\n",
    "plans = ['R', 'R', 'R', 'U', 'D', 'D']\n",
    "\n",
    "x, y = 1, 1\n",
    "dx = [0,0,-1,1]\n",
    "dy = [-1,1,0,0]\n",
    "move = ['L', 'R', 'U', 'D']\n",
    "\n",
    "for plan in plans:\n",
    "    print(plan) # plan 하나씩 가져오기\n",
    "    for i in range(len(move)):\n",
    "        if plan == move[i]:  # 가져온 plan이 move[i]와 같을 때만\n",
    "            nx = x + dx[i]   # x, y에 해당 좌표를 더해줌\n",
    "            ny = y + dy[i]\n",
    "            print(nx, ny)\n",
    "    if nx < 1 or ny < 1 or nx > n or ny > n:    # 벗어났을 때는 pass!\n",
    "        continue\n",
    "    x, y = nx, ny   # x, y 값을 갱신하기\n",
    "\n",
    "print((nx,ny))"
   ]
  }
 ]
}