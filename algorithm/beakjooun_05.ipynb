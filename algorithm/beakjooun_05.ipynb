{
 "metadata": {
  "language_info": {
   "codemirror_mode": {
    "name": "ipython",
    "version": 3
   },
   "file_extension": ".py",
   "mimetype": "text/x-python",
   "name": "python",
   "nbconvert_exporter": "python",
   "pygments_lexer": "ipython3",
   "version": "3.8.5"
  },
  "orig_nbformat": 2,
  "kernelspec": {
   "name": "python385jvsc74a57bd0b18ecf447b39d25eae6a9ae9d5694327d58d99c869301a8afbbe0bb2ae2074bb",
   "display_name": "Python 3.8.5 64-bit (conda)"
  }
 },
 "nbformat": 4,
 "nbformat_minor": 2,
 "cells": [
  {
   "cell_type": "code",
   "execution_count": 30,
   "metadata": {},
   "outputs": [
    {
     "output_type": "stream",
     "name": "stdout",
     "text": [
      "1780000\n",
      "620000\n",
      "1140000\n",
      "420000\n",
      "820000\n",
      "620000\n"
     ]
    }
   ],
   "source": [
    "for _ in range(int(input())):\n",
    "    a, b = map(int, input().split())\n",
    "\n",
    "    answer = 0\n",
    "\n",
    "    if a == 1: answer += 5000000\n",
    "    elif 1 < a < 4 : answer += 3000000\n",
    "    elif 3 < a < 7 : answer += 2000000\n",
    "    elif 6 < a < 11 : answer += 500000\n",
    "    elif 10 < a < 16 : answer += 300000\n",
    "    elif 15 < a < 22 : answer += 100000\n",
    "    else: answer += 0\n",
    "    \n",
    "    if b == 1: answer +=  5120000\n",
    "    elif 1 < b < 4 : answer += 2560000\n",
    "    elif 3 < b < 8 : answer += 1280000\n",
    "    elif 7 < b < 16 : answer += 640000\n",
    "    elif 15 < b < 32 : answer += 320000\n",
    "    else: answer +=  0\n",
    "\n",
    "    print(answer)\n",
    "\n",
    "# 문제 겁나 이상 ;"
   ]
  },
  {
   "cell_type": "code",
   "execution_count": 45,
   "metadata": {},
   "outputs": [
    {
     "output_type": "stream",
     "name": "stdout",
     "text": [
      "0.9428090415820634\n"
     ]
    }
   ],
   "source": [
    "import math\n",
    "\n",
    "N, K = map(int, input().split())\n",
    "Ns = list(map(int, input().split()))\n",
    "\n",
    "result = []\n",
    "for j in range(0, N-K+1):\n",
    "    suma = 0\n",
    "    for i in Ns[j:j+K]:\n",
    "        suma += i\n",
    "    m = suma/K\n",
    "\n",
    "    g = 0\n",
    "    for i in Ns[j:j+K]:\n",
    "        g += (i-m)*(i-m)\n",
    "    s = g/K\n",
    "    result.append(s)\n",
    "result = math.sqrt(min(result))\n",
    "print(result)"
   ]
  },
  {
   "cell_type": "code",
   "execution_count": 39,
   "metadata": {},
   "outputs": [
    {
     "output_type": "stream",
     "name": "stdout",
     "text": [
      "0.9428090415820634\n"
     ]
    }
   ],
   "source": [
    "# 인형들\n",
    "\n",
    "import math\n",
    "N, K = map(int, input().split())\n",
    "Ns = list(map(int, input().split()))\n",
    "\n",
    "def bunsan(num):\n",
    "    a = 0\n",
    "    avg = sum(num)/len(num)\n",
    "    for t in num:\n",
    "        a += (t-avg)**2\n",
    "    return a/len(num)\n",
    "\n",
    "answer = list()\n",
    "for i in range(0, (N-K+1)):\n",
    "    for j in range(N-K-i+1):\n",
    "        tmp = Ns[i:i+K+j]\n",
    "        a = bunsan(tmp)\n",
    "        answer.append(a)\n",
    "print(math.sqrt(min(answer)))"
   ]
  },
  {
   "cell_type": "code",
   "execution_count": 65,
   "metadata": {},
   "outputs": [
    {
     "output_type": "stream",
     "name": "stdout",
     "text": [
      "festival==kakao&&festival==2018&&haha==123456&&hoho\n123456\n"
     ]
    }
   ],
   "source": [
    "# https://www.acmicpc.net/problem/15956\n",
    "# 숏코딩\n",
    "# 해결 못함\n",
    "\n",
    "S = 'festival==kakao&&festival==2018&&haha==123456&&hoho!=123456'\n",
    "# S = 'int==float'\n",
    "\n",
    "if '!=' in S :\n",
    "    a, b = S.split('!=')\n",
    "    a = max(a,b)\n",
    "    b = min(a,b)\n",
    "print(a)\n",
    "print(b)\n",
    "\n",
    "\n",
    "\n",
    "# s_list = S.split('&&')\n",
    "# print(s_list)\n",
    "# print(len(s_list))\n",
    "\n",
    "# for w in s_list:\n",
    "\n",
    "\n",
    "#     if len(s_list) == 1 : print(S)"
   ]
  },
  {
   "cell_type": "code",
   "execution_count": 121,
   "metadata": {},
   "outputs": [
    {
     "output_type": "stream",
     "name": "stdout",
     "text": [
      "50\n"
     ]
    }
   ],
   "source": [
    "# 분해합\n",
    "\n",
    "# print(10**0)\n",
    "\n",
    "N = int(input())\n",
    "an_list = []\n",
    "for M in range(N):\n",
    "    answer = M\n",
    "    sum = M\n",
    "    for i in range(len(str(M))):\n",
    "        sum += int(str(M)[i])\n",
    "    if sum == N:\n",
    "        an_list.append(answer)\n",
    "if len(an_list) > 0 : print(min(an_list))\n",
    "else : print(0)\n"
   ]
  },
  {
   "cell_type": "code",
   "execution_count": 144,
   "metadata": {},
   "outputs": [
    {
     "output_type": "stream",
     "name": "stdout",
     "text": [
      "['55 185', '58 183', '88 186', '60 175', '46 155']\n55 185\n55 185\n58 183\n88 186\n60 175\n46 155\n[2]\n58 183\n55 185\n58 183\n88 186\n60 175\n46 155\n[2, 2]\n88 186\n55 185\n58 183\n88 186\n60 175\n46 155\n[2, 2, 1]\n60 175\n55 185\n58 183\n88 186\n60 175\n46 155\n[2, 2, 1, 2]\n46 155\n55 185\n58 183\n88 186\n60 175\n46 155\n[2, 2, 1, 2, 5]\n[2, 2, 1, 2, 5]\n2 2 1 2 5 "
     ]
    }
   ],
   "source": [
    "#덩치\n",
    "\n",
    "N = int(input())\n",
    "d_list = []\n",
    "for i in range(N):\n",
    "    d_list.append(input())\n",
    "\n",
    "c_list = []\n",
    "for one in d_list:\n",
    "    count = 1\n",
    "    for two in d_list:\n",
    "        if int(one.split()[0]) < int(two.split()[0]) and int(one.split()[1]) < int(two.split()[1]):\n",
    "            count+=1\n",
    "    c_list.append(count)\n",
    "for i in c_list:\n",
    "    print(i, end=' ')\n"
   ]
  }
 ]
}