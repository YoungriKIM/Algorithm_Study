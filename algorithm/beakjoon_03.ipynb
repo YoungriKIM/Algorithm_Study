{
 "metadata": {
  "language_info": {
   "codemirror_mode": {
    "name": "ipython",
    "version": 3
   },
   "file_extension": ".py",
   "mimetype": "text/x-python",
   "name": "python",
   "nbconvert_exporter": "python",
   "pygments_lexer": "ipython3",
   "version": "3.8.5"
  },
  "orig_nbformat": 2,
  "kernelspec": {
   "name": "python385jvsc74a57bd0b18ecf447b39d25eae6a9ae9d5694327d58d99c869301a8afbbe0bb2ae2074bb",
   "display_name": "Python 3.8.5 64-bit (conda)"
  }
 },
 "nbformat": 4,
 "nbformat_minor": 2,
 "cells": [
  {
   "cell_type": "code",
   "execution_count": 27,
   "metadata": {},
   "outputs": [
    {
     "output_type": "stream",
     "name": "stdout",
     "text": [
      "21\n"
     ]
    }
   ],
   "source": [
    "# 블랙잭 \n",
    "\n",
    "# n = 5\n",
    "# m = 21\n",
    "# C = [5, 6, 7, 8, 9]\n",
    "\n",
    "n, m = map(int, input().split())\n",
    "C = list(map(int, input().split()))\n",
    "multis = []\n",
    "for i in C:\n",
    "    for j in [c for c in C if c!=i]:\n",
    "        for l in [z for z in C if z!=i and z!=j]:\n",
    "            multi = i+j+l\n",
    "            multis.append(multi)\n",
    "num = max([v for v in multis if v <= m])\n",
    "print(num)   "
   ]
  }
 ]
}