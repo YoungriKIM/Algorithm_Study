{
 "metadata": {
  "language_info": {
   "codemirror_mode": {
    "name": "ipython",
    "version": 3
   },
   "file_extension": ".py",
   "mimetype": "text/x-python",
   "name": "python",
   "nbconvert_exporter": "python",
   "pygments_lexer": "ipython3",
   "version": "3.8.5"
  },
  "orig_nbformat": 2,
  "kernelspec": {
   "name": "python385jvsc74a57bd0b18ecf447b39d25eae6a9ae9d5694327d58d99c869301a8afbbe0bb2ae2074bb",
   "display_name": "Python 3.8.5 64-bit ('base': conda)"
  }
 },
 "nbformat": 4,
 "nbformat_minor": 2,
 "cells": [
  {
   "cell_type": "code",
   "execution_count": 96,
   "metadata": {},
   "outputs": [
    {
     "output_type": "stream",
     "name": "stdout",
     "text": [
      "2\n"
     ]
    }
   ],
   "source": [
    "stockPrices = [1,2,3,3,4,5]\n",
    "k = 3\n",
    "\n",
    "n = len(stockPrices)\n",
    "\n",
    "def high(array):\n",
    "    count = 1\n",
    "    while True:\n",
    "        if len(array) <= 1 : break\n",
    "        else:\n",
    "            v = array.pop()\n",
    "            if v > array[-1] : count += 1\n",
    "    if count == k : return True\n",
    "\n",
    "start = 0\n",
    "end = n\n",
    "result = 0\n",
    "for _ in range(n-k+1):\n",
    "    stocks = stockprices[start:start+k]\n",
    "    if high(stocks) == True : result += 1\n",
    "    start += 1\n",
    "\n",
    "print(result)"
   ]
  }
 ]
}