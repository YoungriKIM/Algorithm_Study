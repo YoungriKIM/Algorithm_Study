{
  "nbformat": 4,
  "nbformat_minor": 0,
  "metadata": {
    "colab": {
      "name": "bj_직삼각형.ipynb",
      "provenance": [],
      "collapsed_sections": [],
      "authorship_tag": "ABX9TyPQMPpVWbbmK3xiLBwkjn6R",
      "include_colab_link": true
    },
    "kernelspec": {
      "name": "python3",
      "display_name": "Python 3"
    },
    "language_info": {
      "name": "python"
    }
  },
  "cells": [
    {
      "cell_type": "markdown",
      "metadata": {
        "id": "view-in-github",
        "colab_type": "text"
      },
      "source": [
        "<a href=\"https://colab.research.google.com/github/YoungriKIM/Algorithm_Study/blob/MYOWN/bj_%EC%A7%81%EC%82%BC%EA%B0%81%ED%98%95.ipynb\" target=\"_parent\"><img src=\"https://colab.research.google.com/assets/colab-badge.svg\" alt=\"Open In Colab\"/></a>"
      ]
    },
    {
      "cell_type": "code",
      "source": [
        "from itertools import permutations "
      ],
      "metadata": {
        "id": "qYywxqC7utoV"
      },
      "execution_count": 28,
      "outputs": []
    },
    {
      "cell_type": "code",
      "source": [
        "per_l = list(permutations(list(map(int, input().split())),3))\n",
        "print(per_l)"
      ],
      "metadata": {
        "colab": {
          "base_uri": "https://localhost:8080/"
        },
        "id": "AEtkgolnBGjX",
        "outputId": "08fc2060-fc85-403f-ac28-095eaaa98f1a"
      },
      "execution_count": 43,
      "outputs": [
        {
          "output_type": "stream",
          "name": "stdout",
          "text": [
            "0 0 0\n",
            "[(0, 0, 0), (0, 0, 0), (0, 0, 0), (0, 0, 0), (0, 0, 0), (0, 0, 0)]\n"
          ]
        }
      ]
    },
    {
      "cell_type": "code",
      "metadata": {
        "colab": {
          "base_uri": "https://localhost:8080/"
        },
        "id": "lDqr5Gy7KveV",
        "outputId": "5b69a2a3-f7e5-40b5-c9d9-c07af561e85f"
      },
      "source": [
        "\n",
        "while True:\n",
        "    inp = list(map(int, input().split()))\n",
        "    if inp == [0,0,0]:\n",
        "        break\n",
        "    per_l = list(permutations(inp,3))\n",
        "    an = 'wrong'\n",
        "    for p in per_l:\n",
        "        if p[0]**2+p[1]**2 == p[2]**2: an = 'right';break\n",
        "        an = 'wrong'\n",
        "    print(an)"
      ],
      "execution_count": 54,
      "outputs": [
        {
          "name": "stdout",
          "output_type": "stream",
          "text": [
            "3 4 5\n",
            "right\n",
            "3 4 4\n",
            "wrong\n",
            "0 0 0\n"
          ]
        }
      ]
    },
    {
      "cell_type": "code",
      "source": [
        ""
      ],
      "metadata": {
        "id": "4DBzWL6MvPh-"
      },
      "execution_count": null,
      "outputs": []
    }
  ]
}