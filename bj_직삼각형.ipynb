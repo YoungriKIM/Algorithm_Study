{
  "nbformat": 4,
  "nbformat_minor": 0,
  "metadata": {
    "colab": {
      "name": "bj_직삼각형.ipynb",
      "provenance": [],
      "collapsed_sections": [],
      "authorship_tag": "ABX9TyPx/gb7rEFnjocejPHe81l0",
      "include_colab_link": true
    },
    "kernelspec": {
      "name": "python3",
      "display_name": "Python 3"
    },
    "language_info": {
      "name": "python"
    }
  },
  "cells": [
    {
      "cell_type": "markdown",
      "metadata": {
        "id": "view-in-github",
        "colab_type": "text"
      },
      "source": [
        "<a href=\"https://colab.research.google.com/github/YoungriKIM/Algorithm_Study/blob/MYOWN/bj_%EC%A7%81%EC%82%BC%EA%B0%81%ED%98%95.ipynb\" target=\"_parent\"><img src=\"https://colab.research.google.com/assets/colab-badge.svg\" alt=\"Open In Colab\"/></a>"
      ]
    },
    {
      "cell_type": "code",
      "source": [
        "from itertools import permutations "
      ],
      "metadata": {
        "id": "qYywxqC7utoV"
      },
      "execution_count": 28,
      "outputs": []
    },
    {
      "cell_type": "code",
      "metadata": {
        "colab": {
          "base_uri": "https://localhost:8080/"
        },
        "id": "lDqr5Gy7KveV",
        "outputId": "98be77e1-ed39-499a-d1c7-de691f972c46"
      },
      "source": [
        "while True:\n",
        "    p = sorted(list(map(int, input().split())), reverse=True)\n",
        "    if p == [0,0,0]: break\n",
        "    if p[1]**2+p[2]**2 == p[0]**2: print('right')\n",
        "    else: print('wrong')"
      ],
      "execution_count": 63,
      "outputs": [
        {
          "name": "stdout",
          "output_type": "stream",
          "text": [
            "3 4 5\n",
            "right\n",
            "5 6 10\n",
            "wrong\n",
            "0 0 0\n"
          ]
        }
      ]
    }
  ]
}