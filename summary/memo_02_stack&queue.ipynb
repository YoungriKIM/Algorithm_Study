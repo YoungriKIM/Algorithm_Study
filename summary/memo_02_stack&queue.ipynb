{
 "metadata": {
  "language_info": {
   "codemirror_mode": {
    "name": "ipython",
    "version": 3
   },
   "file_extension": ".py",
   "mimetype": "text/x-python",
   "name": "python",
   "nbconvert_exporter": "python",
   "pygments_lexer": "ipython3",
   "version": "3.8.5"
  },
  "orig_nbformat": 2,
  "kernelspec": {
   "name": "python385jvsc74a57bd0b18ecf447b39d25eae6a9ae9d5694327d58d99c869301a8afbbe0bb2ae2074bb",
   "display_name": "Python 3.8.5 64-bit (conda)"
  }
 },
 "nbformat": 4,
 "nbformat_minor": 2,
 "cells": [
  {
   "source": [
    "### stack & queue 의 차이"
   ],
   "cell_type": "markdown",
   "metadata": {}
  },
  {
   "cell_type": "code",
   "execution_count": 32,
   "metadata": {},
   "outputs": [
    {
     "output_type": "stream",
     "name": "stdout",
     "text": [
      "[2, 3, 4]\ndeque([1, 2, 3, 4])\n--------------------\n[4, 3, 2]\ndeque([4, 3, 2, 1])\n--------------------\n[2, 3, 4]\n"
     ]
    }
   ],
   "source": [
    "from collections import deque\n",
    "\n",
    "stack = []\n",
    "queue = deque()\n",
    "\n",
    "stack.append(1)\n",
    "stack.append(2)\n",
    "stack.append(3)\n",
    "stack.append(4)\n",
    "stack.append(5)\n",
    "stack.pop()         # 가장 마지막이 삭제\n",
    "# stack.popleft()   # 안 먹힘\n",
    "stack.pop(0)        # 가장 첫번째가 삭제\n",
    "\n",
    "queue.append(1)\n",
    "queue.append(2)\n",
    "queue.append(3)\n",
    "queue.append(4)\n",
    "queue.append(5)\n",
    "queue.appendleft(0) # 가장 왼쪽에 붙일 수 있다\n",
    "queue.pop()         # 가장 마지막 것 삭제\n",
    "queue.popleft()     # 가장 왼쪽(첫번째) 삭제\n",
    "# queue.pop(0)      # 안 먹힘\n",
    "\n",
    "print(stack)\n",
    "print(queue)\n",
    "print('-'*20)\n",
    "\n",
    "stack.reverse()\n",
    "queue.reverse()\n",
    "\n",
    "print(stack)\n",
    "print(queue)\n",
    "print('-'*20)\n",
    "\n",
    "print(stack[::-1])\n",
    "# print(queue[::-1])    # 큐는 안 먹힘"
   ]
  },
  {
   "source": [
    "### recursive_function\n",
    "재귀함수"
   ],
   "cell_type": "markdown",
   "metadata": {}
  },
  {
   "cell_type": "code",
   "execution_count": 20,
   "metadata": {},
   "outputs": [
    {
     "output_type": "stream",
     "name": "stdout",
     "text": [
      "1 번째 재귀함수에서 2 번째 재귀함수를 호출\n2 번째 재귀함수에서 3 번째 재귀함수를 호출\n3 번째 재귀함수에서 4 번째 재귀함수를 호출\n4 번째 재귀함수에서 5 번째 재귀함수를 호출\n4 번째 재귀함수를 종료\n3 번째 재귀함수를 종료\n2 번째 재귀함수를 종료\n1 번째 재귀함수를 종료\n"
     ]
    }
   ],
   "source": [
    "# 종료 조건을 명시해주어야 한다\n",
    "\n",
    "def recursive(i):\n",
    "    if i == 5:\n",
    "        return\n",
    "    print(i, '번째 재귀함수에서', i+1,'번째 재귀함수를 호출')\n",
    "    recursive(i+1)\n",
    "    print(i, '번째 재귀함수를 종료')\n",
    "\n",
    "recursive(1)"
   ]
  },
  {
   "cell_type": "code",
   "execution_count": 27,
   "metadata": {},
   "outputs": [
    {
     "output_type": "execute_result",
     "data": {
      "text/plain": [
       "3628800"
      ]
     },
     "metadata": {},
     "execution_count": 27
    }
   ],
   "source": [
    "# 팩토리얼 예제 함수 만들기\n",
    "\n",
    "N = int(input())\n",
    "\n",
    "def fectorial_recursive(n):\n",
    "    if n <= 1 :    # 아래 재귀적 반복에서 n이 1 미만이 될 때 1을 반환하는 조건\n",
    "        return 1   # 혹은 처음 주어진 n이 1 미만 일 때 1을 반환\n",
    "    # 그런 조건이 아닐 때는 매번 n보다 1작은 수를 곱해주자\n",
    "    return n * fectorial_recursive(n-1)\n",
    "\n",
    "fectorial_recursive(N)"
   ]
  },
  {
   "source": [
    "### dfs 예제 "
   ],
   "cell_type": "markdown",
   "metadata": {}
  },
  {
   "cell_type": "code",
   "execution_count": 29,
   "metadata": {},
   "outputs": [
    {
     "output_type": "stream",
     "name": "stdout",
     "text": [
      "1 2 7 6 8 3 4 5 "
     ]
    }
   ],
   "source": [
    "def dfs(graph, v, visited):\n",
    "    visited[v] = True\n",
    "    print(v, end=' ')\n",
    "    for i in graph[v]:\n",
    "        if visited[i] == False:\n",
    "            dfs(graph, i, visited)\n",
    "\n",
    "graph = [\n",
    "    [], # 0번째는 사용 안 할 거니까 빼기\n",
    "    [2,3,8,],\n",
    "    [1,7],\n",
    "    [1,4,5],\n",
    "    [3,5],\n",
    "    [3,4],\n",
    "    [7],\n",
    "    [2,6,8],\n",
    "    [1,7]\n",
    "]\n",
    "\n",
    "visited = [False]*9\n",
    "\n",
    "dfs(graph, 1, visited)"
   ]
  },
  {
   "source": [
    "### bfs 예제"
   ],
   "cell_type": "markdown",
   "metadata": {}
  },
  {
   "cell_type": "code",
   "execution_count": 34,
   "metadata": {},
   "outputs": [
    {
     "output_type": "stream",
     "name": "stdout",
     "text": [
      "1 2 3 8 7 4 5 6 "
     ]
    }
   ],
   "source": [
    "from collections import deque\n",
    "\n",
    "graph = [\n",
    "    [], # 0번째는 사용 안 할 거니까 빼기\n",
    "    [2,3,8,],\n",
    "    [1,7],\n",
    "    [1,4,5],\n",
    "    [3,5],\n",
    "    [3,4],\n",
    "    [7],\n",
    "    [2,6,8],\n",
    "    [1,7]\n",
    "]\n",
    "\n",
    "visited = [False]*9\n",
    "\n",
    "\n",
    "def bfs(graph, start, visited):\n",
    "    queue = deque([start])\n",
    "    visited[start] = True\n",
    "    while queue:\n",
    "        v = queue.popleft()\n",
    "        print(v, end=' ')\n",
    "        for i in graph[v]:\n",
    "            if not visited[i]:\n",
    "                queue.append(i)\n",
    "                visited[i] = True\n",
    "\n",
    "bfs(graph, 1, visited)"
   ]
  },
  {
   "source": [
    "### 음료수 얼려먹기"
   ],
   "cell_type": "markdown",
   "metadata": {}
  },
  {
   "cell_type": "code",
   "execution_count": 46,
   "metadata": {},
   "outputs": [
    {
     "output_type": "stream",
     "name": "stdout",
     "text": [
      "4\n"
     ]
    }
   ],
   "source": [
    "n = 4\n",
    "m = 5\n",
    "# graph = []\n",
    "# for i in range(n):\n",
    "#     graph.append(list(map(int, input().split())))\n",
    "graph = [\n",
    "    [0, 0, 1, 1, 0], \n",
    "    [0, 0, 0, 1, 1], \n",
    "    [1, 1, 1, 1, 0], \n",
    "    [0, 0, 0, 0, 1]\n",
    "    ]\n",
    "\n",
    "def dfs(x, y):\n",
    "    if x <= -1 or x >= n or y <= -1 or y >= m:\n",
    "        return False\n",
    "    if graph[x][y] == 0 :\n",
    "        graph[x][y] = 1\n",
    "        dfs(x-1, y)\n",
    "        dfs(x+1, y)\n",
    "        dfs(x, y-1)\n",
    "        dfs(x, y+1)\n",
    "        return True\n",
    "    return False\n",
    "\n",
    "result = 0 \n",
    "for i in range(n):\n",
    "    for j in range(m):\n",
    "        if dfs(i,j) == True: result+=1\n",
    "\n",
    "print(result)"
   ]
  },
  {
   "source": [
    "### 미로 탈출"
   ],
   "cell_type": "markdown",
   "metadata": {}
  },
  {
   "cell_type": "code",
   "execution_count": 51,
   "metadata": {},
   "outputs": [
    {
     "output_type": "stream",
     "name": "stdout",
     "text": [
      "10\n"
     ]
    }
   ],
   "source": [
    "n, m = 5, 6\n",
    "\n",
    "graph = [[1, 0, 1, 0, 1, 0],\n",
    "         [1, 1, 1, 1, 1, 1], \n",
    "         [0, 0, 0, 0, 0, 1], \n",
    "         [1, 1, 1, 1, 1, 1], \n",
    "         [1, 1, 1, 1, 1, 1]]\n",
    "\n",
    "# ------------------------------------\n",
    "from collections import deque\n",
    "\n",
    "dx = (-1, 1, 0, 0)\n",
    "dy = (0, 0, -1, 1)\n",
    "\n",
    "def bfs(x,y):\n",
    "    queue = deque()\n",
    "    queue.append((x,y))\n",
    "    while queue:\n",
    "        x, y = queue.popleft()\n",
    "        for i in range(4):\n",
    "            nx = x + dx[i]\n",
    "            ny = y + dy[i]\n",
    "            if nx < 0 or nx >= n or ny < 0 or ny >= m:\n",
    "                continue\n",
    "            if graph[nx][ny] == 0 :\n",
    "                continue\n",
    "            if graph[nx][ny] == 1 :\n",
    "                graph[nx][ny] = graph[x][y]+1\n",
    "                queue.append((nx, ny))\n",
    "    return graph[n-1][m-1]\n",
    "\n",
    "print(bfs(0,0))"
   ]
  }
 ]
}