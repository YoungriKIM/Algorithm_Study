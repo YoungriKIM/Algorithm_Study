{
  "nbformat": 4,
  "nbformat_minor": 0,
  "metadata": {
    "colab": {
      "name": "08_다이나믹 프로그램_02",
      "provenance": [],
      "collapsed_sections": [],
      "authorship_tag": "ABX9TyPxG+kPq+Gjm9eYWaj7N3sA"
    },
    "kernelspec": {
      "name": "python3",
      "display_name": "Python 3"
    },
    "language_info": {
      "name": "python"
    }
  },
  "cells": [
    {
      "cell_type": "markdown",
      "metadata": {
        "id": "_QI7Snt6wqSV"
      },
      "source": [
        "---\n",
        "개미 전사\n"
      ]
    },
    {
      "cell_type": "code",
      "metadata": {
        "colab": {
          "base_uri": "https://localhost:8080/"
        },
        "id": "Be4iqoBewyqm",
        "outputId": "9160a687-f0e5-4719-8143-77c217c404a4"
      },
      "source": [
        "# 정수 n을 받기\n",
        "n = int(input())\n",
        "# 모든 식량 정보 입력받기\n",
        "array = list(map(int, input().split()))\n",
        "\n",
        "# 앞서 계산된 결과를 저장하기 위한 DP 테이블 초기화\n",
        "d = [0] * 100\n",
        "\n",
        "# 다이나믹 프로그래밍 진행(보텀탑)\n",
        "d[0] = array[0]\n",
        "d[1] = max(array[0], array[1])\n",
        "for i in range(2, n):\n",
        "    d[i] = max(d[i-1], d[i-2]+array[i])\n",
        "\n",
        "# 계산된 결과 출력\n",
        "print(d[n-1])"
      ],
      "execution_count": 2,
      "outputs": [
        {
          "output_type": "stream",
          "text": [
            "4\n",
            "1 3 1 5\n",
            "8\n"
          ],
          "name": "stdout"
        }
      ]
    },
    {
      "cell_type": "markdown",
      "metadata": {
        "id": "rmYsDyVFyuaK"
      },
      "source": [
        "---\n",
        "### 바닥 공사"
      ]
    },
    {
      "cell_type": "code",
      "metadata": {
        "colab": {
          "base_uri": "https://localhost:8080/"
        },
        "id": "Hm4iA6A0yxq0",
        "outputId": "1226b4f4-6946-4a98-81ac-6ed0b8581512"
      },
      "source": [
        "n = int(input())\n",
        "\n",
        "d = [0] * 1001\n",
        "\n",
        "d[1] = 1\n",
        "d[2] = 3\n",
        "for i in range(3, n+1):\n",
        "    d[i] = (d[i-1] + 2 * d[i-2]) % 796796\n",
        "\n",
        "print(d[n])"
      ],
      "execution_count": 3,
      "outputs": [
        {
          "output_type": "stream",
          "text": [
            "3\n",
            "5\n"
          ],
          "name": "stdout"
        }
      ]
    },
    {
      "cell_type": "markdown",
      "metadata": {
        "id": "7gmQDURW6iw5"
      },
      "source": [
        "---\n",
        "### 효율적인 화폐 구성"
      ]
    },
    {
      "cell_type": "code",
      "metadata": {
        "colab": {
          "base_uri": "https://localhost:8080/"
        },
        "id": "y-bO--BU6nAr",
        "outputId": "8d02e806-ca2f-4959-c02c-0f799206f499"
      },
      "source": [
        "# 화폐의 종류 n , 타겟 숫자 m 을 받기\n",
        "n, m = map(int, input().split())\n",
        "# n개의 화폐 종류 정보 받기\n",
        "array = []\n",
        "for i in range(n):\n",
        "    array.append(int(input()))\n",
        "\n",
        "# 한 번 계산된 결과를 저장하기 위해 DP 테이블 초기화\n",
        "d = [10001] * (m+1) # 타겟 숫자만큼\n",
        "\n",
        "# 다이나믹 프로그래밍 진행_ 보텀업\n",
        "d[0] = 0 # 숫자 0은 어느 동전으로도 만들 수 없으니 시작으로 0\n",
        "for i in range(n): # 동전 종류만큼 포문\n",
        "    for j in range(array[i], m+1):  # 2라면 2부터 시작 3이라면 3부터 시작 5라면 5부터 시작\n",
        "        if d[j - array[i]] != 10001:    # (i-k)원을 만드는 방법이 존재하는 경우에 그 값으로 DP 테이블에 갱신\n",
        "            d[j] = min(d[j], d[j-array[i]]+1) # 적은 화폐를 써야하는 거니까 min값으로 고르기\n",
        "\n",
        "# 계산된 결과 출격\n",
        "if d[m] == 10001 : #최종적으로 m원을 만드는 방법이 없는 경우\n",
        "    print(-1)\n",
        "else:\n",
        "    print(d[m])\n"
      ],
      "execution_count": 4,
      "outputs": [
        {
          "output_type": "stream",
          "text": [
            "2 15\n",
            "2\n",
            "3\n",
            "5\n"
          ],
          "name": "stdout"
        }
      ]
    }
  ]
}