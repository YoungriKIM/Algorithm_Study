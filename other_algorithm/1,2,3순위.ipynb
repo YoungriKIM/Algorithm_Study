{
 "cells": [
  {
   "cell_type": "code",
   "execution_count": null,
   "metadata": {},
   "outputs": [],
   "source": [
    "# predict proba 로 나온 결과값에서 1,2,3위를 뽑고 싶을 때"
   ]
  },
  {
   "cell_type": "code",
   "execution_count": null,
   "metadata": {},
   "outputs": [],
   "source": [
    "percentage_list = list(model.predict_proba(test_sample)[0])\n",
    "rank = [sorted(percentage_list, reverse=True)[i] for i in range(3)]\n",
    "tf = [False] + [True if rank[j] == rank[j-1] else False for j in range(1,3)]\n",
    "\n",
    "response=\"\"\n",
    "cnt = 0\n",
    "for t, r in enumerate(rank):\n",
    "    top_percentage = '%0.2f' % (r*100)\n",
    "    if tf[t] == False:\n",
    "        top_pred_id = encoder.inverse_transform([list(filter(lambda x: percentage_list[x] == r, range(len(percentage_list))))[cnt]]).item()\n",
    "    else : \n",
    "        cnt+=1\n",
    "        top_pred_id = encoder.inverse_transform([list(filter(lambda x: percentage_list[x] == r, range(len(percentage_list))))[cnt]]).item()\n",
    "    print('per_list:',top_pred_id)\n",
    "    top_pred_nm = list(sgd_labels[sgd_labels['class_id']==top_pred_id].class_nm)[0]\n",
    "    print('top_pred_nm:',top_pred_nm)\n",
    "\n",
    "    if t == 2:\n",
    "        response += '{\"classId\":\"' + top_pred_id + '\",'\n",
    "        response += '\"label\":\"' + top_pred_nm + '\",'\n",
    "        response += '\"score\":' + top_percentage + '}'\n",
    "    else:\n",
    "        response += '{\"classId\":\"' + top_pred_id + '\",'\n",
    "        response += '\"label\":\"' + top_pred_nm + '\",'\n",
    "        response += '\"score\":' + top_percentage + '},'\n",
    "\n",
    "response = eval(response)\n",
    "print(response[0],'\\n',response[1],'\\n',response[2])"
   ]
  }
 ],
 "metadata": {
  "language_info": {
   "name": "python"
  },
  "orig_nbformat": 4
 },
 "nbformat": 4,
 "nbformat_minor": 2
}
